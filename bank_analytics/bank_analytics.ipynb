{
  "nbformat": 4,
  "nbformat_minor": 0,
  "metadata": {
    "kernelspec": {
      "display_name": "Python 3",
      "language": "python",
      "name": "python3"
    },
    "language_info": {
      "codemirror_mode": {
        "name": "ipython",
        "version": 3
      },
      "file_extension": ".py",
      "mimetype": "text/x-python",
      "name": "python",
      "nbconvert_exporter": "python",
      "pygments_lexer": "ipython3",
      "version": "3.7.8"
    },
    "toc": {
      "base_numbering": 1,
      "nav_menu": {},
      "number_sections": true,
      "sideBar": true,
      "skip_h1_title": false,
      "title_cell": "Table of Contents",
      "title_sidebar": "Contents",
      "toc_cell": false,
      "toc_position": {},
      "toc_section_display": true,
      "toc_window_display": false
    },
    "colab": {
      "name": "1b8d39be-3845-4530-98bc-5fbcede32611 (2).ipynb",
      "provenance": []
    }
  },
  "cells": [
    {
      "cell_type": "markdown",
      "metadata": {
        "id": "jqctHRtCOIJ0"
      },
      "source": [
        "## Исследование надёжности заёмщиков\n",
        "\n",
        "Заказчик — кредитный отдел банка. Нужно разобраться, влияет ли семейное положение и количество детей клиента на факт погашения кредита в срок. Входные данные от банка — статистика о платёжеспособности клиентов.\n",
        "\n",
        "Результаты исследования будут учтены при построении модели кредитного скоринга — специальной системы, которая оценивает способность потенциального заёмщика вернуть кредит банку.\n",
        "\n",
        "Описание данных\n",
        "* \t\tchildren — количество детей в семье\n",
        "* \t\tdays_employed — общий трудовой стаж в днях\n",
        "* \t\tdob_years — возраст клиента в годах\n",
        "* \t\teducation — уровень образования клиента\n",
        "* \t\teducation_id — идентификатор уровня образования\n",
        "* \t\tfamily_status — семейное положение\n",
        "* \t\tfamily_status_id — идентификатор семейного положения\n",
        "* \t\tgender — пол клиента\n",
        "* \t\tincome_type — тип занятости\n",
        "* \t\tdebt — имел ли задолженность по возврату кредитов\n",
        "* \t\ttotal_income — ежемесячный доход\n",
        "* \t\tpurpose — цель получения кредита\n",
        "\n",
        "В конце исследования ответим на следующие вопросы:\n",
        "\n",
        "* Есть ли зависимость между наличием детей и возвратом кредита в срок?\n",
        "* Есть ли зависимость между семейным положением и возвратом кредита в срок?\n",
        "* Есть ли зависимость между уровнем дохода и возвратом кредита в срок?\n",
        "* Как разные цели кредита влияют на его возврат в срок?"
      ]
    },
    {
      "cell_type": "markdown",
      "metadata": {
        "id": "Fg_TqosmOIJ2"
      },
      "source": [
        "## Оглавление\n",
        "\n",
        "1. [Первый взгляд на данные](#start)\n",
        "2. [Предобработка данных](#preprocessing)\n",
        "    * [Обработка пропущенных значений](#null)\n",
        "    * [Замена типов данных](#typeconversion)\n",
        "    * [Обработка дубликатов](#duplicates)\n",
        "    * [Лемматизация](#lemmatization)\n",
        "    * [Категоризация данных](#categorizing)\n",
        "3. [Ответы на вопросы исследования](#questions)\n",
        "4. [Общий вывод](#final_conclusion)"
      ]
    },
    {
      "cell_type": "markdown",
      "metadata": {
        "id": "uj9cnCT7OIJ4"
      },
      "source": [
        "### Шаг 1. Первый взгляд на данные. <a id=\"start\"></a>"
      ]
    },
    {
      "cell_type": "code",
      "metadata": {
        "id": "ymgf8ldCOIJ5",
        "outputId": "34809988-804c-4083-a56b-afec4d602763"
      },
      "source": [
        "import pandas as pd\n",
        "df = pd.read_csv('/datasets/data.csv')\n",
        "df.info()\n",
        "df.head(10)"
      ],
      "execution_count": null,
      "outputs": [
        {
          "output_type": "stream",
          "text": [
            "<class 'pandas.core.frame.DataFrame'>\n",
            "RangeIndex: 21525 entries, 0 to 21524\n",
            "Data columns (total 12 columns):\n",
            "children            21525 non-null int64\n",
            "days_employed       19351 non-null float64\n",
            "dob_years           21525 non-null int64\n",
            "education           21525 non-null object\n",
            "education_id        21525 non-null int64\n",
            "family_status       21525 non-null object\n",
            "family_status_id    21525 non-null int64\n",
            "gender              21525 non-null object\n",
            "income_type         21525 non-null object\n",
            "debt                21525 non-null int64\n",
            "total_income        19351 non-null float64\n",
            "purpose             21525 non-null object\n",
            "dtypes: float64(2), int64(5), object(5)\n",
            "memory usage: 2.0+ MB\n"
          ],
          "name": "stdout"
        },
        {
          "output_type": "execute_result",
          "data": {
            "text/html": [
              "<div>\n",
              "<style scoped>\n",
              "    .dataframe tbody tr th:only-of-type {\n",
              "        vertical-align: middle;\n",
              "    }\n",
              "\n",
              "    .dataframe tbody tr th {\n",
              "        vertical-align: top;\n",
              "    }\n",
              "\n",
              "    .dataframe thead th {\n",
              "        text-align: right;\n",
              "    }\n",
              "</style>\n",
              "<table border=\"1\" class=\"dataframe\">\n",
              "  <thead>\n",
              "    <tr style=\"text-align: right;\">\n",
              "      <th></th>\n",
              "      <th>children</th>\n",
              "      <th>days_employed</th>\n",
              "      <th>dob_years</th>\n",
              "      <th>education</th>\n",
              "      <th>education_id</th>\n",
              "      <th>family_status</th>\n",
              "      <th>family_status_id</th>\n",
              "      <th>gender</th>\n",
              "      <th>income_type</th>\n",
              "      <th>debt</th>\n",
              "      <th>total_income</th>\n",
              "      <th>purpose</th>\n",
              "    </tr>\n",
              "  </thead>\n",
              "  <tbody>\n",
              "    <tr>\n",
              "      <td>0</td>\n",
              "      <td>1</td>\n",
              "      <td>-8437.673028</td>\n",
              "      <td>42</td>\n",
              "      <td>высшее</td>\n",
              "      <td>0</td>\n",
              "      <td>женат / замужем</td>\n",
              "      <td>0</td>\n",
              "      <td>F</td>\n",
              "      <td>сотрудник</td>\n",
              "      <td>0</td>\n",
              "      <td>253875.639453</td>\n",
              "      <td>покупка жилья</td>\n",
              "    </tr>\n",
              "    <tr>\n",
              "      <td>1</td>\n",
              "      <td>1</td>\n",
              "      <td>-4024.803754</td>\n",
              "      <td>36</td>\n",
              "      <td>среднее</td>\n",
              "      <td>1</td>\n",
              "      <td>женат / замужем</td>\n",
              "      <td>0</td>\n",
              "      <td>F</td>\n",
              "      <td>сотрудник</td>\n",
              "      <td>0</td>\n",
              "      <td>112080.014102</td>\n",
              "      <td>приобретение автомобиля</td>\n",
              "    </tr>\n",
              "    <tr>\n",
              "      <td>2</td>\n",
              "      <td>0</td>\n",
              "      <td>-5623.422610</td>\n",
              "      <td>33</td>\n",
              "      <td>Среднее</td>\n",
              "      <td>1</td>\n",
              "      <td>женат / замужем</td>\n",
              "      <td>0</td>\n",
              "      <td>M</td>\n",
              "      <td>сотрудник</td>\n",
              "      <td>0</td>\n",
              "      <td>145885.952297</td>\n",
              "      <td>покупка жилья</td>\n",
              "    </tr>\n",
              "    <tr>\n",
              "      <td>3</td>\n",
              "      <td>3</td>\n",
              "      <td>-4124.747207</td>\n",
              "      <td>32</td>\n",
              "      <td>среднее</td>\n",
              "      <td>1</td>\n",
              "      <td>женат / замужем</td>\n",
              "      <td>0</td>\n",
              "      <td>M</td>\n",
              "      <td>сотрудник</td>\n",
              "      <td>0</td>\n",
              "      <td>267628.550329</td>\n",
              "      <td>дополнительное образование</td>\n",
              "    </tr>\n",
              "    <tr>\n",
              "      <td>4</td>\n",
              "      <td>0</td>\n",
              "      <td>340266.072047</td>\n",
              "      <td>53</td>\n",
              "      <td>среднее</td>\n",
              "      <td>1</td>\n",
              "      <td>гражданский брак</td>\n",
              "      <td>1</td>\n",
              "      <td>F</td>\n",
              "      <td>пенсионер</td>\n",
              "      <td>0</td>\n",
              "      <td>158616.077870</td>\n",
              "      <td>сыграть свадьбу</td>\n",
              "    </tr>\n",
              "    <tr>\n",
              "      <td>5</td>\n",
              "      <td>0</td>\n",
              "      <td>-926.185831</td>\n",
              "      <td>27</td>\n",
              "      <td>высшее</td>\n",
              "      <td>0</td>\n",
              "      <td>гражданский брак</td>\n",
              "      <td>1</td>\n",
              "      <td>M</td>\n",
              "      <td>компаньон</td>\n",
              "      <td>0</td>\n",
              "      <td>255763.565419</td>\n",
              "      <td>покупка жилья</td>\n",
              "    </tr>\n",
              "    <tr>\n",
              "      <td>6</td>\n",
              "      <td>0</td>\n",
              "      <td>-2879.202052</td>\n",
              "      <td>43</td>\n",
              "      <td>высшее</td>\n",
              "      <td>0</td>\n",
              "      <td>женат / замужем</td>\n",
              "      <td>0</td>\n",
              "      <td>F</td>\n",
              "      <td>компаньон</td>\n",
              "      <td>0</td>\n",
              "      <td>240525.971920</td>\n",
              "      <td>операции с жильем</td>\n",
              "    </tr>\n",
              "    <tr>\n",
              "      <td>7</td>\n",
              "      <td>0</td>\n",
              "      <td>-152.779569</td>\n",
              "      <td>50</td>\n",
              "      <td>СРЕДНЕЕ</td>\n",
              "      <td>1</td>\n",
              "      <td>женат / замужем</td>\n",
              "      <td>0</td>\n",
              "      <td>M</td>\n",
              "      <td>сотрудник</td>\n",
              "      <td>0</td>\n",
              "      <td>135823.934197</td>\n",
              "      <td>образование</td>\n",
              "    </tr>\n",
              "    <tr>\n",
              "      <td>8</td>\n",
              "      <td>2</td>\n",
              "      <td>-6929.865299</td>\n",
              "      <td>35</td>\n",
              "      <td>ВЫСШЕЕ</td>\n",
              "      <td>0</td>\n",
              "      <td>гражданский брак</td>\n",
              "      <td>1</td>\n",
              "      <td>F</td>\n",
              "      <td>сотрудник</td>\n",
              "      <td>0</td>\n",
              "      <td>95856.832424</td>\n",
              "      <td>на проведение свадьбы</td>\n",
              "    </tr>\n",
              "    <tr>\n",
              "      <td>9</td>\n",
              "      <td>0</td>\n",
              "      <td>-2188.756445</td>\n",
              "      <td>41</td>\n",
              "      <td>среднее</td>\n",
              "      <td>1</td>\n",
              "      <td>женат / замужем</td>\n",
              "      <td>0</td>\n",
              "      <td>M</td>\n",
              "      <td>сотрудник</td>\n",
              "      <td>0</td>\n",
              "      <td>144425.938277</td>\n",
              "      <td>покупка жилья для семьи</td>\n",
              "    </tr>\n",
              "  </tbody>\n",
              "</table>\n",
              "</div>"
            ],
            "text/plain": [
              "   children  days_employed  dob_years education  education_id  \\\n",
              "0         1   -8437.673028         42    высшее             0   \n",
              "1         1   -4024.803754         36   среднее             1   \n",
              "2         0   -5623.422610         33   Среднее             1   \n",
              "3         3   -4124.747207         32   среднее             1   \n",
              "4         0  340266.072047         53   среднее             1   \n",
              "5         0    -926.185831         27    высшее             0   \n",
              "6         0   -2879.202052         43    высшее             0   \n",
              "7         0    -152.779569         50   СРЕДНЕЕ             1   \n",
              "8         2   -6929.865299         35    ВЫСШЕЕ             0   \n",
              "9         0   -2188.756445         41   среднее             1   \n",
              "\n",
              "      family_status  family_status_id gender income_type  debt   total_income  \\\n",
              "0   женат / замужем                 0      F   сотрудник     0  253875.639453   \n",
              "1   женат / замужем                 0      F   сотрудник     0  112080.014102   \n",
              "2   женат / замужем                 0      M   сотрудник     0  145885.952297   \n",
              "3   женат / замужем                 0      M   сотрудник     0  267628.550329   \n",
              "4  гражданский брак                 1      F   пенсионер     0  158616.077870   \n",
              "5  гражданский брак                 1      M   компаньон     0  255763.565419   \n",
              "6   женат / замужем                 0      F   компаньон     0  240525.971920   \n",
              "7   женат / замужем                 0      M   сотрудник     0  135823.934197   \n",
              "8  гражданский брак                 1      F   сотрудник     0   95856.832424   \n",
              "9   женат / замужем                 0      M   сотрудник     0  144425.938277   \n",
              "\n",
              "                      purpose  \n",
              "0               покупка жилья  \n",
              "1     приобретение автомобиля  \n",
              "2               покупка жилья  \n",
              "3  дополнительное образование  \n",
              "4             сыграть свадьбу  \n",
              "5               покупка жилья  \n",
              "6           операции с жильем  \n",
              "7                 образование  \n",
              "8       на проведение свадьбы  \n",
              "9     покупка жилья для семьи  "
            ]
          },
          "metadata": {
            "tags": []
          },
          "execution_count": 1
        }
      ]
    },
    {
      "cell_type": "markdown",
      "metadata": {
        "id": "1TsBI6TsOIJ6"
      },
      "source": [
        "### Вывод"
      ]
    },
    {
      "cell_type": "markdown",
      "metadata": {
        "id": "cRMM3XxvOIJ7"
      },
      "source": [
        "Имена столбцов корректные: строчные, латиницей. Есть одинаковое количество пропущенных значений в столбцах days_employed и total_income. Есть отрицательные значения в таблице days_employed и сам тип значений столбца вещественный, хотя должен быть целочисленным. В столбце education значения прописаны не единообразно: \"Среднее\", \"СРЕДНЕЕ\", \"среднее\", - потребуется привести к нижнему регистру. В столбце purpose слишком много повторяющихся значений: \"сыграть свадьбу\", \"на проведение свадьбы\", - потребуется лемматизация и категоризация. Найдено 54 полных дубликата. В первую очередь нужно исправить недочеты в данных."
      ]
    },
    {
      "cell_type": "markdown",
      "metadata": {
        "id": "64jLTSVdOIJ8"
      },
      "source": [
        "### Шаг 2. Предобработка данных <a id=\"preprocessing\"></a>"
      ]
    },
    {
      "cell_type": "markdown",
      "metadata": {
        "id": "FHF_kJn3OIJ8"
      },
      "source": [
        "### Обработка пропусков <a id=\"null\"></a>"
      ]
    },
    {
      "cell_type": "code",
      "metadata": {
        "id": "AcYDEdWPOIJ9",
        "outputId": "b5da880d-62d2-496b-9a76-3f536e62aa32"
      },
      "source": [
        "df['days_employed'] = df['days_employed'].abs()\n",
        "days_employed_median = df['days_employed'].median()\n",
        "df['days_employed'] = df['days_employed'].fillna(days_employed_median)\n",
        "print(df.groupby('income_type')['total_income'].median())\n",
        "df['total_income'] = df['total_income'].fillna(df.groupby('income_type')['total_income'].transform('median'))"
      ],
      "execution_count": null,
      "outputs": [
        {
          "output_type": "stream",
          "text": [
            "income_type\n",
            "безработный        131339.751676\n",
            "в декрете           53829.130729\n",
            "госслужащий        150447.935283\n",
            "компаньон          172357.950966\n",
            "пенсионер          118514.486412\n",
            "предприниматель    499163.144947\n",
            "сотрудник          142594.396847\n",
            "студент             98201.625314\n",
            "Name: total_income, dtype: float64\n"
          ],
          "name": "stdout"
        }
      ]
    },
    {
      "cell_type": "markdown",
      "metadata": {
        "id": "E3-Afa0wOIJ9"
      },
      "source": [
        "### Вывод"
      ]
    },
    {
      "cell_type": "markdown",
      "metadata": {
        "id": "Hs29ajMKOIJ-"
      },
      "source": [
        "Обнаружены одинаковые пропуски в столбцах days_employed и total_income. В days_employed необъяснимо много отрицательных значений, природу этих артефактов исследовать не стал, так как эти данные не нужны для исследования: просто отрицательные значения перевел в положительные (например, -11 в 11) и заполнил пропуски медианой методом fillna. Пропуски в total_income и days_employed появились, скорее всего, потому, что не известно место работы, либо его просто нет. Пропуски в total_income заполнил медианой в зависимости от типа доходов: если нет дохода в строке с типом дохода 'сотрудник', то заполнил его медианным значениям по доходу предпринимателей, наемных сотрудников и т. п."
      ]
    },
    {
      "cell_type": "markdown",
      "metadata": {
        "id": "JYWHA7mUOIKA"
      },
      "source": [
        "### Замена типа данных <a id=\"typeconversion\"></a>"
      ]
    },
    {
      "cell_type": "code",
      "metadata": {
        "id": "m3aym4GBOIKB",
        "outputId": "ad8ad2d0-4794-404c-f564-29b80ba3a617"
      },
      "source": [
        "df['days_employed'] = df['days_employed'].astype('int64')\n",
        "df['total_income'] = df['total_income'].astype('int64')\n",
        "df.info()"
      ],
      "execution_count": null,
      "outputs": [
        {
          "output_type": "stream",
          "text": [
            "<class 'pandas.core.frame.DataFrame'>\n",
            "RangeIndex: 21525 entries, 0 to 21524\n",
            "Data columns (total 12 columns):\n",
            "children            21525 non-null int64\n",
            "days_employed       21525 non-null int64\n",
            "dob_years           21525 non-null int64\n",
            "education           21525 non-null object\n",
            "education_id        21525 non-null int64\n",
            "family_status       21525 non-null object\n",
            "family_status_id    21525 non-null int64\n",
            "gender              21525 non-null object\n",
            "income_type         21525 non-null object\n",
            "debt                21525 non-null int64\n",
            "total_income        21525 non-null int64\n",
            "purpose             21525 non-null object\n",
            "dtypes: int64(7), object(5)\n",
            "memory usage: 2.0+ MB\n"
          ],
          "name": "stdout"
        }
      ]
    },
    {
      "cell_type": "markdown",
      "metadata": {
        "id": "yMhZBTKgOIKB"
      },
      "source": [
        "### Вывод"
      ]
    },
    {
      "cell_type": "markdown",
      "metadata": {
        "id": "8WLQHy1NOIKC"
      },
      "source": [
        "Поменял тип данных в столбцах days_employed и total_income на целочисленный методом astype. Дни не могут быть дробными."
      ]
    },
    {
      "cell_type": "markdown",
      "metadata": {
        "id": "DO8sRmlVOIKD"
      },
      "source": [
        "### Обработка дубликатов <a id=\"duplicates\"></a>"
      ]
    },
    {
      "cell_type": "code",
      "metadata": {
        "id": "eCixU1imOIKD",
        "outputId": "b9174e79-7cbb-4395-a786-818b6058e433"
      },
      "source": [
        "print(df.duplicated().sum())\n",
        "df = df.drop_duplicates()\n",
        "df.info()"
      ],
      "execution_count": null,
      "outputs": [
        {
          "output_type": "stream",
          "text": [
            "54\n",
            "<class 'pandas.core.frame.DataFrame'>\n",
            "Int64Index: 21471 entries, 0 to 21524\n",
            "Data columns (total 12 columns):\n",
            "children            21471 non-null int64\n",
            "days_employed       21471 non-null int64\n",
            "dob_years           21471 non-null int64\n",
            "education           21471 non-null object\n",
            "education_id        21471 non-null int64\n",
            "family_status       21471 non-null object\n",
            "family_status_id    21471 non-null int64\n",
            "gender              21471 non-null object\n",
            "income_type         21471 non-null object\n",
            "debt                21471 non-null int64\n",
            "total_income        21471 non-null int64\n",
            "purpose             21471 non-null object\n",
            "dtypes: int64(7), object(5)\n",
            "memory usage: 2.1+ MB\n"
          ],
          "name": "stdout"
        }
      ]
    },
    {
      "cell_type": "markdown",
      "metadata": {
        "id": "ZiYtfdwcOIKE"
      },
      "source": [
        "Избавился от полных дубликатов. Для их поиска и удаления воспользовался методом drop_duplicates(). Было найдено 54 дубликата - так как в данных нет уникального id заемщика, то, возможно, это просто разные люди, но знать точно не можем, поэтому удалил."
      ]
    },
    {
      "cell_type": "code",
      "metadata": {
        "id": "DT0Rnn5eOIKE",
        "outputId": "173ae59b-751d-46ec-fb3d-011f9738a3f5"
      },
      "source": [
        "print(df['children'].value_counts())\n",
        "df[df['children'] == -1].head(10)"
      ],
      "execution_count": null,
      "outputs": [
        {
          "output_type": "stream",
          "text": [
            " 0     14107\n",
            " 1      4809\n",
            " 2      2052\n",
            " 3       330\n",
            " 20       76\n",
            "-1        47\n",
            " 4        41\n",
            " 5         9\n",
            "Name: children, dtype: int64\n"
          ],
          "name": "stdout"
        },
        {
          "output_type": "execute_result",
          "data": {
            "text/html": [
              "<div>\n",
              "<style scoped>\n",
              "    .dataframe tbody tr th:only-of-type {\n",
              "        vertical-align: middle;\n",
              "    }\n",
              "\n",
              "    .dataframe tbody tr th {\n",
              "        vertical-align: top;\n",
              "    }\n",
              "\n",
              "    .dataframe thead th {\n",
              "        text-align: right;\n",
              "    }\n",
              "</style>\n",
              "<table border=\"1\" class=\"dataframe\">\n",
              "  <thead>\n",
              "    <tr style=\"text-align: right;\">\n",
              "      <th></th>\n",
              "      <th>children</th>\n",
              "      <th>days_employed</th>\n",
              "      <th>dob_years</th>\n",
              "      <th>education</th>\n",
              "      <th>education_id</th>\n",
              "      <th>family_status</th>\n",
              "      <th>family_status_id</th>\n",
              "      <th>gender</th>\n",
              "      <th>income_type</th>\n",
              "      <th>debt</th>\n",
              "      <th>total_income</th>\n",
              "      <th>purpose</th>\n",
              "    </tr>\n",
              "  </thead>\n",
              "  <tbody>\n",
              "    <tr>\n",
              "      <td>291</td>\n",
              "      <td>-1</td>\n",
              "      <td>4417</td>\n",
              "      <td>46</td>\n",
              "      <td>среднее</td>\n",
              "      <td>1</td>\n",
              "      <td>гражданский брак</td>\n",
              "      <td>1</td>\n",
              "      <td>F</td>\n",
              "      <td>сотрудник</td>\n",
              "      <td>0</td>\n",
              "      <td>102816</td>\n",
              "      <td>профильное образование</td>\n",
              "    </tr>\n",
              "    <tr>\n",
              "      <td>705</td>\n",
              "      <td>-1</td>\n",
              "      <td>902</td>\n",
              "      <td>50</td>\n",
              "      <td>среднее</td>\n",
              "      <td>1</td>\n",
              "      <td>женат / замужем</td>\n",
              "      <td>0</td>\n",
              "      <td>F</td>\n",
              "      <td>госслужащий</td>\n",
              "      <td>0</td>\n",
              "      <td>137882</td>\n",
              "      <td>приобретение автомобиля</td>\n",
              "    </tr>\n",
              "    <tr>\n",
              "      <td>742</td>\n",
              "      <td>-1</td>\n",
              "      <td>3174</td>\n",
              "      <td>57</td>\n",
              "      <td>среднее</td>\n",
              "      <td>1</td>\n",
              "      <td>женат / замужем</td>\n",
              "      <td>0</td>\n",
              "      <td>F</td>\n",
              "      <td>сотрудник</td>\n",
              "      <td>0</td>\n",
              "      <td>64268</td>\n",
              "      <td>дополнительное образование</td>\n",
              "    </tr>\n",
              "    <tr>\n",
              "      <td>800</td>\n",
              "      <td>-1</td>\n",
              "      <td>349987</td>\n",
              "      <td>54</td>\n",
              "      <td>среднее</td>\n",
              "      <td>1</td>\n",
              "      <td>Не женат / не замужем</td>\n",
              "      <td>4</td>\n",
              "      <td>F</td>\n",
              "      <td>пенсионер</td>\n",
              "      <td>0</td>\n",
              "      <td>86293</td>\n",
              "      <td>дополнительное образование</td>\n",
              "    </tr>\n",
              "    <tr>\n",
              "      <td>941</td>\n",
              "      <td>-1</td>\n",
              "      <td>2194</td>\n",
              "      <td>57</td>\n",
              "      <td>Среднее</td>\n",
              "      <td>1</td>\n",
              "      <td>женат / замужем</td>\n",
              "      <td>0</td>\n",
              "      <td>F</td>\n",
              "      <td>пенсионер</td>\n",
              "      <td>0</td>\n",
              "      <td>118514</td>\n",
              "      <td>на покупку своего автомобиля</td>\n",
              "    </tr>\n",
              "    <tr>\n",
              "      <td>1363</td>\n",
              "      <td>-1</td>\n",
              "      <td>1195</td>\n",
              "      <td>55</td>\n",
              "      <td>СРЕДНЕЕ</td>\n",
              "      <td>1</td>\n",
              "      <td>женат / замужем</td>\n",
              "      <td>0</td>\n",
              "      <td>F</td>\n",
              "      <td>компаньон</td>\n",
              "      <td>0</td>\n",
              "      <td>69550</td>\n",
              "      <td>профильное образование</td>\n",
              "    </tr>\n",
              "    <tr>\n",
              "      <td>1929</td>\n",
              "      <td>-1</td>\n",
              "      <td>1461</td>\n",
              "      <td>38</td>\n",
              "      <td>среднее</td>\n",
              "      <td>1</td>\n",
              "      <td>Не женат / не замужем</td>\n",
              "      <td>4</td>\n",
              "      <td>M</td>\n",
              "      <td>сотрудник</td>\n",
              "      <td>0</td>\n",
              "      <td>109121</td>\n",
              "      <td>покупка жилья</td>\n",
              "    </tr>\n",
              "    <tr>\n",
              "      <td>2073</td>\n",
              "      <td>-1</td>\n",
              "      <td>2539</td>\n",
              "      <td>42</td>\n",
              "      <td>среднее</td>\n",
              "      <td>1</td>\n",
              "      <td>в разводе</td>\n",
              "      <td>3</td>\n",
              "      <td>F</td>\n",
              "      <td>компаньон</td>\n",
              "      <td>0</td>\n",
              "      <td>162638</td>\n",
              "      <td>покупка жилья</td>\n",
              "    </tr>\n",
              "    <tr>\n",
              "      <td>3814</td>\n",
              "      <td>-1</td>\n",
              "      <td>3045</td>\n",
              "      <td>26</td>\n",
              "      <td>Среднее</td>\n",
              "      <td>1</td>\n",
              "      <td>гражданский брак</td>\n",
              "      <td>1</td>\n",
              "      <td>F</td>\n",
              "      <td>госслужащий</td>\n",
              "      <td>0</td>\n",
              "      <td>131892</td>\n",
              "      <td>на проведение свадьбы</td>\n",
              "    </tr>\n",
              "    <tr>\n",
              "      <td>4201</td>\n",
              "      <td>-1</td>\n",
              "      <td>901</td>\n",
              "      <td>41</td>\n",
              "      <td>среднее</td>\n",
              "      <td>1</td>\n",
              "      <td>женат / замужем</td>\n",
              "      <td>0</td>\n",
              "      <td>F</td>\n",
              "      <td>госслужащий</td>\n",
              "      <td>0</td>\n",
              "      <td>226375</td>\n",
              "      <td>операции со своей недвижимостью</td>\n",
              "    </tr>\n",
              "  </tbody>\n",
              "</table>\n",
              "</div>"
            ],
            "text/plain": [
              "      children  days_employed  dob_years education  education_id  \\\n",
              "291         -1           4417         46   среднее             1   \n",
              "705         -1            902         50   среднее             1   \n",
              "742         -1           3174         57   среднее             1   \n",
              "800         -1         349987         54   среднее             1   \n",
              "941         -1           2194         57   Среднее             1   \n",
              "1363        -1           1195         55   СРЕДНЕЕ             1   \n",
              "1929        -1           1461         38   среднее             1   \n",
              "2073        -1           2539         42   среднее             1   \n",
              "3814        -1           3045         26   Среднее             1   \n",
              "4201        -1            901         41   среднее             1   \n",
              "\n",
              "              family_status  family_status_id gender  income_type  debt  \\\n",
              "291        гражданский брак                 1      F    сотрудник     0   \n",
              "705         женат / замужем                 0      F  госслужащий     0   \n",
              "742         женат / замужем                 0      F    сотрудник     0   \n",
              "800   Не женат / не замужем                 4      F    пенсионер     0   \n",
              "941         женат / замужем                 0      F    пенсионер     0   \n",
              "1363        женат / замужем                 0      F    компаньон     0   \n",
              "1929  Не женат / не замужем                 4      M    сотрудник     0   \n",
              "2073              в разводе                 3      F    компаньон     0   \n",
              "3814       гражданский брак                 1      F  госслужащий     0   \n",
              "4201        женат / замужем                 0      F  госслужащий     0   \n",
              "\n",
              "      total_income                          purpose  \n",
              "291         102816           профильное образование  \n",
              "705         137882          приобретение автомобиля  \n",
              "742          64268       дополнительное образование  \n",
              "800          86293       дополнительное образование  \n",
              "941         118514     на покупку своего автомобиля  \n",
              "1363         69550           профильное образование  \n",
              "1929        109121                    покупка жилья  \n",
              "2073        162638                    покупка жилья  \n",
              "3814        131892            на проведение свадьбы  \n",
              "4201        226375  операции со своей недвижимостью  "
            ]
          },
          "metadata": {
            "tags": []
          },
          "execution_count": 5
        }
      ]
    },
    {
      "cell_type": "markdown",
      "metadata": {
        "id": "Au53DG2GOIKF"
      },
      "source": [
        "У 47 человек в столбце дети стоит \"-1\". Так как для исследования нам  нужен столбец о количестве детей, а сделать обоснованное предположение о реальном количестве мы не можем, просто удалим строки с этим значением."
      ]
    },
    {
      "cell_type": "code",
      "metadata": {
        "id": "1673QWLvOIKF",
        "outputId": "74bd703a-0911-4156-8c83-333f17fcb007"
      },
      "source": [
        "df.drop(df[df['children'] == -1].index, inplace=True)\n",
        "df['children'].value_counts()"
      ],
      "execution_count": null,
      "outputs": [
        {
          "output_type": "execute_result",
          "data": {
            "text/plain": [
              "0     14107\n",
              "1      4809\n",
              "2      2052\n",
              "3       330\n",
              "20       76\n",
              "4        41\n",
              "5         9\n",
              "Name: children, dtype: int64"
            ]
          },
          "metadata": {
            "tags": []
          },
          "execution_count": 6
        }
      ]
    },
    {
      "cell_type": "markdown",
      "metadata": {
        "id": "I8yam9k_OIKG"
      },
      "source": [
        "Есть артефакт с 20-ю детьми, решил его оставить, так как нам важно только наличие детей. Дальше посмотрим разброс значений в других столбцах, чтобы понять, с какими из них требуется работа."
      ]
    },
    {
      "cell_type": "code",
      "metadata": {
        "scrolled": true,
        "id": "prYGVdQxOIKG",
        "outputId": "b5c1cddc-1d10-4eb6-d6fd-9bb358e8c631"
      },
      "source": [
        "df['family_status'].value_counts()"
      ],
      "execution_count": null,
      "outputs": [
        {
          "output_type": "execute_result",
          "data": {
            "text/plain": [
              "женат / замужем          12310\n",
              "гражданский брак          4146\n",
              "Не женат / не замужем     2805\n",
              "в разводе                 1191\n",
              "вдовец / вдова             955\n",
              "Name: family_status, dtype: int64"
            ]
          },
          "metadata": {
            "tags": []
          },
          "execution_count": 19
        }
      ]
    },
    {
      "cell_type": "code",
      "metadata": {
        "id": "2LGbOU2BOIKH",
        "outputId": "c95c126e-6f45-44ec-ac35-1379921cff0e"
      },
      "source": [
        "df['family_status_id'].value_counts()"
      ],
      "execution_count": null,
      "outputs": [
        {
          "output_type": "execute_result",
          "data": {
            "text/plain": [
              "0    12310\n",
              "1     4146\n",
              "4     2805\n",
              "3     1191\n",
              "2      955\n",
              "Name: family_status_id, dtype: int64"
            ]
          },
          "metadata": {
            "tags": []
          },
          "execution_count": 20
        }
      ]
    },
    {
      "cell_type": "code",
      "metadata": {
        "id": "KGKz6grmOIKH",
        "outputId": "b2760256-c864-4c86-9f9b-c4c560b85d7e"
      },
      "source": [
        "df['gender'].value_counts()"
      ],
      "execution_count": null,
      "outputs": [
        {
          "output_type": "execute_result",
          "data": {
            "text/plain": [
              "F      14139\n",
              "M       7267\n",
              "XNA        1\n",
              "Name: gender, dtype: int64"
            ]
          },
          "metadata": {
            "tags": []
          },
          "execution_count": 21
        }
      ]
    },
    {
      "cell_type": "code",
      "metadata": {
        "id": "y-aOi9kgOIKI",
        "outputId": "31f6168b-d1a1-4538-a7a1-1030c919c4a0"
      },
      "source": [
        "df['debt'].value_counts()"
      ],
      "execution_count": null,
      "outputs": [
        {
          "output_type": "execute_result",
          "data": {
            "text/plain": [
              "0    19667\n",
              "1     1740\n",
              "Name: debt, dtype: int64"
            ]
          },
          "metadata": {
            "tags": []
          },
          "execution_count": 22
        }
      ]
    },
    {
      "cell_type": "code",
      "metadata": {
        "id": "1_VZ3U70OIKI",
        "outputId": "995189c7-b105-454c-8424-37baea4a50d7"
      },
      "source": [
        "df['income_type'].value_counts()"
      ],
      "execution_count": null,
      "outputs": [
        {
          "output_type": "execute_result",
          "data": {
            "text/plain": [
              "сотрудник          11058\n",
              "компаньон           5069\n",
              "пенсионер           3821\n",
              "госслужащий         1453\n",
              "предприниматель        2\n",
              "безработный            2\n",
              "студент                1\n",
              "в декрете              1\n",
              "Name: income_type, dtype: int64"
            ]
          },
          "metadata": {
            "tags": []
          },
          "execution_count": 23
        }
      ]
    },
    {
      "cell_type": "code",
      "metadata": {
        "id": "K8Nhec1ROIKJ",
        "outputId": "a2790332-8014-4199-e0a8-f9eb1b5d0735"
      },
      "source": [
        "df['dob_years'].hist(bins=20)\n",
        "print('Количество ячеек, где возраст указан меньше 18:', df[df['dob_years'] < 18]['children'].count())"
      ],
      "execution_count": null,
      "outputs": [
        {
          "output_type": "stream",
          "text": [
            "Количество ячеек, где возраст указан меньше 18: 101\n"
          ],
          "name": "stdout"
        },
        {
          "output_type": "display_data",
          "data": {
            "image/png": "[encoded data removed]",
            "text/plain": [
              "<Figure size 432x288 with 1 Axes>"
            ]
          },
          "metadata": {
            "tags": [],
            "needs_background": "light"
          }
        }
      ]
    },
    {
      "cell_type": "code",
      "metadata": {
        "id": "hNjRTdf5OIKJ",
        "outputId": "3c934c64-ed47-42f1-ad10-04c769f3f747"
      },
      "source": [
        "df[df['dob_years'] < 18].head(5)"
      ],
      "execution_count": null,
      "outputs": [
        {
          "output_type": "execute_result",
          "data": {
            "text/html": [
              "<div>\n",
              "<style scoped>\n",
              "    .dataframe tbody tr th:only-of-type {\n",
              "        vertical-align: middle;\n",
              "    }\n",
              "\n",
              "    .dataframe tbody tr th {\n",
              "        vertical-align: top;\n",
              "    }\n",
              "\n",
              "    .dataframe thead th {\n",
              "        text-align: right;\n",
              "    }\n",
              "</style>\n",
              "<table border=\"1\" class=\"dataframe\">\n",
              "  <thead>\n",
              "    <tr style=\"text-align: right;\">\n",
              "      <th></th>\n",
              "      <th>children</th>\n",
              "      <th>days_employed</th>\n",
              "      <th>dob_years</th>\n",
              "      <th>education</th>\n",
              "      <th>education_id</th>\n",
              "      <th>family_status</th>\n",
              "      <th>family_status_id</th>\n",
              "      <th>gender</th>\n",
              "      <th>income_type</th>\n",
              "      <th>debt</th>\n",
              "      <th>total_income</th>\n",
              "      <th>purpose</th>\n",
              "      <th>income_level</th>\n",
              "      <th>purpose_category</th>\n",
              "      <th>has_children</th>\n",
              "    </tr>\n",
              "  </thead>\n",
              "  <tbody>\n",
              "    <tr>\n",
              "      <td>99</td>\n",
              "      <td>0</td>\n",
              "      <td>346541</td>\n",
              "      <td>0</td>\n",
              "      <td>среднее</td>\n",
              "      <td>1</td>\n",
              "      <td>женат / замужем</td>\n",
              "      <td>0</td>\n",
              "      <td>F</td>\n",
              "      <td>пенсионер</td>\n",
              "      <td>0</td>\n",
              "      <td>71291</td>\n",
              "      <td>автомобиль</td>\n",
              "      <td>низкий</td>\n",
              "      <td>автомобиль</td>\n",
              "      <td>False</td>\n",
              "    </tr>\n",
              "    <tr>\n",
              "      <td>149</td>\n",
              "      <td>0</td>\n",
              "      <td>2664</td>\n",
              "      <td>0</td>\n",
              "      <td>среднее</td>\n",
              "      <td>1</td>\n",
              "      <td>в разводе</td>\n",
              "      <td>3</td>\n",
              "      <td>F</td>\n",
              "      <td>сотрудник</td>\n",
              "      <td>0</td>\n",
              "      <td>70176</td>\n",
              "      <td>операции с жильем</td>\n",
              "      <td>низкий</td>\n",
              "      <td>недвижимость</td>\n",
              "      <td>False</td>\n",
              "    </tr>\n",
              "    <tr>\n",
              "      <td>270</td>\n",
              "      <td>3</td>\n",
              "      <td>1872</td>\n",
              "      <td>0</td>\n",
              "      <td>среднее</td>\n",
              "      <td>1</td>\n",
              "      <td>женат / замужем</td>\n",
              "      <td>0</td>\n",
              "      <td>F</td>\n",
              "      <td>сотрудник</td>\n",
              "      <td>0</td>\n",
              "      <td>102166</td>\n",
              "      <td>ремонт жилью</td>\n",
              "      <td>низкий</td>\n",
              "      <td>недвижимость</td>\n",
              "      <td>True</td>\n",
              "    </tr>\n",
              "    <tr>\n",
              "      <td>578</td>\n",
              "      <td>0</td>\n",
              "      <td>397856</td>\n",
              "      <td>0</td>\n",
              "      <td>среднее</td>\n",
              "      <td>1</td>\n",
              "      <td>женат / замужем</td>\n",
              "      <td>0</td>\n",
              "      <td>F</td>\n",
              "      <td>пенсионер</td>\n",
              "      <td>0</td>\n",
              "      <td>97620</td>\n",
              "      <td>строительство собственной недвижимости</td>\n",
              "      <td>низкий</td>\n",
              "      <td>недвижимость</td>\n",
              "      <td>False</td>\n",
              "    </tr>\n",
              "    <tr>\n",
              "      <td>1040</td>\n",
              "      <td>0</td>\n",
              "      <td>1158</td>\n",
              "      <td>0</td>\n",
              "      <td>высшее</td>\n",
              "      <td>0</td>\n",
              "      <td>в разводе</td>\n",
              "      <td>3</td>\n",
              "      <td>F</td>\n",
              "      <td>компаньон</td>\n",
              "      <td>0</td>\n",
              "      <td>303994</td>\n",
              "      <td>свой автомобиль</td>\n",
              "      <td>высокий</td>\n",
              "      <td>автомобиль</td>\n",
              "      <td>False</td>\n",
              "    </tr>\n",
              "  </tbody>\n",
              "</table>\n",
              "</div>"
            ],
            "text/plain": [
              "      children  days_employed  dob_years education  education_id  \\\n",
              "99           0         346541          0   среднее             1   \n",
              "149          0           2664          0   среднее             1   \n",
              "270          3           1872          0   среднее             1   \n",
              "578          0         397856          0   среднее             1   \n",
              "1040         0           1158          0    высшее             0   \n",
              "\n",
              "        family_status  family_status_id gender income_type  debt  \\\n",
              "99    женат / замужем                 0      F   пенсионер     0   \n",
              "149         в разводе                 3      F   сотрудник     0   \n",
              "270   женат / замужем                 0      F   сотрудник     0   \n",
              "578   женат / замужем                 0      F   пенсионер     0   \n",
              "1040        в разводе                 3      F   компаньон     0   \n",
              "\n",
              "      total_income                                 purpose income_level  \\\n",
              "99           71291                              автомобиль       низкий   \n",
              "149          70176                       операции с жильем       низкий   \n",
              "270         102166                            ремонт жилью       низкий   \n",
              "578          97620  строительство собственной недвижимости       низкий   \n",
              "1040        303994                         свой автомобиль      высокий   \n",
              "\n",
              "     purpose_category  has_children  \n",
              "99         автомобиль         False  \n",
              "149      недвижимость         False  \n",
              "270      недвижимость          True  \n",
              "578      недвижимость         False  \n",
              "1040       автомобиль         False  "
            ]
          },
          "metadata": {
            "tags": []
          },
          "execution_count": 26
        }
      ]
    },
    {
      "cell_type": "markdown",
      "metadata": {
        "id": "CeZcwN3eOIKK"
      },
      "source": [
        "В столбце gender есть одна строка со значением 'XNA' - оставим ее, так как пол не нужен для нашего исследования. В столбце dob_years у 101 возраст указан меньше 18, есть даже новорожденные пенсионеры :). Так как возраст не используем в исследовании, то оставим эти ячейки нетронутыми. В столбцах 'family_status', 'family_status_id', 'income type' и 'debt' аномалий не обнаружено."
      ]
    },
    {
      "cell_type": "code",
      "metadata": {
        "scrolled": true,
        "id": "_vzjaPzbOIKL",
        "outputId": "f92410a0-f965-476d-f5a0-3d089023c04e"
      },
      "source": [
        "df['education'] = df['education'].str.lower()\n",
        "print(df['education'].value_counts())"
      ],
      "execution_count": null,
      "outputs": [
        {
          "output_type": "stream",
          "text": [
            "среднее                15151\n",
            "высшее                  5242\n",
            "неоконченное высшее      743\n",
            "начальное                282\n",
            "ученая степень             6\n",
            "Name: education, dtype: int64\n"
          ],
          "name": "stdout"
        }
      ]
    },
    {
      "cell_type": "markdown",
      "metadata": {
        "id": "QxBhYKeoOIKL"
      },
      "source": [
        "В столбце 'education' убрал дубликаты с разным регистром: \"Среднее\" и \"среднее\" теперь одно и то же. Посмотрю, появились ли дубликаты. Если да, уберу их."
      ]
    },
    {
      "cell_type": "code",
      "metadata": {
        "id": "XbcLa_F4OIKL",
        "outputId": "095ea8bf-d4b8-44ea-b95f-e1ec4f171a14"
      },
      "source": [
        "print(df.duplicated().sum())\n",
        "df = df.drop_duplicates()\n",
        "print(df.duplicated().sum())"
      ],
      "execution_count": null,
      "outputs": [
        {
          "output_type": "stream",
          "text": [
            "17\n",
            "0\n"
          ],
          "name": "stdout"
        }
      ]
    },
    {
      "cell_type": "markdown",
      "metadata": {
        "id": "aEWHbOGfOIKN"
      },
      "source": [
        "### Вывод"
      ]
    },
    {
      "cell_type": "markdown",
      "metadata": {
        "id": "ZKiGt5WpOIKN"
      },
      "source": [
        "С помощь метода drop_duplicates избавился от полных дубликатов. Убрал разнобой в регистрах в столбце 'education'. Удалил строки, где количество детей указано как -1: нельзя изменять, потому что нет оснований приписывать определенное количество детей, но и нельзя оставлять, так как этот параметр нам нужен для исследования. Есть небольшие аномалии в столбцах 'gender' и 'dob_years', решил их не трогать, так как данных этих столбцов для исследования не нужны."
      ]
    },
    {
      "cell_type": "markdown",
      "metadata": {
        "id": "brHq1zzKOIKN"
      },
      "source": [
        "### Лемматизация <a id=\"lemmatization\"></a>"
      ]
    },
    {
      "cell_type": "code",
      "metadata": {
        "id": "VjIT1g5vOIKO",
        "outputId": "e03c7793-5409-435b-ab9d-8c4218d916e7"
      },
      "source": [
        "from pymystem3 import Mystem\n",
        "m = Mystem() \n",
        "purpose_lemmas = m.lemmatize(df['purpose'].str.cat(sep=' '))\n",
        "from collections import Counter\n",
        "print(Counter(purpose_lemmas))"
      ],
      "execution_count": null,
      "outputs": [
        {
          "output_type": "stream",
          "text": [
            "Counter({' ': 54908, 'недвижимость': 6335, 'покупка': 5884, 'жилье': 4452, 'автомобиль': 4295, 'образование': 4003, 'с': 2913, 'операция': 2597, 'свадьба': 2322, 'свой': 2223, 'на': 2218, 'строительство': 1874, 'высокий': 1373, 'получение': 1312, 'коммерческий': 1310, 'для': 1288, 'жилой': 1225, 'сделка': 940, 'заниматься': 904, 'дополнительный': 903, 'подержать': 851, 'проведение': 767, 'сыграть': 764, 'сдача': 650, 'семья': 638, 'собственный': 634, 'со': 624, 'ремонт': 606, 'приобретение': 459, 'профильный': 434, 'подержанный': 111, '\\n': 1})\n"
          ],
          "name": "stdout"
        }
      ]
    },
    {
      "cell_type": "markdown",
      "metadata": {
        "id": "1gSJvAnWOIKO"
      },
      "source": [
        "С помощью метода str.cat добавил все слова в один большой текст, а потом их лемматизировал и посчитал, как часто те или иные леммы встречаются в столбце: примерно понял, по каким леммам можно категоризировать цель кредита. Берем самые популярные леммы и удаляем непоказательные типа \"покупка\" или \"операция\"."
      ]
    },
    {
      "cell_type": "markdown",
      "metadata": {
        "id": "f8fqrygaOIKO"
      },
      "source": [
        "### Вывод"
      ]
    },
    {
      "cell_type": "markdown",
      "metadata": {
        "id": "tojcEzUZOIKO"
      },
      "source": [
        "Лемматизация показала, что кредит берут для операций с недвижимостью, покупки автомобиля, свадьбы и образования. Это позволит на следующем шаге категоризировать цели кредита."
      ]
    },
    {
      "cell_type": "markdown",
      "metadata": {
        "id": "I8n8DRohOIKQ"
      },
      "source": [
        "### Категоризация данных <a id=\"categorizing\"></a>"
      ]
    },
    {
      "cell_type": "code",
      "metadata": {
        "id": "87_7ukLBOIKQ"
      },
      "source": [
        "df['total_income'].describe()\n",
        "def income_level(row):\n",
        "    if row['total_income'] <= df['total_income'].quantile(q=0.25):\n",
        "        return 'низкий'\n",
        "    elif row['total_income'] <= df['total_income'].quantile(q=0.5):\n",
        "        return 'ниже среднего'\n",
        "    elif row['total_income'] <= df['total_income'].quantile(q=0.75):\n",
        "        return 'выше среднего'\n",
        "    else:\n",
        "        return 'высокий'\n",
        "\n",
        "df['income_level'] = df.apply(income_level, axis=1)"
      ],
      "execution_count": null,
      "outputs": []
    },
    {
      "cell_type": "code",
      "metadata": {
        "scrolled": true,
        "id": "_mh6Vv_uOIKR",
        "outputId": "8da9a251-ac48-4795-8542-69d2ad6cb7b0"
      },
      "source": [
        "df['income_level'].value_counts()"
      ],
      "execution_count": null,
      "outputs": [
        {
          "output_type": "execute_result",
          "data": {
            "text/plain": [
              "ниже среднего    5468\n",
              "высокий          5352\n",
              "низкий           5352\n",
              "выше среднего    5235\n",
              "Name: income_level, dtype: int64"
            ]
          },
          "metadata": {
            "tags": []
          },
          "execution_count": 12
        }
      ]
    },
    {
      "cell_type": "code",
      "metadata": {
        "id": "-R9yDMprOIKR",
        "outputId": "48d6fa13-af90-4f02-9a3f-bed5f87db0a8"
      },
      "source": [
        "def purpose_category(row):\n",
        "    if ('недвижимость' in m.lemmatize(row['purpose'])) or ('жилье' in m.lemmatize(row['purpose'])):\n",
        "        return 'недвижимость'\n",
        "    if 'свадьба' in m.lemmatize(row['purpose']):\n",
        "        return 'свадьба'\n",
        "    if 'автомобиль' in m.lemmatize(row['purpose']):\n",
        "        return 'автомобиль'\n",
        "    if 'образование' in m.lemmatize(row['purpose']):\n",
        "        return 'образование'\n",
        "    \n",
        "    \n",
        "\n",
        "df['purpose_category'] = df.apply(purpose_category, axis=1)\n",
        "df.info()"
      ],
      "execution_count": null,
      "outputs": [
        {
          "output_type": "stream",
          "text": [
            "<class 'pandas.core.frame.DataFrame'>\n",
            "Int64Index: 21407 entries, 0 to 21524\n",
            "Data columns (total 14 columns):\n",
            "children            21407 non-null int64\n",
            "days_employed       21407 non-null int64\n",
            "dob_years           21407 non-null int64\n",
            "education           21407 non-null object\n",
            "education_id        21407 non-null int64\n",
            "family_status       21407 non-null object\n",
            "family_status_id    21407 non-null int64\n",
            "gender              21407 non-null object\n",
            "income_type         21407 non-null object\n",
            "debt                21407 non-null int64\n",
            "total_income        21407 non-null int64\n",
            "purpose             21407 non-null object\n",
            "income_level        21407 non-null object\n",
            "purpose_category    21407 non-null object\n",
            "dtypes: int64(7), object(7)\n",
            "memory usage: 2.4+ MB\n"
          ],
          "name": "stdout"
        }
      ]
    },
    {
      "cell_type": "code",
      "metadata": {
        "scrolled": true,
        "id": "WbrSe1uVOIKS",
        "outputId": "39722ebd-627e-46c1-8702-5b4a630e75cb"
      },
      "source": [
        "print(df['purpose_category'].value_counts())"
      ],
      "execution_count": null,
      "outputs": [
        {
          "output_type": "stream",
          "text": [
            "недвижимость    10787\n",
            "автомобиль       4295\n",
            "образование      4003\n",
            "свадьба          2322\n",
            "Name: purpose_category, dtype: int64\n"
          ],
          "name": "stdout"
        }
      ]
    },
    {
      "cell_type": "markdown",
      "metadata": {
        "id": "Zgpfhfz8OIKS"
      },
      "source": [
        "### Вывод"
      ]
    },
    {
      "cell_type": "markdown",
      "metadata": {
        "id": "_97BmYvwOIKT"
      },
      "source": [
        "По уровню доходов категоризовал по 4 квартилям: низкий доход (1-й квартиль), ниже среднего, выше среднего, высокий. По целям кредита выделил следующие категории: \"недвижимость\", \"автомобиль\", \"образование\", \"свадьба\": не стал их разбивать дальше, например, до \"ремонта недвижимости\" или \"дополнительного образования\", потому что есть ячейки просто \"операции с недвижимостью\", которые не ясно, куда отнести. Метод info() показал, что мы присвоили категорию каждому заемщику."
      ]
    },
    {
      "cell_type": "markdown",
      "metadata": {
        "id": "fojQm9VzOIKT"
      },
      "source": [
        "### Шаг 3. Ответы на вопросы исследования <a id=\"questions\"></a>"
      ]
    },
    {
      "cell_type": "markdown",
      "metadata": {
        "id": "5jHkhzO4OIKT"
      },
      "source": [
        "#### Есть ли зависимость между наличием детей и возвратом кредита в срок?"
      ]
    },
    {
      "cell_type": "code",
      "metadata": {
        "id": "Ggd1fZqVOIKT",
        "outputId": "a7f42045-d15a-486a-a5ee-3bc274890654"
      },
      "source": [
        "df['has_children'] = df['children'] > 0\n",
        "df.pivot_table(index=['has_children'], values=[\"debt\"], aggfunc=['count','sum','mean'])"
      ],
      "execution_count": null,
      "outputs": [
        {
          "output_type": "execute_result",
          "data": {
            "text/html": [
              "<div>\n",
              "<style scoped>\n",
              "    .dataframe tbody tr th:only-of-type {\n",
              "        vertical-align: middle;\n",
              "    }\n",
              "\n",
              "    .dataframe tbody tr th {\n",
              "        vertical-align: top;\n",
              "    }\n",
              "\n",
              "    .dataframe thead tr th {\n",
              "        text-align: left;\n",
              "    }\n",
              "\n",
              "    .dataframe thead tr:last-of-type th {\n",
              "        text-align: right;\n",
              "    }\n",
              "</style>\n",
              "<table border=\"1\" class=\"dataframe\">\n",
              "  <thead>\n",
              "    <tr>\n",
              "      <th></th>\n",
              "      <th>count</th>\n",
              "      <th>sum</th>\n",
              "      <th>mean</th>\n",
              "    </tr>\n",
              "    <tr>\n",
              "      <th></th>\n",
              "      <th>debt</th>\n",
              "      <th>debt</th>\n",
              "      <th>debt</th>\n",
              "    </tr>\n",
              "    <tr>\n",
              "      <th>has_children</th>\n",
              "      <th></th>\n",
              "      <th></th>\n",
              "      <th></th>\n",
              "    </tr>\n",
              "  </thead>\n",
              "  <tbody>\n",
              "    <tr>\n",
              "      <td>False</td>\n",
              "      <td>14091</td>\n",
              "      <td>1063</td>\n",
              "      <td>0.075438</td>\n",
              "    </tr>\n",
              "    <tr>\n",
              "      <td>True</td>\n",
              "      <td>7316</td>\n",
              "      <td>677</td>\n",
              "      <td>0.092537</td>\n",
              "    </tr>\n",
              "  </tbody>\n",
              "</table>\n",
              "</div>"
            ],
            "text/plain": [
              "              count   sum      mean\n",
              "               debt  debt      debt\n",
              "has_children                       \n",
              "False         14091  1063  0.075438\n",
              "True           7316   677  0.092537"
            ]
          },
          "metadata": {
            "tags": []
          },
          "execution_count": 15
        }
      ]
    },
    {
      "cell_type": "markdown",
      "metadata": {
        "id": "9-m8PW2pOIKU"
      },
      "source": [
        "Заемщики с детьми отдают кредиты хуже, чем заемщики без детей. Наверное, потому, что людям приходится дополнительно тратиться на детей."
      ]
    },
    {
      "cell_type": "markdown",
      "metadata": {
        "id": "yvgu5EseOIKV"
      },
      "source": [
        "#### Есть ли зависимость между семейным положением и возвратом кредита в срок?"
      ]
    },
    {
      "cell_type": "code",
      "metadata": {
        "id": "85lqfnNYOIKV",
        "outputId": "d91be898-d9dd-4afc-a7ba-a6ce2e10dfed"
      },
      "source": [
        "df.groupby('family_status').agg(total_people=('debt', 'count'), loan_overdue_total=('debt','sum'),\n",
        "   loan_overdue_ratio=('debt', 'mean'))\n"
      ],
      "execution_count": null,
      "outputs": [
        {
          "output_type": "execute_result",
          "data": {
            "text/html": [
              "<div>\n",
              "<style scoped>\n",
              "    .dataframe tbody tr th:only-of-type {\n",
              "        vertical-align: middle;\n",
              "    }\n",
              "\n",
              "    .dataframe tbody tr th {\n",
              "        vertical-align: top;\n",
              "    }\n",
              "\n",
              "    .dataframe thead th {\n",
              "        text-align: right;\n",
              "    }\n",
              "</style>\n",
              "<table border=\"1\" class=\"dataframe\">\n",
              "  <thead>\n",
              "    <tr style=\"text-align: right;\">\n",
              "      <th></th>\n",
              "      <th>total_people</th>\n",
              "      <th>loan_overdue_total</th>\n",
              "      <th>loan_overdue_ratio</th>\n",
              "    </tr>\n",
              "    <tr>\n",
              "      <th>family_status</th>\n",
              "      <th></th>\n",
              "      <th></th>\n",
              "      <th></th>\n",
              "    </tr>\n",
              "  </thead>\n",
              "  <tbody>\n",
              "    <tr>\n",
              "      <td>Не женат / не замужем</td>\n",
              "      <td>2805</td>\n",
              "      <td>274</td>\n",
              "      <td>0.097683</td>\n",
              "    </tr>\n",
              "    <tr>\n",
              "      <td>в разводе</td>\n",
              "      <td>1191</td>\n",
              "      <td>85</td>\n",
              "      <td>0.071369</td>\n",
              "    </tr>\n",
              "    <tr>\n",
              "      <td>вдовец / вдова</td>\n",
              "      <td>955</td>\n",
              "      <td>63</td>\n",
              "      <td>0.065969</td>\n",
              "    </tr>\n",
              "    <tr>\n",
              "      <td>гражданский брак</td>\n",
              "      <td>4146</td>\n",
              "      <td>388</td>\n",
              "      <td>0.093584</td>\n",
              "    </tr>\n",
              "    <tr>\n",
              "      <td>женат / замужем</td>\n",
              "      <td>12310</td>\n",
              "      <td>930</td>\n",
              "      <td>0.075548</td>\n",
              "    </tr>\n",
              "  </tbody>\n",
              "</table>\n",
              "</div>"
            ],
            "text/plain": [
              "                       total_people  loan_overdue_total  loan_overdue_ratio\n",
              "family_status                                                              \n",
              "Не женат / не замужем          2805                 274            0.097683\n",
              "в разводе                      1191                  85            0.071369\n",
              "вдовец / вдова                  955                  63            0.065969\n",
              "гражданский брак               4146                 388            0.093584\n",
              "женат / замужем               12310                 930            0.075548"
            ]
          },
          "metadata": {
            "tags": []
          },
          "execution_count": 16
        }
      ]
    },
    {
      "cell_type": "markdown",
      "metadata": {
        "id": "eC8wD3ehOIKW"
      },
      "source": [
        "Скорее всего, семейное положение коррелирует с процентом просрочек, но не является их причиной. Причина, видимо, в возрасте. Больше похоже на то, что чем старше заемщик, тем реже допускает просрочки по кредиту, потому что самые молодые обычно находятся в гражданском браке (9.29% просрочек), потом заключают официальный (7.52%), потом разводятся (7.11%) и самые пожилые - вдовцы (6.56%)."
      ]
    },
    {
      "cell_type": "markdown",
      "metadata": {
        "id": "CHad_x6qOIKX"
      },
      "source": [
        "#### Есть ли зависимость между уровнем дохода и возвратом кредита в срок?"
      ]
    },
    {
      "cell_type": "code",
      "metadata": {
        "id": "n0v85rGwOIKX",
        "outputId": "ecae7188-c6b8-4bed-a9dd-e5eb418f9525"
      },
      "source": [
        "df.groupby('income_level').agg(total_people=('debt', 'count'), loan_overdue_total=('debt','sum'), loan_overdue_ratio=('debt', 'mean'))"
      ],
      "execution_count": null,
      "outputs": [
        {
          "output_type": "execute_result",
          "data": {
            "text/html": [
              "<div>\n",
              "<style scoped>\n",
              "    .dataframe tbody tr th:only-of-type {\n",
              "        vertical-align: middle;\n",
              "    }\n",
              "\n",
              "    .dataframe tbody tr th {\n",
              "        vertical-align: top;\n",
              "    }\n",
              "\n",
              "    .dataframe thead th {\n",
              "        text-align: right;\n",
              "    }\n",
              "</style>\n",
              "<table border=\"1\" class=\"dataframe\">\n",
              "  <thead>\n",
              "    <tr style=\"text-align: right;\">\n",
              "      <th></th>\n",
              "      <th>total_people</th>\n",
              "      <th>loan_overdue_total</th>\n",
              "      <th>loan_overdue_ratio</th>\n",
              "    </tr>\n",
              "    <tr>\n",
              "      <th>income_level</th>\n",
              "      <th></th>\n",
              "      <th></th>\n",
              "      <th></th>\n",
              "    </tr>\n",
              "  </thead>\n",
              "  <tbody>\n",
              "    <tr>\n",
              "      <td>высокий</td>\n",
              "      <td>5352</td>\n",
              "      <td>383</td>\n",
              "      <td>0.071562</td>\n",
              "    </tr>\n",
              "    <tr>\n",
              "      <td>выше среднего</td>\n",
              "      <td>5235</td>\n",
              "      <td>447</td>\n",
              "      <td>0.085387</td>\n",
              "    </tr>\n",
              "    <tr>\n",
              "      <td>ниже среднего</td>\n",
              "      <td>5468</td>\n",
              "      <td>483</td>\n",
              "      <td>0.088332</td>\n",
              "    </tr>\n",
              "    <tr>\n",
              "      <td>низкий</td>\n",
              "      <td>5352</td>\n",
              "      <td>427</td>\n",
              "      <td>0.079783</td>\n",
              "    </tr>\n",
              "  </tbody>\n",
              "</table>\n",
              "</div>"
            ],
            "text/plain": [
              "               total_people  loan_overdue_total  loan_overdue_ratio\n",
              "income_level                                                       \n",
              "высокий                5352                 383            0.071562\n",
              "выше среднего          5235                 447            0.085387\n",
              "ниже среднего          5468                 483            0.088332\n",
              "низкий                 5352                 427            0.079783"
            ]
          },
          "metadata": {
            "tags": []
          },
          "execution_count": 17
        }
      ]
    },
    {
      "cell_type": "markdown",
      "metadata": {
        "id": "r8W6ezhGOIKY"
      },
      "source": [
        "Меньше всего просрочек допускают люди с самыми высокими доходами и самыми низкими доходами. Предположу, у первых есть деньги, чтобы расплатиться, а вторым не выдают крупные кредиты."
      ]
    },
    {
      "cell_type": "markdown",
      "metadata": {
        "id": "K4ggBIDhOIKY"
      },
      "source": [
        "#### Как разные цели кредита влияют на его возврат в срок?"
      ]
    },
    {
      "cell_type": "code",
      "metadata": {
        "id": "m5lMLs02OIKZ",
        "outputId": "efea6eb9-fc37-4f8d-efb5-b9612bfd560c"
      },
      "source": [
        "df.groupby('purpose_category').agg(total_people=('debt', 'count'), loan_overdue_total=('debt','sum'), loan_overdue_ratio=('debt', 'mean'))"
      ],
      "execution_count": null,
      "outputs": [
        {
          "output_type": "execute_result",
          "data": {
            "text/html": [
              "<div>\n",
              "<style scoped>\n",
              "    .dataframe tbody tr th:only-of-type {\n",
              "        vertical-align: middle;\n",
              "    }\n",
              "\n",
              "    .dataframe tbody tr th {\n",
              "        vertical-align: top;\n",
              "    }\n",
              "\n",
              "    .dataframe thead th {\n",
              "        text-align: right;\n",
              "    }\n",
              "</style>\n",
              "<table border=\"1\" class=\"dataframe\">\n",
              "  <thead>\n",
              "    <tr style=\"text-align: right;\">\n",
              "      <th></th>\n",
              "      <th>total_people</th>\n",
              "      <th>loan_overdue_total</th>\n",
              "      <th>loan_overdue_ratio</th>\n",
              "    </tr>\n",
              "    <tr>\n",
              "      <th>purpose_category</th>\n",
              "      <th></th>\n",
              "      <th></th>\n",
              "      <th></th>\n",
              "    </tr>\n",
              "  </thead>\n",
              "  <tbody>\n",
              "    <tr>\n",
              "      <td>автомобиль</td>\n",
              "      <td>4295</td>\n",
              "      <td>402</td>\n",
              "      <td>0.093597</td>\n",
              "    </tr>\n",
              "    <tr>\n",
              "      <td>недвижимость</td>\n",
              "      <td>10787</td>\n",
              "      <td>782</td>\n",
              "      <td>0.072495</td>\n",
              "    </tr>\n",
              "    <tr>\n",
              "      <td>образование</td>\n",
              "      <td>4003</td>\n",
              "      <td>370</td>\n",
              "      <td>0.092431</td>\n",
              "    </tr>\n",
              "    <tr>\n",
              "      <td>свадьба</td>\n",
              "      <td>2322</td>\n",
              "      <td>186</td>\n",
              "      <td>0.080103</td>\n",
              "    </tr>\n",
              "  </tbody>\n",
              "</table>\n",
              "</div>"
            ],
            "text/plain": [
              "                  total_people  loan_overdue_total  loan_overdue_ratio\n",
              "purpose_category                                                      \n",
              "автомобиль                4295                 402            0.093597\n",
              "недвижимость             10787                 782            0.072495\n",
              "образование               4003                 370            0.092431\n",
              "свадьба                   2322                 186            0.080103"
            ]
          },
          "metadata": {
            "tags": []
          },
          "execution_count": 18
        }
      ]
    },
    {
      "cell_type": "markdown",
      "metadata": {
        "id": "Oie5KZE-OIKd"
      },
      "source": [
        "Чаще всего допускают просрочку люди, которые берут кредит на автомобиль и образование. Видимо, кредит на образование берут в несознательном возрасте. А автомобиль повышает, а не снижает нагрузку на семейный бюджет. Реже всего допускают переплаты заемщики, которые берут кредит для операций с недвижимостью."
      ]
    },
    {
      "cell_type": "markdown",
      "metadata": {
        "id": "Ch4L-PKyOIKe"
      },
      "source": [
        "### Шаг 4. Общий вывод <a id=\"final_conclusion\"></a>"
      ]
    },
    {
      "cell_type": "markdown",
      "metadata": {
        "id": "r952aw1-OIKe"
      },
      "source": [
        "Данные качественные, заполнил пропуски в столбцах с доходом, которого нет у примерно 10% заемщиков, медианой по каждому типа дохода. Удалил строки, где было указано \"-1\" детей, так как надо было ответить на вопрос про связь наличия детей и вероятности просрочки по кредиту. Категоризовал данные по цели кредита: недвижимость, автомобиль, свадьба, образование.\n",
        "\n",
        "* В среднем 8% заемщиков допускают просрочки по кредиту. \n",
        "* Плохо отдают кредиты, кто берут их на образование и автомобиль: просрочка допускает 9.36% и 9.24% заемщиков соответственно. Заемщики, которые берут кредит на операции с недвижимостью, одни из самых надежных: только 7.24% допускают просрочки.\n",
        "* Есть зависимость между семейным положением и сроком возврата кредита, но, скорее всего, она обусловлена возрастом: вдовцы допускают просрочку в полтора раза реже, чем люди в гражданском браке: 6.56% против 9.29%. \n",
        "* Заемщики без детей надежнее заемщиков с детьми: 7.51% просрочек против 9.24%. \n",
        "* Еще реже допускают просрочки заемщики с самыми высокими доходами: только 7.17%."
      ]
    }
  ]
}
