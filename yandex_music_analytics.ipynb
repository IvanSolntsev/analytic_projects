{
  "nbformat": 4,
  "nbformat_minor": 0,
  "metadata": {
    "colab": {
      "name": "yandex_music_analytics.ipynb",
      "provenance": [],
      "collapsed_sections": [],
      "authorship_tag": "ABX9TyMd0yFsYEhEXTRChHyl+8Ee"
    },
    "kernelspec": {
      "name": "python3",
      "display_name": "Python 3"
    }
  },
  "cells": [
    {
      "cell_type": "markdown",
      "metadata": {
        "id": "RAW8E-gJzLBT"
      },
      "source": [
        "# Это тестовая задача для Школы менеджеров одной крупной российской IT-компании :)."
      ]
    },
    {
      "cell_type": "markdown",
      "metadata": {
        "id": "wU-xf7XdeSCm"
      },
      "source": [
        "# Условия задачи\n",
        "\n",
        "Яндекс.Музыка проводит офлайн-фестиваль самых популярных исполнителей жанра техно. Чтобы привлечь пользователей на мероприятие, маркетолог Иван должен разослать email пользователям Музыки. Отправка одного письма стоит 10 рублей, а цена билета составляет 700 рублей. **Как бы вы посоветовали Ивану сформировать выборку для отправки, учитывая логи прослушиваний пользователей Яндекс.Музыки?**\n",
        "\n",
        "Обозначения в таблице:\n",
        "\n",
        "audition_id – ID прослушивания в логе\n",
        "\n",
        "utc_audition_start_dttm – дата начала прослушивания в формате YYYY-MM-DD hh:mm:ss\n",
        "\n",
        "utc_audition_end_dttm – дата окончания прослушивания в формате YYYY-MM-DD hh:mm:ss\n",
        "\n",
        "user_id – ID пользователя Яндекс.Музыки\n",
        "\n",
        "track_id – ID трека Яндекс.Музыки\n",
        "\n",
        "track_duration – продолжительность трека в секундах\n",
        "\n",
        "track_genre – жанр трека"
      ]
    },
    {
      "cell_type": "markdown",
      "metadata": {
        "id": "ZS_u6LD8KKqP"
      },
      "source": [
        "# **Решение задачи:**"
      ]
    },
    {
      "cell_type": "markdown",
      "metadata": {
        "id": "T1Eymup8tM2j"
      },
      "source": [
        "# Нужны уточнения\n",
        "Иван, привет! Для решения задачи не хватает данных. Сколько всего человек нужно привлечь на офлайн-мероприятие? Какой процент от стоимости билета можно потратить на маркетинг? Какова целевая конверсия? Рассылка предполагается только по пользователям из логов? Если конверсия будет маленькой, их может не хватить :).\n",
        "\n",
        "Я предположил, что на мероприятие нужно привлечь 30-50 человек, на маркетинг можно потратить не больше 20% от стоимости билета, а конверсия писем \"любителям техно\" в покупку билета на офлайн-мероприятие будет равнятся 10%."
      ]
    },
    {
      "cell_type": "markdown",
      "metadata": {
        "id": "VjmeSocKeZAq"
      },
      "source": [
        "# **Ответ на задачу: Кого приглашаем на офлайн-мероприятие?**\n",
        "\n",
        "Мы получили 4 группы пользователей. 217 пользователей получили высший балл по \"любви к техно\". Им нужно отправить приглашение в первую очередь. Во второй группе 267 пользователя, их тоже можно назвать любителями техно. Если ожидаемая конверсия равна 10% и нужно, чтобы на мероприятие пришли 30-50 человек, то рассылки по этим двум группа пользователей хватит - придет, предположительно, около 50 человек. В противном случае можно разослать приглашения группе пользователей с одним баллом по \"любви к техно\" - этих пользователей 368. Внизу подробно расписал логику, как выделял эти когорты. Если вкратце: нашел тех, кто слушает музыку в жанре техно больше всего (за исключением попа и рока, эти жанры вне конкуренции :)); потом нашел тех, кто входит в топ 35% по общему времени прослушивания музыки в жанре техно - вне зависимости от того, сколько слушали музыку в других жанрах; и третий критерий - вхождение в топ 35% по удельному времени прослушивания техно среди общего времени прослушивания на Яндекс.Музыке (общее время прослушивания музыки в жанре техно разделил на общее время прослушивания в Яндекс.Музыке).\n",
        "\n",
        "Если согласен с логикой, отпишись, какие пользователи интересны, я вышлю выборку."
      ]
    },
    {
      "cell_type": "markdown",
      "metadata": {
        "id": "tqix9W0JF7AN"
      },
      "source": [
        "# Первый взгляд на данные и предобработка"
      ]
    },
    {
      "cell_type": "code",
      "metadata": {
        "id": "OzKTVAef8ZOQ",
        "colab": {
          "base_uri": "https://localhost:8080/"
        },
        "outputId": "c26299dd-bb65-42fd-87ad-22e0cfdaa1e6"
      },
      "source": [
        "import pandas as pd\n",
        "! gdown --id 1nzztj36UaAEws3ej1yqgoTqOaR8s0Jxj"
      ],
      "execution_count": null,
      "outputs": [
        {
          "output_type": "stream",
          "text": [
            "Downloading...\n",
            "From: https://drive.google.com/uc?id=1nzztj36UaAEws3ej1yqgoTqOaR8s0Jxj\n",
            "To: /content/music_data.csv\n",
            "150MB [00:03, 48.8MB/s]\n"
          ],
          "name": "stdout"
        }
      ]
    },
    {
      "cell_type": "code",
      "metadata": {
        "colab": {
          "base_uri": "https://localhost:8080/",
          "height": 374
        },
        "id": "2sSv0qO757b9",
        "outputId": "883f1112-6db9-46b4-f951-c2b5b0c7ecf2"
      },
      "source": [
        "df = pd.read_csv('music_data.csv')\n",
        "df.head()"
      ],
      "execution_count": null,
      "outputs": [
        {
          "output_type": "execute_result",
          "data": {
            "text/html": [
              "<div>\n",
              "<style scoped>\n",
              "    .dataframe tbody tr th:only-of-type {\n",
              "        vertical-align: middle;\n",
              "    }\n",
              "\n",
              "    .dataframe tbody tr th {\n",
              "        vertical-align: top;\n",
              "    }\n",
              "\n",
              "    .dataframe thead th {\n",
              "        text-align: right;\n",
              "    }\n",
              "</style>\n",
              "<table border=\"1\" class=\"dataframe\">\n",
              "  <thead>\n",
              "    <tr style=\"text-align: right;\">\n",
              "      <th></th>\n",
              "      <th>Unnamed: 0</th>\n",
              "      <th>audition_id</th>\n",
              "      <th>track_duration</th>\n",
              "      <th>track_genre</th>\n",
              "      <th>track_id</th>\n",
              "      <th>user_id</th>\n",
              "      <th>utc_audition_end_dttm</th>\n",
              "      <th>utc_audition_start_dttm</th>\n",
              "    </tr>\n",
              "  </thead>\n",
              "  <tbody>\n",
              "    <tr>\n",
              "      <th>0</th>\n",
              "      <td>0</td>\n",
              "      <td>3fecd60bf5564de7bb0064335f482b4d</td>\n",
              "      <td>336.629082</td>\n",
              "      <td>RAP</td>\n",
              "      <td>efd614e5-239a-418e-b39c-181b43719b62</td>\n",
              "      <td>a72d73ea124840698aa8</td>\n",
              "      <td>2021-02-28T12:32:10.776000Z</td>\n",
              "      <td>2021-02-28T12:31:01.865000Z</td>\n",
              "    </tr>\n",
              "    <tr>\n",
              "      <th>1</th>\n",
              "      <td>1</td>\n",
              "      <td>8ae1703df8354ee6b8d39ce2ceae4508</td>\n",
              "      <td>428.797846</td>\n",
              "      <td>VOCAL</td>\n",
              "      <td>d4697e6e-698a-41e8-8e15-ec890c94751e</td>\n",
              "      <td>066cc9287de340f281ba</td>\n",
              "      <td>2021-01-19T12:13:43.369000Z</td>\n",
              "      <td>2021-01-19T12:12:48.185000Z</td>\n",
              "    </tr>\n",
              "    <tr>\n",
              "      <th>2</th>\n",
              "      <td>2</td>\n",
              "      <td>44383125d98a4d939e7f294602674fc6</td>\n",
              "      <td>463.467143</td>\n",
              "      <td>METAL</td>\n",
              "      <td>e006afab-c832-4d07-8cd0-7d4a9c2aabe8</td>\n",
              "      <td>95ed23b52b104f66b4b1</td>\n",
              "      <td>2021-02-27T19:53:57.143000Z</td>\n",
              "      <td>2021-02-27T19:52:42.470000Z</td>\n",
              "    </tr>\n",
              "    <tr>\n",
              "      <th>3</th>\n",
              "      <td>3</td>\n",
              "      <td>a90b74992c9f4046a68935cb83ced7ee</td>\n",
              "      <td>323.746259</td>\n",
              "      <td>HARDROCK</td>\n",
              "      <td>c2ea845c-fcba-480a-b41a-d58bf9493375</td>\n",
              "      <td>b0a6dcec6f604b50b37e</td>\n",
              "      <td>2021-02-24T01:51:44.526000Z</td>\n",
              "      <td>2021-02-24T01:46:25.549000Z</td>\n",
              "    </tr>\n",
              "    <tr>\n",
              "      <th>4</th>\n",
              "      <td>4</td>\n",
              "      <td>0d98a88fba0a4dc3bb0444089a0ce16b</td>\n",
              "      <td>316.888403</td>\n",
              "      <td>POP</td>\n",
              "      <td>ad68738c-2a38-4e0f-910a-71bb0aa0a0c0</td>\n",
              "      <td>6788b1c78a724de488c9</td>\n",
              "      <td>2020-12-24T05:04:32.855000Z</td>\n",
              "      <td>2020-12-24T05:00:09.645000Z</td>\n",
              "    </tr>\n",
              "  </tbody>\n",
              "</table>\n",
              "</div>"
            ],
            "text/plain": [
              "   Unnamed: 0  ...      utc_audition_start_dttm\n",
              "0           0  ...  2021-02-28T12:31:01.865000Z\n",
              "1           1  ...  2021-01-19T12:12:48.185000Z\n",
              "2           2  ...  2021-02-27T19:52:42.470000Z\n",
              "3           3  ...  2021-02-24T01:46:25.549000Z\n",
              "4           4  ...  2020-12-24T05:00:09.645000Z\n",
              "\n",
              "[5 rows x 8 columns]"
            ]
          },
          "metadata": {
            "tags": []
          },
          "execution_count": 2
        }
      ]
    },
    {
      "cell_type": "markdown",
      "metadata": {
        "id": "4vzlZg9CdGIG"
      },
      "source": [
        "Лишний столбец 'Unnamed: 0'. Удалим его."
      ]
    },
    {
      "cell_type": "code",
      "metadata": {
        "id": "NFcsCt34Dg3P",
        "colab": {
          "base_uri": "https://localhost:8080/"
        },
        "outputId": "83b8386e-f52e-43c6-b0da-49da0927148e"
      },
      "source": [
        "df = df.drop(columns='Unnamed: 0')\n",
        "df['track_genre'] = df['track_genre'].str.lower()\n",
        "df['track_genre'].value_counts(normalize=True)"
      ],
      "execution_count": null,
      "outputs": [
        {
          "output_type": "execute_result",
          "data": {
            "text/plain": [
              "pop            0.177867\n",
              "rock           0.116484\n",
              "rap            0.091641\n",
              "techno         0.070610\n",
              "hardrock       0.064504\n",
              "metal          0.060215\n",
              "podcasts       0.058958\n",
              "kpop           0.058664\n",
              "dubstep        0.056650\n",
              "vocal          0.050022\n",
              "electronics    0.048688\n",
              "rnb            0.024346\n",
              "disco          0.023179\n",
              "house          0.021936\n",
              "industrial     0.018679\n",
              "dance          0.018319\n",
              "punk           0.009722\n",
              "relax          0.009014\n",
              "jazz           0.007458\n",
              "blues          0.006709\n",
              "classical      0.005306\n",
              "postrock       0.001027\n",
              "Name: track_genre, dtype: float64"
            ]
          },
          "metadata": {
            "tags": []
          },
          "execution_count": 3
        }
      ]
    },
    {
      "cell_type": "markdown",
      "metadata": {
        "id": "PNnoWbqXhov8"
      },
      "source": [
        "По количеству прослушанных треков жанр техно на 4-м месте по популярности. Не замечено пропущенных или аномальных значений. Значения столбца track_genre привели к строчным буквам."
      ]
    },
    {
      "cell_type": "code",
      "metadata": {
        "colab": {
          "base_uri": "https://localhost:8080/"
        },
        "id": "OL0qGtVmxxPo",
        "outputId": "06a03219-e152-4247-bd61-3f29c2f28a51"
      },
      "source": [
        "df.duplicated().sum()"
      ],
      "execution_count": null,
      "outputs": [
        {
          "output_type": "execute_result",
          "data": {
            "text/plain": [
              "0"
            ]
          },
          "metadata": {
            "tags": []
          },
          "execution_count": 4
        }
      ]
    },
    {
      "cell_type": "markdown",
      "metadata": {
        "id": "uknloX3x4e_7"
      },
      "source": [
        "В данных нет дубликатов."
      ]
    },
    {
      "cell_type": "code",
      "metadata": {
        "id": "d0pceBtyE0cf",
        "colab": {
          "base_uri": "https://localhost:8080/"
        },
        "outputId": "9b905b05-6b9a-4add-cfb0-576376e1ba2e"
      },
      "source": [
        "df.info()"
      ],
      "execution_count": null,
      "outputs": [
        {
          "output_type": "stream",
          "text": [
            "<class 'pandas.core.frame.DataFrame'>\n",
            "RangeIndex: 842397 entries, 0 to 842396\n",
            "Data columns (total 7 columns):\n",
            " #   Column                   Non-Null Count   Dtype  \n",
            "---  ------                   --------------   -----  \n",
            " 0   audition_id              842397 non-null  object \n",
            " 1   track_duration           842397 non-null  float64\n",
            " 2   track_genre              842397 non-null  object \n",
            " 3   track_id                 842397 non-null  object \n",
            " 4   user_id                  842397 non-null  object \n",
            " 5   utc_audition_end_dttm    842397 non-null  object \n",
            " 6   utc_audition_start_dttm  842397 non-null  object \n",
            "dtypes: float64(1), object(6)\n",
            "memory usage: 45.0+ MB\n"
          ],
          "name": "stdout"
        }
      ]
    },
    {
      "cell_type": "markdown",
      "metadata": {
        "id": "qa3A00vBh8sP"
      },
      "source": [
        "Нет пропусков. Данные в столбцах utc_audition_end_dttm и utc_audition_start_dttm типа object. Переведем их в тип datetime, чтобы оценить, как долго пользователи слушают тот или иной трек."
      ]
    },
    {
      "cell_type": "code",
      "metadata": {
        "id": "1DUPCuoZGluN"
      },
      "source": [
        "df['utc_audition_start_dttm'] = pd.to_datetime(df['utc_audition_start_dttm'], \n",
        "                                       format='%Y-%m-%dT%H:%M:%S')\n",
        "df['utc_audition_end_dttm'] = pd.to_datetime(df['utc_audition_end_dttm'], \n",
        "                                       format='%Y-%m-%dT%H:%M:%S')"
      ],
      "execution_count": null,
      "outputs": []
    },
    {
      "cell_type": "code",
      "metadata": {
        "id": "QbdFCo4IHLHQ",
        "colab": {
          "base_uri": "https://localhost:8080/"
        },
        "outputId": "e79d724a-5338-4f2b-d5d7-0ff5e094bcd0"
      },
      "source": [
        "df.info()"
      ],
      "execution_count": null,
      "outputs": [
        {
          "output_type": "stream",
          "text": [
            "<class 'pandas.core.frame.DataFrame'>\n",
            "RangeIndex: 842397 entries, 0 to 842396\n",
            "Data columns (total 7 columns):\n",
            " #   Column                   Non-Null Count   Dtype              \n",
            "---  ------                   --------------   -----              \n",
            " 0   audition_id              842397 non-null  object             \n",
            " 1   track_duration           842397 non-null  float64            \n",
            " 2   track_genre              842397 non-null  object             \n",
            " 3   track_id                 842397 non-null  object             \n",
            " 4   user_id                  842397 non-null  object             \n",
            " 5   utc_audition_end_dttm    842397 non-null  datetime64[ns, UTC]\n",
            " 6   utc_audition_start_dttm  842397 non-null  datetime64[ns, UTC]\n",
            "dtypes: datetime64[ns, UTC](2), float64(1), object(4)\n",
            "memory usage: 45.0+ MB\n"
          ],
          "name": "stdout"
        }
      ]
    },
    {
      "cell_type": "markdown",
      "metadata": {
        "id": "MfNzJ_m0ipfQ"
      },
      "source": [
        "Успешно перевели столбцы utc_audition_end_dttm и utc_audition_start_dttm в формат datetime. Теперь можем узнать, сколько пользователи слушали тот или иной трек. В дальнейшем это понадобится, чтобы считать не число прослушанных треков, а суммарное время, которое пользователи потратили на прослушивание треков того или иного жанра. Кажется, это так надежнее определять, насколько людям нравится тот или иной жанр музыки."
      ]
    },
    {
      "cell_type": "code",
      "metadata": {
        "id": "4e9dqQrwJc6i",
        "colab": {
          "base_uri": "https://localhost:8080/",
          "height": 479
        },
        "outputId": "839d5273-64af-4a78-db9f-b3ccd84347fd"
      },
      "source": [
        "df['audition_duration'] = df['utc_audition_end_dttm'] - df['utc_audition_start_dttm']\n",
        "df['audition_duration'] = df['audition_duration'].dt.total_seconds()\n",
        "df.head()"
      ],
      "execution_count": null,
      "outputs": [
        {
          "output_type": "execute_result",
          "data": {
            "text/html": [
              "<div>\n",
              "<style scoped>\n",
              "    .dataframe tbody tr th:only-of-type {\n",
              "        vertical-align: middle;\n",
              "    }\n",
              "\n",
              "    .dataframe tbody tr th {\n",
              "        vertical-align: top;\n",
              "    }\n",
              "\n",
              "    .dataframe thead th {\n",
              "        text-align: right;\n",
              "    }\n",
              "</style>\n",
              "<table border=\"1\" class=\"dataframe\">\n",
              "  <thead>\n",
              "    <tr style=\"text-align: right;\">\n",
              "      <th></th>\n",
              "      <th>audition_id</th>\n",
              "      <th>track_duration</th>\n",
              "      <th>track_genre</th>\n",
              "      <th>track_id</th>\n",
              "      <th>user_id</th>\n",
              "      <th>utc_audition_end_dttm</th>\n",
              "      <th>utc_audition_start_dttm</th>\n",
              "      <th>audition_duration</th>\n",
              "    </tr>\n",
              "  </thead>\n",
              "  <tbody>\n",
              "    <tr>\n",
              "      <th>0</th>\n",
              "      <td>3fecd60bf5564de7bb0064335f482b4d</td>\n",
              "      <td>336.629082</td>\n",
              "      <td>rap</td>\n",
              "      <td>efd614e5-239a-418e-b39c-181b43719b62</td>\n",
              "      <td>a72d73ea124840698aa8</td>\n",
              "      <td>2021-02-28 12:32:10.776000+00:00</td>\n",
              "      <td>2021-02-28 12:31:01.865000+00:00</td>\n",
              "      <td>68.911</td>\n",
              "    </tr>\n",
              "    <tr>\n",
              "      <th>1</th>\n",
              "      <td>8ae1703df8354ee6b8d39ce2ceae4508</td>\n",
              "      <td>428.797846</td>\n",
              "      <td>vocal</td>\n",
              "      <td>d4697e6e-698a-41e8-8e15-ec890c94751e</td>\n",
              "      <td>066cc9287de340f281ba</td>\n",
              "      <td>2021-01-19 12:13:43.369000+00:00</td>\n",
              "      <td>2021-01-19 12:12:48.185000+00:00</td>\n",
              "      <td>55.184</td>\n",
              "    </tr>\n",
              "    <tr>\n",
              "      <th>2</th>\n",
              "      <td>44383125d98a4d939e7f294602674fc6</td>\n",
              "      <td>463.467143</td>\n",
              "      <td>metal</td>\n",
              "      <td>e006afab-c832-4d07-8cd0-7d4a9c2aabe8</td>\n",
              "      <td>95ed23b52b104f66b4b1</td>\n",
              "      <td>2021-02-27 19:53:57.143000+00:00</td>\n",
              "      <td>2021-02-27 19:52:42.470000+00:00</td>\n",
              "      <td>74.673</td>\n",
              "    </tr>\n",
              "    <tr>\n",
              "      <th>3</th>\n",
              "      <td>a90b74992c9f4046a68935cb83ced7ee</td>\n",
              "      <td>323.746259</td>\n",
              "      <td>hardrock</td>\n",
              "      <td>c2ea845c-fcba-480a-b41a-d58bf9493375</td>\n",
              "      <td>b0a6dcec6f604b50b37e</td>\n",
              "      <td>2021-02-24 01:51:44.526000+00:00</td>\n",
              "      <td>2021-02-24 01:46:25.549000+00:00</td>\n",
              "      <td>318.977</td>\n",
              "    </tr>\n",
              "    <tr>\n",
              "      <th>4</th>\n",
              "      <td>0d98a88fba0a4dc3bb0444089a0ce16b</td>\n",
              "      <td>316.888403</td>\n",
              "      <td>pop</td>\n",
              "      <td>ad68738c-2a38-4e0f-910a-71bb0aa0a0c0</td>\n",
              "      <td>6788b1c78a724de488c9</td>\n",
              "      <td>2020-12-24 05:04:32.855000+00:00</td>\n",
              "      <td>2020-12-24 05:00:09.645000+00:00</td>\n",
              "      <td>263.210</td>\n",
              "    </tr>\n",
              "  </tbody>\n",
              "</table>\n",
              "</div>"
            ],
            "text/plain": [
              "                        audition_id  ...  audition_duration\n",
              "0  3fecd60bf5564de7bb0064335f482b4d  ...             68.911\n",
              "1  8ae1703df8354ee6b8d39ce2ceae4508  ...             55.184\n",
              "2  44383125d98a4d939e7f294602674fc6  ...             74.673\n",
              "3  a90b74992c9f4046a68935cb83ced7ee  ...            318.977\n",
              "4  0d98a88fba0a4dc3bb0444089a0ce16b  ...            263.210\n",
              "\n",
              "[5 rows x 8 columns]"
            ]
          },
          "metadata": {
            "tags": []
          },
          "execution_count": 8
        }
      ]
    },
    {
      "cell_type": "markdown",
      "metadata": {
        "id": "patJreZgjPaT"
      },
      "source": [
        "Добавили столбец audition_duration, который показывает, сколько времени в секундах тот или иной пользователь прослушивал трек. "
      ]
    },
    {
      "cell_type": "code",
      "metadata": {
        "id": "q4Jei4x8Mf3-",
        "colab": {
          "base_uri": "https://localhost:8080/"
        },
        "outputId": "c5d828e1-c7bc-45c7-c238-8c6d5436f756"
      },
      "source": [
        "df['audition_duration'].describe()"
      ],
      "execution_count": null,
      "outputs": [
        {
          "output_type": "execute_result",
          "data": {
            "text/plain": [
              "count    842397.000000\n",
              "mean        425.734771\n",
              "std         696.770853\n",
              "min           0.005000\n",
              "25%         128.322000\n",
              "50%         316.265000\n",
              "75%         397.080000\n",
              "max        5854.082000\n",
              "Name: audition_duration, dtype: float64"
            ]
          },
          "metadata": {
            "tags": []
          },
          "execution_count": 9
        }
      ]
    },
    {
      "cell_type": "markdown",
      "metadata": {
        "id": "3uU3VafnjZ5U"
      },
      "source": [
        "Средняя длина трека - 425 секунд. Медиана меньше на 100 секунд. Видимо, есть много треков с аномальной длительностью."
      ]
    },
    {
      "cell_type": "code",
      "metadata": {
        "id": "ng-xB_wXj5DD",
        "colab": {
          "base_uri": "https://localhost:8080/"
        },
        "outputId": "7624d5ed-eec8-41f2-950f-1d8ed235af34"
      },
      "source": [
        "df.groupby('track_genre')['audition_duration'].mean()"
      ],
      "execution_count": null,
      "outputs": [
        {
          "output_type": "execute_result",
          "data": {
            "text/plain": [
              "track_genre\n",
              "blues           378.646864\n",
              "classical       602.531504\n",
              "dance           245.626371\n",
              "disco           259.854857\n",
              "dubstep         327.786576\n",
              "electronics     482.112547\n",
              "hardrock        213.674936\n",
              "house           195.281813\n",
              "industrial      183.320284\n",
              "jazz            375.965649\n",
              "kpop            273.505743\n",
              "metal           294.681312\n",
              "podcasts       2750.761483\n",
              "pop             245.381340\n",
              "postrock        848.230401\n",
              "punk            201.245290\n",
              "rap             234.238335\n",
              "relax           656.832323\n",
              "rnb             248.735326\n",
              "rock            271.609139\n",
              "techno          307.520752\n",
              "vocal           277.904318\n",
              "Name: audition_duration, dtype: float64"
            ]
          },
          "metadata": {
            "tags": []
          },
          "execution_count": 10
        }
      ]
    },
    {
      "cell_type": "markdown",
      "metadata": {
        "id": "2SjQ8gVvnudB"
      },
      "source": [
        "Видим, что подкасты слушают очень долго. Это не удивительно. Удалим подкасты из датасета, чтобы они не искажали данные по средним прослушиваниям. Да и подкасты - не жанр музыки :)."
      ]
    },
    {
      "cell_type": "code",
      "metadata": {
        "id": "FRHmbugBoGlL",
        "colab": {
          "base_uri": "https://localhost:8080/"
        },
        "outputId": "1f7af5ab-6eb6-4dc6-f9a8-d12d56b44fd7"
      },
      "source": [
        "df = df[df['track_genre'] != 'podcasts']\n",
        "df['audition_duration'].describe()"
      ],
      "execution_count": null,
      "outputs": [
        {
          "output_type": "execute_result",
          "data": {
            "text/plain": [
              "count    792731.000000\n",
              "mean        280.067733\n",
              "std         168.973679\n",
              "min           0.005000\n",
              "25%         116.790500\n",
              "50%         306.101000\n",
              "75%         381.129000\n",
              "max        1624.539000\n",
              "Name: audition_duration, dtype: float64"
            ]
          },
          "metadata": {
            "tags": []
          },
          "execution_count": 11
        }
      ]
    },
    {
      "cell_type": "markdown",
      "metadata": {
        "id": "tky4oVPm_Spv"
      },
      "source": [
        "Теперь среднее незначительно отличается от к медианы."
      ]
    },
    {
      "cell_type": "code",
      "metadata": {
        "colab": {
          "base_uri": "https://localhost:8080/"
        },
        "id": "Br8Uix36MnUN",
        "outputId": "9b1c9f4c-f409-4486-cb49-ecc865b8eb97"
      },
      "source": [
        "df['utc_audition_start_dttm'].describe(datetime_is_numeric=True)"
      ],
      "execution_count": null,
      "outputs": [
        {
          "output_type": "execute_result",
          "data": {
            "text/plain": [
              "count                                 792731\n",
              "mean     2021-02-09 16:01:45.403722752+00:00\n",
              "min         2020-06-08 13:47:24.028000+00:00\n",
              "25%      2021-02-01 22:26:50.641500160+00:00\n",
              "50%      2021-02-15 19:22:20.849999872+00:00\n",
              "75%      2021-02-23 21:43:30.481999872+00:00\n",
              "max         2021-03-01 15:59:56.310000+00:00\n",
              "Name: utc_audition_start_dttm, dtype: object"
            ]
          },
          "metadata": {
            "tags": []
          },
          "execution_count": 12
        }
      ]
    },
    {
      "cell_type": "markdown",
      "metadata": {
        "id": "zcOzQu4znQfL"
      },
      "source": [
        "Данные в датасете за последние 9 месяцев. Вряд ли вкусы пользователей за это время изменились. Данные по дате прослушивания фильтровать не будем."
      ]
    },
    {
      "cell_type": "markdown",
      "metadata": {
        "id": "3Y34T3SMGGNS"
      },
      "source": [
        "# Анализируем жанровые предпочтения пользователей Яндекс.Музыки"
      ]
    },
    {
      "cell_type": "code",
      "metadata": {
        "colab": {
          "base_uri": "https://localhost:8080/",
          "height": 470
        },
        "id": "rb1C4sm1bm-c",
        "outputId": "6ef4d4a5-f9d1-4844-8468-d79acfb1051b"
      },
      "source": [
        "df2 = df.pivot_table(index='user_id', columns='track_genre', values='audition_duration', aggfunc='sum')\n",
        "df2 = df2.fillna(0)\n",
        "df2"
      ],
      "execution_count": null,
      "outputs": [
        {
          "output_type": "execute_result",
          "data": {
            "text/html": [
              "<div>\n",
              "<style scoped>\n",
              "    .dataframe tbody tr th:only-of-type {\n",
              "        vertical-align: middle;\n",
              "    }\n",
              "\n",
              "    .dataframe tbody tr th {\n",
              "        vertical-align: top;\n",
              "    }\n",
              "\n",
              "    .dataframe thead th {\n",
              "        text-align: right;\n",
              "    }\n",
              "</style>\n",
              "<table border=\"1\" class=\"dataframe\">\n",
              "  <thead>\n",
              "    <tr style=\"text-align: right;\">\n",
              "      <th>track_genre</th>\n",
              "      <th>blues</th>\n",
              "      <th>classical</th>\n",
              "      <th>dance</th>\n",
              "      <th>disco</th>\n",
              "      <th>dubstep</th>\n",
              "      <th>electronics</th>\n",
              "      <th>hardrock</th>\n",
              "      <th>house</th>\n",
              "      <th>industrial</th>\n",
              "      <th>jazz</th>\n",
              "      <th>kpop</th>\n",
              "      <th>metal</th>\n",
              "      <th>pop</th>\n",
              "      <th>postrock</th>\n",
              "      <th>punk</th>\n",
              "      <th>rap</th>\n",
              "      <th>relax</th>\n",
              "      <th>rnb</th>\n",
              "      <th>rock</th>\n",
              "      <th>techno</th>\n",
              "      <th>vocal</th>\n",
              "    </tr>\n",
              "    <tr>\n",
              "      <th>user_id</th>\n",
              "      <th></th>\n",
              "      <th></th>\n",
              "      <th></th>\n",
              "      <th></th>\n",
              "      <th></th>\n",
              "      <th></th>\n",
              "      <th></th>\n",
              "      <th></th>\n",
              "      <th></th>\n",
              "      <th></th>\n",
              "      <th></th>\n",
              "      <th></th>\n",
              "      <th></th>\n",
              "      <th></th>\n",
              "      <th></th>\n",
              "      <th></th>\n",
              "      <th></th>\n",
              "      <th></th>\n",
              "      <th></th>\n",
              "      <th></th>\n",
              "      <th></th>\n",
              "    </tr>\n",
              "  </thead>\n",
              "  <tbody>\n",
              "    <tr>\n",
              "      <th>002123faf66b47b5aafa</th>\n",
              "      <td>585.254</td>\n",
              "      <td>1771.157</td>\n",
              "      <td>2912.786</td>\n",
              "      <td>2074.449</td>\n",
              "      <td>4835.516</td>\n",
              "      <td>6212.613</td>\n",
              "      <td>3641.298</td>\n",
              "      <td>1394.675</td>\n",
              "      <td>1613.431</td>\n",
              "      <td>1600.949</td>\n",
              "      <td>4963.418</td>\n",
              "      <td>7947.370</td>\n",
              "      <td>13877.272</td>\n",
              "      <td>0.000</td>\n",
              "      <td>1432.666</td>\n",
              "      <td>10199.228</td>\n",
              "      <td>1518.297</td>\n",
              "      <td>3343.901</td>\n",
              "      <td>8852.924</td>\n",
              "      <td>6398.402</td>\n",
              "      <td>6173.461</td>\n",
              "    </tr>\n",
              "    <tr>\n",
              "      <th>0041383820e248e487a6</th>\n",
              "      <td>3193.866</td>\n",
              "      <td>4755.536</td>\n",
              "      <td>4771.090</td>\n",
              "      <td>4058.303</td>\n",
              "      <td>24182.167</td>\n",
              "      <td>16742.056</td>\n",
              "      <td>14259.960</td>\n",
              "      <td>3710.053</td>\n",
              "      <td>3517.560</td>\n",
              "      <td>1706.269</td>\n",
              "      <td>16123.939</td>\n",
              "      <td>18657.958</td>\n",
              "      <td>47693.333</td>\n",
              "      <td>0.000</td>\n",
              "      <td>2411.794</td>\n",
              "      <td>24436.918</td>\n",
              "      <td>7411.519</td>\n",
              "      <td>7738.389</td>\n",
              "      <td>31331.417</td>\n",
              "      <td>22007.036</td>\n",
              "      <td>15389.733</td>\n",
              "    </tr>\n",
              "    <tr>\n",
              "      <th>008005a451764a63aa3f</th>\n",
              "      <td>2730.923</td>\n",
              "      <td>777.504</td>\n",
              "      <td>3283.055</td>\n",
              "      <td>4270.523</td>\n",
              "      <td>14660.465</td>\n",
              "      <td>12287.735</td>\n",
              "      <td>7459.531</td>\n",
              "      <td>1109.824</td>\n",
              "      <td>1926.677</td>\n",
              "      <td>616.239</td>\n",
              "      <td>7842.902</td>\n",
              "      <td>8282.051</td>\n",
              "      <td>31897.340</td>\n",
              "      <td>1981.802</td>\n",
              "      <td>1407.738</td>\n",
              "      <td>16279.067</td>\n",
              "      <td>4627.707</td>\n",
              "      <td>2819.856</td>\n",
              "      <td>18642.996</td>\n",
              "      <td>12601.688</td>\n",
              "      <td>9419.729</td>\n",
              "    </tr>\n",
              "    <tr>\n",
              "      <th>00c017dc34254d39a390</th>\n",
              "      <td>573.271</td>\n",
              "      <td>2088.069</td>\n",
              "      <td>2963.028</td>\n",
              "      <td>3789.324</td>\n",
              "      <td>11690.230</td>\n",
              "      <td>20521.883</td>\n",
              "      <td>7896.802</td>\n",
              "      <td>2911.561</td>\n",
              "      <td>3477.967</td>\n",
              "      <td>1056.138</td>\n",
              "      <td>10382.012</td>\n",
              "      <td>10248.488</td>\n",
              "      <td>27292.729</td>\n",
              "      <td>1362.029</td>\n",
              "      <td>1235.734</td>\n",
              "      <td>12086.540</td>\n",
              "      <td>3022.802</td>\n",
              "      <td>3453.940</td>\n",
              "      <td>22045.327</td>\n",
              "      <td>17279.222</td>\n",
              "      <td>9052.995</td>\n",
              "    </tr>\n",
              "    <tr>\n",
              "      <th>00f628a2f8044ae18d88</th>\n",
              "      <td>757.769</td>\n",
              "      <td>862.389</td>\n",
              "      <td>2525.456</td>\n",
              "      <td>2006.748</td>\n",
              "      <td>5912.211</td>\n",
              "      <td>6963.513</td>\n",
              "      <td>5460.906</td>\n",
              "      <td>1209.009</td>\n",
              "      <td>1298.013</td>\n",
              "      <td>1125.515</td>\n",
              "      <td>6758.741</td>\n",
              "      <td>7798.531</td>\n",
              "      <td>18720.816</td>\n",
              "      <td>1136.704</td>\n",
              "      <td>1208.157</td>\n",
              "      <td>7781.424</td>\n",
              "      <td>2076.856</td>\n",
              "      <td>3352.064</td>\n",
              "      <td>13620.023</td>\n",
              "      <td>11253.504</td>\n",
              "      <td>3514.723</td>\n",
              "    </tr>\n",
              "    <tr>\n",
              "      <th>...</th>\n",
              "      <td>...</td>\n",
              "      <td>...</td>\n",
              "      <td>...</td>\n",
              "      <td>...</td>\n",
              "      <td>...</td>\n",
              "      <td>...</td>\n",
              "      <td>...</td>\n",
              "      <td>...</td>\n",
              "      <td>...</td>\n",
              "      <td>...</td>\n",
              "      <td>...</td>\n",
              "      <td>...</td>\n",
              "      <td>...</td>\n",
              "      <td>...</td>\n",
              "      <td>...</td>\n",
              "      <td>...</td>\n",
              "      <td>...</td>\n",
              "      <td>...</td>\n",
              "      <td>...</td>\n",
              "      <td>...</td>\n",
              "      <td>...</td>\n",
              "    </tr>\n",
              "    <tr>\n",
              "      <th>ff77d34a23c04d36a421</th>\n",
              "      <td>527.694</td>\n",
              "      <td>0.000</td>\n",
              "      <td>2680.352</td>\n",
              "      <td>1462.920</td>\n",
              "      <td>9881.080</td>\n",
              "      <td>11243.106</td>\n",
              "      <td>4810.117</td>\n",
              "      <td>390.542</td>\n",
              "      <td>1791.716</td>\n",
              "      <td>1923.160</td>\n",
              "      <td>7838.735</td>\n",
              "      <td>6381.228</td>\n",
              "      <td>18517.957</td>\n",
              "      <td>0.000</td>\n",
              "      <td>2992.678</td>\n",
              "      <td>7884.278</td>\n",
              "      <td>2573.665</td>\n",
              "      <td>2818.227</td>\n",
              "      <td>9785.139</td>\n",
              "      <td>9823.367</td>\n",
              "      <td>5919.949</td>\n",
              "    </tr>\n",
              "    <tr>\n",
              "      <th>ff9b606118d449f1ab15</th>\n",
              "      <td>288.218</td>\n",
              "      <td>983.992</td>\n",
              "      <td>1827.100</td>\n",
              "      <td>3084.156</td>\n",
              "      <td>7638.306</td>\n",
              "      <td>5457.963</td>\n",
              "      <td>4591.672</td>\n",
              "      <td>1835.326</td>\n",
              "      <td>1183.003</td>\n",
              "      <td>920.518</td>\n",
              "      <td>6430.113</td>\n",
              "      <td>9423.335</td>\n",
              "      <td>17171.940</td>\n",
              "      <td>0.000</td>\n",
              "      <td>263.576</td>\n",
              "      <td>9213.471</td>\n",
              "      <td>3097.763</td>\n",
              "      <td>2812.541</td>\n",
              "      <td>15253.111</td>\n",
              "      <td>8166.387</td>\n",
              "      <td>6754.817</td>\n",
              "    </tr>\n",
              "    <tr>\n",
              "      <th>ffa2421c514844c087f3</th>\n",
              "      <td>1261.529</td>\n",
              "      <td>936.639</td>\n",
              "      <td>2598.192</td>\n",
              "      <td>4255.150</td>\n",
              "      <td>6408.833</td>\n",
              "      <td>16967.290</td>\n",
              "      <td>10354.062</td>\n",
              "      <td>2377.614</td>\n",
              "      <td>2683.381</td>\n",
              "      <td>2349.352</td>\n",
              "      <td>10862.341</td>\n",
              "      <td>9388.858</td>\n",
              "      <td>24423.004</td>\n",
              "      <td>0.000</td>\n",
              "      <td>1226.254</td>\n",
              "      <td>17653.320</td>\n",
              "      <td>6317.256</td>\n",
              "      <td>5756.655</td>\n",
              "      <td>18526.114</td>\n",
              "      <td>8799.071</td>\n",
              "      <td>9393.394</td>\n",
              "    </tr>\n",
              "    <tr>\n",
              "      <th>ffa5ecacdcfb466d8e91</th>\n",
              "      <td>1517.568</td>\n",
              "      <td>1437.116</td>\n",
              "      <td>3356.374</td>\n",
              "      <td>3036.989</td>\n",
              "      <td>10953.801</td>\n",
              "      <td>12452.113</td>\n",
              "      <td>9229.685</td>\n",
              "      <td>2926.990</td>\n",
              "      <td>1672.756</td>\n",
              "      <td>1192.917</td>\n",
              "      <td>10511.872</td>\n",
              "      <td>11053.641</td>\n",
              "      <td>20264.319</td>\n",
              "      <td>0.000</td>\n",
              "      <td>1005.787</td>\n",
              "      <td>9813.599</td>\n",
              "      <td>1976.990</td>\n",
              "      <td>2790.548</td>\n",
              "      <td>14544.646</td>\n",
              "      <td>11693.664</td>\n",
              "      <td>7172.439</td>\n",
              "    </tr>\n",
              "    <tr>\n",
              "      <th>ffe8e02a691746d18159</th>\n",
              "      <td>1892.725</td>\n",
              "      <td>1980.152</td>\n",
              "      <td>2157.735</td>\n",
              "      <td>3519.398</td>\n",
              "      <td>7982.887</td>\n",
              "      <td>12367.398</td>\n",
              "      <td>5631.691</td>\n",
              "      <td>3171.120</td>\n",
              "      <td>368.027</td>\n",
              "      <td>506.216</td>\n",
              "      <td>9620.415</td>\n",
              "      <td>9428.872</td>\n",
              "      <td>21175.924</td>\n",
              "      <td>0.000</td>\n",
              "      <td>693.974</td>\n",
              "      <td>10612.580</td>\n",
              "      <td>128.047</td>\n",
              "      <td>2055.599</td>\n",
              "      <td>13582.188</td>\n",
              "      <td>8991.163</td>\n",
              "      <td>4848.994</td>\n",
              "    </tr>\n",
              "  </tbody>\n",
              "</table>\n",
              "<p>1727 rows × 21 columns</p>\n",
              "</div>"
            ],
            "text/plain": [
              "track_genre              blues  classical  ...     techno      vocal\n",
              "user_id                                    ...                      \n",
              "002123faf66b47b5aafa   585.254   1771.157  ...   6398.402   6173.461\n",
              "0041383820e248e487a6  3193.866   4755.536  ...  22007.036  15389.733\n",
              "008005a451764a63aa3f  2730.923    777.504  ...  12601.688   9419.729\n",
              "00c017dc34254d39a390   573.271   2088.069  ...  17279.222   9052.995\n",
              "00f628a2f8044ae18d88   757.769    862.389  ...  11253.504   3514.723\n",
              "...                        ...        ...  ...        ...        ...\n",
              "ff77d34a23c04d36a421   527.694      0.000  ...   9823.367   5919.949\n",
              "ff9b606118d449f1ab15   288.218    983.992  ...   8166.387   6754.817\n",
              "ffa2421c514844c087f3  1261.529    936.639  ...   8799.071   9393.394\n",
              "ffa5ecacdcfb466d8e91  1517.568   1437.116  ...  11693.664   7172.439\n",
              "ffe8e02a691746d18159  1892.725   1980.152  ...   8991.163   4848.994\n",
              "\n",
              "[1727 rows x 21 columns]"
            ]
          },
          "metadata": {
            "tags": []
          },
          "execution_count": 13
        }
      ]
    },
    {
      "cell_type": "markdown",
      "metadata": {
        "id": "vLldwP_e_kr7"
      },
      "source": [
        "Получили таблицу, где для каждого пользователя показано, сколько всего он слушал композиции того или иного жанра в секундах. Найдем для каждого любимый жанр, композиции которого пользователь слушал дольше всего. Заметим, что в логе у нас 1727 пользователей."
      ]
    },
    {
      "cell_type": "code",
      "metadata": {
        "id": "GkebfT8merqx"
      },
      "source": [
        "df2['favorite_genre'] = df2.idxmax(axis=1)"
      ],
      "execution_count": null,
      "outputs": []
    },
    {
      "cell_type": "code",
      "metadata": {
        "colab": {
          "base_uri": "https://localhost:8080/"
        },
        "id": "-T1Lq8MMionm",
        "outputId": "a4e5a347-b860-4e4a-8ad7-fb82b229be0e"
      },
      "source": [
        "df2['favorite_genre'].value_counts()"
      ],
      "execution_count": null,
      "outputs": [
        {
          "output_type": "execute_result",
          "data": {
            "text/plain": [
              "pop            1624\n",
              "rock             91\n",
              "electronics      11\n",
              "techno            1\n",
              "Name: favorite_genre, dtype: int64"
            ]
          },
          "metadata": {
            "tags": []
          },
          "execution_count": 15
        }
      ]
    },
    {
      "cell_type": "markdown",
      "metadata": {
        "id": "UuJnFWFmAAQ2"
      },
      "source": [
        "Видим, что только один пользователь дольше всего слушал композиции жанра техно. Уберем из таблицы столбец pop - видимо, с ним по общей длительности прослушивания техно тягаться не может :)."
      ]
    },
    {
      "cell_type": "code",
      "metadata": {
        "id": "OqC0z0uTpZlC"
      },
      "source": [
        "df2 = df2.drop(columns=['pop', 'favorite_genre'])\n",
        "df2['favorite_genre'] = df2.idxmax(axis=1)"
      ],
      "execution_count": null,
      "outputs": []
    },
    {
      "cell_type": "code",
      "metadata": {
        "colab": {
          "base_uri": "https://localhost:8080/"
        },
        "id": "UZsYmgA7DVEZ",
        "outputId": "93e52cf8-e5f5-418e-8a52-baddd991b9de"
      },
      "source": [
        "df2['favorite_genre'].value_counts()"
      ],
      "execution_count": null,
      "outputs": [
        {
          "output_type": "execute_result",
          "data": {
            "text/plain": [
              "rock           1384\n",
              "electronics     198\n",
              "techno           69\n",
              "rap              39\n",
              "dubstep          19\n",
              "metal            15\n",
              "kpop              3\n",
              "Name: favorite_genre, dtype: int64"
            ]
          },
          "metadata": {
            "tags": []
          },
          "execution_count": 17
        }
      ]
    },
    {
      "cell_type": "markdown",
      "metadata": {
        "id": "DEYXgkGeDa5u"
      },
      "source": [
        "Получается, что 69 пользователей из 1727 любят техно так, что слушают его остальных жанров за вычетом попа и подкастов. Это около 4% пользователей из выборки. Попробуем убрать рок."
      ]
    },
    {
      "cell_type": "code",
      "metadata": {
        "colab": {
          "base_uri": "https://localhost:8080/"
        },
        "id": "5idlMvUOES-4",
        "outputId": "af7184d9-3320-4217-9de3-465532458512"
      },
      "source": [
        "df2 = df2.drop(columns=['rock', 'favorite_genre'])\n",
        "df2['favorite_genre'] = df2.idxmax(axis=1)\n",
        "df2['favorite_genre'].value_counts()"
      ],
      "execution_count": null,
      "outputs": [
        {
          "output_type": "execute_result",
          "data": {
            "text/plain": [
              "electronics    755\n",
              "techno         398\n",
              "rap            335\n",
              "dubstep        114\n",
              "metal           94\n",
              "kpop            25\n",
              "vocal            3\n",
              "hardrock         3\n",
              "Name: favorite_genre, dtype: int64"
            ]
          },
          "metadata": {
            "tags": []
          },
          "execution_count": 18
        }
      ]
    },
    {
      "cell_type": "code",
      "metadata": {
        "colab": {
          "base_uri": "https://localhost:8080/"
        },
        "id": "5q-abd4A_nWI",
        "outputId": "8492ddf2-6858-4afa-c1f6-455eff6fedb2"
      },
      "source": [
        "techno_favorite_genre_users = df2[df2['favorite_genre'] == 'techno'].reset_index()['user_id']\n",
        "techno_favorite_genre_users"
      ],
      "execution_count": null,
      "outputs": [
        {
          "output_type": "execute_result",
          "data": {
            "text/plain": [
              "0      00f628a2f8044ae18d88\n",
              "1      016ab75e22374843b684\n",
              "2      030cb42f156b4bac9607\n",
              "3      0311bed05d2b4c7a8ab9\n",
              "4      03f59562ca5c428a9425\n",
              "               ...         \n",
              "393    fa06379b3b3a4144afca\n",
              "394    fbc74bb744cc46b3a401\n",
              "395    fcc5a11f401b4fb8a93f\n",
              "396    fd4974a26a7344cf9655\n",
              "397    ff122fc8c3354f059efa\n",
              "Name: user_id, Length: 398, dtype: object"
            ]
          },
          "metadata": {
            "tags": []
          },
          "execution_count": 19
        }
      ]
    },
    {
      "cell_type": "markdown",
      "metadata": {
        "id": "UEmuXE3VEW-o"
      },
      "source": [
        "398 пользователя предпочитают техно всем остальным жанрам кроме поп-музыки и рока. Это 23% от выборки, сохранили идентификаторы этих пользователей в techno_favorite_genre_users. Если конверсия будет равнятся 10%, то можем ожидать, что на мероприятие придет около 40 человек. Что если конверсия будет меньше? Тогда нам нужно понять, кому слать приглашения. Отранжируем всех пользователей по их любви к техно."
      ]
    },
    {
      "cell_type": "code",
      "metadata": {
        "colab": {
          "base_uri": "https://localhost:8080/",
          "height": 204
        },
        "id": "Hc2oZIlTfZ4M",
        "outputId": "40db57ed-14ff-45d4-f83b-ca046275979f"
      },
      "source": [
        "df_users = df.groupby('user_id')['audition_duration'].sum().fillna(0).reset_index()\n",
        "techno_duration_total = df[df['track_genre'] == 'techno'].groupby('user_id')['audition_duration'].sum().fillna(0).reset_index()\n",
        "df_users = pd.merge(left=df_users, right=techno_duration_total, how='left', on='user_id')\n",
        "df_users.columns = ['user_id', 'audition_duration_total', 'audition_duration_techno']\n",
        "df_users.head()"
      ],
      "execution_count": null,
      "outputs": [
        {
          "output_type": "execute_result",
          "data": {
            "text/html": [
              "<div>\n",
              "<style scoped>\n",
              "    .dataframe tbody tr th:only-of-type {\n",
              "        vertical-align: middle;\n",
              "    }\n",
              "\n",
              "    .dataframe tbody tr th {\n",
              "        vertical-align: top;\n",
              "    }\n",
              "\n",
              "    .dataframe thead th {\n",
              "        text-align: right;\n",
              "    }\n",
              "</style>\n",
              "<table border=\"1\" class=\"dataframe\">\n",
              "  <thead>\n",
              "    <tr style=\"text-align: right;\">\n",
              "      <th></th>\n",
              "      <th>user_id</th>\n",
              "      <th>audition_duration_total</th>\n",
              "      <th>audition_duration_techno</th>\n",
              "    </tr>\n",
              "  </thead>\n",
              "  <tbody>\n",
              "    <tr>\n",
              "      <th>0</th>\n",
              "      <td>002123faf66b47b5aafa</td>\n",
              "      <td>91349.067</td>\n",
              "      <td>6398.402</td>\n",
              "    </tr>\n",
              "    <tr>\n",
              "      <th>1</th>\n",
              "      <td>0041383820e248e487a6</td>\n",
              "      <td>274098.896</td>\n",
              "      <td>22007.036</td>\n",
              "    </tr>\n",
              "    <tr>\n",
              "      <th>2</th>\n",
              "      <td>008005a451764a63aa3f</td>\n",
              "      <td>164925.352</td>\n",
              "      <td>12601.688</td>\n",
              "    </tr>\n",
              "    <tr>\n",
              "      <th>3</th>\n",
              "      <td>00c017dc34254d39a390</td>\n",
              "      <td>174430.091</td>\n",
              "      <td>17279.222</td>\n",
              "    </tr>\n",
              "    <tr>\n",
              "      <th>4</th>\n",
              "      <td>00f628a2f8044ae18d88</td>\n",
              "      <td>105343.072</td>\n",
              "      <td>11253.504</td>\n",
              "    </tr>\n",
              "  </tbody>\n",
              "</table>\n",
              "</div>"
            ],
            "text/plain": [
              "                user_id  audition_duration_total  audition_duration_techno\n",
              "0  002123faf66b47b5aafa                91349.067                  6398.402\n",
              "1  0041383820e248e487a6               274098.896                 22007.036\n",
              "2  008005a451764a63aa3f               164925.352                 12601.688\n",
              "3  00c017dc34254d39a390               174430.091                 17279.222\n",
              "4  00f628a2f8044ae18d88               105343.072                 11253.504"
            ]
          },
          "metadata": {
            "tags": []
          },
          "execution_count": 20
        }
      ]
    },
    {
      "cell_type": "markdown",
      "metadata": {
        "id": "1fXcJmDt8bTN"
      },
      "source": [
        "Получили таблицу с тремя колонками: идентификатор пользователя, общее время прослушивания музыки в сервисе, общее время прослушивания музыки в жанре техно. Добавим колонку, которая будет показывать долю техно в общем времени прослушивания. Назовем эту метрику techno_love_score."
      ]
    },
    {
      "cell_type": "code",
      "metadata": {
        "colab": {
          "base_uri": "https://localhost:8080/"
        },
        "id": "axdq16lWgP3a",
        "outputId": "fba16cf9-3a6e-4afa-c0df-61aeb1b05297"
      },
      "source": [
        "df_users['techno_love_score'] = df_users['audition_duration_techno'] / df_users['audition_duration_total']\n",
        "df_users['techno_love_score'].describe()"
      ],
      "execution_count": null,
      "outputs": [
        {
          "output_type": "execute_result",
          "data": {
            "text/plain": [
              "count    1727.000000\n",
              "mean        0.082359\n",
              "std         0.016351\n",
              "min         0.013144\n",
              "25%         0.071485\n",
              "50%         0.081886\n",
              "75%         0.091641\n",
              "max         0.152903\n",
              "Name: techno_love_score, dtype: float64"
            ]
          },
          "metadata": {
            "tags": []
          },
          "execution_count": 21
        }
      ]
    },
    {
      "cell_type": "markdown",
      "metadata": {
        "id": "LQkuKhle-TpX"
      },
      "source": [
        "В среднем около 8% всего времени прослушивания музыки занимает техно. Мы можем взять около 35% пользователей с самым высоким techno_love_score."
      ]
    },
    {
      "cell_type": "code",
      "metadata": {
        "colab": {
          "base_uri": "https://localhost:8080/"
        },
        "id": "PphyNhLF-mWF",
        "outputId": "ec7a9955-6254-493c-f216-22f70e96ff3b"
      },
      "source": [
        "df_users['top_35_percent_techno_score'] = (df_users['techno_love_score'] > df_users['techno_love_score'].quantile(q=0.65))*1\n",
        "df_users['top_35_percent_techno_score'].sum()"
      ],
      "execution_count": null,
      "outputs": [
        {
          "output_type": "execute_result",
          "data": {
            "text/plain": [
              "605"
            ]
          },
          "metadata": {
            "tags": []
          },
          "execution_count": 22
        }
      ]
    },
    {
      "cell_type": "markdown",
      "metadata": {
        "id": "zD5LwyjtAI2c"
      },
      "source": [
        "Здесь получили 605 пользователей. Даже если конверсия будет 7%, то все равно получим 40 человек на мероприятии. Попробуем еще проранжировать пользователей по общему времени прослушивания музыки в жанре техно."
      ]
    },
    {
      "cell_type": "code",
      "metadata": {
        "colab": {
          "base_uri": "https://localhost:8080/",
          "height": 224
        },
        "id": "Ar-Y7lIxpv3L",
        "outputId": "4bf42e3c-16f7-4724-88f0-2d44049db905"
      },
      "source": [
        "df_users['top_35_percent_techno_total_duration'] = (df_users['audition_duration_techno'] > df_users['audition_duration_techno'].quantile(q=0.65))*1\n",
        "df_users.head()"
      ],
      "execution_count": null,
      "outputs": [
        {
          "output_type": "execute_result",
          "data": {
            "text/html": [
              "<div>\n",
              "<style scoped>\n",
              "    .dataframe tbody tr th:only-of-type {\n",
              "        vertical-align: middle;\n",
              "    }\n",
              "\n",
              "    .dataframe tbody tr th {\n",
              "        vertical-align: top;\n",
              "    }\n",
              "\n",
              "    .dataframe thead th {\n",
              "        text-align: right;\n",
              "    }\n",
              "</style>\n",
              "<table border=\"1\" class=\"dataframe\">\n",
              "  <thead>\n",
              "    <tr style=\"text-align: right;\">\n",
              "      <th></th>\n",
              "      <th>user_id</th>\n",
              "      <th>audition_duration_total</th>\n",
              "      <th>audition_duration_techno</th>\n",
              "      <th>techno_love_score</th>\n",
              "      <th>top_35_percent_techno_score</th>\n",
              "      <th>top_35_percent_techno_total_duration</th>\n",
              "    </tr>\n",
              "  </thead>\n",
              "  <tbody>\n",
              "    <tr>\n",
              "      <th>0</th>\n",
              "      <td>002123faf66b47b5aafa</td>\n",
              "      <td>91349.067</td>\n",
              "      <td>6398.402</td>\n",
              "      <td>0.070043</td>\n",
              "      <td>0</td>\n",
              "      <td>0</td>\n",
              "    </tr>\n",
              "    <tr>\n",
              "      <th>1</th>\n",
              "      <td>0041383820e248e487a6</td>\n",
              "      <td>274098.896</td>\n",
              "      <td>22007.036</td>\n",
              "      <td>0.080289</td>\n",
              "      <td>0</td>\n",
              "      <td>1</td>\n",
              "    </tr>\n",
              "    <tr>\n",
              "      <th>2</th>\n",
              "      <td>008005a451764a63aa3f</td>\n",
              "      <td>164925.352</td>\n",
              "      <td>12601.688</td>\n",
              "      <td>0.076408</td>\n",
              "      <td>0</td>\n",
              "      <td>1</td>\n",
              "    </tr>\n",
              "    <tr>\n",
              "      <th>3</th>\n",
              "      <td>00c017dc34254d39a390</td>\n",
              "      <td>174430.091</td>\n",
              "      <td>17279.222</td>\n",
              "      <td>0.099061</td>\n",
              "      <td>1</td>\n",
              "      <td>1</td>\n",
              "    </tr>\n",
              "    <tr>\n",
              "      <th>4</th>\n",
              "      <td>00f628a2f8044ae18d88</td>\n",
              "      <td>105343.072</td>\n",
              "      <td>11253.504</td>\n",
              "      <td>0.106827</td>\n",
              "      <td>1</td>\n",
              "      <td>0</td>\n",
              "    </tr>\n",
              "  </tbody>\n",
              "</table>\n",
              "</div>"
            ],
            "text/plain": [
              "                user_id  ...  top_35_percent_techno_total_duration\n",
              "0  002123faf66b47b5aafa  ...                                     0\n",
              "1  0041383820e248e487a6  ...                                     1\n",
              "2  008005a451764a63aa3f  ...                                     1\n",
              "3  00c017dc34254d39a390  ...                                     1\n",
              "4  00f628a2f8044ae18d88  ...                                     0\n",
              "\n",
              "[5 rows x 6 columns]"
            ]
          },
          "metadata": {
            "tags": []
          },
          "execution_count": 23
        }
      ]
    },
    {
      "cell_type": "markdown",
      "metadata": {
        "id": "yvG0VlsuNApc"
      },
      "source": [
        "В столбце top_35_percent_techno_total_duration стоит 1, если пользователь входит в топ 35% по общему прослушивания музыки жанра техно и 0 в противном случае."
      ]
    },
    {
      "cell_type": "code",
      "metadata": {
        "id": "3VvtCb9xguRU",
        "colab": {
          "base_uri": "https://localhost:8080/",
          "height": 224
        },
        "outputId": "29cb6098-2dd2-4d8e-dd2a-18c5403ba4d5"
      },
      "source": [
        "df_users['techno_favorite_genre'] = df_users['user_id'].isin(techno_favorite_genre_users.unique())*1\n",
        "df_users.head()"
      ],
      "execution_count": null,
      "outputs": [
        {
          "output_type": "execute_result",
          "data": {
            "text/html": [
              "<div>\n",
              "<style scoped>\n",
              "    .dataframe tbody tr th:only-of-type {\n",
              "        vertical-align: middle;\n",
              "    }\n",
              "\n",
              "    .dataframe tbody tr th {\n",
              "        vertical-align: top;\n",
              "    }\n",
              "\n",
              "    .dataframe thead th {\n",
              "        text-align: right;\n",
              "    }\n",
              "</style>\n",
              "<table border=\"1\" class=\"dataframe\">\n",
              "  <thead>\n",
              "    <tr style=\"text-align: right;\">\n",
              "      <th></th>\n",
              "      <th>user_id</th>\n",
              "      <th>audition_duration_total</th>\n",
              "      <th>audition_duration_techno</th>\n",
              "      <th>techno_love_score</th>\n",
              "      <th>top_35_percent_techno_score</th>\n",
              "      <th>top_35_percent_techno_total_duration</th>\n",
              "      <th>techno_favorite_genre</th>\n",
              "    </tr>\n",
              "  </thead>\n",
              "  <tbody>\n",
              "    <tr>\n",
              "      <th>0</th>\n",
              "      <td>002123faf66b47b5aafa</td>\n",
              "      <td>91349.067</td>\n",
              "      <td>6398.402</td>\n",
              "      <td>0.070043</td>\n",
              "      <td>0</td>\n",
              "      <td>0</td>\n",
              "      <td>0</td>\n",
              "    </tr>\n",
              "    <tr>\n",
              "      <th>1</th>\n",
              "      <td>0041383820e248e487a6</td>\n",
              "      <td>274098.896</td>\n",
              "      <td>22007.036</td>\n",
              "      <td>0.080289</td>\n",
              "      <td>0</td>\n",
              "      <td>1</td>\n",
              "      <td>0</td>\n",
              "    </tr>\n",
              "    <tr>\n",
              "      <th>2</th>\n",
              "      <td>008005a451764a63aa3f</td>\n",
              "      <td>164925.352</td>\n",
              "      <td>12601.688</td>\n",
              "      <td>0.076408</td>\n",
              "      <td>0</td>\n",
              "      <td>1</td>\n",
              "      <td>0</td>\n",
              "    </tr>\n",
              "    <tr>\n",
              "      <th>3</th>\n",
              "      <td>00c017dc34254d39a390</td>\n",
              "      <td>174430.091</td>\n",
              "      <td>17279.222</td>\n",
              "      <td>0.099061</td>\n",
              "      <td>1</td>\n",
              "      <td>1</td>\n",
              "      <td>0</td>\n",
              "    </tr>\n",
              "    <tr>\n",
              "      <th>4</th>\n",
              "      <td>00f628a2f8044ae18d88</td>\n",
              "      <td>105343.072</td>\n",
              "      <td>11253.504</td>\n",
              "      <td>0.106827</td>\n",
              "      <td>1</td>\n",
              "      <td>0</td>\n",
              "      <td>1</td>\n",
              "    </tr>\n",
              "  </tbody>\n",
              "</table>\n",
              "</div>"
            ],
            "text/plain": [
              "                user_id  ...  techno_favorite_genre\n",
              "0  002123faf66b47b5aafa  ...                      0\n",
              "1  0041383820e248e487a6  ...                      0\n",
              "2  008005a451764a63aa3f  ...                      0\n",
              "3  00c017dc34254d39a390  ...                      0\n",
              "4  00f628a2f8044ae18d88  ...                      1\n",
              "\n",
              "[5 rows x 7 columns]"
            ]
          },
          "metadata": {
            "tags": []
          },
          "execution_count": 24
        }
      ]
    },
    {
      "cell_type": "markdown",
      "metadata": {
        "id": "vL1-aVPFNRV9"
      },
      "source": [
        "Добавили в таблицу еще столбец techno_favorite_genre, который равен 1, если техно - любимый жанр пользователя (не считая поп- и рок-музыки), и 0 в противном случае. У нас получилось 3 метрики. Создадим столбец, который будет давать итоговую оценку того, насколько пользователен заинтересован музыкой жанра техно. 3 - высшая оценка, 0 - низшая."
      ]
    },
    {
      "cell_type": "code",
      "metadata": {
        "colab": {
          "base_uri": "https://localhost:8080/"
        },
        "id": "MfxK8zLGL5Rg",
        "outputId": "ff4e2a08-72bc-4e6b-a979-fca3231a8dad"
      },
      "source": [
        "df_users['final_score'] = df_users['top_35_percent_techno_score'] + df_users['top_35_percent_techno_total_duration'] + df_users['techno_favorite_genre']\n",
        "df_users['final_score'].value_counts()"
      ],
      "execution_count": null,
      "outputs": [
        {
          "output_type": "execute_result",
          "data": {
            "text/plain": [
              "0    835\n",
              "1    393\n",
              "2    282\n",
              "3    217\n",
              "Name: final_score, dtype: int64"
            ]
          },
          "metadata": {
            "tags": []
          },
          "execution_count": 25
        }
      ]
    },
    {
      "cell_type": "code",
      "metadata": {
        "colab": {
          "base_uri": "https://localhost:8080/"
        },
        "id": "bk1cYz3HQxLe",
        "outputId": "ab51ba24-78ef-4333-cd7a-001d73960615"
      },
      "source": [
        "df_users['audition_duration_total'].describe()"
      ],
      "execution_count": null,
      "outputs": [
        {
          "output_type": "execute_result",
          "data": {
            "text/plain": [
              "count      1727.000000\n",
              "mean     128557.252053\n",
              "std       37805.925794\n",
              "min       19397.650000\n",
              "25%      104063.383000\n",
              "50%      127700.133000\n",
              "75%      153557.380000\n",
              "max      274098.896000\n",
              "Name: audition_duration_total, dtype: float64"
            ]
          },
          "metadata": {
            "tags": []
          },
          "execution_count": 26
        }
      ]
    },
    {
      "cell_type": "markdown",
      "metadata": {
        "id": "y6fde_jJR1_g"
      },
      "source": [
        "В выборке только постоянные пользователи Яндекс.Музыки, так как минимальное значение общего времени прослушивания - около 5 часов. Однако это в 5 раз меньше медианного значения. Скорее всего, стоит удалить 5% пользователей с минимальным общим временем прослушивания."
      ]
    },
    {
      "cell_type": "code",
      "metadata": {
        "colab": {
          "base_uri": "https://localhost:8080/"
        },
        "id": "ggg72NELSUcK",
        "outputId": "df10fb74-16ff-48f9-abe0-2e7d26475889"
      },
      "source": [
        "quant = df_users['audition_duration_total'].quantile(q=0.05)\n",
        "quant"
      ],
      "execution_count": null,
      "outputs": [
        {
          "output_type": "execute_result",
          "data": {
            "text/plain": [
              "66152.34429999997"
            ]
          },
          "metadata": {
            "tags": []
          },
          "execution_count": 27
        }
      ]
    },
    {
      "cell_type": "markdown",
      "metadata": {
        "id": "eHuBoSwDSgWI"
      },
      "source": [
        "5-й перцентиль равен 66152 секундам или около 18 часам и находится всего в одном стандартном отклонении от медианы. Оставим всех пользователей, кто пользовался сервисом дольше."
      ]
    },
    {
      "cell_type": "code",
      "metadata": {
        "colab": {
          "base_uri": "https://localhost:8080/"
        },
        "id": "c-AY9mqFS_Xe",
        "outputId": "8cde83b6-ca46-423b-a464-d10ccaa009a9"
      },
      "source": [
        "df_users = df_users[df_users['audition_duration_total'] > quant]\n",
        "df_users['final_score'].value_counts()"
      ],
      "execution_count": null,
      "outputs": [
        {
          "output_type": "execute_result",
          "data": {
            "text/plain": [
              "0    788\n",
              "1    368\n",
              "2    267\n",
              "3    217\n",
              "Name: final_score, dtype: int64"
            ]
          },
          "metadata": {
            "tags": []
          },
          "execution_count": 28
        }
      ]
    },
    {
      "cell_type": "markdown",
      "metadata": {
        "id": "JKqSYh3fNupH"
      },
      "source": [
        "# Рекомендации:\n",
        "Мы получили 4 группы пользователей. 217 пользователей получили высший балл по \"любви к техно\". Им нужно отправить приглашение в первую очередь. Во второй группе 267 пользователя, их тоже можно назвать любителями техно. Если ожидаемая конверсия равна 10% и нужно, чтобы на мероприятие пришли 30-50 человек, то рассылки по этим двум группа пользователей хватит. В противном случае можно разослать приглашения группе пользователей с одним баллом по \"любви к техно\" - их 368."
      ]
    },
    {
      "cell_type": "markdown",
      "metadata": {
        "id": "gJOGpqECUU8J"
      },
      "source": [
        "# Общие выводы по работе с данными:\n",
        "\n",
        "- Данные хорошие: нет дубликатов, пропущенных или аномальных значений\n",
        "- Данные свежие: за последние 9 месяцев\n",
        "- Минимальное значение общего времени прослушивания пользователя равно 5 часов, медианное - около 25 часов. Из выборки удалил пользователей, общее время прослушивания музыки на сервисе которых меньше 18 часов - это примерно 5% пользователей в логах.\n",
        "- Удалил из выборки треки с жанром podcasts, потому что они не относятся к музыкальному жанру и у них аномально долгое время прослушивания.\n",
        "- Каждому пользователю присвоил 3 оценки: входит в топ 35% по времени прослушивания музыки жанра техно (1 балл), входит в топ 35% по удельному времени прослушивания музыки жанра техно относительно общего времени прослушивания (1 балл), жанр техно - самый популярный жанр (исключая поп- и рок-музыку) по общему времени прослушивания.\n",
        "- 3 балла набрали 217 пользователей, 2 - 267, 1 - 368. Без баллов остались 788 пользователей. Рассылки, кажется, лучше делать сначала по тем, у кого больше баллов."
      ]
    }
  ]
}