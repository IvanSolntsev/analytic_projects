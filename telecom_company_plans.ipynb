{
  "nbformat": 4,
  "nbformat_minor": 0,
  "metadata": {
    "kernelspec": {
      "display_name": "Python 3",
      "language": "python",
      "name": "python3"
    },
    "language_info": {
      "codemirror_mode": {
        "name": "ipython",
        "version": 3
      },
      "file_extension": ".py",
      "mimetype": "text/x-python",
      "name": "python",
      "nbconvert_exporter": "python",
      "pygments_lexer": "ipython3",
      "version": "3.7.8"
    },
    "toc": {
      "base_numbering": 1,
      "nav_menu": {},
      "number_sections": true,
      "sideBar": true,
      "skip_h1_title": true,
      "title_cell": "Table of Contents",
      "title_sidebar": "Contents",
      "toc_cell": false,
      "toc_position": {},
      "toc_section_display": true,
      "toc_window_display": false
    },
    "colab": {
      "name": "telecom_company_plans.ipynb",
      "provenance": []
    }
  },
  "cells": [
    {
      "cell_type": "markdown",
      "metadata": {
        "id": "zbOww1UaauYV"
      },
      "source": [
        "### Описание проекта\n",
        "\n",
        "<br/><br/>\n",
        "Это учебный проект Яндекс.Практикума. В конце проверяем несколько гипотез с помощью ttest_ind.\n",
        "\n",
        "Анализируем данные вымышленной компании «Мегалайн» — федерального оператора сотовой связи. Клиентам предлагают два тарифных плана: «Смарт» и «Ультра». Чтобы скорректировать рекламный бюджет, коммерческий департамент хочет понять, какой тариф приносит больше денег.\n",
        "Нам предстоит сделать предварительный анализ тарифов на небольшой выборке клиентов. В нашем распоряжении данные 500 пользователей «Мегалайна»: кто они, откуда, каким тарифом пользуются, сколько звонков и сообщений каждый отправил за 2018 год. Нужно проанализировать поведение клиентов и сделать вывод — какой тариф лучше.\n",
        "\n",
        "Описание тарифов\n",
        "\n",
        "Тариф «Смарт»\n",
        "Ежемесячная плата: 550 рублей\n",
        "Включено 500 минут разговора, 50 сообщений и 15 Гб интернет-трафика\n",
        "Стоимость услуг сверх тарифного пакета:\n",
        "минута разговора: 3 рубля\n",
        "сообщение: 3 рубля\n",
        "1 Гб интернет-трафика: 200 рублей\n",
        "\n",
        "Тариф «Ультра»\n",
        "Ежемесячная плата: 1950 рублей\n",
        "Включено 3000 минут разговора, 1000 сообщений и 30 Гб интернет-трафика\n",
        "Стоимость услуг сверх тарифного пакета:\n",
        "минута разговора: 1 рубль\n",
        "сообщение: 1 рубль\n",
        "1 Гб интернет-трафика: 150 рублей\n",
        "\n",
        "Важное: «Мегалайн» всегда округляет вверх значения минут и мегабайтов. Если пользователь проговорил всего 1 секунду, в тарифе засчитывается целая минута."
      ]
    },
    {
      "cell_type": "markdown",
      "metadata": {
        "id": "VJPStiUZauYY"
      },
      "source": [
        "### Описание данных  \n",
        "<br/><br/>\n",
        "**Таблица users (информация о пользователях):** \n",
        "   \n",
        "user_id — уникальный идентификатор пользователя\n",
        "\n",
        "first_name — имя пользователя\n",
        "\n",
        "last_name — фамилия пользователя\n",
        "\n",
        "age — возраст пользователя (годы)\n",
        "\n",
        "reg_date — дата подключения тарифа (день, месяц, год)\n",
        "\n",
        "churn_date — дата прекращения пользования тарифом (если значение пропущено, то тариф ещё действовал на момент выгрузки данных)\n",
        "\n",
        "city — город проживания пользователя\n",
        "\n",
        "tariff — название тарифного плана\n",
        "\n",
        "<br/><br/>\n",
        "**Таблица calls (информация о звонках):**\n",
        "\n",
        "id — уникальный номер звонка\n",
        "\n",
        "call_date — дата звонка\n",
        "\n",
        "duration — длительность звонка в минутах\n",
        "\n",
        "user_id — идентификатор пользователя, сделавшего звонок\n",
        "\n",
        "<br/><br/>\n",
        "**Таблица messages (информация о сообщениях):**\n",
        "\n",
        "id — уникальный номер сообщения\n",
        "\n",
        "message_date — дата сообщения\n",
        "\n",
        "user_id — идентификатор пользователя, отправившего сообщение\n",
        "\n",
        "<br/><br/>\n",
        "**Таблица internet (информация об интернет-сессиях):**\n",
        "\n",
        "id — уникальный номер сессии\n",
        "\n",
        "mb_used — объём потраченного за сессию интернет-трафика (в мегабайтах)\n",
        "\n",
        "session_date — дата интернет-сессии\n",
        "\n",
        "user_id — идентификатор пользователя\n",
        "\n",
        "<br/><br/>\n",
        "**Таблица tariffs (информация о тарифах):**\n",
        "\n",
        "tariff_name — название тарифа\n",
        "\n",
        "rub_monthly_fee — ежемесячная абонентская плата в рублях\n",
        "\n",
        "minutes_included — количество минут разговора в месяц, включённых в абонентскую плату\n",
        "\n",
        "messages_included — количество сообщений в месяц, включённых в абонентскую плату\n",
        "\n",
        "mb_per_month_included — объём интернет-трафика, включённого в абонентскую плату (в мегабайтах)\n",
        "\n",
        "rub_per_minute — стоимость минуты разговора сверх тарифного пакета (например, если в тарифе 100 минут разговора в месяц, то со 101 минуты будет взиматься плата)\n",
        "\n",
        "rub_per_message — стоимость отправки сообщения сверх тарифного пакета\n",
        "\n",
        "rub_per_gb — стоимость дополнительного гигабайта интернет-трафика сверх тарифного пакета (1 гигабайт = 1024 мегабайта)"
      ]
    },
    {
      "cell_type": "markdown",
      "metadata": {
        "id": "12Ye1Ke8auYd"
      },
      "source": [
        "### Знакомство с данными и их подготовка\n",
        "\n"
      ]
    },
    {
      "cell_type": "code",
      "metadata": {
        "id": "kl-Hc8pEauYe"
      },
      "source": [
        "import pandas as pd\n",
        "import numpy as np\n",
        "from scipy import stats as st\n",
        "import math\n",
        "import matplotlib.pyplot as plt\n",
        "\n",
        "df1 = pd.read_csv('/datasets/calls.csv')\n",
        "df2 = pd.read_csv('/datasets/internet.csv')\n",
        "df3 = pd.read_csv('/datasets/messages.csv')\n",
        "df4 = pd.read_csv('/datasets/tariffs.csv')\n",
        "df5 = pd.read_csv('/datasets/users.csv')"
      ],
      "execution_count": null,
      "outputs": []
    },
    {
      "cell_type": "code",
      "metadata": {
        "id": "AgC2LSjyauYg",
        "outputId": "3130c9dc-5293-428d-a2ea-0252dd8083cb"
      },
      "source": [
        "plt.title('Распределение длительности звонков в минутах')\n",
        "plt.xlabel('Частота')\n",
        "plt.ylabel('Минуты')\n",
        "\n",
        "display(df1.info())\n",
        "display(df1.sample(5,random_state=42))\n",
        "print(f'Количество дубликатов: {df1.duplicated().sum()}')\n",
        "print('Количество звонков с нулевой длительностью: {}'.format(df1[df1['duration'] == 0.0]['duration'].count()))\n",
        "df1['duration'].hist();"
      ],
      "execution_count": null,
      "outputs": [
        {
          "output_type": "stream",
          "text": [
            "<class 'pandas.core.frame.DataFrame'>\n",
            "RangeIndex: 202607 entries, 0 to 202606\n",
            "Data columns (total 4 columns):\n",
            "id           202607 non-null object\n",
            "call_date    202607 non-null object\n",
            "duration     202607 non-null float64\n",
            "user_id      202607 non-null int64\n",
            "dtypes: float64(1), int64(1), object(2)\n",
            "memory usage: 6.2+ MB\n"
          ],
          "name": "stdout"
        },
        {
          "output_type": "display_data",
          "data": {
            "text/plain": [
              "None"
            ]
          },
          "metadata": {
            "tags": []
          }
        },
        {
          "output_type": "display_data",
          "data": {
            "text/html": [
              "<div>\n",
              "<style scoped>\n",
              "    .dataframe tbody tr th:only-of-type {\n",
              "        vertical-align: middle;\n",
              "    }\n",
              "\n",
              "    .dataframe tbody tr th {\n",
              "        vertical-align: top;\n",
              "    }\n",
              "\n",
              "    .dataframe thead th {\n",
              "        text-align: right;\n",
              "    }\n",
              "</style>\n",
              "<table border=\"1\" class=\"dataframe\">\n",
              "  <thead>\n",
              "    <tr style=\"text-align: right;\">\n",
              "      <th></th>\n",
              "      <th>id</th>\n",
              "      <th>call_date</th>\n",
              "      <th>duration</th>\n",
              "      <th>user_id</th>\n",
              "    </tr>\n",
              "  </thead>\n",
              "  <tbody>\n",
              "    <tr>\n",
              "      <td>158741</td>\n",
              "      <td>1392_406</td>\n",
              "      <td>2018-07-09</td>\n",
              "      <td>4.94</td>\n",
              "      <td>1392</td>\n",
              "    </tr>\n",
              "    <tr>\n",
              "      <td>95947</td>\n",
              "      <td>1244_202</td>\n",
              "      <td>2018-11-09</td>\n",
              "      <td>0.00</td>\n",
              "      <td>1244</td>\n",
              "    </tr>\n",
              "    <tr>\n",
              "      <td>10624</td>\n",
              "      <td>1027_494</td>\n",
              "      <td>2018-10-07</td>\n",
              "      <td>3.10</td>\n",
              "      <td>1027</td>\n",
              "    </tr>\n",
              "    <tr>\n",
              "      <td>167423</td>\n",
              "      <td>1412_340</td>\n",
              "      <td>2018-09-25</td>\n",
              "      <td>5.91</td>\n",
              "      <td>1412</td>\n",
              "    </tr>\n",
              "    <tr>\n",
              "      <td>73194</td>\n",
              "      <td>1184_168</td>\n",
              "      <td>2018-09-03</td>\n",
              "      <td>9.86</td>\n",
              "      <td>1184</td>\n",
              "    </tr>\n",
              "  </tbody>\n",
              "</table>\n",
              "</div>"
            ],
            "text/plain": [
              "              id   call_date  duration  user_id\n",
              "158741  1392_406  2018-07-09      4.94     1392\n",
              "95947   1244_202  2018-11-09      0.00     1244\n",
              "10624   1027_494  2018-10-07      3.10     1027\n",
              "167423  1412_340  2018-09-25      5.91     1412\n",
              "73194   1184_168  2018-09-03      9.86     1184"
            ]
          },
          "metadata": {
            "tags": []
          }
        },
        {
          "output_type": "stream",
          "text": [
            "Количество дубликатов: 0\n",
            "Количество звонков с нулевой длительностью: 39613\n"
          ],
          "name": "stdout"
        },
        {
          "output_type": "display_data",
          "data": {
            "image/png": "[encoded data removed]",
            "text/plain": [
              "<Figure size 432x288 with 1 Axes>"
            ]
          },
          "metadata": {
            "tags": [],
            "needs_background": "light"
          }
        }
      ]
    },
    {
      "cell_type": "markdown",
      "metadata": {
        "id": "Z4T-GKEzauYi"
      },
      "source": [
        "В таблице 'calls' нет пропущенных значений и дубликатов. В столбце duration 39613 записей с нулевым количеством минут. Удалим их, потому что это либо пропущенные звонки, либо исходящие, которые не тарифицируются и будут искажать расчеты."
      ]
    },
    {
      "cell_type": "code",
      "metadata": {
        "id": "R63manmRauYl",
        "outputId": "a87751b6-b3e0-4737-81b5-9e136267982b"
      },
      "source": [
        "df1['call_date'] = pd.to_datetime(df1['call_date'], format='%Y-%m-%d')\n",
        "df1['duration'] = df1['duration'].apply(np.ceil)\n",
        "df1 = df1[df1.duration != 0]\n",
        "display(df1.info())"
      ],
      "execution_count": null,
      "outputs": [
        {
          "output_type": "stream",
          "text": [
            "<class 'pandas.core.frame.DataFrame'>\n",
            "Int64Index: 162994 entries, 2 to 202606\n",
            "Data columns (total 4 columns):\n",
            "id           162994 non-null object\n",
            "call_date    162994 non-null datetime64[ns]\n",
            "duration     162994 non-null float64\n",
            "user_id      162994 non-null int64\n",
            "dtypes: datetime64[ns](1), float64(1), int64(1), object(1)\n",
            "memory usage: 6.2+ MB\n"
          ],
          "name": "stdout"
        },
        {
          "output_type": "display_data",
          "data": {
            "text/plain": [
              "None"
            ]
          },
          "metadata": {
            "tags": []
          }
        }
      ]
    },
    {
      "cell_type": "markdown",
      "metadata": {
        "id": "JRqsQ5alauYm"
      },
      "source": [
        "Поменяли формат столбца 'call_date' с object на datetime64, удалили строки с продолжительностью звонков, равных нулю."
      ]
    },
    {
      "cell_type": "code",
      "metadata": {
        "id": "dOvUnE7wauYm",
        "outputId": "1959cf07-f829-4361-ca64-5fe42bfbe31e"
      },
      "source": [
        "display(df2.info())\n",
        "display(df2.sample(5,random_state=42))\n",
        "print(df2.duplicated().sum())"
      ],
      "execution_count": null,
      "outputs": [
        {
          "output_type": "stream",
          "text": [
            "<class 'pandas.core.frame.DataFrame'>\n",
            "RangeIndex: 149396 entries, 0 to 149395\n",
            "Data columns (total 5 columns):\n",
            "Unnamed: 0      149396 non-null int64\n",
            "id              149396 non-null object\n",
            "mb_used         149396 non-null float64\n",
            "session_date    149396 non-null object\n",
            "user_id         149396 non-null int64\n",
            "dtypes: float64(1), int64(2), object(2)\n",
            "memory usage: 5.7+ MB\n"
          ],
          "name": "stdout"
        },
        {
          "output_type": "display_data",
          "data": {
            "text/plain": [
              "None"
            ]
          },
          "metadata": {
            "tags": []
          }
        },
        {
          "output_type": "display_data",
          "data": {
            "text/html": [
              "<div>\n",
              "<style scoped>\n",
              "    .dataframe tbody tr th:only-of-type {\n",
              "        vertical-align: middle;\n",
              "    }\n",
              "\n",
              "    .dataframe tbody tr th {\n",
              "        vertical-align: top;\n",
              "    }\n",
              "\n",
              "    .dataframe thead th {\n",
              "        text-align: right;\n",
              "    }\n",
              "</style>\n",
              "<table border=\"1\" class=\"dataframe\">\n",
              "  <thead>\n",
              "    <tr style=\"text-align: right;\">\n",
              "      <th></th>\n",
              "      <th>Unnamed: 0</th>\n",
              "      <th>id</th>\n",
              "      <th>mb_used</th>\n",
              "      <th>session_date</th>\n",
              "      <th>user_id</th>\n",
              "    </tr>\n",
              "  </thead>\n",
              "  <tbody>\n",
              "    <tr>\n",
              "      <td>31737</td>\n",
              "      <td>31737</td>\n",
              "      <td>1110_331</td>\n",
              "      <td>351.71</td>\n",
              "      <td>2018-09-04</td>\n",
              "      <td>1110</td>\n",
              "    </tr>\n",
              "    <tr>\n",
              "      <td>31333</td>\n",
              "      <td>31333</td>\n",
              "      <td>1109_399</td>\n",
              "      <td>257.69</td>\n",
              "      <td>2018-06-09</td>\n",
              "      <td>1109</td>\n",
              "    </tr>\n",
              "    <tr>\n",
              "      <td>61121</td>\n",
              "      <td>61121</td>\n",
              "      <td>1207_191</td>\n",
              "      <td>128.18</td>\n",
              "      <td>2018-11-05</td>\n",
              "      <td>1207</td>\n",
              "    </tr>\n",
              "    <tr>\n",
              "      <td>71184</td>\n",
              "      <td>71184</td>\n",
              "      <td>1241_88</td>\n",
              "      <td>736.71</td>\n",
              "      <td>2018-11-23</td>\n",
              "      <td>1241</td>\n",
              "    </tr>\n",
              "    <tr>\n",
              "      <td>84394</td>\n",
              "      <td>84394</td>\n",
              "      <td>1286_76</td>\n",
              "      <td>900.69</td>\n",
              "      <td>2018-12-18</td>\n",
              "      <td>1286</td>\n",
              "    </tr>\n",
              "  </tbody>\n",
              "</table>\n",
              "</div>"
            ],
            "text/plain": [
              "       Unnamed: 0        id  mb_used session_date  user_id\n",
              "31737       31737  1110_331   351.71   2018-09-04     1110\n",
              "31333       31333  1109_399   257.69   2018-06-09     1109\n",
              "61121       61121  1207_191   128.18   2018-11-05     1207\n",
              "71184       71184   1241_88   736.71   2018-11-23     1241\n",
              "84394       84394   1286_76   900.69   2018-12-18     1286"
            ]
          },
          "metadata": {
            "tags": []
          }
        },
        {
          "output_type": "stream",
          "text": [
            "0\n"
          ],
          "name": "stdout"
        }
      ]
    },
    {
      "cell_type": "markdown",
      "metadata": {
        "id": "itX-B9ONauYn"
      },
      "source": [
        "Нет пропущенных значений и дубликатов. Нужно поменять тип данных в session_date, удалить столбец Unnamed: 0, где находятся дубликаты индекса."
      ]
    },
    {
      "cell_type": "code",
      "metadata": {
        "id": "npCX53loauYo",
        "outputId": "6b683d30-d097-41c6-f30c-073a55c6fd27"
      },
      "source": [
        "df2 = df2.drop(columns=['Unnamed: 0'])\n",
        "df2['session_date'] = pd.to_datetime(df2['session_date'], format='%Y-%m-%d')\n",
        "df2.info();\n",
        "print(f'Количество дубликатов: {df2.duplicated().sum()}')\n",
        "print('Количество сессий, где потрачено 0 мегабайт: {}'.format(df2[df2['mb_used'] == 0.0]['mb_used'].count()))\n",
        "df2.mb_used.hist();"
      ],
      "execution_count": null,
      "outputs": [
        {
          "output_type": "stream",
          "text": [
            "<class 'pandas.core.frame.DataFrame'>\n",
            "RangeIndex: 149396 entries, 0 to 149395\n",
            "Data columns (total 4 columns):\n",
            "id              149396 non-null object\n",
            "mb_used         149396 non-null float64\n",
            "session_date    149396 non-null datetime64[ns]\n",
            "user_id         149396 non-null int64\n",
            "dtypes: datetime64[ns](1), float64(1), int64(1), object(1)\n",
            "memory usage: 4.6+ MB\n",
            "Количество дубликатов: 0\n",
            "Количество сессий, где потрачено 0 мегабайт: 19598\n"
          ],
          "name": "stdout"
        },
        {
          "output_type": "display_data",
          "data": {
            "image/png": "[encoded data removed]",
            "text/plain": [
              "<Figure size 432x288 with 1 Axes>"
            ]
          },
          "metadata": {
            "tags": [],
            "needs_background": "light"
          }
        }
      ]
    },
    {
      "cell_type": "markdown",
      "metadata": {
        "id": "OkFFRtDvauYp"
      },
      "source": [
        "Поменяли тип данных session_date на datetime64, удалили столбец Unnamed: 0. Распределение mb_used похоже на пуассоновское, аномальных значений не видно. В 19598 сессиях не было потрачено ни мегабайта. Возможно, это бесплатные источники трафика, либо неудавшиеся подключения. Удалим их, чтобы не искажали статистику."
      ]
    },
    {
      "cell_type": "code",
      "metadata": {
        "id": "WtAntF84auYs",
        "outputId": "1dbf4f47-09fd-4019-af9d-8469f62a8eb1"
      },
      "source": [
        "df2 = df2[df2.mb_used != 0]\n",
        "df2['mb_used'] = df2['mb_used'].apply(np.ceil)\n",
        "df2.head(5)"
      ],
      "execution_count": null,
      "outputs": [
        {
          "output_type": "execute_result",
          "data": {
            "text/html": [
              "<div>\n",
              "<style scoped>\n",
              "    .dataframe tbody tr th:only-of-type {\n",
              "        vertical-align: middle;\n",
              "    }\n",
              "\n",
              "    .dataframe tbody tr th {\n",
              "        vertical-align: top;\n",
              "    }\n",
              "\n",
              "    .dataframe thead th {\n",
              "        text-align: right;\n",
              "    }\n",
              "</style>\n",
              "<table border=\"1\" class=\"dataframe\">\n",
              "  <thead>\n",
              "    <tr style=\"text-align: right;\">\n",
              "      <th></th>\n",
              "      <th>id</th>\n",
              "      <th>mb_used</th>\n",
              "      <th>session_date</th>\n",
              "      <th>user_id</th>\n",
              "    </tr>\n",
              "  </thead>\n",
              "  <tbody>\n",
              "    <tr>\n",
              "      <td>0</td>\n",
              "      <td>1000_0</td>\n",
              "      <td>113.0</td>\n",
              "      <td>2018-11-25</td>\n",
              "      <td>1000</td>\n",
              "    </tr>\n",
              "    <tr>\n",
              "      <td>1</td>\n",
              "      <td>1000_1</td>\n",
              "      <td>1053.0</td>\n",
              "      <td>2018-09-07</td>\n",
              "      <td>1000</td>\n",
              "    </tr>\n",
              "    <tr>\n",
              "      <td>2</td>\n",
              "      <td>1000_2</td>\n",
              "      <td>1198.0</td>\n",
              "      <td>2018-06-25</td>\n",
              "      <td>1000</td>\n",
              "    </tr>\n",
              "    <tr>\n",
              "      <td>3</td>\n",
              "      <td>1000_3</td>\n",
              "      <td>551.0</td>\n",
              "      <td>2018-08-22</td>\n",
              "      <td>1000</td>\n",
              "    </tr>\n",
              "    <tr>\n",
              "      <td>4</td>\n",
              "      <td>1000_4</td>\n",
              "      <td>303.0</td>\n",
              "      <td>2018-09-24</td>\n",
              "      <td>1000</td>\n",
              "    </tr>\n",
              "  </tbody>\n",
              "</table>\n",
              "</div>"
            ],
            "text/plain": [
              "       id  mb_used session_date  user_id\n",
              "0  1000_0    113.0   2018-11-25     1000\n",
              "1  1000_1   1053.0   2018-09-07     1000\n",
              "2  1000_2   1198.0   2018-06-25     1000\n",
              "3  1000_3    551.0   2018-08-22     1000\n",
              "4  1000_4    303.0   2018-09-24     1000"
            ]
          },
          "metadata": {
            "tags": []
          },
          "execution_count": 6
        }
      ]
    },
    {
      "cell_type": "markdown",
      "metadata": {
        "id": "PvkrE9haauYt"
      },
      "source": [
        "Округлили значения mb_used до верхней границы - понадобится дальше для вычислений по расходам."
      ]
    },
    {
      "cell_type": "code",
      "metadata": {
        "id": "Cbetum0IauYu",
        "outputId": "e6535521-99cb-42aa-db01-aa9e602b6b13"
      },
      "source": [
        "display(df3.info())\n",
        "display(df3.head(5))"
      ],
      "execution_count": null,
      "outputs": [
        {
          "output_type": "stream",
          "text": [
            "<class 'pandas.core.frame.DataFrame'>\n",
            "RangeIndex: 123036 entries, 0 to 123035\n",
            "Data columns (total 3 columns):\n",
            "id              123036 non-null object\n",
            "message_date    123036 non-null object\n",
            "user_id         123036 non-null int64\n",
            "dtypes: int64(1), object(2)\n",
            "memory usage: 2.8+ MB\n"
          ],
          "name": "stdout"
        },
        {
          "output_type": "display_data",
          "data": {
            "text/plain": [
              "None"
            ]
          },
          "metadata": {
            "tags": []
          }
        },
        {
          "output_type": "display_data",
          "data": {
            "text/html": [
              "<div>\n",
              "<style scoped>\n",
              "    .dataframe tbody tr th:only-of-type {\n",
              "        vertical-align: middle;\n",
              "    }\n",
              "\n",
              "    .dataframe tbody tr th {\n",
              "        vertical-align: top;\n",
              "    }\n",
              "\n",
              "    .dataframe thead th {\n",
              "        text-align: right;\n",
              "    }\n",
              "</style>\n",
              "<table border=\"1\" class=\"dataframe\">\n",
              "  <thead>\n",
              "    <tr style=\"text-align: right;\">\n",
              "      <th></th>\n",
              "      <th>id</th>\n",
              "      <th>message_date</th>\n",
              "      <th>user_id</th>\n",
              "    </tr>\n",
              "  </thead>\n",
              "  <tbody>\n",
              "    <tr>\n",
              "      <td>0</td>\n",
              "      <td>1000_0</td>\n",
              "      <td>2018-06-27</td>\n",
              "      <td>1000</td>\n",
              "    </tr>\n",
              "    <tr>\n",
              "      <td>1</td>\n",
              "      <td>1000_1</td>\n",
              "      <td>2018-10-08</td>\n",
              "      <td>1000</td>\n",
              "    </tr>\n",
              "    <tr>\n",
              "      <td>2</td>\n",
              "      <td>1000_2</td>\n",
              "      <td>2018-08-04</td>\n",
              "      <td>1000</td>\n",
              "    </tr>\n",
              "    <tr>\n",
              "      <td>3</td>\n",
              "      <td>1000_3</td>\n",
              "      <td>2018-06-16</td>\n",
              "      <td>1000</td>\n",
              "    </tr>\n",
              "    <tr>\n",
              "      <td>4</td>\n",
              "      <td>1000_4</td>\n",
              "      <td>2018-12-05</td>\n",
              "      <td>1000</td>\n",
              "    </tr>\n",
              "  </tbody>\n",
              "</table>\n",
              "</div>"
            ],
            "text/plain": [
              "       id message_date  user_id\n",
              "0  1000_0   2018-06-27     1000\n",
              "1  1000_1   2018-10-08     1000\n",
              "2  1000_2   2018-08-04     1000\n",
              "3  1000_3   2018-06-16     1000\n",
              "4  1000_4   2018-12-05     1000"
            ]
          },
          "metadata": {
            "tags": []
          }
        }
      ]
    },
    {
      "cell_type": "markdown",
      "metadata": {
        "id": "zMKfI9UBauYv"
      },
      "source": [
        "Нет пропущенных значений, данные выглядят цельно. Нужно только поменять тип столбца message_date."
      ]
    },
    {
      "cell_type": "code",
      "metadata": {
        "id": "5aCe77tdauYw",
        "outputId": "5b093100-a735-4ebe-a5e8-d832b86cb35f"
      },
      "source": [
        "df3['message_date'] = pd.to_datetime(df3['message_date'], format='%Y-%m-%d')\n",
        "df3.info()"
      ],
      "execution_count": null,
      "outputs": [
        {
          "output_type": "stream",
          "text": [
            "<class 'pandas.core.frame.DataFrame'>\n",
            "RangeIndex: 123036 entries, 0 to 123035\n",
            "Data columns (total 3 columns):\n",
            "id              123036 non-null object\n",
            "message_date    123036 non-null datetime64[ns]\n",
            "user_id         123036 non-null int64\n",
            "dtypes: datetime64[ns](1), int64(1), object(1)\n",
            "memory usage: 2.8+ MB\n"
          ],
          "name": "stdout"
        }
      ]
    },
    {
      "cell_type": "markdown",
      "metadata": {
        "id": "RvXxALEWauYx"
      },
      "source": [
        "Поменяли тип столбца message_date на datetime64."
      ]
    },
    {
      "cell_type": "code",
      "metadata": {
        "id": "zyhsyJCsauYx",
        "outputId": "d6e7928e-7fac-465c-a32e-c2715b1ec779"
      },
      "source": [
        "display(df4.info())\n",
        "display(df4.head(5))"
      ],
      "execution_count": null,
      "outputs": [
        {
          "output_type": "stream",
          "text": [
            "<class 'pandas.core.frame.DataFrame'>\n",
            "RangeIndex: 2 entries, 0 to 1\n",
            "Data columns (total 8 columns):\n",
            "messages_included        2 non-null int64\n",
            "mb_per_month_included    2 non-null int64\n",
            "minutes_included         2 non-null int64\n",
            "rub_monthly_fee          2 non-null int64\n",
            "rub_per_gb               2 non-null int64\n",
            "rub_per_message          2 non-null int64\n",
            "rub_per_minute           2 non-null int64\n",
            "tariff_name              2 non-null object\n",
            "dtypes: int64(7), object(1)\n",
            "memory usage: 256.0+ bytes\n"
          ],
          "name": "stdout"
        },
        {
          "output_type": "display_data",
          "data": {
            "text/plain": [
              "None"
            ]
          },
          "metadata": {
            "tags": []
          }
        },
        {
          "output_type": "display_data",
          "data": {
            "text/html": [
              "<div>\n",
              "<style scoped>\n",
              "    .dataframe tbody tr th:only-of-type {\n",
              "        vertical-align: middle;\n",
              "    }\n",
              "\n",
              "    .dataframe tbody tr th {\n",
              "        vertical-align: top;\n",
              "    }\n",
              "\n",
              "    .dataframe thead th {\n",
              "        text-align: right;\n",
              "    }\n",
              "</style>\n",
              "<table border=\"1\" class=\"dataframe\">\n",
              "  <thead>\n",
              "    <tr style=\"text-align: right;\">\n",
              "      <th></th>\n",
              "      <th>messages_included</th>\n",
              "      <th>mb_per_month_included</th>\n",
              "      <th>minutes_included</th>\n",
              "      <th>rub_monthly_fee</th>\n",
              "      <th>rub_per_gb</th>\n",
              "      <th>rub_per_message</th>\n",
              "      <th>rub_per_minute</th>\n",
              "      <th>tariff_name</th>\n",
              "    </tr>\n",
              "  </thead>\n",
              "  <tbody>\n",
              "    <tr>\n",
              "      <td>0</td>\n",
              "      <td>50</td>\n",
              "      <td>15360</td>\n",
              "      <td>500</td>\n",
              "      <td>550</td>\n",
              "      <td>200</td>\n",
              "      <td>3</td>\n",
              "      <td>3</td>\n",
              "      <td>smart</td>\n",
              "    </tr>\n",
              "    <tr>\n",
              "      <td>1</td>\n",
              "      <td>1000</td>\n",
              "      <td>30720</td>\n",
              "      <td>3000</td>\n",
              "      <td>1950</td>\n",
              "      <td>150</td>\n",
              "      <td>1</td>\n",
              "      <td>1</td>\n",
              "      <td>ultra</td>\n",
              "    </tr>\n",
              "  </tbody>\n",
              "</table>\n",
              "</div>"
            ],
            "text/plain": [
              "   messages_included  mb_per_month_included  minutes_included  \\\n",
              "0                 50                  15360               500   \n",
              "1               1000                  30720              3000   \n",
              "\n",
              "   rub_monthly_fee  rub_per_gb  rub_per_message  rub_per_minute tariff_name  \n",
              "0              550         200                3               3       smart  \n",
              "1             1950         150                1               1       ultra  "
            ]
          },
          "metadata": {
            "tags": []
          }
        }
      ]
    },
    {
      "cell_type": "markdown",
      "metadata": {
        "id": "rvumWISDauYy"
      },
      "source": [
        "С таблицей о тарифах все хорошо."
      ]
    },
    {
      "cell_type": "code",
      "metadata": {
        "id": "2JYzy9YJauYz",
        "outputId": "096baf2a-7e62-4341-dbfc-2fc7dc1abada"
      },
      "source": [
        "display(df5.info())\n",
        "display(df5.head(5))"
      ],
      "execution_count": null,
      "outputs": [
        {
          "output_type": "stream",
          "text": [
            "<class 'pandas.core.frame.DataFrame'>\n",
            "RangeIndex: 500 entries, 0 to 499\n",
            "Data columns (total 8 columns):\n",
            "user_id       500 non-null int64\n",
            "age           500 non-null int64\n",
            "churn_date    38 non-null object\n",
            "city          500 non-null object\n",
            "first_name    500 non-null object\n",
            "last_name     500 non-null object\n",
            "reg_date      500 non-null object\n",
            "tariff        500 non-null object\n",
            "dtypes: int64(2), object(6)\n",
            "memory usage: 31.4+ KB\n"
          ],
          "name": "stdout"
        },
        {
          "output_type": "display_data",
          "data": {
            "text/plain": [
              "None"
            ]
          },
          "metadata": {
            "tags": []
          }
        },
        {
          "output_type": "display_data",
          "data": {
            "text/html": [
              "<div>\n",
              "<style scoped>\n",
              "    .dataframe tbody tr th:only-of-type {\n",
              "        vertical-align: middle;\n",
              "    }\n",
              "\n",
              "    .dataframe tbody tr th {\n",
              "        vertical-align: top;\n",
              "    }\n",
              "\n",
              "    .dataframe thead th {\n",
              "        text-align: right;\n",
              "    }\n",
              "</style>\n",
              "<table border=\"1\" class=\"dataframe\">\n",
              "  <thead>\n",
              "    <tr style=\"text-align: right;\">\n",
              "      <th></th>\n",
              "      <th>user_id</th>\n",
              "      <th>age</th>\n",
              "      <th>churn_date</th>\n",
              "      <th>city</th>\n",
              "      <th>first_name</th>\n",
              "      <th>last_name</th>\n",
              "      <th>reg_date</th>\n",
              "      <th>tariff</th>\n",
              "    </tr>\n",
              "  </thead>\n",
              "  <tbody>\n",
              "    <tr>\n",
              "      <td>0</td>\n",
              "      <td>1000</td>\n",
              "      <td>52</td>\n",
              "      <td>NaN</td>\n",
              "      <td>Краснодар</td>\n",
              "      <td>Рафаил</td>\n",
              "      <td>Верещагин</td>\n",
              "      <td>2018-05-25</td>\n",
              "      <td>ultra</td>\n",
              "    </tr>\n",
              "    <tr>\n",
              "      <td>1</td>\n",
              "      <td>1001</td>\n",
              "      <td>41</td>\n",
              "      <td>NaN</td>\n",
              "      <td>Москва</td>\n",
              "      <td>Иван</td>\n",
              "      <td>Ежов</td>\n",
              "      <td>2018-11-01</td>\n",
              "      <td>smart</td>\n",
              "    </tr>\n",
              "    <tr>\n",
              "      <td>2</td>\n",
              "      <td>1002</td>\n",
              "      <td>59</td>\n",
              "      <td>NaN</td>\n",
              "      <td>Стерлитамак</td>\n",
              "      <td>Евгений</td>\n",
              "      <td>Абрамович</td>\n",
              "      <td>2018-06-17</td>\n",
              "      <td>smart</td>\n",
              "    </tr>\n",
              "    <tr>\n",
              "      <td>3</td>\n",
              "      <td>1003</td>\n",
              "      <td>23</td>\n",
              "      <td>NaN</td>\n",
              "      <td>Москва</td>\n",
              "      <td>Белла</td>\n",
              "      <td>Белякова</td>\n",
              "      <td>2018-08-17</td>\n",
              "      <td>ultra</td>\n",
              "    </tr>\n",
              "    <tr>\n",
              "      <td>4</td>\n",
              "      <td>1004</td>\n",
              "      <td>68</td>\n",
              "      <td>NaN</td>\n",
              "      <td>Новокузнецк</td>\n",
              "      <td>Татьяна</td>\n",
              "      <td>Авдеенко</td>\n",
              "      <td>2018-05-14</td>\n",
              "      <td>ultra</td>\n",
              "    </tr>\n",
              "  </tbody>\n",
              "</table>\n",
              "</div>"
            ],
            "text/plain": [
              "   user_id  age churn_date         city first_name  last_name    reg_date  \\\n",
              "0     1000   52        NaN    Краснодар     Рафаил  Верещагин  2018-05-25   \n",
              "1     1001   41        NaN       Москва       Иван       Ежов  2018-11-01   \n",
              "2     1002   59        NaN  Стерлитамак    Евгений  Абрамович  2018-06-17   \n",
              "3     1003   23        NaN       Москва      Белла   Белякова  2018-08-17   \n",
              "4     1004   68        NaN  Новокузнецк    Татьяна   Авдеенко  2018-05-14   \n",
              "\n",
              "  tariff  \n",
              "0  ultra  \n",
              "1  smart  \n",
              "2  smart  \n",
              "3  ultra  \n",
              "4  ultra  "
            ]
          },
          "metadata": {
            "tags": []
          }
        }
      ]
    },
    {
      "cell_type": "markdown",
      "metadata": {
        "id": "ogrsiyhQauY0"
      },
      "source": [
        "38 пользователей прекратили пользоваться тарифом. Так как у нас собраны пользователи, которые перешли на тариф в разное время: и в начале, и в середине года, и в конце, то нам нет смысла удалять из выборки тех, кто с тарифа ушел."
      ]
    },
    {
      "cell_type": "code",
      "metadata": {
        "id": "p9zTZ4qaauY1",
        "outputId": "86d7ce10-289b-4007-997f-fec269567b23"
      },
      "source": [
        "dfr = df1.groupby(['user_id', df1['call_date'].dt.month]).agg({'duration': ['count', 'sum']}).reset_index()\n",
        "dfr.columns = ['user_id', 'date', 'call_count', 'call_minutes']\n",
        "display(dfr);\n",
        "dfr.info()"
      ],
      "execution_count": null,
      "outputs": [
        {
          "output_type": "display_data",
          "data": {
            "text/html": [
              "<div>\n",
              "<style scoped>\n",
              "    .dataframe tbody tr th:only-of-type {\n",
              "        vertical-align: middle;\n",
              "    }\n",
              "\n",
              "    .dataframe tbody tr th {\n",
              "        vertical-align: top;\n",
              "    }\n",
              "\n",
              "    .dataframe thead th {\n",
              "        text-align: right;\n",
              "    }\n",
              "</style>\n",
              "<table border=\"1\" class=\"dataframe\">\n",
              "  <thead>\n",
              "    <tr style=\"text-align: right;\">\n",
              "      <th></th>\n",
              "      <th>user_id</th>\n",
              "      <th>date</th>\n",
              "      <th>call_count</th>\n",
              "      <th>call_minutes</th>\n",
              "    </tr>\n",
              "  </thead>\n",
              "  <tbody>\n",
              "    <tr>\n",
              "      <td>0</td>\n",
              "      <td>1000</td>\n",
              "      <td>5</td>\n",
              "      <td>17</td>\n",
              "      <td>159.0</td>\n",
              "    </tr>\n",
              "    <tr>\n",
              "      <td>1</td>\n",
              "      <td>1000</td>\n",
              "      <td>6</td>\n",
              "      <td>28</td>\n",
              "      <td>172.0</td>\n",
              "    </tr>\n",
              "    <tr>\n",
              "      <td>2</td>\n",
              "      <td>1000</td>\n",
              "      <td>7</td>\n",
              "      <td>41</td>\n",
              "      <td>340.0</td>\n",
              "    </tr>\n",
              "    <tr>\n",
              "      <td>3</td>\n",
              "      <td>1000</td>\n",
              "      <td>8</td>\n",
              "      <td>42</td>\n",
              "      <td>408.0</td>\n",
              "    </tr>\n",
              "    <tr>\n",
              "      <td>4</td>\n",
              "      <td>1000</td>\n",
              "      <td>9</td>\n",
              "      <td>46</td>\n",
              "      <td>466.0</td>\n",
              "    </tr>\n",
              "    <tr>\n",
              "      <td>...</td>\n",
              "      <td>...</td>\n",
              "      <td>...</td>\n",
              "      <td>...</td>\n",
              "      <td>...</td>\n",
              "    </tr>\n",
              "    <tr>\n",
              "      <td>3163</td>\n",
              "      <td>1498</td>\n",
              "      <td>10</td>\n",
              "      <td>30</td>\n",
              "      <td>247.0</td>\n",
              "    </tr>\n",
              "    <tr>\n",
              "      <td>3164</td>\n",
              "      <td>1499</td>\n",
              "      <td>9</td>\n",
              "      <td>8</td>\n",
              "      <td>70.0</td>\n",
              "    </tr>\n",
              "    <tr>\n",
              "      <td>3165</td>\n",
              "      <td>1499</td>\n",
              "      <td>10</td>\n",
              "      <td>44</td>\n",
              "      <td>449.0</td>\n",
              "    </tr>\n",
              "    <tr>\n",
              "      <td>3166</td>\n",
              "      <td>1499</td>\n",
              "      <td>11</td>\n",
              "      <td>62</td>\n",
              "      <td>612.0</td>\n",
              "    </tr>\n",
              "    <tr>\n",
              "      <td>3167</td>\n",
              "      <td>1499</td>\n",
              "      <td>12</td>\n",
              "      <td>56</td>\n",
              "      <td>492.0</td>\n",
              "    </tr>\n",
              "  </tbody>\n",
              "</table>\n",
              "<p>3168 rows × 4 columns</p>\n",
              "</div>"
            ],
            "text/plain": [
              "      user_id  date  call_count  call_minutes\n",
              "0        1000     5          17         159.0\n",
              "1        1000     6          28         172.0\n",
              "2        1000     7          41         340.0\n",
              "3        1000     8          42         408.0\n",
              "4        1000     9          46         466.0\n",
              "...       ...   ...         ...           ...\n",
              "3163     1498    10          30         247.0\n",
              "3164     1499     9           8          70.0\n",
              "3165     1499    10          44         449.0\n",
              "3166     1499    11          62         612.0\n",
              "3167     1499    12          56         492.0\n",
              "\n",
              "[3168 rows x 4 columns]"
            ]
          },
          "metadata": {
            "tags": []
          }
        },
        {
          "output_type": "stream",
          "text": [
            "<class 'pandas.core.frame.DataFrame'>\n",
            "RangeIndex: 3168 entries, 0 to 3167\n",
            "Data columns (total 4 columns):\n",
            "user_id         3168 non-null int64\n",
            "date            3168 non-null int64\n",
            "call_count      3168 non-null int64\n",
            "call_minutes    3168 non-null float64\n",
            "dtypes: float64(1), int64(3)\n",
            "memory usage: 99.1 KB\n"
          ],
          "name": "stdout"
        }
      ]
    },
    {
      "cell_type": "markdown",
      "metadata": {
        "id": "7gbgwdiKauY2"
      },
      "source": [
        "Сгруппировали таблицу message по пользователям и месяцу - получили количество звонков и использованных минут пользователями за каждый месяц."
      ]
    },
    {
      "cell_type": "code",
      "metadata": {
        "id": "m5ocCV2GauY2",
        "outputId": "94d98359-8e92-4e8f-98ca-a3e5078ce8bb"
      },
      "source": [
        "df3_grouped = df3.groupby(['user_id', df3['message_date'].dt.month]).agg({'id': ['count']}).reset_index()\n",
        "df3_grouped.columns = ['user_id', 'date', 'message_count']\n",
        "dfr = dfr.merge(df3_grouped, on=['user_id', 'date'], how='outer')\n",
        "display(dfr)"
      ],
      "execution_count": null,
      "outputs": [
        {
          "output_type": "display_data",
          "data": {
            "text/html": [
              "<div>\n",
              "<style scoped>\n",
              "    .dataframe tbody tr th:only-of-type {\n",
              "        vertical-align: middle;\n",
              "    }\n",
              "\n",
              "    .dataframe tbody tr th {\n",
              "        vertical-align: top;\n",
              "    }\n",
              "\n",
              "    .dataframe thead th {\n",
              "        text-align: right;\n",
              "    }\n",
              "</style>\n",
              "<table border=\"1\" class=\"dataframe\">\n",
              "  <thead>\n",
              "    <tr style=\"text-align: right;\">\n",
              "      <th></th>\n",
              "      <th>user_id</th>\n",
              "      <th>date</th>\n",
              "      <th>call_count</th>\n",
              "      <th>call_minutes</th>\n",
              "      <th>message_count</th>\n",
              "    </tr>\n",
              "  </thead>\n",
              "  <tbody>\n",
              "    <tr>\n",
              "      <td>0</td>\n",
              "      <td>1000</td>\n",
              "      <td>5</td>\n",
              "      <td>17.0</td>\n",
              "      <td>159.0</td>\n",
              "      <td>22.0</td>\n",
              "    </tr>\n",
              "    <tr>\n",
              "      <td>1</td>\n",
              "      <td>1000</td>\n",
              "      <td>6</td>\n",
              "      <td>28.0</td>\n",
              "      <td>172.0</td>\n",
              "      <td>60.0</td>\n",
              "    </tr>\n",
              "    <tr>\n",
              "      <td>2</td>\n",
              "      <td>1000</td>\n",
              "      <td>7</td>\n",
              "      <td>41.0</td>\n",
              "      <td>340.0</td>\n",
              "      <td>75.0</td>\n",
              "    </tr>\n",
              "    <tr>\n",
              "      <td>3</td>\n",
              "      <td>1000</td>\n",
              "      <td>8</td>\n",
              "      <td>42.0</td>\n",
              "      <td>408.0</td>\n",
              "      <td>81.0</td>\n",
              "    </tr>\n",
              "    <tr>\n",
              "      <td>4</td>\n",
              "      <td>1000</td>\n",
              "      <td>9</td>\n",
              "      <td>46.0</td>\n",
              "      <td>466.0</td>\n",
              "      <td>57.0</td>\n",
              "    </tr>\n",
              "    <tr>\n",
              "      <td>...</td>\n",
              "      <td>...</td>\n",
              "      <td>...</td>\n",
              "      <td>...</td>\n",
              "      <td>...</td>\n",
              "      <td>...</td>\n",
              "    </tr>\n",
              "    <tr>\n",
              "      <td>3207</td>\n",
              "      <td>1489</td>\n",
              "      <td>8</td>\n",
              "      <td>NaN</td>\n",
              "      <td>NaN</td>\n",
              "      <td>17.0</td>\n",
              "    </tr>\n",
              "    <tr>\n",
              "      <td>3208</td>\n",
              "      <td>1489</td>\n",
              "      <td>9</td>\n",
              "      <td>NaN</td>\n",
              "      <td>NaN</td>\n",
              "      <td>32.0</td>\n",
              "    </tr>\n",
              "    <tr>\n",
              "      <td>3209</td>\n",
              "      <td>1489</td>\n",
              "      <td>10</td>\n",
              "      <td>NaN</td>\n",
              "      <td>NaN</td>\n",
              "      <td>21.0</td>\n",
              "    </tr>\n",
              "    <tr>\n",
              "      <td>3210</td>\n",
              "      <td>1489</td>\n",
              "      <td>11</td>\n",
              "      <td>NaN</td>\n",
              "      <td>NaN</td>\n",
              "      <td>20.0</td>\n",
              "    </tr>\n",
              "    <tr>\n",
              "      <td>3211</td>\n",
              "      <td>1489</td>\n",
              "      <td>12</td>\n",
              "      <td>NaN</td>\n",
              "      <td>NaN</td>\n",
              "      <td>35.0</td>\n",
              "    </tr>\n",
              "  </tbody>\n",
              "</table>\n",
              "<p>3212 rows × 5 columns</p>\n",
              "</div>"
            ],
            "text/plain": [
              "      user_id  date  call_count  call_minutes  message_count\n",
              "0        1000     5        17.0         159.0           22.0\n",
              "1        1000     6        28.0         172.0           60.0\n",
              "2        1000     7        41.0         340.0           75.0\n",
              "3        1000     8        42.0         408.0           81.0\n",
              "4        1000     9        46.0         466.0           57.0\n",
              "...       ...   ...         ...           ...            ...\n",
              "3207     1489     8         NaN           NaN           17.0\n",
              "3208     1489     9         NaN           NaN           32.0\n",
              "3209     1489    10         NaN           NaN           21.0\n",
              "3210     1489    11         NaN           NaN           20.0\n",
              "3211     1489    12         NaN           NaN           35.0\n",
              "\n",
              "[3212 rows x 5 columns]"
            ]
          },
          "metadata": {
            "tags": []
          }
        }
      ]
    },
    {
      "cell_type": "markdown",
      "metadata": {
        "id": "TFMl93f_auY3"
      },
      "source": [
        "Добавили в таблицу количество сообщений, которое было отправлено абонентами за месяц."
      ]
    },
    {
      "cell_type": "code",
      "metadata": {
        "id": "n09JaO-2auY4",
        "outputId": "a2e0d07e-5f96-4ec5-b422-6d6b745ca234"
      },
      "source": [
        "df2_grouped = df2.groupby(['user_id', df2['session_date'].dt.month]).agg({'mb_used': ['sum']}).reset_index()\n",
        "df2_grouped.columns = ['user_id', 'date', 'mb_used']\n",
        "dfr = dfr.merge(df2_grouped, on=['user_id', 'date'], how='outer')\n",
        "dfr = dfr.merge(df5[['user_id', 'tariff']], on='user_id', how='left')\n",
        "display(dfr.head(10))\n",
        "display(dfr[dfr.isna().any(axis=1)].sample(10,random_state=42))"
      ],
      "execution_count": null,
      "outputs": [
        {
          "output_type": "display_data",
          "data": {
            "text/html": [
              "<div>\n",
              "<style scoped>\n",
              "    .dataframe tbody tr th:only-of-type {\n",
              "        vertical-align: middle;\n",
              "    }\n",
              "\n",
              "    .dataframe tbody tr th {\n",
              "        vertical-align: top;\n",
              "    }\n",
              "\n",
              "    .dataframe thead th {\n",
              "        text-align: right;\n",
              "    }\n",
              "</style>\n",
              "<table border=\"1\" class=\"dataframe\">\n",
              "  <thead>\n",
              "    <tr style=\"text-align: right;\">\n",
              "      <th></th>\n",
              "      <th>user_id</th>\n",
              "      <th>date</th>\n",
              "      <th>call_count</th>\n",
              "      <th>call_minutes</th>\n",
              "      <th>message_count</th>\n",
              "      <th>mb_used</th>\n",
              "      <th>tariff</th>\n",
              "    </tr>\n",
              "  </thead>\n",
              "  <tbody>\n",
              "    <tr>\n",
              "      <td>0</td>\n",
              "      <td>1000</td>\n",
              "      <td>5</td>\n",
              "      <td>17.0</td>\n",
              "      <td>159.0</td>\n",
              "      <td>22.0</td>\n",
              "      <td>2256.0</td>\n",
              "      <td>ultra</td>\n",
              "    </tr>\n",
              "    <tr>\n",
              "      <td>1</td>\n",
              "      <td>1000</td>\n",
              "      <td>6</td>\n",
              "      <td>28.0</td>\n",
              "      <td>172.0</td>\n",
              "      <td>60.0</td>\n",
              "      <td>23257.0</td>\n",
              "      <td>ultra</td>\n",
              "    </tr>\n",
              "    <tr>\n",
              "      <td>2</td>\n",
              "      <td>1000</td>\n",
              "      <td>7</td>\n",
              "      <td>41.0</td>\n",
              "      <td>340.0</td>\n",
              "      <td>75.0</td>\n",
              "      <td>14016.0</td>\n",
              "      <td>ultra</td>\n",
              "    </tr>\n",
              "    <tr>\n",
              "      <td>3</td>\n",
              "      <td>1000</td>\n",
              "      <td>8</td>\n",
              "      <td>42.0</td>\n",
              "      <td>408.0</td>\n",
              "      <td>81.0</td>\n",
              "      <td>14070.0</td>\n",
              "      <td>ultra</td>\n",
              "    </tr>\n",
              "    <tr>\n",
              "      <td>4</td>\n",
              "      <td>1000</td>\n",
              "      <td>9</td>\n",
              "      <td>46.0</td>\n",
              "      <td>466.0</td>\n",
              "      <td>57.0</td>\n",
              "      <td>14581.0</td>\n",
              "      <td>ultra</td>\n",
              "    </tr>\n",
              "    <tr>\n",
              "      <td>5</td>\n",
              "      <td>1000</td>\n",
              "      <td>10</td>\n",
              "      <td>44.0</td>\n",
              "      <td>350.0</td>\n",
              "      <td>73.0</td>\n",
              "      <td>14717.0</td>\n",
              "      <td>ultra</td>\n",
              "    </tr>\n",
              "    <tr>\n",
              "      <td>6</td>\n",
              "      <td>1000</td>\n",
              "      <td>11</td>\n",
              "      <td>37.0</td>\n",
              "      <td>338.0</td>\n",
              "      <td>58.0</td>\n",
              "      <td>14768.0</td>\n",
              "      <td>ultra</td>\n",
              "    </tr>\n",
              "    <tr>\n",
              "      <td>7</td>\n",
              "      <td>1000</td>\n",
              "      <td>12</td>\n",
              "      <td>38.0</td>\n",
              "      <td>333.0</td>\n",
              "      <td>70.0</td>\n",
              "      <td>9827.0</td>\n",
              "      <td>ultra</td>\n",
              "    </tr>\n",
              "    <tr>\n",
              "      <td>8</td>\n",
              "      <td>1001</td>\n",
              "      <td>11</td>\n",
              "      <td>45.0</td>\n",
              "      <td>430.0</td>\n",
              "      <td>NaN</td>\n",
              "      <td>18452.0</td>\n",
              "      <td>smart</td>\n",
              "    </tr>\n",
              "    <tr>\n",
              "      <td>9</td>\n",
              "      <td>1001</td>\n",
              "      <td>12</td>\n",
              "      <td>47.0</td>\n",
              "      <td>414.0</td>\n",
              "      <td>NaN</td>\n",
              "      <td>14053.0</td>\n",
              "      <td>smart</td>\n",
              "    </tr>\n",
              "  </tbody>\n",
              "</table>\n",
              "</div>"
            ],
            "text/plain": [
              "   user_id  date  call_count  call_minutes  message_count  mb_used tariff\n",
              "0     1000     5        17.0         159.0           22.0   2256.0  ultra\n",
              "1     1000     6        28.0         172.0           60.0  23257.0  ultra\n",
              "2     1000     7        41.0         340.0           75.0  14016.0  ultra\n",
              "3     1000     8        42.0         408.0           81.0  14070.0  ultra\n",
              "4     1000     9        46.0         466.0           57.0  14581.0  ultra\n",
              "5     1000    10        44.0         350.0           73.0  14717.0  ultra\n",
              "6     1000    11        37.0         338.0           58.0  14768.0  ultra\n",
              "7     1000    12        38.0         333.0           70.0   9827.0  ultra\n",
              "8     1001    11        45.0         430.0            NaN  18452.0  smart\n",
              "9     1001    12        47.0         414.0            NaN  14053.0  smart"
            ]
          },
          "metadata": {
            "tags": []
          }
        },
        {
          "output_type": "display_data",
          "data": {
            "text/html": [
              "<div>\n",
              "<style scoped>\n",
              "    .dataframe tbody tr th:only-of-type {\n",
              "        vertical-align: middle;\n",
              "    }\n",
              "\n",
              "    .dataframe tbody tr th {\n",
              "        vertical-align: top;\n",
              "    }\n",
              "\n",
              "    .dataframe thead th {\n",
              "        text-align: right;\n",
              "    }\n",
              "</style>\n",
              "<table border=\"1\" class=\"dataframe\">\n",
              "  <thead>\n",
              "    <tr style=\"text-align: right;\">\n",
              "      <th></th>\n",
              "      <th>user_id</th>\n",
              "      <th>date</th>\n",
              "      <th>call_count</th>\n",
              "      <th>call_minutes</th>\n",
              "      <th>message_count</th>\n",
              "      <th>mb_used</th>\n",
              "      <th>tariff</th>\n",
              "    </tr>\n",
              "  </thead>\n",
              "  <tbody>\n",
              "    <tr>\n",
              "      <td>634</td>\n",
              "      <td>1101</td>\n",
              "      <td>7</td>\n",
              "      <td>57.0</td>\n",
              "      <td>535.0</td>\n",
              "      <td>NaN</td>\n",
              "      <td>8623.0</td>\n",
              "      <td>smart</td>\n",
              "    </tr>\n",
              "    <tr>\n",
              "      <td>632</td>\n",
              "      <td>1101</td>\n",
              "      <td>5</td>\n",
              "      <td>22.0</td>\n",
              "      <td>198.0</td>\n",
              "      <td>NaN</td>\n",
              "      <td>3281.0</td>\n",
              "      <td>smart</td>\n",
              "    </tr>\n",
              "    <tr>\n",
              "      <td>1416</td>\n",
              "      <td>1225</td>\n",
              "      <td>7</td>\n",
              "      <td>60.0</td>\n",
              "      <td>521.0</td>\n",
              "      <td>NaN</td>\n",
              "      <td>20174.0</td>\n",
              "      <td>ultra</td>\n",
              "    </tr>\n",
              "    <tr>\n",
              "      <td>2777</td>\n",
              "      <td>1435</td>\n",
              "      <td>10</td>\n",
              "      <td>35.0</td>\n",
              "      <td>318.0</td>\n",
              "      <td>NaN</td>\n",
              "      <td>18860.0</td>\n",
              "      <td>smart</td>\n",
              "    </tr>\n",
              "    <tr>\n",
              "      <td>977</td>\n",
              "      <td>1157</td>\n",
              "      <td>2</td>\n",
              "      <td>7.0</td>\n",
              "      <td>90.0</td>\n",
              "      <td>NaN</td>\n",
              "      <td>3395.0</td>\n",
              "      <td>smart</td>\n",
              "    </tr>\n",
              "    <tr>\n",
              "      <td>3209</td>\n",
              "      <td>1489</td>\n",
              "      <td>10</td>\n",
              "      <td>NaN</td>\n",
              "      <td>NaN</td>\n",
              "      <td>21.0</td>\n",
              "      <td>19588.0</td>\n",
              "      <td>smart</td>\n",
              "    </tr>\n",
              "    <tr>\n",
              "      <td>755</td>\n",
              "      <td>1120</td>\n",
              "      <td>7</td>\n",
              "      <td>33.0</td>\n",
              "      <td>317.0</td>\n",
              "      <td>NaN</td>\n",
              "      <td>14263.0</td>\n",
              "      <td>ultra</td>\n",
              "    </tr>\n",
              "    <tr>\n",
              "      <td>637</td>\n",
              "      <td>1101</td>\n",
              "      <td>10</td>\n",
              "      <td>68.0</td>\n",
              "      <td>530.0</td>\n",
              "      <td>NaN</td>\n",
              "      <td>13787.0</td>\n",
              "      <td>smart</td>\n",
              "    </tr>\n",
              "    <tr>\n",
              "      <td>810</td>\n",
              "      <td>1129</td>\n",
              "      <td>12</td>\n",
              "      <td>48.0</td>\n",
              "      <td>452.0</td>\n",
              "      <td>NaN</td>\n",
              "      <td>16468.0</td>\n",
              "      <td>smart</td>\n",
              "    </tr>\n",
              "    <tr>\n",
              "      <td>2296</td>\n",
              "      <td>1370</td>\n",
              "      <td>5</td>\n",
              "      <td>20.0</td>\n",
              "      <td>208.0</td>\n",
              "      <td>NaN</td>\n",
              "      <td>13605.0</td>\n",
              "      <td>smart</td>\n",
              "    </tr>\n",
              "  </tbody>\n",
              "</table>\n",
              "</div>"
            ],
            "text/plain": [
              "      user_id  date  call_count  call_minutes  message_count  mb_used tariff\n",
              "634      1101     7        57.0         535.0            NaN   8623.0  smart\n",
              "632      1101     5        22.0         198.0            NaN   3281.0  smart\n",
              "1416     1225     7        60.0         521.0            NaN  20174.0  ultra\n",
              "2777     1435    10        35.0         318.0            NaN  18860.0  smart\n",
              "977      1157     2         7.0          90.0            NaN   3395.0  smart\n",
              "3209     1489    10         NaN           NaN           21.0  19588.0  smart\n",
              "755      1120     7        33.0         317.0            NaN  14263.0  ultra\n",
              "637      1101    10        68.0         530.0            NaN  13787.0  smart\n",
              "810      1129    12        48.0         452.0            NaN  16468.0  smart\n",
              "2296     1370     5        20.0         208.0            NaN  13605.0  smart"
            ]
          },
          "metadata": {
            "tags": []
          }
        }
      ]
    },
    {
      "cell_type": "markdown",
      "metadata": {
        "id": "fPNFfb04auY4"
      },
      "source": [
        "Добавили в таблицу количество израсходованных мегабайт в месяц и тариф. В таблице появились пропущенные значения - больше всего их в столбце с количеством отправленных сообщений. Сообщения отправляют все реже, так как пользуются мессенджерами. Заполним пропущенные значения нулями."
      ]
    },
    {
      "cell_type": "code",
      "metadata": {
        "id": "ev3maS34auY5",
        "outputId": "050e72cd-843d-4be8-8461-f8ee0f58e1ee"
      },
      "source": [
        "dfr.fillna(0)"
      ],
      "execution_count": null,
      "outputs": [
        {
          "output_type": "execute_result",
          "data": {
            "text/html": [
              "<div>\n",
              "<style scoped>\n",
              "    .dataframe tbody tr th:only-of-type {\n",
              "        vertical-align: middle;\n",
              "    }\n",
              "\n",
              "    .dataframe tbody tr th {\n",
              "        vertical-align: top;\n",
              "    }\n",
              "\n",
              "    .dataframe thead th {\n",
              "        text-align: right;\n",
              "    }\n",
              "</style>\n",
              "<table border=\"1\" class=\"dataframe\">\n",
              "  <thead>\n",
              "    <tr style=\"text-align: right;\">\n",
              "      <th></th>\n",
              "      <th>user_id</th>\n",
              "      <th>date</th>\n",
              "      <th>call_count</th>\n",
              "      <th>call_minutes</th>\n",
              "      <th>message_count</th>\n",
              "      <th>mb_used</th>\n",
              "      <th>tariff</th>\n",
              "    </tr>\n",
              "  </thead>\n",
              "  <tbody>\n",
              "    <tr>\n",
              "      <td>0</td>\n",
              "      <td>1000</td>\n",
              "      <td>5</td>\n",
              "      <td>17.0</td>\n",
              "      <td>159.0</td>\n",
              "      <td>22.0</td>\n",
              "      <td>2256.0</td>\n",
              "      <td>ultra</td>\n",
              "    </tr>\n",
              "    <tr>\n",
              "      <td>1</td>\n",
              "      <td>1000</td>\n",
              "      <td>6</td>\n",
              "      <td>28.0</td>\n",
              "      <td>172.0</td>\n",
              "      <td>60.0</td>\n",
              "      <td>23257.0</td>\n",
              "      <td>ultra</td>\n",
              "    </tr>\n",
              "    <tr>\n",
              "      <td>2</td>\n",
              "      <td>1000</td>\n",
              "      <td>7</td>\n",
              "      <td>41.0</td>\n",
              "      <td>340.0</td>\n",
              "      <td>75.0</td>\n",
              "      <td>14016.0</td>\n",
              "      <td>ultra</td>\n",
              "    </tr>\n",
              "    <tr>\n",
              "      <td>3</td>\n",
              "      <td>1000</td>\n",
              "      <td>8</td>\n",
              "      <td>42.0</td>\n",
              "      <td>408.0</td>\n",
              "      <td>81.0</td>\n",
              "      <td>14070.0</td>\n",
              "      <td>ultra</td>\n",
              "    </tr>\n",
              "    <tr>\n",
              "      <td>4</td>\n",
              "      <td>1000</td>\n",
              "      <td>9</td>\n",
              "      <td>46.0</td>\n",
              "      <td>466.0</td>\n",
              "      <td>57.0</td>\n",
              "      <td>14581.0</td>\n",
              "      <td>ultra</td>\n",
              "    </tr>\n",
              "    <tr>\n",
              "      <td>...</td>\n",
              "      <td>...</td>\n",
              "      <td>...</td>\n",
              "      <td>...</td>\n",
              "      <td>...</td>\n",
              "      <td>...</td>\n",
              "      <td>...</td>\n",
              "      <td>...</td>\n",
              "    </tr>\n",
              "    <tr>\n",
              "      <td>3209</td>\n",
              "      <td>1489</td>\n",
              "      <td>10</td>\n",
              "      <td>0.0</td>\n",
              "      <td>0.0</td>\n",
              "      <td>21.0</td>\n",
              "      <td>19588.0</td>\n",
              "      <td>smart</td>\n",
              "    </tr>\n",
              "    <tr>\n",
              "      <td>3210</td>\n",
              "      <td>1489</td>\n",
              "      <td>11</td>\n",
              "      <td>0.0</td>\n",
              "      <td>0.0</td>\n",
              "      <td>20.0</td>\n",
              "      <td>17516.0</td>\n",
              "      <td>smart</td>\n",
              "    </tr>\n",
              "    <tr>\n",
              "      <td>3211</td>\n",
              "      <td>1489</td>\n",
              "      <td>12</td>\n",
              "      <td>0.0</td>\n",
              "      <td>0.0</td>\n",
              "      <td>35.0</td>\n",
              "      <td>17341.0</td>\n",
              "      <td>smart</td>\n",
              "    </tr>\n",
              "    <tr>\n",
              "      <td>3212</td>\n",
              "      <td>1240</td>\n",
              "      <td>2</td>\n",
              "      <td>0.0</td>\n",
              "      <td>0.0</td>\n",
              "      <td>0.0</td>\n",
              "      <td>961.0</td>\n",
              "      <td>ultra</td>\n",
              "    </tr>\n",
              "    <tr>\n",
              "      <td>3213</td>\n",
              "      <td>1476</td>\n",
              "      <td>4</td>\n",
              "      <td>0.0</td>\n",
              "      <td>0.0</td>\n",
              "      <td>0.0</td>\n",
              "      <td>531.0</td>\n",
              "      <td>ultra</td>\n",
              "    </tr>\n",
              "  </tbody>\n",
              "</table>\n",
              "<p>3214 rows × 7 columns</p>\n",
              "</div>"
            ],
            "text/plain": [
              "      user_id  date  call_count  call_minutes  message_count  mb_used tariff\n",
              "0        1000     5        17.0         159.0           22.0   2256.0  ultra\n",
              "1        1000     6        28.0         172.0           60.0  23257.0  ultra\n",
              "2        1000     7        41.0         340.0           75.0  14016.0  ultra\n",
              "3        1000     8        42.0         408.0           81.0  14070.0  ultra\n",
              "4        1000     9        46.0         466.0           57.0  14581.0  ultra\n",
              "...       ...   ...         ...           ...            ...      ...    ...\n",
              "3209     1489    10         0.0           0.0           21.0  19588.0  smart\n",
              "3210     1489    11         0.0           0.0           20.0  17516.0  smart\n",
              "3211     1489    12         0.0           0.0           35.0  17341.0  smart\n",
              "3212     1240     2         0.0           0.0            0.0    961.0  ultra\n",
              "3213     1476     4         0.0           0.0            0.0    531.0  ultra\n",
              "\n",
              "[3214 rows x 7 columns]"
            ]
          },
          "metadata": {
            "tags": []
          },
          "execution_count": 14
        }
      ]
    },
    {
      "cell_type": "code",
      "metadata": {
        "scrolled": true,
        "id": "YlgJ1cKbauY7",
        "outputId": "65b77dda-273f-45f3-abd5-3f78ed558ef9"
      },
      "source": [
        "def calculate_revenue(row):\n",
        "    tariff_row = df4.loc[df4['tariff_name'] == row['tariff']]\n",
        "    sum = tariff_row['rub_monthly_fee'].iloc[0]\n",
        "    if (row['call_minutes'] - tariff_row['minutes_included'].iloc[0]) > 0:\n",
        "        sum += (row['call_minutes'] - tariff_row['minutes_included'].iloc[0]) * tariff_row['rub_per_minute'].iloc[0]\n",
        "    if row['message_count'] - tariff_row['messages_included'].iloc[0] > 0:\n",
        "        sum += (row['message_count'] - tariff_row['messages_included'].iloc[0]) * tariff_row['rub_per_message'].iloc[0]\n",
        "    if row['mb_used'] - tariff_row['mb_per_month_included'].iloc[0] > 0:\n",
        "        sum += math.ceil((row['mb_used'] - tariff_row['mb_per_month_included'].iloc[0])/1024) * tariff_row['rub_per_gb'].iloc[0]\n",
        "    return sum\n",
        "\n",
        "        \n",
        "\n",
        "dfr['revenue'] = dfr.apply(calculate_revenue, axis=1)\n",
        "dfr.sample(5,random_state=42)"
      ],
      "execution_count": null,
      "outputs": [
        {
          "output_type": "execute_result",
          "data": {
            "text/html": [
              "<div>\n",
              "<style scoped>\n",
              "    .dataframe tbody tr th:only-of-type {\n",
              "        vertical-align: middle;\n",
              "    }\n",
              "\n",
              "    .dataframe tbody tr th {\n",
              "        vertical-align: top;\n",
              "    }\n",
              "\n",
              "    .dataframe thead th {\n",
              "        text-align: right;\n",
              "    }\n",
              "</style>\n",
              "<table border=\"1\" class=\"dataframe\">\n",
              "  <thead>\n",
              "    <tr style=\"text-align: right;\">\n",
              "      <th></th>\n",
              "      <th>user_id</th>\n",
              "      <th>date</th>\n",
              "      <th>call_count</th>\n",
              "      <th>call_minutes</th>\n",
              "      <th>message_count</th>\n",
              "      <th>mb_used</th>\n",
              "      <th>tariff</th>\n",
              "      <th>revenue</th>\n",
              "    </tr>\n",
              "  </thead>\n",
              "  <tbody>\n",
              "    <tr>\n",
              "      <td>506</td>\n",
              "      <td>1080</td>\n",
              "      <td>12</td>\n",
              "      <td>101.0</td>\n",
              "      <td>904.0</td>\n",
              "      <td>71.0</td>\n",
              "      <td>4157.0</td>\n",
              "      <td>ultra</td>\n",
              "      <td>1950.0</td>\n",
              "    </tr>\n",
              "    <tr>\n",
              "      <td>2513</td>\n",
              "      <td>1396</td>\n",
              "      <td>6</td>\n",
              "      <td>53.0</td>\n",
              "      <td>443.0</td>\n",
              "      <td>75.0</td>\n",
              "      <td>12109.0</td>\n",
              "      <td>ultra</td>\n",
              "      <td>1950.0</td>\n",
              "    </tr>\n",
              "    <tr>\n",
              "      <td>354</td>\n",
              "      <td>1056</td>\n",
              "      <td>5</td>\n",
              "      <td>48.0</td>\n",
              "      <td>462.0</td>\n",
              "      <td>49.0</td>\n",
              "      <td>17452.0</td>\n",
              "      <td>smart</td>\n",
              "      <td>1150.0</td>\n",
              "    </tr>\n",
              "    <tr>\n",
              "      <td>1080</td>\n",
              "      <td>1173</td>\n",
              "      <td>10</td>\n",
              "      <td>100.0</td>\n",
              "      <td>841.0</td>\n",
              "      <td>14.0</td>\n",
              "      <td>20752.0</td>\n",
              "      <td>smart</td>\n",
              "      <td>2773.0</td>\n",
              "    </tr>\n",
              "    <tr>\n",
              "      <td>2389</td>\n",
              "      <td>1381</td>\n",
              "      <td>2</td>\n",
              "      <td>77.0</td>\n",
              "      <td>762.0</td>\n",
              "      <td>44.0</td>\n",
              "      <td>27761.0</td>\n",
              "      <td>ultra</td>\n",
              "      <td>1950.0</td>\n",
              "    </tr>\n",
              "  </tbody>\n",
              "</table>\n",
              "</div>"
            ],
            "text/plain": [
              "      user_id  date  call_count  call_minutes  message_count  mb_used tariff  \\\n",
              "506      1080    12       101.0         904.0           71.0   4157.0  ultra   \n",
              "2513     1396     6        53.0         443.0           75.0  12109.0  ultra   \n",
              "354      1056     5        48.0         462.0           49.0  17452.0  smart   \n",
              "1080     1173    10       100.0         841.0           14.0  20752.0  smart   \n",
              "2389     1381     2        77.0         762.0           44.0  27761.0  ultra   \n",
              "\n",
              "      revenue  \n",
              "506    1950.0  \n",
              "2513   1950.0  \n",
              "354    1150.0  \n",
              "1080   2773.0  \n",
              "2389   1950.0  "
            ]
          },
          "metadata": {
            "tags": []
          },
          "execution_count": 15
        }
      ]
    },
    {
      "cell_type": "markdown",
      "metadata": {
        "id": "y6DUmmlCauZA"
      },
      "source": [
        "### Проанализируем данные"
      ]
    },
    {
      "cell_type": "code",
      "metadata": {
        "id": "g3nV5gaNauZB",
        "outputId": "570d5e4e-5982-4763-fb41-f34600572bd0"
      },
      "source": [
        "plt.title('Количество использованных минут в месяц на тарифе Smart')\n",
        "plt.xlabel('Частота')\n",
        "plt.ylabel('Количество минут')\n",
        "display(dfr[dfr['tariff'] == 'smart']['call_minutes'].describe())\n",
        "print(f\"Дисперсия: {dfr[dfr['tariff'] == 'smart']['call_minutes'].var()}\")\n",
        "dfr[dfr['tariff'] == 'smart']['call_minutes'].hist(bins=50);"
      ],
      "execution_count": null,
      "outputs": [
        {
          "output_type": "display_data",
          "data": {
            "text/plain": [
              "count    2221.000000\n",
              "mean      419.440342\n",
              "std       188.992403\n",
              "min         2.000000\n",
              "25%       285.000000\n",
              "50%       423.000000\n",
              "75%       546.000000\n",
              "max      1435.000000\n",
              "Name: call_minutes, dtype: float64"
            ]
          },
          "metadata": {
            "tags": []
          }
        },
        {
          "output_type": "stream",
          "text": [
            "Дисперсия: 35718.128533936906\n"
          ],
          "name": "stdout"
        },
        {
          "output_type": "display_data",
          "data": {
            "image/png": "[encoded data removed]",
            "text/plain": [
              "<Figure size 432x288 with 1 Axes>"
            ]
          },
          "metadata": {
            "tags": [],
            "needs_background": "light"
          }
        }
      ]
    },
    {
      "cell_type": "markdown",
      "metadata": {
        "id": "Pf_m0fEXauZD"
      },
      "source": [
        "График похож на распределение Пуассона. Среднее значение - 419 минут, медиана 423 минуты. Среднеквадратичное отклонение - 188.9, дисперсия - 35718."
      ]
    },
    {
      "cell_type": "code",
      "metadata": {
        "id": "ERU_Is8aauZE",
        "outputId": "697024c5-db9f-49be-d823-c51b48285835"
      },
      "source": [
        "plt.title('Количество использованных минут в месяц на тарифе Ultra')\n",
        "plt.xlabel('Частота')\n",
        "plt.ylabel('Количество минут')\n",
        "display(dfr[dfr['tariff'] == 'ultra']['call_minutes'].describe())\n",
        "print(f\"Дисперсия: {dfr[dfr['tariff'] == 'ultra']['call_minutes'].var()}\")\n",
        "dfr[dfr['tariff'] == 'ultra']['call_minutes'].hist(bins=50);"
      ],
      "execution_count": null,
      "outputs": [
        {
          "output_type": "display_data",
          "data": {
            "text/plain": [
              "count     947.000000\n",
              "mean      547.755016\n",
              "std       305.513385\n",
              "min         1.000000\n",
              "25%       311.000000\n",
              "50%       529.000000\n",
              "75%       758.000000\n",
              "max      1673.000000\n",
              "Name: call_minutes, dtype: float64"
            ]
          },
          "metadata": {
            "tags": []
          }
        },
        {
          "output_type": "stream",
          "text": [
            "Дисперсия: 93338.42829141095\n"
          ],
          "name": "stdout"
        },
        {
          "output_type": "display_data",
          "data": {
            "image/png": "[encoded data removed]",
            "text/plain": [
              "<Figure size 432x288 with 1 Axes>"
            ]
          },
          "metadata": {
            "tags": [],
            "needs_background": "light"
          }
        }
      ]
    },
    {
      "cell_type": "markdown",
      "metadata": {
        "id": "2mPsR4j3auZF"
      },
      "source": [
        "Среднее значение - 547 минут, медиана 529, дисперсия - 93338.4 минуты, среднеквадратичное отклонение - 305 минут. Кажется, на тарифе Ultra в среднем тратят больше минут. Датасет скошен вправо. Чуть позже проверим, является ли эта разница статистически значимой."
      ]
    },
    {
      "cell_type": "code",
      "metadata": {
        "id": "wxIsMGIoauZF",
        "outputId": "9ff81d4e-bf32-499f-dcce-f7908ffd8015"
      },
      "source": [
        "plt.title('Количество использованных мегабайт в месяц на тарифе Smart')\n",
        "plt.xlabel('Частота')\n",
        "plt.ylabel('Количество мегабайт')\n",
        "display(dfr[dfr['tariff'] == 'smart']['mb_used'].describe())\n",
        "print(f\"Дисперсия: {dfr[dfr['tariff'] == 'smart']['mb_used'].var()}\")\n",
        "dfr[dfr['tariff'] == 'smart']['mb_used'].hist(bins=50);"
      ],
      "execution_count": null,
      "outputs": [
        {
          "output_type": "display_data",
          "data": {
            "text/plain": [
              "count     2227.000000\n",
              "mean     16243.763359\n",
              "std       5860.041941\n",
              "min        202.000000\n",
              "25%      12677.000000\n",
              "50%      16533.000000\n",
              "75%      20068.000000\n",
              "max      38610.000000\n",
              "Name: mb_used, dtype: float64"
            ]
          },
          "metadata": {
            "tags": []
          }
        },
        {
          "output_type": "stream",
          "text": [
            "Дисперсия: 34340091.55358943\n"
          ],
          "name": "stdout"
        },
        {
          "output_type": "display_data",
          "data": {
            "image/png": "[encoded data removed]",
            "text/plain": [
              "<Figure size 432x288 with 1 Axes>"
            ]
          },
          "metadata": {
            "tags": [],
            "needs_background": "light"
          }
        }
      ]
    },
    {
      "cell_type": "markdown",
      "metadata": {
        "id": "0PJXjovvauZG"
      },
      "source": [
        "В среднем пользователи тарифа Smart тратят 16243 мегабайт в месяц. Медиана чуть больше - 16533 мегабайта. Среднеквадратичное отклонение - 5868. Дисперсия - 34340091. На графике видим нормальное распределение."
      ]
    },
    {
      "cell_type": "code",
      "metadata": {
        "id": "7ZIonHZBauZG",
        "outputId": "c2d28862-8e1a-4493-d373-6ab3240e0dee"
      },
      "source": [
        "plt.title('Количество использованных мегабайт в месяц на тарифе Ultra')\n",
        "plt.xlabel('Частота')\n",
        "plt.ylabel('Количество мегабайт')\n",
        "display(dfr[dfr['tariff'] == 'ultra']['mb_used'].describe())\n",
        "print(f\"Дисперсия: {dfr[dfr['tariff'] == 'ultra']['mb_used'].var()}\")\n",
        "dfr[dfr['tariff'] == 'ultra']['mb_used'].hist(bins=50);"
      ],
      "execution_count": null,
      "outputs": [
        {
          "output_type": "display_data",
          "data": {
            "text/plain": [
              "count      974.000000\n",
              "mean     19706.979466\n",
              "std       9937.127298\n",
              "min        366.000000\n",
              "25%      12073.750000\n",
              "50%      19427.500000\n",
              "75%      26936.250000\n",
              "max      49789.000000\n",
              "Name: mb_used, dtype: float64"
            ]
          },
          "metadata": {
            "tags": []
          }
        },
        {
          "output_type": "stream",
          "text": [
            "Дисперсия: 98746498.93277423\n"
          ],
          "name": "stdout"
        },
        {
          "output_type": "display_data",
          "data": {
            "image/png": "[encoded data removed]",
            "text/plain": [
              "<Figure size 432x288 with 1 Axes>"
            ]
          },
          "metadata": {
            "tags": [],
            "needs_background": "light"
          }
        }
      ]
    },
    {
      "cell_type": "markdown",
      "metadata": {
        "id": "73G2TQgMauZH"
      },
      "source": [
        "На тарифе Ultra абоненты в среднем используют 19706 мегабайт в месяц, медиана чуть меньше - 19427 мегабайт в месяц, - это больше, чем на тарифе Smart. Среднеквадратичное отклонение - 9937, дисперсия - 98746498. Датасет скошен вправо."
      ]
    },
    {
      "cell_type": "code",
      "metadata": {
        "id": "L8A9SBcZauZH",
        "outputId": "f289d920-3332-40d1-a167-c0a1695c8e08"
      },
      "source": [
        "plt.title('Количество отправленных сообщений в месяц на тарифе Smart')\n",
        "plt.xlabel('Частота')\n",
        "plt.ylabel('Количество сообщений')\n",
        "display(dfr[dfr['tariff'] == 'smart']['message_count'].describe())\n",
        "print(f\"Дисперсия: {dfr[dfr['tariff'] == 'smart']['message_count'].var()}\")\n",
        "dfr[dfr['tariff'] == 'smart']['message_count'].hist(bins=50);"
      ],
      "execution_count": null,
      "outputs": [
        {
          "output_type": "display_data",
          "data": {
            "text/plain": [
              "count    1922.000000\n",
              "mean       38.716441\n",
              "std        26.787949\n",
              "min         1.000000\n",
              "25%        17.000000\n",
              "50%        34.000000\n",
              "75%        55.000000\n",
              "max       143.000000\n",
              "Name: message_count, dtype: float64"
            ]
          },
          "metadata": {
            "tags": []
          }
        },
        {
          "output_type": "stream",
          "text": [
            "Дисперсия: 717.5942011753547\n"
          ],
          "name": "stdout"
        },
        {
          "output_type": "display_data",
          "data": {
            "image/png": "[encoded data removed]",
            "text/plain": [
              "<Figure size 432x288 with 1 Axes>"
            ]
          },
          "metadata": {
            "tags": [],
            "needs_background": "light"
          }
        }
      ]
    },
    {
      "cell_type": "markdown",
      "metadata": {
        "id": "e0Gi_bGMauZI"
      },
      "source": [
        "Распределение похоже на распределение Пуассона. Датасет скошен вправо. В среднем абонент тарифа Smart отправляет 38.7 сообщений в месяц. Медиана ниже - 34 сообщения. Дисперсия - 717, среднеквадратичное отклонение - 26.7."
      ]
    },
    {
      "cell_type": "code",
      "metadata": {
        "id": "nKyVR3imauZI",
        "outputId": "5a4ed631-4d99-4329-b8b5-d59bf6f473b5"
      },
      "source": [
        "plt.title('Количество отправленных сообщений в месяц на тарифе Ultra')\n",
        "plt.xlabel('Частота')\n",
        "plt.ylabel('Количество сообщений')\n",
        "display(dfr[dfr['tariff'] == 'ultra']['message_count'].describe())\n",
        "print(f\"Медиана: {dfr[dfr['tariff'] == 'ultra']['message_count'].median()}\")\n",
        "print(f\"Дисперсия: {dfr[dfr['tariff'] == 'ultra']['message_count'].var()}\")\n",
        "dfr[dfr['tariff'] == 'ultra']['message_count'].hist(bins=50);\n"
      ],
      "execution_count": null,
      "outputs": [
        {
          "output_type": "display_data",
          "data": {
            "text/plain": [
              "count    795.000000\n",
              "mean      61.161006\n",
              "std       45.931026\n",
              "min        1.000000\n",
              "25%       24.000000\n",
              "50%       51.000000\n",
              "75%       87.500000\n",
              "max      224.000000\n",
              "Name: message_count, dtype: float64"
            ]
          },
          "metadata": {
            "tags": []
          }
        },
        {
          "output_type": "stream",
          "text": [
            "Медиана: 51.0\n",
            "Дисперсия: 2109.6591828651995\n"
          ],
          "name": "stdout"
        },
        {
          "output_type": "display_data",
          "data": {
            "image/png": "[encoded data removed]",
            "text/plain": [
              "<Figure size 432x288 with 1 Axes>"
            ]
          },
          "metadata": {
            "tags": [],
            "needs_background": "light"
          }
        }
      ]
    },
    {
      "cell_type": "markdown",
      "metadata": {
        "id": "W2YbI1jxauZJ"
      },
      "source": [
        "Распределение похоже на распределение Пуассона. Датасет скошен вправо. В среднем абонент тарифа Ultra отправлял 61 сообщение. Медиана значительно ниже - 51 сообщение. Среднеквадратичное отклонение - 45.9, дисперсия - 2109. Как видим, на тарифе Ultra не только в среднем посылают больше сообщение, но и вариативность по оптравленным сообщениям существенно выше, чем на тарифе Smart."
      ]
    },
    {
      "cell_type": "code",
      "metadata": {
        "id": "8Sz92PyCauZJ",
        "outputId": "617c7765-9c7c-4948-a3d0-594a16cb3cff"
      },
      "source": [
        "display(dfr[dfr['tariff'] == 'smart']['revenue'].describe())\n",
        "display(dfr[dfr['tariff'] == 'ultra']['revenue'].describe())"
      ],
      "execution_count": null,
      "outputs": [
        {
          "output_type": "display_data",
          "data": {
            "text/plain": [
              "count    2229.000000\n",
              "mean     1294.639300\n",
              "std       820.933202\n",
              "min       550.000000\n",
              "25%       550.000000\n",
              "50%      1038.000000\n",
              "75%      1750.000000\n",
              "max      6770.000000\n",
              "Name: revenue, dtype: float64"
            ]
          },
          "metadata": {
            "tags": []
          }
        },
        {
          "output_type": "display_data",
          "data": {
            "text/plain": [
              "count     985.000000\n",
              "mean     2071.065990\n",
              "std       378.802377\n",
              "min      1950.000000\n",
              "25%      1950.000000\n",
              "50%      1950.000000\n",
              "75%      1950.000000\n",
              "max      4800.000000\n",
              "Name: revenue, dtype: float64"
            ]
          },
          "metadata": {
            "tags": []
          }
        }
      ]
    },
    {
      "cell_type": "markdown",
      "metadata": {
        "id": "JPBcDHTsauZK"
      },
      "source": [
        "Клиенты на тарифе Smart приносят в среднем 1294 рубля, Ultra - 2071 рубль."
      ]
    },
    {
      "cell_type": "markdown",
      "metadata": {
        "id": "moFmod4_auZK"
      },
      "source": [
        "Итоги: "
      ]
    },
    {
      "cell_type": "markdown",
      "metadata": {
        "id": "xXIBZRXCauZK"
      },
      "source": [
        "Клиенты на тарифе Ultra тратят на 20-40% больше минут, сообщений и трафика. Клиенты на тарифе Ultra приносят примерно на 50% больше денег, нежели клиенты на тарифе Smart. Проверим, являются ли наши наблюдения статистически значимыми."
      ]
    },
    {
      "cell_type": "code",
      "metadata": {
        "id": "yT_S3lH4cwUL"
      },
      "source": [
        ""
      ],
      "execution_count": null,
      "outputs": []
    },
    {
      "cell_type": "markdown",
      "metadata": {
        "id": "0FPnwiR0auZN"
      },
      "source": [
        "### Проверка гипотез"
      ]
    },
    {
      "cell_type": "markdown",
      "metadata": {
        "id": "kEPdWF3WauZN"
      },
      "source": [
        "Проверим гипотезу, что выручка от абонентов на тарифах Smart и Ultra - значимо различается. Нулевая гипотеза - месячная выручка от абонентов на тарифах Smart и Ultra не различается. Альтернативная гипотеза - месячная выручка от абонентов на тарифах Smart и Ultra различается. Возьмем пороговое значение alpha = 0.05. В качестве теста возьмем st.ttest_ind, так как размер выборки значительн больше 50, поэтому тест на нормальность по ЦПТ проводить не нужно."
      ]
    },
    {
      "cell_type": "code",
      "metadata": {
        "id": "TQw58lZ6auZN",
        "outputId": "9ef685ac-50ec-4d16-aa4f-472cae4f44f8"
      },
      "source": [
        "alpha = 0.05\n",
        "\n",
        "results = st.ttest_ind(\n",
        "    dfr[dfr['tariff'] == 'smart']['revenue'], \n",
        "    dfr[dfr['tariff'] == 'ultra']['revenue'], equal_var = False)\n",
        "\n",
        "print('p-значение:', results.pvalue)\n",
        "\n",
        "if results.pvalue < 0.05:\n",
        "    print(\"Отвергаем нулевую гипотезу\")\n",
        "else:\n",
        "    print(\"Не получилось отвергнуть нулевую гипотезу\")"
      ],
      "execution_count": null,
      "outputs": [
        {
          "output_type": "stream",
          "text": [
            "p-значение: 2.7240946993530846e-246\n",
            "Отвергаем нулевую гипотезу\n"
          ],
          "name": "stdout"
        }
      ]
    },
    {
      "cell_type": "markdown",
      "metadata": {
        "id": "JZZ8NnRaauZO"
      },
      "source": [
        "Значение p - мизерное, с высочайшей долей вероятности мы можем отвергнуть нулевую гипотезу. Можем утверждать, что выручка от пользователей на тарифах Smart и Ultra значимо отличается."
      ]
    },
    {
      "cell_type": "code",
      "metadata": {
        "id": "se_4Um0rauZP",
        "outputId": "e55a4a9c-c24a-4308-deee-be5d51cf118a"
      },
      "source": [
        "dfr = dfr.merge(df5[['user_id', 'city']], on='user_id', how='left')\n",
        "display(dfr[dfr['city'] == 'Москва']['revenue'].describe())\n",
        "display(dfr[dfr['city'] != 'Москва']['revenue'].describe())"
      ],
      "execution_count": null,
      "outputs": [
        {
          "output_type": "display_data",
          "data": {
            "text/plain": [
              "count     611.000000\n",
              "mean     1550.805237\n",
              "std       752.451347\n",
              "min       550.000000\n",
              "25%       798.000000\n",
              "50%      1750.000000\n",
              "75%      1950.000000\n",
              "max      5321.000000\n",
              "Name: revenue, dtype: float64"
            ]
          },
          "metadata": {
            "tags": []
          }
        },
        {
          "output_type": "display_data",
          "data": {
            "text/plain": [
              "count    2603.000000\n",
              "mean     1528.316942\n",
              "std       810.411374\n",
              "min       550.000000\n",
              "25%       750.000000\n",
              "50%      1587.000000\n",
              "75%      1950.000000\n",
              "max      6770.000000\n",
              "Name: revenue, dtype: float64"
            ]
          },
          "metadata": {
            "tags": []
          }
        }
      ]
    },
    {
      "cell_type": "markdown",
      "metadata": {
        "id": "HE9AfvVEauZQ"
      },
      "source": [
        "Стандартные отклонения выборок отличаются более чем на 5%, поэтому в тесте ttest_ind будем использовать equal_var = False. Проверим гипотезу, что выручка от абонентов из Москвы и остальных регионов - значимо различается. Нулевая гипотеза - месячная выручка от абонентов из Москвы и регионов не различается. Альтернативная гипотеза - месячная выручка от абонентов из Москвы и регионов различается. Возьмем пороговое значение alpha = 0.05. В качестве теста возьмем st.ttest_ind, чтобы сравнить среднее двух генеральных совокупностей."
      ]
    },
    {
      "cell_type": "code",
      "metadata": {
        "id": "GCfi5qmGauZQ",
        "outputId": "f09c5842-08ea-40bf-cefe-c3a1ca04b59f"
      },
      "source": [
        "alpha = 0.05\n",
        "\n",
        "results = st.ttest_ind(\n",
        "    dfr[dfr['city'] == 'Москва']['revenue'], \n",
        "    dfr[dfr['city'] != 'Москва']['revenue'], equal_var = False)\n",
        "\n",
        "print('p-значение:', results.pvalue)\n",
        "\n",
        "if results.pvalue < 0.05:\n",
        "    print(\"Отвергаем нулевую гипотезу\")\n",
        "else:\n",
        "    print(\"Не получилось отвергнуть нулевую гипотезу\")"
      ],
      "execution_count": null,
      "outputs": [
        {
          "output_type": "stream",
          "text": [
            "p-значение: 0.5126564657748214\n",
            "Не получилось отвергнуть нулевую гипотезу\n"
          ],
          "name": "stdout"
        }
      ]
    },
    {
      "cell_type": "markdown",
      "metadata": {
        "id": "PIUjqSXbauZQ"
      },
      "source": [
        "Аналогичную гипотезу для пользователей из Москвы и других городов отвергнуть не удалось. Разница между выручкой от абонентов из Москвы и регионов можно признать статистически не значимой."
      ]
    },
    {
      "cell_type": "markdown",
      "metadata": {
        "id": "awI-VOlnauZS"
      },
      "source": [
        "### Выводы"
      ]
    },
    {
      "cell_type": "markdown",
      "metadata": {
        "id": "RnyTMiveauZS"
      },
      "source": [
        "- Клиенты на тарифе Ultra приносят больше денег. В рекламной кампании нужно сделать упор на него.\n",
        "\n",
        "- Клиенты на тарифе Smart приносят в среднем 1294 рубля, Ultra - 2071 рубля в месяц. Эта разница статистически значима.\n",
        "\n",
        "- Не удалось найти подтверждений, что разница между месячной выручкой, которые приносят жители Москвы, от жителей других регионов страны, - статистически значима.\n",
        "\n",
        "- Данные без пропусков. Поменяли типы столбцов с датами, удалили строки с нулевыми значениями длительности звонков (пропущенные вызовы или исходящие). Аномалий в данных не выявлено.\n",
        "\n",
        "- В среднем абоненты говорят 419 минут в месяц на тарифе Smart и 547 минут в месяц на тарифе Ultra.\n",
        "\n",
        "- В среднем абоненты на тарифе Smart отправляют 39 сообщений в месяц, на Ultra - 61.\n",
        "\n",
        "- В среднем абоненты на тарифе Smart используют 16236 мегабайт в месяц, на Ultra - 19686 мегабайт в месяц."
      ]
    }
  ]
}