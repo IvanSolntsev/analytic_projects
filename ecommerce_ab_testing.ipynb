{
  "nbformat": 4,
  "nbformat_minor": 0,
  "metadata": {
    "kernelspec": {
      "display_name": "Python 3",
      "language": "python",
      "name": "python3"
    },
    "language_info": {
      "codemirror_mode": {
        "name": "ipython",
        "version": 3
      },
      "file_extension": ".py",
      "mimetype": "text/x-python",
      "name": "python",
      "nbconvert_exporter": "python",
      "pygments_lexer": "ipython3",
      "version": "3.7.8"
    },
    "toc": {
      "base_numbering": 1,
      "nav_menu": {},
      "number_sections": true,
      "sideBar": true,
      "skip_h1_title": true,
      "title_cell": "Table of Contents",
      "title_sidebar": "Contents",
      "toc_cell": false,
      "toc_position": {},
      "toc_section_display": true,
      "toc_window_display": false
    },
    "colab": {
      "name": "ecommerce_ab_testing.ipynb",
      "provenance": []
    }
  },
  "cells": [
    {
      "cell_type": "markdown",
      "metadata": {
        "id": "DpJAcOM_GI0b"
      },
      "source": [
        "# Проект: Оценить результаты A/B теста на пользователях интернет-магазина"
      ]
    },
    {
      "cell_type": "markdown",
      "metadata": {
        "id": "6fuEq3qkGI0b"
      },
      "source": [
        "# Описание проекта\n",
        "\n",
        "Учебный проект в Яндекс.Практикуме. Я — аналитик крупного интернет-магазина. Вместе с отделом маркетинга мы подготовили список гипотез для увеличения выручки.\n",
        "Нужно приоритизировать гипотезы, запустить A/B-тест и проанализировать результаты."
      ]
    },
    {
      "cell_type": "markdown",
      "metadata": {
        "id": "axfirS4BGI0c"
      },
      "source": [
        "# Описание данных\n",
        "\n",
        "Файл /datasets/hypothesis.csv\n",
        "\n",
        "* \t\tHypothesis — краткое описание гипотезы;\n",
        "* \t\tReach — охват пользователей по 10-балльной шкале;\n",
        "* \t\tImpact — влияние на пользователей по 10-балльной шкале;\n",
        "* \t\tConfidence — уверенность в гипотезе по 10-балльной шкале;\n",
        "* \t\tEfforts — затраты ресурсов на проверку гипотезы по 10-балльной шкале. Чем больше значение Efforts, тем дороже проверка гипотезы.\n",
        "\n",
        "Файл /datasets/orders.csv\n",
        "\n",
        "* \t\ttransactionId — идентификатор заказа;\n",
        "* \t\tvisitorId — идентификатор пользователя, совершившего заказ;\n",
        "* \t\tdate — дата, когда был совершён заказ;\n",
        "* \t\trevenue — выручка заказа;\n",
        "* \t\tgroup — группа A/B-теста, в которую попал заказ.\n",
        "\n",
        "Файл /datasets/visitors.csv\n",
        "* \t\tdate — дата;\n",
        "* \t\tgroup — группа A/B-теста;\n",
        "* \t\tvisitors — количество пользователей в указанную дату в указанной группе A/B-теста"
      ]
    },
    {
      "cell_type": "markdown",
      "metadata": {
        "id": "2OT0arTgGI0d"
      },
      "source": [
        "## Приоритизация гипотез"
      ]
    },
    {
      "cell_type": "code",
      "metadata": {
        "id": "Z80I1skeGI0d"
      },
      "source": [
        "import pandas as pd\n",
        "import datetime as dt\n",
        "import numpy as np\n",
        "import matplotlib.pyplot as plt\n",
        "from scipy import stats\n",
        "from pandas.plotting import register_matplotlib_converters\n",
        "register_matplotlib_converters()"
      ],
      "execution_count": null,
      "outputs": []
    },
    {
      "cell_type": "code",
      "metadata": {
        "id": "BnIPXPN_GI0f",
        "outputId": "a48dc205-f2cb-483a-9acf-657e8a43ac8f"
      },
      "source": [
        "dfh = pd.read_csv('/datasets/hypothesis.csv')\n",
        "dfh.info()"
      ],
      "execution_count": null,
      "outputs": [
        {
          "output_type": "stream",
          "text": [
            "<class 'pandas.core.frame.DataFrame'>\n",
            "RangeIndex: 9 entries, 0 to 8\n",
            "Data columns (total 5 columns):\n",
            "Hypothesis    9 non-null object\n",
            "Reach         9 non-null int64\n",
            "Impact        9 non-null int64\n",
            "Confidence    9 non-null int64\n",
            "Efforts       9 non-null int64\n",
            "dtypes: int64(4), object(1)\n",
            "memory usage: 488.0+ bytes\n"
          ],
          "name": "stdout"
        }
      ]
    },
    {
      "cell_type": "markdown",
      "metadata": {
        "id": "dG31sDmMGI0g"
      },
      "source": [
        "У нас есть  данные о 9 гипотезах о способах увеличения выручки. Проранжируем их  методами RICE и ICE."
      ]
    },
    {
      "cell_type": "code",
      "metadata": {
        "id": "1EFRE6-tGI0g",
        "outputId": "5c831873-cb2c-413a-e3ec-1b2549c5dba5"
      },
      "source": [
        "dfh.head(9)"
      ],
      "execution_count": null,
      "outputs": [
        {
          "output_type": "execute_result",
          "data": {
            "text/html": [
              "<div>\n",
              "<style scoped>\n",
              "    .dataframe tbody tr th:only-of-type {\n",
              "        vertical-align: middle;\n",
              "    }\n",
              "\n",
              "    .dataframe tbody tr th {\n",
              "        vertical-align: top;\n",
              "    }\n",
              "\n",
              "    .dataframe thead th {\n",
              "        text-align: right;\n",
              "    }\n",
              "</style>\n",
              "<table border=\"1\" class=\"dataframe\">\n",
              "  <thead>\n",
              "    <tr style=\"text-align: right;\">\n",
              "      <th></th>\n",
              "      <th>Hypothesis</th>\n",
              "      <th>Reach</th>\n",
              "      <th>Impact</th>\n",
              "      <th>Confidence</th>\n",
              "      <th>Efforts</th>\n",
              "    </tr>\n",
              "  </thead>\n",
              "  <tbody>\n",
              "    <tr>\n",
              "      <td>0</td>\n",
              "      <td>Добавить два новых канала привлечения трафика,...</td>\n",
              "      <td>3</td>\n",
              "      <td>10</td>\n",
              "      <td>8</td>\n",
              "      <td>6</td>\n",
              "    </tr>\n",
              "    <tr>\n",
              "      <td>1</td>\n",
              "      <td>Запустить собственную службу доставки, что сок...</td>\n",
              "      <td>2</td>\n",
              "      <td>5</td>\n",
              "      <td>4</td>\n",
              "      <td>10</td>\n",
              "    </tr>\n",
              "    <tr>\n",
              "      <td>2</td>\n",
              "      <td>Добавить блоки рекомендаций товаров на сайт ин...</td>\n",
              "      <td>8</td>\n",
              "      <td>3</td>\n",
              "      <td>7</td>\n",
              "      <td>3</td>\n",
              "    </tr>\n",
              "    <tr>\n",
              "      <td>3</td>\n",
              "      <td>Изменить структура категорий, что увеличит кон...</td>\n",
              "      <td>8</td>\n",
              "      <td>3</td>\n",
              "      <td>3</td>\n",
              "      <td>8</td>\n",
              "    </tr>\n",
              "    <tr>\n",
              "      <td>4</td>\n",
              "      <td>Изменить цвет фона главной страницы, чтобы уве...</td>\n",
              "      <td>3</td>\n",
              "      <td>1</td>\n",
              "      <td>1</td>\n",
              "      <td>1</td>\n",
              "    </tr>\n",
              "    <tr>\n",
              "      <td>5</td>\n",
              "      <td>Добавить страницу отзывов клиентов о магазине,...</td>\n",
              "      <td>3</td>\n",
              "      <td>2</td>\n",
              "      <td>2</td>\n",
              "      <td>3</td>\n",
              "    </tr>\n",
              "    <tr>\n",
              "      <td>6</td>\n",
              "      <td>Показать на главной странице баннеры с актуаль...</td>\n",
              "      <td>5</td>\n",
              "      <td>3</td>\n",
              "      <td>8</td>\n",
              "      <td>3</td>\n",
              "    </tr>\n",
              "    <tr>\n",
              "      <td>7</td>\n",
              "      <td>Добавить форму подписки на все основные страни...</td>\n",
              "      <td>10</td>\n",
              "      <td>7</td>\n",
              "      <td>8</td>\n",
              "      <td>5</td>\n",
              "    </tr>\n",
              "    <tr>\n",
              "      <td>8</td>\n",
              "      <td>Запустить акцию, дающую скидку на товар в день...</td>\n",
              "      <td>1</td>\n",
              "      <td>9</td>\n",
              "      <td>9</td>\n",
              "      <td>5</td>\n",
              "    </tr>\n",
              "  </tbody>\n",
              "</table>\n",
              "</div>"
            ],
            "text/plain": [
              "                                          Hypothesis  Reach  Impact  \\\n",
              "0  Добавить два новых канала привлечения трафика,...      3      10   \n",
              "1  Запустить собственную службу доставки, что сок...      2       5   \n",
              "2  Добавить блоки рекомендаций товаров на сайт ин...      8       3   \n",
              "3  Изменить структура категорий, что увеличит кон...      8       3   \n",
              "4  Изменить цвет фона главной страницы, чтобы уве...      3       1   \n",
              "5  Добавить страницу отзывов клиентов о магазине,...      3       2   \n",
              "6  Показать на главной странице баннеры с актуаль...      5       3   \n",
              "7  Добавить форму подписки на все основные страни...     10       7   \n",
              "8  Запустить акцию, дающую скидку на товар в день...      1       9   \n",
              "\n",
              "   Confidence  Efforts  \n",
              "0           8        6  \n",
              "1           4       10  \n",
              "2           7        3  \n",
              "3           3        8  \n",
              "4           1        1  \n",
              "5           2        3  \n",
              "6           8        3  \n",
              "7           8        5  \n",
              "8           9        5  "
            ]
          },
          "metadata": {
            "tags": []
          },
          "execution_count": 3
        }
      ]
    },
    {
      "cell_type": "markdown",
      "metadata": {
        "id": "zHX6TpGGGI0h"
      },
      "source": [
        "Для начала проранжируем гипотезы методом ICE."
      ]
    },
    {
      "cell_type": "code",
      "metadata": {
        "id": "so4PkEuZGI0i",
        "outputId": "b2f931c2-400e-4a50-886c-28e1347dd336"
      },
      "source": [
        "dfh['ICE'] = round((dfh['Impact'] * dfh['Confidence']) / dfh['Efforts'], 1)\n",
        "pd.options.display.max_colwidth = int(dfh['Hypothesis'].str.len().max()) + 1\n",
        "dfh.sort_values(by='ICE', ascending=False)"
      ],
      "execution_count": null,
      "outputs": [
        {
          "output_type": "execute_result",
          "data": {
            "text/html": [
              "<div>\n",
              "<style scoped>\n",
              "    .dataframe tbody tr th:only-of-type {\n",
              "        vertical-align: middle;\n",
              "    }\n",
              "\n",
              "    .dataframe tbody tr th {\n",
              "        vertical-align: top;\n",
              "    }\n",
              "\n",
              "    .dataframe thead th {\n",
              "        text-align: right;\n",
              "    }\n",
              "</style>\n",
              "<table border=\"1\" class=\"dataframe\">\n",
              "  <thead>\n",
              "    <tr style=\"text-align: right;\">\n",
              "      <th></th>\n",
              "      <th>Hypothesis</th>\n",
              "      <th>Reach</th>\n",
              "      <th>Impact</th>\n",
              "      <th>Confidence</th>\n",
              "      <th>Efforts</th>\n",
              "      <th>ICE</th>\n",
              "    </tr>\n",
              "  </thead>\n",
              "  <tbody>\n",
              "    <tr>\n",
              "      <td>8</td>\n",
              "      <td>Запустить акцию, дающую скидку на товар в день рождения</td>\n",
              "      <td>1</td>\n",
              "      <td>9</td>\n",
              "      <td>9</td>\n",
              "      <td>5</td>\n",
              "      <td>16.2</td>\n",
              "    </tr>\n",
              "    <tr>\n",
              "      <td>0</td>\n",
              "      <td>Добавить два новых канала привлечения трафика, что позволит привлекать на 30% больше пользователей</td>\n",
              "      <td>3</td>\n",
              "      <td>10</td>\n",
              "      <td>8</td>\n",
              "      <td>6</td>\n",
              "      <td>13.3</td>\n",
              "    </tr>\n",
              "    <tr>\n",
              "      <td>7</td>\n",
              "      <td>Добавить форму подписки на все основные страницы, чтобы собрать базу клиентов для email-рассылок</td>\n",
              "      <td>10</td>\n",
              "      <td>7</td>\n",
              "      <td>8</td>\n",
              "      <td>5</td>\n",
              "      <td>11.2</td>\n",
              "    </tr>\n",
              "    <tr>\n",
              "      <td>6</td>\n",
              "      <td>Показать на главной странице баннеры с актуальными акциями и распродажами, чтобы увеличить конверсию</td>\n",
              "      <td>5</td>\n",
              "      <td>3</td>\n",
              "      <td>8</td>\n",
              "      <td>3</td>\n",
              "      <td>8.0</td>\n",
              "    </tr>\n",
              "    <tr>\n",
              "      <td>2</td>\n",
              "      <td>Добавить блоки рекомендаций товаров на сайт интернет магазина, чтобы повысить конверсию и средний чек заказа</td>\n",
              "      <td>8</td>\n",
              "      <td>3</td>\n",
              "      <td>7</td>\n",
              "      <td>3</td>\n",
              "      <td>7.0</td>\n",
              "    </tr>\n",
              "    <tr>\n",
              "      <td>1</td>\n",
              "      <td>Запустить собственную службу доставки, что сократит срок доставки заказов</td>\n",
              "      <td>2</td>\n",
              "      <td>5</td>\n",
              "      <td>4</td>\n",
              "      <td>10</td>\n",
              "      <td>2.0</td>\n",
              "    </tr>\n",
              "    <tr>\n",
              "      <td>5</td>\n",
              "      <td>Добавить страницу отзывов клиентов о магазине, что позволит увеличить количество заказов</td>\n",
              "      <td>3</td>\n",
              "      <td>2</td>\n",
              "      <td>2</td>\n",
              "      <td>3</td>\n",
              "      <td>1.3</td>\n",
              "    </tr>\n",
              "    <tr>\n",
              "      <td>3</td>\n",
              "      <td>Изменить структура категорий, что увеличит конверсию, т.к. пользователи быстрее найдут нужный товар</td>\n",
              "      <td>8</td>\n",
              "      <td>3</td>\n",
              "      <td>3</td>\n",
              "      <td>8</td>\n",
              "      <td>1.1</td>\n",
              "    </tr>\n",
              "    <tr>\n",
              "      <td>4</td>\n",
              "      <td>Изменить цвет фона главной страницы, чтобы увеличить вовлеченность пользователей</td>\n",
              "      <td>3</td>\n",
              "      <td>1</td>\n",
              "      <td>1</td>\n",
              "      <td>1</td>\n",
              "      <td>1.0</td>\n",
              "    </tr>\n",
              "  </tbody>\n",
              "</table>\n",
              "</div>"
            ],
            "text/plain": [
              "                                                                                                     Hypothesis  \\\n",
              "8                                                       Запустить акцию, дающую скидку на товар в день рождения   \n",
              "0            Добавить два новых канала привлечения трафика, что позволит привлекать на 30% больше пользователей   \n",
              "7              Добавить форму подписки на все основные страницы, чтобы собрать базу клиентов для email-рассылок   \n",
              "6          Показать на главной странице баннеры с актуальными акциями и распродажами, чтобы увеличить конверсию   \n",
              "2  Добавить блоки рекомендаций товаров на сайт интернет магазина, чтобы повысить конверсию и средний чек заказа   \n",
              "1                                     Запустить собственную службу доставки, что сократит срок доставки заказов   \n",
              "5                      Добавить страницу отзывов клиентов о магазине, что позволит увеличить количество заказов   \n",
              "3           Изменить структура категорий, что увеличит конверсию, т.к. пользователи быстрее найдут нужный товар   \n",
              "4                              Изменить цвет фона главной страницы, чтобы увеличить вовлеченность пользователей   \n",
              "\n",
              "   Reach  Impact  Confidence  Efforts   ICE  \n",
              "8      1       9           9        5  16.2  \n",
              "0      3      10           8        6  13.3  \n",
              "7     10       7           8        5  11.2  \n",
              "6      5       3           8        3   8.0  \n",
              "2      8       3           7        3   7.0  \n",
              "1      2       5           4       10   2.0  \n",
              "5      3       2           2        3   1.3  \n",
              "3      8       3           3        8   1.1  \n",
              "4      3       1           1        1   1.0  "
            ]
          },
          "metadata": {
            "tags": []
          },
          "execution_count": 4
        }
      ]
    },
    {
      "cell_type": "markdown",
      "metadata": {
        "id": "obHRvgPJGI0n"
      },
      "source": [
        "Приоритетные гипотезы по методу RICE - 7 и 2. Cамая приоритетная: \"Добавить форму подписки на все основные страницы, чтобы собрать базу клиентов для email-рассылок\"."
      ]
    },
    {
      "cell_type": "markdown",
      "metadata": {
        "id": "2kUG90EgGI0n"
      },
      "source": [
        "### Выводы:\n",
        "\n",
        "Наиболее приоритетные гипотезы по методу ICE:\n",
        "\n",
        "* Запустить акцию, дающую скидку на товар в день рождения\n",
        "* Добавить два новых канала привлечения трафика, что позволит привлекать на 30% больше пользователей\n",
        "* Добавить форму подписки на все основные страницы, чтобы собрать базу клиентов для email-рассылок\n",
        "\n",
        "Наиболее приоритетные гипотезы по методу RICE:\n",
        "\n",
        "* Добавить форму подписки на все основные страницы, чтобы собрать базу клиентов для email-рассылок\n",
        "* Добавить блоки рекомендаций товаров на сайт интернет магазина, чтобы повысить конверсию и средний чек заказа\n",
        "\n",
        "Почему различаются приоритетные гипотезы по двум методам? Охват скидочной акции на день рождения будет небольшим, поэтому эта гипотеза не получила большой оценки по методу RICE. Странно, что гипотезе про добавление блоков рекомендаций для повышения конверсии и среднего чека дали такую низкую оценку по Impact и она не вошла в топ гипотез по методу ICE."
      ]
    },
    {
      "cell_type": "markdown",
      "metadata": {
        "id": "J-hgCHR-GI0o"
      },
      "source": [
        "# Анализ A/B-теста"
      ]
    },
    {
      "cell_type": "markdown",
      "metadata": {
        "id": "F5l9zEnEGI0p"
      },
      "source": [
        "## Первый взгляд на данные и предобработка"
      ]
    },
    {
      "cell_type": "code",
      "metadata": {
        "id": "gjz5Hvd6GI0p",
        "outputId": "f70d5bb3-203e-4ced-9b10-de74b78b0d4a"
      },
      "source": [
        "orders = pd.read_csv('/datasets/orders.csv')\n",
        "orders.info()"
      ],
      "execution_count": null,
      "outputs": [
        {
          "output_type": "stream",
          "text": [
            "<class 'pandas.core.frame.DataFrame'>\n",
            "RangeIndex: 1197 entries, 0 to 1196\n",
            "Data columns (total 5 columns):\n",
            "transactionId    1197 non-null int64\n",
            "visitorId        1197 non-null int64\n",
            "date             1197 non-null object\n",
            "revenue          1197 non-null int64\n",
            "group            1197 non-null object\n",
            "dtypes: int64(3), object(2)\n",
            "memory usage: 46.9+ KB\n"
          ],
          "name": "stdout"
        }
      ]
    },
    {
      "cell_type": "markdown",
      "metadata": {
        "id": "gE3q7d3mGI0q"
      },
      "source": [
        "У нас есть данные о 1197 заказах. Пропущенных значений нет."
      ]
    },
    {
      "cell_type": "code",
      "metadata": {
        "id": "nocSwokYGI0r",
        "outputId": "762f174e-b700-4816-b127-b05bdd05d9b4"
      },
      "source": [
        "orders.duplicated().sum()"
      ],
      "execution_count": null,
      "outputs": [
        {
          "output_type": "execute_result",
          "data": {
            "text/plain": [
              "0"
            ]
          },
          "metadata": {
            "tags": []
          },
          "execution_count": 7
        }
      ]
    },
    {
      "cell_type": "markdown",
      "metadata": {
        "id": "W8tq_v_sGI0r"
      },
      "source": [
        "В данных нет дубликатов"
      ]
    },
    {
      "cell_type": "code",
      "metadata": {
        "id": "0jn5I6NgGI0r"
      },
      "source": [
        "orders['date'] = orders['date'].map(\n",
        "    lambda x: dt.datetime.strptime(x, '%Y-%m-%d'))"
      ],
      "execution_count": null,
      "outputs": []
    },
    {
      "cell_type": "code",
      "metadata": {
        "id": "PGu1oijDGI0s",
        "outputId": "34e40f3c-6f1e-4f51-bd97-6d7ed22754c4"
      },
      "source": [
        "orders.head()"
      ],
      "execution_count": null,
      "outputs": [
        {
          "output_type": "execute_result",
          "data": {
            "text/html": [
              "<div>\n",
              "<style scoped>\n",
              "    .dataframe tbody tr th:only-of-type {\n",
              "        vertical-align: middle;\n",
              "    }\n",
              "\n",
              "    .dataframe tbody tr th {\n",
              "        vertical-align: top;\n",
              "    }\n",
              "\n",
              "    .dataframe thead th {\n",
              "        text-align: right;\n",
              "    }\n",
              "</style>\n",
              "<table border=\"1\" class=\"dataframe\">\n",
              "  <thead>\n",
              "    <tr style=\"text-align: right;\">\n",
              "      <th></th>\n",
              "      <th>transactionId</th>\n",
              "      <th>visitorId</th>\n",
              "      <th>date</th>\n",
              "      <th>revenue</th>\n",
              "      <th>group</th>\n",
              "    </tr>\n",
              "  </thead>\n",
              "  <tbody>\n",
              "    <tr>\n",
              "      <td>0</td>\n",
              "      <td>3667963787</td>\n",
              "      <td>3312258926</td>\n",
              "      <td>2019-08-15</td>\n",
              "      <td>1650</td>\n",
              "      <td>B</td>\n",
              "    </tr>\n",
              "    <tr>\n",
              "      <td>1</td>\n",
              "      <td>2804400009</td>\n",
              "      <td>3642806036</td>\n",
              "      <td>2019-08-15</td>\n",
              "      <td>730</td>\n",
              "      <td>B</td>\n",
              "    </tr>\n",
              "    <tr>\n",
              "      <td>2</td>\n",
              "      <td>2961555356</td>\n",
              "      <td>4069496402</td>\n",
              "      <td>2019-08-15</td>\n",
              "      <td>400</td>\n",
              "      <td>A</td>\n",
              "    </tr>\n",
              "    <tr>\n",
              "      <td>3</td>\n",
              "      <td>3797467345</td>\n",
              "      <td>1196621759</td>\n",
              "      <td>2019-08-15</td>\n",
              "      <td>9759</td>\n",
              "      <td>B</td>\n",
              "    </tr>\n",
              "    <tr>\n",
              "      <td>4</td>\n",
              "      <td>2282983706</td>\n",
              "      <td>2322279887</td>\n",
              "      <td>2019-08-15</td>\n",
              "      <td>2308</td>\n",
              "      <td>B</td>\n",
              "    </tr>\n",
              "  </tbody>\n",
              "</table>\n",
              "</div>"
            ],
            "text/plain": [
              "   transactionId   visitorId       date  revenue group\n",
              "0     3667963787  3312258926 2019-08-15     1650     B\n",
              "1     2804400009  3642806036 2019-08-15      730     B\n",
              "2     2961555356  4069496402 2019-08-15      400     A\n",
              "3     3797467345  1196621759 2019-08-15     9759     B\n",
              "4     2282983706  2322279887 2019-08-15     2308     B"
            ]
          },
          "metadata": {
            "tags": []
          },
          "execution_count": 9
        }
      ]
    },
    {
      "cell_type": "code",
      "metadata": {
        "id": "CnZHB7NyGI0s",
        "outputId": "74d74be6-7207-452a-862a-60c91acba254"
      },
      "source": [
        "visitors = pd.read_csv('/datasets/visitors.csv')\n",
        "visitors.info()"
      ],
      "execution_count": null,
      "outputs": [
        {
          "output_type": "stream",
          "text": [
            "<class 'pandas.core.frame.DataFrame'>\n",
            "RangeIndex: 62 entries, 0 to 61\n",
            "Data columns (total 3 columns):\n",
            "date        62 non-null object\n",
            "group       62 non-null object\n",
            "visitors    62 non-null int64\n",
            "dtypes: int64(1), object(2)\n",
            "memory usage: 1.6+ KB\n"
          ],
          "name": "stdout"
        }
      ]
    },
    {
      "cell_type": "markdown",
      "metadata": {
        "id": "JHnZZ7k2GI0t"
      },
      "source": [
        "В этом датасете должны быть данные о посетителях. В датасете нет пропущенных значений."
      ]
    },
    {
      "cell_type": "code",
      "metadata": {
        "id": "nRXlsYgWGI0t",
        "outputId": "c621cd21-85d6-4550-dfd6-b5ca94d7c8c9"
      },
      "source": [
        "visitors.duplicated().sum()"
      ],
      "execution_count": null,
      "outputs": [
        {
          "output_type": "execute_result",
          "data": {
            "text/plain": [
              "0"
            ]
          },
          "metadata": {
            "tags": []
          },
          "execution_count": 11
        }
      ]
    },
    {
      "cell_type": "markdown",
      "metadata": {
        "id": "gZrbLXFjGI0u"
      },
      "source": [
        "В датасете нет дубликатов."
      ]
    },
    {
      "cell_type": "code",
      "metadata": {
        "id": "jsDExHpSGI0u"
      },
      "source": [
        "visitors['date'] = visitors['date'].map(\n",
        "    lambda x: dt.datetime.strptime(x, '%Y-%m-%d')\n",
        ")"
      ],
      "execution_count": null,
      "outputs": []
    },
    {
      "cell_type": "code",
      "metadata": {
        "scrolled": false,
        "id": "NZMnkBLVGI0u",
        "outputId": "0c8b6b22-6fde-47f3-f041-e237eac23488"
      },
      "source": [
        "visitors.head()"
      ],
      "execution_count": null,
      "outputs": [
        {
          "output_type": "execute_result",
          "data": {
            "text/html": [
              "<div>\n",
              "<style scoped>\n",
              "    .dataframe tbody tr th:only-of-type {\n",
              "        vertical-align: middle;\n",
              "    }\n",
              "\n",
              "    .dataframe tbody tr th {\n",
              "        vertical-align: top;\n",
              "    }\n",
              "\n",
              "    .dataframe thead th {\n",
              "        text-align: right;\n",
              "    }\n",
              "</style>\n",
              "<table border=\"1\" class=\"dataframe\">\n",
              "  <thead>\n",
              "    <tr style=\"text-align: right;\">\n",
              "      <th></th>\n",
              "      <th>date</th>\n",
              "      <th>group</th>\n",
              "      <th>visitors</th>\n",
              "    </tr>\n",
              "  </thead>\n",
              "  <tbody>\n",
              "    <tr>\n",
              "      <td>0</td>\n",
              "      <td>2019-08-01</td>\n",
              "      <td>A</td>\n",
              "      <td>719</td>\n",
              "    </tr>\n",
              "    <tr>\n",
              "      <td>1</td>\n",
              "      <td>2019-08-02</td>\n",
              "      <td>A</td>\n",
              "      <td>619</td>\n",
              "    </tr>\n",
              "    <tr>\n",
              "      <td>2</td>\n",
              "      <td>2019-08-03</td>\n",
              "      <td>A</td>\n",
              "      <td>507</td>\n",
              "    </tr>\n",
              "    <tr>\n",
              "      <td>3</td>\n",
              "      <td>2019-08-04</td>\n",
              "      <td>A</td>\n",
              "      <td>717</td>\n",
              "    </tr>\n",
              "    <tr>\n",
              "      <td>4</td>\n",
              "      <td>2019-08-05</td>\n",
              "      <td>A</td>\n",
              "      <td>756</td>\n",
              "    </tr>\n",
              "  </tbody>\n",
              "</table>\n",
              "</div>"
            ],
            "text/plain": [
              "        date group  visitors\n",
              "0 2019-08-01     A       719\n",
              "1 2019-08-02     A       619\n",
              "2 2019-08-03     A       507\n",
              "3 2019-08-04     A       717\n",
              "4 2019-08-05     A       756"
            ]
          },
          "metadata": {
            "tags": []
          },
          "execution_count": 13
        }
      ]
    },
    {
      "cell_type": "markdown",
      "metadata": {
        "id": "r9cFFdNBGI0v"
      },
      "source": [
        "Как видим, в датасете указано количество посетителей сайта по месяцам и тестовой группе."
      ]
    },
    {
      "cell_type": "code",
      "metadata": {
        "id": "2JLzaNXAGI0v",
        "outputId": "90012bd3-8d5b-42c3-eae5-588ce1853434"
      },
      "source": [
        "visitors_with_number_of_groups = orders.groupby('visitorId').agg({'group': pd.Series.nunique})\n",
        "visitors_with_number_of_groups[visitors_with_number_of_groups['group'] == 2].count()"
      ],
      "execution_count": null,
      "outputs": [
        {
          "output_type": "execute_result",
          "data": {
            "text/plain": [
              "group    58\n",
              "dtype: int64"
            ]
          },
          "metadata": {
            "tags": []
          },
          "execution_count": 14
        }
      ]
    },
    {
      "cell_type": "markdown",
      "metadata": {
        "id": "ZLP9GWSsGI0w"
      },
      "source": [
        "58 пользователей попали в две разные группы в тесте. Нужно сообщить разработчикам, чтобы поправили систему распределения пользователей по группам."
      ]
    },
    {
      "cell_type": "markdown",
      "metadata": {
        "id": "4snRx17aGI0y"
      },
      "source": [
        "## Построим графики по основным показателям A/B теста"
      ]
    },
    {
      "cell_type": "markdown",
      "metadata": {
        "id": "50yYl0FvGI0y"
      },
      "source": [
        "### Построим график кумулятивной выручки по группам"
      ]
    },
    {
      "cell_type": "code",
      "metadata": {
        "id": "O0Zit5JiGI0y",
        "outputId": "3ad6537d-b55e-49ae-8bf2-913d75f95a74"
      },
      "source": [
        "# создаем массив уникальных пар значений дат и групп теста\n",
        "datesGroups = orders[['date','group']].drop_duplicates()\n",
        "\n",
        "# получаем агрегированные кумулятивные по дням данные о заказах \n",
        "ordersAggregated = datesGroups.apply(lambda x: orders[np.logical_and(orders['date'] <= x['date'], orders['group'] == x['group'])].agg({'date' : 'max', 'group' : 'max', 'transactionId' : pd.Series.nunique, 'visitorId' : pd.Series.nunique, 'revenue' : 'sum'}), axis=1).sort_values(by=['date','group'])\n",
        "\n",
        "# получаем агрегированные кумулятивные по дням данные о посетителях интернет-магазина \n",
        "visitorsAggregated = datesGroups.apply(lambda x: visitors[np.logical_and(visitors['date'] <= x['date'], visitors['group'] == x['group'])].agg({'date' : 'max', 'group' : 'max', 'visitors' : 'sum'}), axis=1).sort_values(by=['date','group'])\n",
        "\n",
        "# объединяем кумулятивные данные в одной таблице и присваиваем ее столбцам понятные названия\n",
        "cumulativeData = ordersAggregated.merge(visitorsAggregated, left_on=['date', 'group'], right_on=['date', 'group'])\n",
        "cumulativeData.columns = ['date', 'group', 'orders', 'buyers', 'revenue', 'visitors']\n",
        "\n",
        "cumulativeData.head(5)"
      ],
      "execution_count": null,
      "outputs": [
        {
          "output_type": "execute_result",
          "data": {
            "text/html": [
              "<div>\n",
              "<style scoped>\n",
              "    .dataframe tbody tr th:only-of-type {\n",
              "        vertical-align: middle;\n",
              "    }\n",
              "\n",
              "    .dataframe tbody tr th {\n",
              "        vertical-align: top;\n",
              "    }\n",
              "\n",
              "    .dataframe thead th {\n",
              "        text-align: right;\n",
              "    }\n",
              "</style>\n",
              "<table border=\"1\" class=\"dataframe\">\n",
              "  <thead>\n",
              "    <tr style=\"text-align: right;\">\n",
              "      <th></th>\n",
              "      <th>date</th>\n",
              "      <th>group</th>\n",
              "      <th>orders</th>\n",
              "      <th>buyers</th>\n",
              "      <th>revenue</th>\n",
              "      <th>visitors</th>\n",
              "    </tr>\n",
              "  </thead>\n",
              "  <tbody>\n",
              "    <tr>\n",
              "      <td>0</td>\n",
              "      <td>2019-08-01</td>\n",
              "      <td>A</td>\n",
              "      <td>24</td>\n",
              "      <td>20</td>\n",
              "      <td>148579</td>\n",
              "      <td>719</td>\n",
              "    </tr>\n",
              "    <tr>\n",
              "      <td>1</td>\n",
              "      <td>2019-08-01</td>\n",
              "      <td>B</td>\n",
              "      <td>21</td>\n",
              "      <td>20</td>\n",
              "      <td>101217</td>\n",
              "      <td>713</td>\n",
              "    </tr>\n",
              "    <tr>\n",
              "      <td>2</td>\n",
              "      <td>2019-08-02</td>\n",
              "      <td>A</td>\n",
              "      <td>44</td>\n",
              "      <td>38</td>\n",
              "      <td>242401</td>\n",
              "      <td>1338</td>\n",
              "    </tr>\n",
              "    <tr>\n",
              "      <td>3</td>\n",
              "      <td>2019-08-02</td>\n",
              "      <td>B</td>\n",
              "      <td>45</td>\n",
              "      <td>43</td>\n",
              "      <td>266748</td>\n",
              "      <td>1294</td>\n",
              "    </tr>\n",
              "    <tr>\n",
              "      <td>4</td>\n",
              "      <td>2019-08-03</td>\n",
              "      <td>A</td>\n",
              "      <td>68</td>\n",
              "      <td>62</td>\n",
              "      <td>354874</td>\n",
              "      <td>1845</td>\n",
              "    </tr>\n",
              "  </tbody>\n",
              "</table>\n",
              "</div>"
            ],
            "text/plain": [
              "        date group  orders  buyers  revenue  visitors\n",
              "0 2019-08-01     A      24      20   148579       719\n",
              "1 2019-08-01     B      21      20   101217       713\n",
              "2 2019-08-02     A      44      38   242401      1338\n",
              "3 2019-08-02     B      45      43   266748      1294\n",
              "4 2019-08-03     A      68      62   354874      1845"
            ]
          },
          "metadata": {
            "tags": []
          },
          "execution_count": 15
        }
      ]
    },
    {
      "cell_type": "markdown",
      "metadata": {
        "id": "HKFMuixJGI0z"
      },
      "source": [
        "Построим графики кумулятивной выручки по дням и группам A/B-тестирования:"
      ]
    },
    {
      "cell_type": "code",
      "metadata": {
        "id": "SRTwvyPUGI00",
        "outputId": "5e28101c-b6ec-408f-84ab-80b1c9d21509"
      },
      "source": [
        "# датафрейм с кумулятивным количеством заказов и кумулятивной выручкой по дням в группе А\n",
        "cumulativeRevenueA = cumulativeData[cumulativeData['group']=='A'][['date','revenue', 'orders']]\n",
        "\n",
        "# датафрейм с кумулятивным количеством заказов и кумулятивной выручкой по дням в группе B\n",
        "cumulativeRevenueB = cumulativeData[cumulativeData['group']=='B'][['date','revenue', 'orders']]\n",
        "\n",
        "plt.rcParams[\"figure.figsize\"] = (12,8)\n",
        "\n",
        "# Строим график выручки группы А\n",
        "plt.plot(cumulativeRevenueA['date'], cumulativeRevenueA['revenue'], label='A')\n",
        "\n",
        "# Строим график выручки группы B\n",
        "plt.plot(cumulativeRevenueB['date'], cumulativeRevenueB['revenue'], label='B')\n",
        "\n",
        "\n",
        "plt.title('Кумулятивная выручка по дням и группам A/B-тестирования')\n",
        "\n",
        "plt.xlabel('Дата')\n",
        "\n",
        "plt.ylabel('Кумулятивная выручка, у.е.')\n",
        "\n",
        "plt.grid()\n",
        "\n",
        "plt.annotate('скачок', xy=('2019-08-17', 2800000), xytext=('2019-08-10', 3500000),\n",
        "            arrowprops=dict(facecolor='g'))\n",
        "\n",
        "plt.annotate('отрыв', xy=('2019-08-05', 800000), xytext=('2019-08-05', 2000000),\n",
        "            arrowprops=dict(facecolor='g'))\n",
        "\n",
        "plt.legend();"
      ],
      "execution_count": null,
      "outputs": [
        {
          "output_type": "display_data",
          "data": {
            "image/png": "[encoded data removed]",
            "text/plain": [
              "<Figure size 864x576 with 1 Axes>"
            ]
          },
          "metadata": {
            "tags": [],
            "needs_background": "light"
          }
        }
      ]
    },
    {
      "cell_type": "markdown",
      "metadata": {
        "id": "5CV36ra0GI03"
      },
      "source": [
        "Кумулятивная выручка пользователей из группы B после 13-го августа стабильно выше. А после 18-го - значительно и стабильно превышает выручку пользователей из группы A. Резкий рост разницы в кумулятивной выручки после 18-го августа может быть обусловлен и всплеском числа заказов, и появлением очень дорогих заказов. Выбросы проанализируем чуть позже. "
      ]
    },
    {
      "cell_type": "markdown",
      "metadata": {
        "id": "TY2f42ykGI04"
      },
      "source": [
        "### Построим график кумулятивного среднего чека по группам"
      ]
    },
    {
      "cell_type": "code",
      "metadata": {
        "id": "OQyhqEpZGI04",
        "outputId": "4aedf974-1285-4aed-c5e8-a613d7c1bb17"
      },
      "source": [
        "plt.plot(cumulativeRevenueA['date'], cumulativeRevenueA['revenue']/cumulativeRevenueA['orders'], label='группа A')\n",
        "plt.plot(cumulativeRevenueB['date'], cumulativeRevenueB['revenue']/cumulativeRevenueB['orders'], label='группа B')\n",
        "plt.title('Кумулятивный средний чек по группам')\n",
        "plt.xlabel('Дата')\n",
        "plt.ylabel('Кумулятивный средний чек, у.е.')\n",
        "plt.legend();"
      ],
      "execution_count": null,
      "outputs": [
        {
          "output_type": "display_data",
          "data": {
            "image/png": "[encoded data removed]",
            "text/plain": [
              "<Figure size 864x576 with 1 Axes>"
            ]
          },
          "metadata": {
            "tags": [],
            "needs_background": "light"
          }
        }
      ]
    },
    {
      "cell_type": "markdown",
      "metadata": {
        "id": "nN5gh5fdGI04"
      },
      "source": [
        "Мы видим резкий скачок кумулятивного среднего чека у группы B 18-го августа. Позже он несколько снижается, тогда как у группы А - повышается. По всей видимости, тогда был один или несколько крупных заказов у группы В."
      ]
    },
    {
      "cell_type": "markdown",
      "metadata": {
        "id": "EkX-vbWTGI05"
      },
      "source": [
        "### Построим график относительного изменения кумулятивного среднего чека группы B к группе A"
      ]
    },
    {
      "cell_type": "code",
      "metadata": {
        "id": "afbsBwlLGI05",
        "outputId": "f0747cc8-6118-4163-f5d3-034bbfbd40d3"
      },
      "source": [
        "# собираем данные в одном датафрейме\n",
        "mergedCumulativeRevenue = cumulativeRevenueA.merge(cumulativeRevenueB, left_on='date', right_on='date', how='left', suffixes=['A', 'B'])\n",
        "\n",
        "plt.title('Относительное изменение кумулятивного среднего чека группы В к группе А')\n",
        "plt.xlabel('Дата')\n",
        "plt.ylabel('Относительное изменение кумулятивного среднего чека группы В к группе А, доля')\n",
        "\n",
        "# cтроим отношение средних чеков\n",
        "plt.plot(mergedCumulativeRevenue['date'], (mergedCumulativeRevenue['revenueB']/mergedCumulativeRevenue['ordersB'])/(mergedCumulativeRevenue['revenueA']/mergedCumulativeRevenue['ordersA'])-1)\n",
        "\n",
        "# добавляем ось X\n",
        "plt.axhline(y=0, color='black', linestyle='--');"
      ],
      "execution_count": null,
      "outputs": [
        {
          "output_type": "display_data",
          "data": {
            "image/png": "[encoded data removed]",
            "text/plain": [
              "<Figure size 864x576 with 1 Axes>"
            ]
          },
          "metadata": {
            "tags": [],
            "needs_background": "light"
          }
        }
      ]
    },
    {
      "cell_type": "markdown",
      "metadata": {
        "id": "T9jcBsoSGI05"
      },
      "source": [
        "График во многих местах резко меняет значения - то в одну, то в другую сторону. Видимо, дорогие заказы сильно влияют на статистику."
      ]
    },
    {
      "cell_type": "markdown",
      "metadata": {
        "id": "ddvcs4--GI06"
      },
      "source": [
        "### Построим график кумулятивной конверсии по группам"
      ]
    },
    {
      "cell_type": "code",
      "metadata": {
        "id": "02-TINOKGI06",
        "outputId": "b5a906d6-b604-483c-8868-8ca0e3577dbc"
      },
      "source": [
        "# считаем кумулятивную конверсию\n",
        "cumulativeData['conversion'] = cumulativeData['orders']/cumulativeData['visitors']\n",
        "\n",
        "# отделяем данные по группе A\n",
        "cumulativeDataA = cumulativeData[cumulativeData['group']=='A']\n",
        "\n",
        "# отделяем данные по группе B\n",
        "cumulativeDataB = cumulativeData[cumulativeData['group']=='B']\n",
        "\n",
        "plt.title('Кумулятивная конверсия по группам')\n",
        "\n",
        "plt.xlabel('Дата')\n",
        "\n",
        "plt.ylabel('Кумулятивная конверсия, доля')\n",
        "\n",
        "# строим графики\n",
        "plt.plot(cumulativeDataA['date'], cumulativeDataA['conversion'], label='группа A')\n",
        "plt.plot(cumulativeDataB['date'], cumulativeDataB['conversion'], label='группа B')\n",
        "plt.legend()\n",
        "\n",
        "# задаем масштаб осей\n",
        "plt.axis(['2019-08-01', '2019-08-31', 0.025, 0.04]); \n"
      ],
      "execution_count": null,
      "outputs": [
        {
          "output_type": "display_data",
          "data": {
            "image/png": "[encoded data removed]",
            "text/plain": [
              "<Figure size 864x576 with 1 Axes>"
            ]
          },
          "metadata": {
            "tags": [],
            "needs_background": "light"
          }
        }
      ]
    },
    {
      "cell_type": "markdown",
      "metadata": {
        "id": "CVD2qu17GI07"
      },
      "source": [
        "Кумулятивная конверсия в группе В с 6-го августа стабильно выше конверсии в группе А."
      ]
    },
    {
      "cell_type": "markdown",
      "metadata": {
        "id": "1Kh0yaghGI07"
      },
      "source": [
        "### Построим график относительного изменения кумулятивной конверсии группы B к группе A"
      ]
    },
    {
      "cell_type": "code",
      "metadata": {
        "id": "mfhagNtSGI07",
        "outputId": "b2a5a471-b844-474e-ff8f-c9118d12cd26"
      },
      "source": [
        "mergedCumulativeConversions = cumulativeDataA[['date','conversion']].merge(cumulativeDataB[['date','conversion']], left_on='date', right_on='date', how='left', suffixes=['A', 'B'])\n",
        "\n",
        "plt.plot(mergedCumulativeConversions['date'], mergedCumulativeConversions['conversionB']/mergedCumulativeConversions['conversionA']-1)\n",
        "\n",
        "plt.title('Относительное изменение кумулятивной конверсии группы В к группе А')\n",
        "\n",
        "plt.xlabel('Дата')\n",
        "\n",
        "plt.ylabel('Относительный прирост конверсии группы В к группе А, доля')\n",
        "\n",
        "\n",
        "plt.axhline(y=0, color='black', linestyle='--')\n",
        "plt.axhline(y=-0.1, color='grey', linestyle='--');"
      ],
      "execution_count": null,
      "outputs": [
        {
          "output_type": "display_data",
          "data": {
            "image/png": "[encoded data removed]",
            "text/plain": [
              "<Figure size 864x576 with 1 Axes>"
            ]
          },
          "metadata": {
            "tags": [],
            "needs_background": "light"
          }
        }
      ]
    },
    {
      "cell_type": "markdown",
      "metadata": {
        "id": "wgdU-lC2GI09"
      },
      "source": [
        "Видим, что кумулятивная конверсия группы В во второй половине месяца стабильно выше, чем в группе А. Посмотрим, как изменятся показатели, если уберем выбросы и аномальные значения."
      ]
    },
    {
      "cell_type": "markdown",
      "metadata": {
        "id": "Vt6eiAd-GI09"
      },
      "source": [
        "### Выберем границу для определения аномальных пользователей"
      ]
    },
    {
      "cell_type": "code",
      "metadata": {
        "id": "FXmabgQKGI09",
        "outputId": "1e08026c-c7d3-4d63-918c-a2567d10ff06"
      },
      "source": [
        "ordersByUsers = (\n",
        "    orders.drop(['group', 'revenue', 'date'], axis=1)\n",
        "    .groupby('visitorId', as_index=False)\n",
        "    .agg({'transactionId': pd.Series.nunique})\n",
        ")\n",
        "\n",
        "ordersByUsers.columns = ['visitorId', 'orders']\n",
        "\n",
        "x_values = pd.Series(range(0,len(ordersByUsers)))\n",
        "\n",
        "plt.title('Количество заказов у пользователей')\n",
        "\n",
        "plt.xlabel('Условный номер пользователя')\n",
        "\n",
        "plt.ylabel('Количество заказов')\n",
        "\n",
        "plt.scatter(x_values, ordersByUsers['orders']);"
      ],
      "execution_count": null,
      "outputs": [
        {
          "output_type": "display_data",
          "data": {
            "image/png": "[encoded data removed]",
            "text/plain": [
              "<Figure size 864x576 with 1 Axes>"
            ]
          },
          "metadata": {
            "tags": [],
            "needs_background": "light"
          }
        }
      ]
    },
    {
      "cell_type": "markdown",
      "metadata": {
        "id": "idwKs6eaGI0-"
      },
      "source": [
        "Достаточно много покупателей с 2-мя заказами. С 3-мя и выше уже очень мало. Однако их точная доля не ясна, поэтому высчитаем 95-й и 99-й перцентили. "
      ]
    },
    {
      "cell_type": "code",
      "metadata": {
        "id": "OsPKxYjgGI0-",
        "outputId": "bdbb24e6-693d-400b-cbbd-86c2176f607f"
      },
      "source": [
        "np.percentile(ordersByUsers['orders'], [95, 99])"
      ],
      "execution_count": null,
      "outputs": [
        {
          "output_type": "execute_result",
          "data": {
            "text/plain": [
              "array([2., 4.])"
            ]
          },
          "metadata": {
            "tags": []
          },
          "execution_count": 22
        }
      ]
    },
    {
      "cell_type": "markdown",
      "metadata": {
        "id": "H0Rq5zxRGI0-"
      },
      "source": [
        "Предположим, что аномальные пользователи - те, кто сделал более 4-х заказов."
      ]
    },
    {
      "cell_type": "markdown",
      "metadata": {
        "id": "H0jgeBrQGI0_"
      },
      "source": [
        "### Выберем границу для определения аномальных заказов"
      ]
    },
    {
      "cell_type": "code",
      "metadata": {
        "id": "8RO5YnwFGI0_",
        "outputId": "9c85b8fb-9fca-485e-e720-181ca10aa0e5"
      },
      "source": [
        "x_values = pd.Series(range(0,len(orders['revenue'])))\n",
        "\n",
        "plt.title('Стоимость заказов')\n",
        "\n",
        "plt.xlabel('Условный номер заказа')\n",
        "\n",
        "plt.ylabel('Стоимость заказа, у.е.')\n",
        "\n",
        "plt.scatter(x_values, orders['revenue']);"
      ],
      "execution_count": null,
      "outputs": [
        {
          "output_type": "display_data",
          "data": {
            "image/png": "[encoded data removed]",
            "text/plain": [
              "<Figure size 864x576 with 1 Axes>"
            ]
          },
          "metadata": {
            "tags": [],
            "needs_background": "light"
          }
        }
      ]
    },
    {
      "cell_type": "markdown",
      "metadata": {
        "id": "pDejDc2BGI0_"
      },
      "source": [
        "Есть два сверхдорогих заказа. Чтобы точнее установить границу аномальных значений, посчитаем 95-й и 99-й перцентили стоимости заказов."
      ]
    },
    {
      "cell_type": "code",
      "metadata": {
        "id": "ptBihftdGI1A",
        "outputId": "bcfc574a-31be-4f4e-839c-af395f5bf1e2"
      },
      "source": [
        "np.percentile(orders['revenue'], [90, 95, 99])"
      ],
      "execution_count": null,
      "outputs": [
        {
          "output_type": "execute_result",
          "data": {
            "text/plain": [
              "array([18168. , 28000. , 58233.2])"
            ]
          },
          "metadata": {
            "tags": []
          },
          "execution_count": 24
        }
      ]
    },
    {
      "cell_type": "markdown",
      "metadata": {
        "id": "tpV3zMuPGI1A"
      },
      "source": [
        "Здесь тоже возьмем границу в 99-й перцентиль - 58233.2."
      ]
    },
    {
      "cell_type": "markdown",
      "metadata": {
        "id": "0gj2spK2GI1B"
      },
      "source": [
        "## Посчитаем статистическую значимость различий в конверсии между группами по «сырым» данным"
      ]
    },
    {
      "cell_type": "markdown",
      "metadata": {
        "id": "Z-dErcBLGI1B"
      },
      "source": [
        "Подготовим таблицу для анализа A/B теста. Посчитаем следующие столбцы:\n",
        "\n",
        "* date — дата;\n",
        "* ordersPerDateA — количество заказов в выбранную дату в группе A;\n",
        "* revenuePerDateA — суммарная выручка в выбранную дату в группе A;\n",
        "* ordersPerDateB — количество заказов в выбранную дату в группе B;\n",
        "* revenuePerDateB — суммарная выручка в выбранную дату в группе B;\n",
        "* ordersCummulativeA — суммарное число заказов до выбранной даты включительно в группе A;\n",
        "* revenueCummulativeA — суммарная выручка до выбранной даты включительно в группе A;\n",
        "* ordersCummulativeB — суммарное количество заказов до выбранной даты включительно в группе B;\n",
        "* revenueCummulativeB — суммарная выручка до выбранной даты включительно в группе B;\n",
        "* visitorsPerDateA — количество пользователей в выбранную дату в группе A;\n",
        "* visitorsPerDateB — количество пользователей в выбранную дату в группе B;\n",
        "* visitorsCummulativeA — количество пользователей до выбранной даты включительно в группе A;\n",
        "* visitorsCummulativeB — количество пользователей до выбранной даты включительно в группе B."
      ]
    },
    {
      "cell_type": "code",
      "metadata": {
        "id": "IaJ9iXCpGI1B",
        "outputId": "705bb500-8d47-4e70-bf7e-76cec08d3898"
      },
      "source": [
        "visitorsADaily = visitors[visitors['group'] == 'A'][['date', 'visitors']]\n",
        "visitorsADaily.columns = ['date', 'visitorsPerDateA']\n",
        "\n",
        "visitorsACummulative = visitorsADaily.apply(\n",
        "    lambda x: visitorsADaily[visitorsADaily['date'] <= x['date']].agg(\n",
        "        {'date': 'max', 'visitorsPerDateA': 'sum'}\n",
        "    ),\n",
        "    axis=1,\n",
        ")\n",
        "\n",
        "visitorsACummulative.columns = ['date', 'visitorsCummulativeA']\n",
        "\n",
        "visitorsBDaily = visitors[visitors['group'] == 'B'][['date', 'visitors']]\n",
        "visitorsBDaily.columns = ['date', 'visitorsPerDateB']\n",
        "\n",
        "visitorsBCummulative = visitorsBDaily.apply(\n",
        "    lambda x: visitorsBDaily[visitorsBDaily['date'] <= x['date']].agg(\n",
        "        {'date': 'max', 'visitorsPerDateB': 'sum'}\n",
        "    ),\n",
        "    axis=1,\n",
        ")\n",
        "visitorsBCummulative.columns = ['date', 'visitorsCummulativeB']\n",
        "\n",
        "ordersADaily = (\n",
        "    orders[orders['group'] == 'A'][['date', 'transactionId', 'visitorId', 'revenue']]\n",
        "    .groupby('date', as_index=False)\n",
        "    .agg({'transactionId': pd.Series.nunique, 'revenue': 'sum'})\n",
        ")\n",
        "ordersADaily.columns = ['date', 'ordersPerDateA', 'revenuePerDateA']\n",
        "\n",
        "ordersACummulative = ordersADaily.apply(\n",
        "    lambda x: ordersADaily[ordersADaily['date'] <= x['date']].agg(\n",
        "        {'date': 'max', 'ordersPerDateA': 'sum', 'revenuePerDateA': 'sum'}\n",
        "    ),\n",
        "    axis=1,\n",
        ").sort_values(by=['date'])\n",
        "ordersACummulative.columns = [\n",
        "    'date',\n",
        "    'ordersCummulativeA',\n",
        "    'revenueCummulativeA',\n",
        "]\n",
        "\n",
        "ordersBDaily = (\n",
        "    orders[orders['group'] == 'B'][['date', 'transactionId', 'visitorId', 'revenue']]\n",
        "    .groupby('date', as_index=False)\n",
        "    .agg({'transactionId': pd.Series.nunique, 'revenue': 'sum'})\n",
        ")\n",
        "ordersBDaily.columns = ['date', 'ordersPerDateB', 'revenuePerDateB']\n",
        "\n",
        "ordersBCummulative = ordersBDaily.apply(\n",
        "    lambda x: ordersBDaily[ordersBDaily['date'] <= x['date']].agg(\n",
        "        {'date': 'max', 'ordersPerDateB': 'sum', 'revenuePerDateB': 'sum'}\n",
        "    ),\n",
        "    axis=1,\n",
        ").sort_values(by=['date'])\n",
        "ordersBCummulative.columns = [\n",
        "    'date',\n",
        "    'ordersCummulativeB',\n",
        "    'revenueCummulativeB',\n",
        "]\n",
        "\n",
        "data = (\n",
        "    ordersADaily.merge(\n",
        "        ordersBDaily, left_on='date', right_on='date', how='left'\n",
        "    )\n",
        "    .merge(ordersACummulative, left_on='date', right_on='date', how='left')\n",
        "    .merge(ordersBCummulative, left_on='date', right_on='date', how='left')\n",
        "    .merge(visitorsADaily, left_on='date', right_on='date', how='left')\n",
        "    .merge(visitorsBDaily, left_on='date', right_on='date', how='left')\n",
        "    .merge(visitorsACummulative, left_on='date', right_on='date', how='left')\n",
        "    .merge(visitorsBCummulative, left_on='date', right_on='date', how='left')\n",
        ")\n",
        "\n",
        "data.head(5)"
      ],
      "execution_count": null,
      "outputs": [
        {
          "output_type": "execute_result",
          "data": {
            "text/html": [
              "<div>\n",
              "<style scoped>\n",
              "    .dataframe tbody tr th:only-of-type {\n",
              "        vertical-align: middle;\n",
              "    }\n",
              "\n",
              "    .dataframe tbody tr th {\n",
              "        vertical-align: top;\n",
              "    }\n",
              "\n",
              "    .dataframe thead th {\n",
              "        text-align: right;\n",
              "    }\n",
              "</style>\n",
              "<table border=\"1\" class=\"dataframe\">\n",
              "  <thead>\n",
              "    <tr style=\"text-align: right;\">\n",
              "      <th></th>\n",
              "      <th>date</th>\n",
              "      <th>ordersPerDateA</th>\n",
              "      <th>revenuePerDateA</th>\n",
              "      <th>ordersPerDateB</th>\n",
              "      <th>revenuePerDateB</th>\n",
              "      <th>ordersCummulativeA</th>\n",
              "      <th>revenueCummulativeA</th>\n",
              "      <th>ordersCummulativeB</th>\n",
              "      <th>revenueCummulativeB</th>\n",
              "      <th>visitorsPerDateA</th>\n",
              "      <th>visitorsPerDateB</th>\n",
              "      <th>visitorsCummulativeA</th>\n",
              "      <th>visitorsCummulativeB</th>\n",
              "    </tr>\n",
              "  </thead>\n",
              "  <tbody>\n",
              "    <tr>\n",
              "      <td>0</td>\n",
              "      <td>2019-08-01</td>\n",
              "      <td>24</td>\n",
              "      <td>148579</td>\n",
              "      <td>21</td>\n",
              "      <td>101217</td>\n",
              "      <td>24</td>\n",
              "      <td>148579</td>\n",
              "      <td>21</td>\n",
              "      <td>101217</td>\n",
              "      <td>719</td>\n",
              "      <td>713</td>\n",
              "      <td>719</td>\n",
              "      <td>713</td>\n",
              "    </tr>\n",
              "    <tr>\n",
              "      <td>1</td>\n",
              "      <td>2019-08-02</td>\n",
              "      <td>20</td>\n",
              "      <td>93822</td>\n",
              "      <td>24</td>\n",
              "      <td>165531</td>\n",
              "      <td>44</td>\n",
              "      <td>242401</td>\n",
              "      <td>45</td>\n",
              "      <td>266748</td>\n",
              "      <td>619</td>\n",
              "      <td>581</td>\n",
              "      <td>1338</td>\n",
              "      <td>1294</td>\n",
              "    </tr>\n",
              "    <tr>\n",
              "      <td>2</td>\n",
              "      <td>2019-08-03</td>\n",
              "      <td>24</td>\n",
              "      <td>112473</td>\n",
              "      <td>16</td>\n",
              "      <td>114248</td>\n",
              "      <td>68</td>\n",
              "      <td>354874</td>\n",
              "      <td>61</td>\n",
              "      <td>380996</td>\n",
              "      <td>507</td>\n",
              "      <td>509</td>\n",
              "      <td>1845</td>\n",
              "      <td>1803</td>\n",
              "    </tr>\n",
              "    <tr>\n",
              "      <td>3</td>\n",
              "      <td>2019-08-04</td>\n",
              "      <td>16</td>\n",
              "      <td>70825</td>\n",
              "      <td>17</td>\n",
              "      <td>108571</td>\n",
              "      <td>84</td>\n",
              "      <td>425699</td>\n",
              "      <td>78</td>\n",
              "      <td>489567</td>\n",
              "      <td>717</td>\n",
              "      <td>770</td>\n",
              "      <td>2562</td>\n",
              "      <td>2573</td>\n",
              "    </tr>\n",
              "    <tr>\n",
              "      <td>4</td>\n",
              "      <td>2019-08-05</td>\n",
              "      <td>25</td>\n",
              "      <td>124218</td>\n",
              "      <td>23</td>\n",
              "      <td>92428</td>\n",
              "      <td>109</td>\n",
              "      <td>549917</td>\n",
              "      <td>101</td>\n",
              "      <td>581995</td>\n",
              "      <td>756</td>\n",
              "      <td>707</td>\n",
              "      <td>3318</td>\n",
              "      <td>3280</td>\n",
              "    </tr>\n",
              "  </tbody>\n",
              "</table>\n",
              "</div>"
            ],
            "text/plain": [
              "        date  ordersPerDateA  revenuePerDateA  ordersPerDateB  \\\n",
              "0 2019-08-01              24           148579              21   \n",
              "1 2019-08-02              20            93822              24   \n",
              "2 2019-08-03              24           112473              16   \n",
              "3 2019-08-04              16            70825              17   \n",
              "4 2019-08-05              25           124218              23   \n",
              "\n",
              "   revenuePerDateB  ordersCummulativeA  revenueCummulativeA  \\\n",
              "0           101217                  24               148579   \n",
              "1           165531                  44               242401   \n",
              "2           114248                  68               354874   \n",
              "3           108571                  84               425699   \n",
              "4            92428                 109               549917   \n",
              "\n",
              "   ordersCummulativeB  revenueCummulativeB  visitorsPerDateA  \\\n",
              "0                  21               101217               719   \n",
              "1                  45               266748               619   \n",
              "2                  61               380996               507   \n",
              "3                  78               489567               717   \n",
              "4                 101               581995               756   \n",
              "\n",
              "   visitorsPerDateB  visitorsCummulativeA  visitorsCummulativeB  \n",
              "0               713                   719                   713  \n",
              "1               581                  1338                  1294  \n",
              "2               509                  1845                  1803  \n",
              "3               770                  2562                  2573  \n",
              "4               707                  3318                  3280  "
            ]
          },
          "metadata": {
            "tags": []
          },
          "execution_count": 25
        }
      ]
    },
    {
      "cell_type": "markdown",
      "metadata": {
        "id": "31SE8zQXGI1C"
      },
      "source": [
        "Теперь посчитаем относительный прироста конверсии группы В к группе А."
      ]
    },
    {
      "cell_type": "code",
      "metadata": {
        "id": "sPQliPJgGI1C",
        "outputId": "81fd0b29-516f-4b4f-afea-ae8980ce67a4"
      },
      "source": [
        "# для пользователей из группы А, которые заказали хотя бы 1 раз, найдем число совершенных заказов\n",
        "ordersByUsersA = (\n",
        "    orders[orders['group'] == 'A']\n",
        "    .groupby('visitorId', as_index=False)\n",
        "    .agg({'transactionId': pd.Series.nunique})\n",
        ")\n",
        "ordersByUsersA.columns = ['visitorId', 'orders']\n",
        "\n",
        "#для пользователей из группы В, которые заказали хотя бы 1 раз, найдем число совершенных заказов\n",
        "ordersByUsersB = (\n",
        "    orders[orders['group'] == 'B']\n",
        "    .groupby('visitorId', as_index=False)\n",
        "    .agg({'transactionId': pd.Series.nunique})\n",
        ")\n",
        "ordersByUsersB.columns = ['visitorId', 'orders']\n",
        "\n",
        "#создадим выборку, где каждый элемент — число заказов определённого пользователя из группы А, в том числе ноль\n",
        "sampleA = pd.concat(\n",
        "    [\n",
        "        ordersByUsersA['orders'],\n",
        "        pd.Series(\n",
        "            0,\n",
        "            index=np.arange(\n",
        "                data['visitorsPerDateA'].sum() - len(ordersByUsersA['orders'])\n",
        "            ),\n",
        "            name='orders',\n",
        "        ),\n",
        "    ],\n",
        "    axis=0,\n",
        ")\n",
        "\n",
        "#создадим выборку, где каждый элемент — число заказов определённого пользователя из группы В, в том числе ноль\n",
        "sampleB = pd.concat(\n",
        "    [\n",
        "        ordersByUsersB['orders'],\n",
        "        pd.Series(\n",
        "            0,\n",
        "            index=np.arange(\n",
        "                data['visitorsPerDateB'].sum() - len(ordersByUsersB['orders'])\n",
        "            ),\n",
        "            name='orders',\n",
        "        ),\n",
        "    ],\n",
        "    axis=0,\n",
        ")\n",
        "\n",
        "print(\"Относительный прирост конверсии группы B: {0:.3f}\".format(sampleB.mean() / sampleA.mean() - 1))"
      ],
      "execution_count": null,
      "outputs": [
        {
          "output_type": "stream",
          "text": [
            "Относительный прирост конверсии группы B: 0.138\n"
          ],
          "name": "stdout"
        }
      ]
    },
    {
      "cell_type": "markdown",
      "metadata": {
        "id": "gamtFwwwGI1D"
      },
      "source": [
        "Нулевая гипотеза: статистически значимых различий между группами А и В в конверсии нет. Альтернативная гипотеза: конверсия группы А значимо отличается от конверсии группы В. Пусть alpha = 0.05. Будем использовать mannwhitneyu(), потому что в данных много выбросов."
      ]
    },
    {
      "cell_type": "code",
      "metadata": {
        "id": "GhnTBdoMGI1E",
        "outputId": "01cb30ab-036d-4c02-8421-a36dac5c3506"
      },
      "source": [
        "stats.mannwhitneyu(sampleA, sampleB, alternative='two-sided')[1]"
      ],
      "execution_count": null,
      "outputs": [
        {
          "output_type": "execute_result",
          "data": {
            "text/plain": [
              "0.016792355056752608"
            ]
          },
          "metadata": {
            "tags": []
          },
          "execution_count": 27
        }
      ]
    },
    {
      "cell_type": "markdown",
      "metadata": {
        "id": "uVHxveYBGI1E"
      },
      "source": [
        "### P-value меньше 0.05, поэтому нулевую гипотезу отвергаем. **Существует статистически значимая разница в конверсии между группами по \"сырым данным\". Относительный прирост конверсии группы В - 13.8%**."
      ]
    },
    {
      "cell_type": "markdown",
      "metadata": {
        "id": "agiTAdvMGI1F"
      },
      "source": [
        "## Посчитаем статистическую значимость различий в среднем чеке заказа между группами по «сырым» данным"
      ]
    },
    {
      "cell_type": "markdown",
      "metadata": {
        "id": "F4WjR6wkGI1F"
      },
      "source": [
        "* Нулевая гипотеза: нет различий в среднем чеке заказа между группами по \"сырым данным\". Альтернативная гипотеза: средний чек групп А и В по \"сырым данным\" значимо различается. Пусть alpha = 0.05. Будем проверять гипотезу с помощью непараметрического теста Манна-Уитни, так как мы не очистили данных от выбросов. Передадим  критерию mannwhitneyu() данные о выручке с заказов."
      ]
    },
    {
      "cell_type": "code",
      "metadata": {
        "id": "cH5WhSX1GI1F",
        "outputId": "4ac04a23-50a6-43c1-f860-d12b124098a2"
      },
      "source": [
        "stats.mannwhitneyu(orders[orders['group']=='A']['revenue'], orders[orders['group']=='B']['revenue'], alternative='two-sided')[1]"
      ],
      "execution_count": null,
      "outputs": [
        {
          "output_type": "execute_result",
          "data": {
            "text/plain": [
              "0.7292909855432458"
            ]
          },
          "metadata": {
            "tags": []
          },
          "execution_count": 28
        }
      ]
    },
    {
      "cell_type": "markdown",
      "metadata": {
        "id": "cuVj6IH8GI1G"
      },
      "source": [
        "### Нулевую гипотезу подтверждаем, потому что 0.73 > 0.05. Следовательно, различия в среднем чеке по \"сырым данным\" статистически незначимы."
      ]
    },
    {
      "cell_type": "markdown",
      "metadata": {
        "id": "5xFuENE9GI1G"
      },
      "source": [
        "## Посчитаем статистическую значимость различий в конверсии между группами по «очищенным» данным"
      ]
    },
    {
      "cell_type": "markdown",
      "metadata": {
        "id": "KC7FpwUXGI1H"
      },
      "source": [
        "Получим датасет abnormalUsers, где будут только те пользователи, которые либо сделали больше 4 заказов, либо потратили на один заказ больше 58233.2. Оба значения - 99-й перцентиль по количеству заказов и чека. Выведем их количество методом shape."
      ]
    },
    {
      "cell_type": "code",
      "metadata": {
        "id": "Eo8DRf3kGI1H",
        "outputId": "d71edcb7-51f1-4b81-b04c-5a1e8beca6ea"
      },
      "source": [
        "usersWithManyOrders = pd.concat(\n",
        "    [\n",
        "        ordersByUsersA[ordersByUsersA['orders'] > 4]['visitorId'],\n",
        "        ordersByUsersB[ordersByUsersB['orders'] > 4]['visitorId'],\n",
        "    ],\n",
        "    axis=0,\n",
        ")\n",
        "usersWithExpensiveOrders = orders[orders['revenue'] > 58233.2]['visitorId']\n",
        "abnormalUsers = (\n",
        "    pd.concat([usersWithManyOrders, usersWithExpensiveOrders], axis=0)\n",
        "    .drop_duplicates()\n",
        "    .sort_values()\n",
        ")\n",
        "abnormalUsers.shape "
      ],
      "execution_count": null,
      "outputs": [
        {
          "output_type": "execute_result",
          "data": {
            "text/plain": [
              "(15,)"
            ]
          },
          "metadata": {
            "tags": []
          },
          "execution_count": 29
        }
      ]
    },
    {
      "cell_type": "markdown",
      "metadata": {
        "id": "LIhLrf50GI1I"
      },
      "source": [
        "Всего таких покупателей - 15. Теперь получим две создадим фильтрованные выборки, без аномальных покупателей."
      ]
    },
    {
      "cell_type": "code",
      "metadata": {
        "id": "OqDd5lmOGI1I"
      },
      "source": [
        "sampleAFiltered = pd.concat(\n",
        "    [\n",
        "        ordersByUsersA[\n",
        "            np.logical_not(ordersByUsersA['visitorId'].isin(abnormalUsers))\n",
        "        ]['orders'],\n",
        "        pd.Series(\n",
        "            0,\n",
        "            index=np.arange(\n",
        "                data['visitorsPerDateA'].sum() - len(ordersByUsersA['orders'])\n",
        "            ),\n",
        "            name='orders',\n",
        "        ),\n",
        "    ],\n",
        "    axis=0,\n",
        ")\n",
        "\n",
        "sampleBFiltered = pd.concat(\n",
        "    [\n",
        "        ordersByUsersB[\n",
        "            np.logical_not(ordersByUsersB['visitorId'].isin(abnormalUsers))\n",
        "        ]['orders'],\n",
        "        pd.Series(\n",
        "            0,\n",
        "            index=np.arange(\n",
        "                data['visitorsPerDateB'].sum() - len(ordersByUsersB['orders'])\n",
        "            ),\n",
        "            name='orders',\n",
        "        ),\n",
        "    ],\n",
        "    axis=0,\n",
        ")"
      ],
      "execution_count": null,
      "outputs": []
    },
    {
      "cell_type": "code",
      "metadata": {
        "id": "JrotsBJOGI1I",
        "outputId": "77a13772-02d6-4936-b8c9-28f09fde3df6"
      },
      "source": [
        "sampleBFiltered.mean()/sampleAFiltered.mean()-1"
      ],
      "execution_count": null,
      "outputs": [
        {
          "output_type": "execute_result",
          "data": {
            "text/plain": [
              "0.15331306791514754"
            ]
          },
          "metadata": {
            "tags": []
          },
          "execution_count": 31
        }
      ]
    },
    {
      "cell_type": "markdown",
      "metadata": {
        "id": "iZHeJ_a8GI1J"
      },
      "source": [
        "Относительный прирост конверсии в группе В по сравнению с группой А по очищенным данным составил один процентный пункт."
      ]
    },
    {
      "cell_type": "markdown",
      "metadata": {
        "id": "6ajh0qdJGI1J"
      },
      "source": [
        "* Нулевая гипотеза: нет различий в конверсии между группами по \"очищенным данным\". Альтернативная гипотеза: конверсии групп А и В по \"очищенным данным\" значимо различаются. Пусть alpha = 0.05. Передадим  критерию mannwhitneyu() sampleAFiltered и sampleBFiltered."
      ]
    },
    {
      "cell_type": "code",
      "metadata": {
        "id": "S0M3SpiEGI1J",
        "outputId": "176b8ea2-d639-4c39-c278-7d274499dfb1"
      },
      "source": [
        "stats.mannwhitneyu(sampleAFiltered, sampleBFiltered, alternative='two-sided')[1]"
      ],
      "execution_count": null,
      "outputs": [
        {
          "output_type": "execute_result",
          "data": {
            "text/plain": [
              "0.014380135585308014"
            ]
          },
          "metadata": {
            "tags": []
          },
          "execution_count": 32
        }
      ]
    },
    {
      "cell_type": "markdown",
      "metadata": {
        "id": "YrVlN66dGI1K"
      },
      "source": [
        "### Вывод: P-value < 0.05, поэтому гипотезу отвергаем. После очищения данных от аномальных пользователей p-value стал меньше. Следовательно, вывод не меняем - существует статистически значимая разница в конверсии между группами пользователей А и В."
      ]
    },
    {
      "cell_type": "markdown",
      "metadata": {
        "id": "33afJ9CmGI1K"
      },
      "source": [
        "## Посчитаем статистическую значимость различий в среднем чеке заказа между группами по «очищенным» данным"
      ]
    },
    {
      "cell_type": "code",
      "metadata": {
        "id": "GExeJw1YGI1L",
        "outputId": "1dd87e56-352f-4e37-e993-87df76a0e036"
      },
      "source": [
        "average_checkB = orders[np.logical_and(orders['group'] == 'B', np.logical_not(orders['visitorId'].isin(abnormalUsers)))]['revenue'].mean()\n",
        "average_checkA = orders[np.logical_and(orders['group'] == 'A', np.logical_not(orders['visitorId'].isin(abnormalUsers)))]['revenue'].mean()\n",
        "(average_checkB / average_checkA) - 1"
      ],
      "execution_count": null,
      "outputs": [
        {
          "output_type": "execute_result",
          "data": {
            "text/plain": [
              "-0.005748871952734214"
            ]
          },
          "metadata": {
            "tags": []
          },
          "execution_count": 33
        }
      ]
    },
    {
      "cell_type": "markdown",
      "metadata": {
        "id": "WkUeIbK0GI1L"
      },
      "source": [
        "Средний чек по \"очищенным\" данным снизился на 0,5%."
      ]
    },
    {
      "cell_type": "markdown",
      "metadata": {
        "id": "mS4my0G8GI1M"
      },
      "source": [
        "* Нулевая гипотеза: нет статистически значимого различия в среднем чеке между группами А и В по \"очищенным\" данным. Альтернативная гипотеза: есть статистически значимое различие в среднем чеке между группами А и В по \"очищенным\" данным. alpha = 0.05. Передадим mannwhitneyu() \"очищенные\" данные."
      ]
    },
    {
      "cell_type": "code",
      "metadata": {
        "id": "O03b40KvGI1N",
        "outputId": "99b97735-db08-4f0e-9388-30ed45bc99ea"
      },
      "source": [
        "stats.mannwhitneyu(\n",
        "            orders[\n",
        "                np.logical_and(orders['group'] == 'A', np.logical_not(orders['visitorId'].isin(abnormalUsers)))]\n",
        "    ['revenue'],\n",
        "            orders[\n",
        "                np.logical_and(orders['group'] == 'B', np.logical_not(orders['visitorId'].isin(abnormalUsers)))]\n",
        "    ['revenue'], alternative='two-sided')[1]"
      ],
      "execution_count": null,
      "outputs": [
        {
          "output_type": "execute_result",
          "data": {
            "text/plain": [
              "0.8509126191381939"
            ]
          },
          "metadata": {
            "tags": []
          },
          "execution_count": 34
        }
      ]
    },
    {
      "cell_type": "markdown",
      "metadata": {
        "id": "wRWJtxpIGI1N"
      },
      "source": [
        "Не можем опровергнуть нулевую гипотезу. P-value стало 0.85 против 0.36 на \"сырых\" данных, то есть различий еще меньше. Следовательно, различий в среднем чеке нет."
      ]
    },
    {
      "cell_type": "markdown",
      "metadata": {
        "id": "ms12gSTlGI1P"
      },
      "source": [
        "### Вывод: статистического значимого отличия в среднем чеке между группами А и В по \"очищенным\" данным не обнаружено."
      ]
    },
    {
      "cell_type": "markdown",
      "metadata": {
        "id": "A3TBPYz4GI1P"
      },
      "source": [
        "## Общие выводы:"
      ]
    },
    {
      "cell_type": "markdown",
      "metadata": {
        "id": "DQ8krIWSGI1P"
      },
      "source": [
        "### Выводы по приоритизации гипотез: \n",
        "\n",
        "Наиболее приоритетные гипотезы по методу ICE:\n",
        "\n",
        "* Запустить акцию, дающую скидку на товар в день рождения\n",
        "* Добавить два новых канала привлечения трафика, что позволит привлекать на 30% больше пользователей\n",
        "* Добавить форму подписки на все основные страницы, чтобы собрать базу клиентов для email-рассылок\n",
        "\n",
        "Наиболее приоритетные гипотезы по методу RICE:\n",
        "\n",
        "* Добавить форму подписки на все основные страницы, чтобы собрать базу клиентов для email-рассылок\n",
        "* Добавить блоки рекомендаций товаров на сайт интернет магазина, чтобы повысить конверсию и средний чек заказа\n",
        "\n",
        "Гипотезе про добавление блоков рекомендаций для повышения конверсии и среднего чека дали, кажется, слишком низкую оценку по Impact, иначе она вошла бы и в приоритетные гипотезы по методу ICE.\n",
        "\n",
        "### Выводы по A/B-тесту:\n",
        "\n",
        "* 58 пользователей попали в обе группы. Это может повлиять на результаты теста.\n",
        "* Конверсия в группе В повысилась на 13% по всем данным и на 15% по данным, откуда удалены пользователи с аномально большим количеством заказов или аномально дорогим заказом. Различия в обеих случаях статистически значимы. Можем сделать вывод, что изменения, которые затронули группу В, положительно повлияли на конверсию.\n",
        "* Разница в среднем чеке между группами А и В статистически незначимая. Разница между средними чеками в двух группах так мала, что вряд ли она появится, если тест продолжить.\n",
        "* Останавливаем тест, группа В показывает более высокую конверсию. Разницы между ними по средним чекам нет. Продолжать тест нет смысла, так как разница в конверсии устоялась (это видно по графику кумулятивной конверсии), а разница в средних чеках стремится к нулю что в данных с выбросами, что в данных без них."
      ]
    }
  ]
}