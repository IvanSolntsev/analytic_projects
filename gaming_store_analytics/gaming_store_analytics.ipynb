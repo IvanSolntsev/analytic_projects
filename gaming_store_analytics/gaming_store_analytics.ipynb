{
  "nbformat": 4,
  "nbformat_minor": 0,
  "metadata": {
    "kernelspec": {
      "display_name": "Python 3",
      "language": "python",
      "name": "python3"
    },
    "language_info": {
      "codemirror_mode": {
        "name": "ipython",
        "version": 3
      },
      "file_extension": ".py",
      "mimetype": "text/x-python",
      "name": "python",
      "nbconvert_exporter": "python",
      "pygments_lexer": "ipython3",
      "version": "3.7.8"
    },
    "toc": {
      "base_numbering": 1,
      "nav_menu": {},
      "number_sections": true,
      "sideBar": true,
      "skip_h1_title": true,
      "title_cell": "Table of Contents",
      "title_sidebar": "Contents",
      "toc_cell": false,
      "toc_position": {},
      "toc_section_display": true,
      "toc_window_display": false
    },
    "colab": {
      "name": "gaming_store_analytics.ipynb",
      "provenance": []
    }
  },
  "cells": [
    {
      "cell_type": "markdown",
      "metadata": {
        "id": "rNHBnJ81fKDt"
      },
      "source": [
        "Описание проекта\n",
        "\n",
        "Это учебный проект Яндекс.Практикума. К сожалению, не было достаточно данных, чтобы дать содержательные рекомендации для маркетологов, пришлось самому додумывать ТЗ :). В конце нужно было проверить несколько гипотез о равенстве средних - такое задание, хотя по бизнес-логике не совсем ясно, зачем нужно было это делать.\n",
        "\n",
        "\"Мы работаем в интернет-магазине «Стримчик», который продаёт по всему миру компьютерные игры. Из открытых источников доступны исторические данные о продажах игр, оценки пользователей и экспертов, жанры и платформы (например, Xbox или PlayStation). Нам нужно выявить определяющие успешность игры закономерности. Это позволит сделать ставку на потенциально популярный продукт и спланировать рекламные кампании.\n",
        "Перед нами данные до 2016 года. Представим, что сейчас декабрь 2016 г., и мы планируем кампанию на 2017-й.\n",
        "В наборе данных попадается аббревиатура ESRB (Entertainment Software Rating Board) — это ассоциация, определяющая возрастной рейтинг компьютерных игр. ESRB оценивает игровой контент и присваивает ему подходящую возрастную категорию, например, «Для взрослых», «Для детей младшего возраста» или «Для подростков»\"."
      ]
    },
    {
      "cell_type": "markdown",
      "metadata": {
        "id": "KntO08k8fKDu"
      },
      "source": [
        "Описание данных\n",
        "\n",
        "* \t\tName — название игры\n",
        "* \t\tPlatform — платформа\n",
        "* \t\tYear_of_Release — год выпуска\n",
        "* \t\tGenre — жанр игры\n",
        "* \t\tNA_sales — продажи в Северной Америке (миллионы проданных копий)\n",
        "* \t\tEU_sales — продажи в Европе (миллионы проданных копий)\n",
        "* \t\tJP_sales — продажи в Японии (миллионы проданных копий)\n",
        "* \t\tOther_sales — продажи в других странах (миллионы проданных копий)\n",
        "* \t\tCritic_Score — оценка критиков (максимум 100)\n",
        "* \t\tUser_Score — оценка пользователей (максимум 10)\n",
        "* \t\tRating — рейтинг от организации ESRB (англ. Entertainment Software Rating Board). Эта ассоциация определяет рейтинг компьютерных игр и присваивает им подходящую возрастную категорию."
      ]
    },
    {
      "cell_type": "markdown",
      "metadata": {
        "id": "usPz9LB9fKDu"
      },
      "source": [
        "#### Оглавление\n",
        "\n",
        "1. [Знакомство с данными и предобработка](#preprocessing)\n",
        "2. [Исследовательский анализ данных](#eda)\n",
        "3. [Портрет пользователя каждого региона](#portrait)\n",
        "4. [Тестирование гипотез](#hypotheses)\n",
        "5. [Общий вывод](#summary)"
      ]
    },
    {
      "cell_type": "markdown",
      "metadata": {
        "id": "0WFEnaHqfKDv"
      },
      "source": [
        "### Знакомство с данными и их предобработка.  <a id=\"preprocessing\"></a>"
      ]
    },
    {
      "cell_type": "code",
      "metadata": {
        "id": "dnlHeVAdfKDv",
        "outputId": "7c03add6-f9c3-4115-fa69-857b66c1b37f"
      },
      "source": [
        "import pandas as pd\n",
        "import numpy as np\n",
        "!pip install missingno\n",
        "import missingno as msno\n",
        "import matplotlib.pyplot as plt\n",
        "import warnings\n",
        "import scipy.stats\n",
        "import seaborn as sns\n",
        "warnings.filterwarnings('ignore')\n",
        "df = pd.read_csv('/datasets/games.csv')\n",
        "df.head()"
      ],
      "execution_count": null,
      "outputs": [
        {
          "output_type": "stream",
          "text": [
            "Defaulting to user installation because normal site-packages is not writeable\n",
            "Requirement already satisfied: missingno in /home/jovyan/.local/lib/python3.7/site-packages (0.4.2)\n",
            "Requirement already satisfied: numpy in /opt/conda/lib/python3.7/site-packages (from missingno) (1.19.5)\n",
            "Requirement already satisfied: seaborn in /opt/conda/lib/python3.7/site-packages (from missingno) (0.9.0)\n",
            "Requirement already satisfied: matplotlib in /opt/conda/lib/python3.7/site-packages (from missingno) (3.1.0)\n",
            "Requirement already satisfied: scipy in /opt/conda/lib/python3.7/site-packages (from missingno) (1.4.1)\n",
            "Requirement already satisfied: pandas>=0.15.2 in /opt/conda/lib/python3.7/site-packages (from seaborn->missingno) (0.25.1)\n",
            "Requirement already satisfied: python-dateutil>=2.1 in /opt/conda/lib/python3.7/site-packages (from matplotlib->missingno) (2.8.1)\n",
            "Requirement already satisfied: kiwisolver>=1.0.1 in /opt/conda/lib/python3.7/site-packages (from matplotlib->missingno) (1.3.1)\n",
            "Requirement already satisfied: pyparsing!=2.0.4,!=2.1.2,!=2.1.6,>=2.0.1 in /opt/conda/lib/python3.7/site-packages (from matplotlib->missingno) (2.4.7)\n",
            "Requirement already satisfied: cycler>=0.10 in /opt/conda/lib/python3.7/site-packages (from matplotlib->missingno) (0.10.0)\n",
            "Requirement already satisfied: pytz>=2017.2 in /opt/conda/lib/python3.7/site-packages (from pandas>=0.15.2->seaborn->missingno) (2021.1)\n",
            "Requirement already satisfied: six>=1.5 in /opt/conda/lib/python3.7/site-packages (from python-dateutil>=2.1->matplotlib->missingno) (1.15.0)\n"
          ],
          "name": "stdout"
        },
        {
          "output_type": "execute_result",
          "data": {
            "text/html": [
              "<div>\n",
              "<style scoped>\n",
              "    .dataframe tbody tr th:only-of-type {\n",
              "        vertical-align: middle;\n",
              "    }\n",
              "\n",
              "    .dataframe tbody tr th {\n",
              "        vertical-align: top;\n",
              "    }\n",
              "\n",
              "    .dataframe thead th {\n",
              "        text-align: right;\n",
              "    }\n",
              "</style>\n",
              "<table border=\"1\" class=\"dataframe\">\n",
              "  <thead>\n",
              "    <tr style=\"text-align: right;\">\n",
              "      <th></th>\n",
              "      <th>Name</th>\n",
              "      <th>Platform</th>\n",
              "      <th>Year_of_Release</th>\n",
              "      <th>Genre</th>\n",
              "      <th>NA_sales</th>\n",
              "      <th>EU_sales</th>\n",
              "      <th>JP_sales</th>\n",
              "      <th>Other_sales</th>\n",
              "      <th>Critic_Score</th>\n",
              "      <th>User_Score</th>\n",
              "      <th>Rating</th>\n",
              "    </tr>\n",
              "  </thead>\n",
              "  <tbody>\n",
              "    <tr>\n",
              "      <td>0</td>\n",
              "      <td>Wii Sports</td>\n",
              "      <td>Wii</td>\n",
              "      <td>2006.0</td>\n",
              "      <td>Sports</td>\n",
              "      <td>41.36</td>\n",
              "      <td>28.96</td>\n",
              "      <td>3.77</td>\n",
              "      <td>8.45</td>\n",
              "      <td>76.0</td>\n",
              "      <td>8</td>\n",
              "      <td>E</td>\n",
              "    </tr>\n",
              "    <tr>\n",
              "      <td>1</td>\n",
              "      <td>Super Mario Bros.</td>\n",
              "      <td>NES</td>\n",
              "      <td>1985.0</td>\n",
              "      <td>Platform</td>\n",
              "      <td>29.08</td>\n",
              "      <td>3.58</td>\n",
              "      <td>6.81</td>\n",
              "      <td>0.77</td>\n",
              "      <td>NaN</td>\n",
              "      <td>NaN</td>\n",
              "      <td>NaN</td>\n",
              "    </tr>\n",
              "    <tr>\n",
              "      <td>2</td>\n",
              "      <td>Mario Kart Wii</td>\n",
              "      <td>Wii</td>\n",
              "      <td>2008.0</td>\n",
              "      <td>Racing</td>\n",
              "      <td>15.68</td>\n",
              "      <td>12.76</td>\n",
              "      <td>3.79</td>\n",
              "      <td>3.29</td>\n",
              "      <td>82.0</td>\n",
              "      <td>8.3</td>\n",
              "      <td>E</td>\n",
              "    </tr>\n",
              "    <tr>\n",
              "      <td>3</td>\n",
              "      <td>Wii Sports Resort</td>\n",
              "      <td>Wii</td>\n",
              "      <td>2009.0</td>\n",
              "      <td>Sports</td>\n",
              "      <td>15.61</td>\n",
              "      <td>10.93</td>\n",
              "      <td>3.28</td>\n",
              "      <td>2.95</td>\n",
              "      <td>80.0</td>\n",
              "      <td>8</td>\n",
              "      <td>E</td>\n",
              "    </tr>\n",
              "    <tr>\n",
              "      <td>4</td>\n",
              "      <td>Pokemon Red/Pokemon Blue</td>\n",
              "      <td>GB</td>\n",
              "      <td>1996.0</td>\n",
              "      <td>Role-Playing</td>\n",
              "      <td>11.27</td>\n",
              "      <td>8.89</td>\n",
              "      <td>10.22</td>\n",
              "      <td>1.00</td>\n",
              "      <td>NaN</td>\n",
              "      <td>NaN</td>\n",
              "      <td>NaN</td>\n",
              "    </tr>\n",
              "  </tbody>\n",
              "</table>\n",
              "</div>"
            ],
            "text/plain": [
              "                       Name Platform  Year_of_Release         Genre  NA_sales  \\\n",
              "0                Wii Sports      Wii           2006.0        Sports     41.36   \n",
              "1         Super Mario Bros.      NES           1985.0      Platform     29.08   \n",
              "2            Mario Kart Wii      Wii           2008.0        Racing     15.68   \n",
              "3         Wii Sports Resort      Wii           2009.0        Sports     15.61   \n",
              "4  Pokemon Red/Pokemon Blue       GB           1996.0  Role-Playing     11.27   \n",
              "\n",
              "   EU_sales  JP_sales  Other_sales  Critic_Score User_Score Rating  \n",
              "0     28.96      3.77         8.45          76.0          8      E  \n",
              "1      3.58      6.81         0.77           NaN        NaN    NaN  \n",
              "2     12.76      3.79         3.29          82.0        8.3      E  \n",
              "3     10.93      3.28         2.95          80.0          8      E  \n",
              "4      8.89     10.22         1.00           NaN        NaN    NaN  "
            ]
          },
          "metadata": {
            "tags": []
          },
          "execution_count": 1
        }
      ]
    },
    {
      "cell_type": "code",
      "metadata": {
        "id": "DiMaUIkCfKDw",
        "outputId": "ed098744-747f-4fad-aecf-6e5ff7fcb01f"
      },
      "source": [
        "df.info()"
      ],
      "execution_count": null,
      "outputs": [
        {
          "output_type": "stream",
          "text": [
            "<class 'pandas.core.frame.DataFrame'>\n",
            "RangeIndex: 16715 entries, 0 to 16714\n",
            "Data columns (total 11 columns):\n",
            "Name               16713 non-null object\n",
            "Platform           16715 non-null object\n",
            "Year_of_Release    16446 non-null float64\n",
            "Genre              16713 non-null object\n",
            "NA_sales           16715 non-null float64\n",
            "EU_sales           16715 non-null float64\n",
            "JP_sales           16715 non-null float64\n",
            "Other_sales        16715 non-null float64\n",
            "Critic_Score       8137 non-null float64\n",
            "User_Score         10014 non-null object\n",
            "Rating             9949 non-null object\n",
            "dtypes: float64(6), object(5)\n",
            "memory usage: 1.4+ MB\n"
          ],
          "name": "stdout"
        }
      ]
    },
    {
      "cell_type": "markdown",
      "metadata": {
        "id": "RCdZk-yVfKDx"
      },
      "source": [
        "Самые большие проблемы в данных - у приблизительно половины игр нет оценки критика, пользовательских оценок и рейтинга. Не будем заполнять пропуски, потому что это у нас нет достаточных данных и это может исказить выводы."
      ]
    },
    {
      "cell_type": "markdown",
      "metadata": {
        "id": "voYPZ1O9fKDx"
      },
      "source": [
        "<div class=\"alert alert-block alert-success\">\n",
        "<b>Комментарий ревьюера: </b>\n",
        "\n",
        "Тут я с тобой полностью согласен - наше заполнение хоть и дает результат, но порой можно и обойтись без него (особенно, если данных для выводов хватает)\n",
        "\n",
        "</div>\n"
      ]
    },
    {
      "cell_type": "code",
      "metadata": {
        "id": "qATfIGw0fKDx",
        "outputId": "c39d383f-22fa-485e-e7d8-0df5f80fb59d"
      },
      "source": [
        "df.columns = df.columns.str.lower()\n",
        "df = df.dropna(subset=['year_of_release'])\n",
        "df = df.reset_index(drop=True)\n",
        "df['year_of_release'] = df['year_of_release'].astype('int32')\n",
        "df.info()"
      ],
      "execution_count": null,
      "outputs": [
        {
          "output_type": "stream",
          "text": [
            "<class 'pandas.core.frame.DataFrame'>\n",
            "RangeIndex: 16446 entries, 0 to 16445\n",
            "Data columns (total 11 columns):\n",
            "name               16444 non-null object\n",
            "platform           16446 non-null object\n",
            "year_of_release    16446 non-null int32\n",
            "genre              16444 non-null object\n",
            "na_sales           16446 non-null float64\n",
            "eu_sales           16446 non-null float64\n",
            "jp_sales           16446 non-null float64\n",
            "other_sales        16446 non-null float64\n",
            "critic_score       7983 non-null float64\n",
            "user_score         9839 non-null object\n",
            "rating             9768 non-null object\n",
            "dtypes: float64(5), int32(1), object(5)\n",
            "memory usage: 1.3+ MB\n"
          ],
          "name": "stdout"
        }
      ]
    },
    {
      "cell_type": "markdown",
      "metadata": {
        "id": "pCAtXC4HfKDy"
      },
      "source": [
        "Убрали игры, где не указан год выпуска - нам этот параметр важен, чтобы спрогнозировать продажи на 2017. Поменяли тип данных в years_of_release на целочисленный. Привели все названия столбцов к нижнему регистру."
      ]
    },
    {
      "cell_type": "markdown",
      "metadata": {
        "id": "NKFnObZUfKDy"
      },
      "source": [
        "<div class=\"alert alert-block alert-warning\">\n",
        "<b>Reviewer's comment:</b>\n",
        "\n",
        "В именах игр встречается год, зачастую - это знание можно использовать =) В крайнем случае, для многих из них указана платформа - поскольку она имеет ограниченный срок жизни, можно предположить, что игра была выпущена вместе с основной массой на конкретной платформе.\n",
        "\n",
        "Все эти предположения сейчас не так пагубно отразятся на датасете, как удаление - это ты уже знаешь с предыдущих спринтов ;)\n",
        "\n",
        "</div>\n"
      ]
    },
    {
      "cell_type": "code",
      "metadata": {
        "id": "7HRDCihJfKDy",
        "outputId": "8a573d54-7aab-4a91-d3fc-599937f7269c"
      },
      "source": [
        "msno.matrix(df);"
      ],
      "execution_count": null,
      "outputs": [
        {
          "output_type": "display_data",
          "data": {
            "image/png": "[encoded data removed]",
            "text/plain": [
              "<Figure size 1800x720 with 2 Axes>"
            ]
          },
          "metadata": {
            "tags": [],
            "needs_background": "light"
          }
        }
      ]
    },
    {
      "cell_type": "markdown",
      "metadata": {
        "id": "0xmqo_3dfKDy"
      },
      "source": [
        "Видим, что пропуски в столбцах critic_score, user_score и rating похожи."
      ]
    },
    {
      "cell_type": "code",
      "metadata": {
        "id": "g2TKLb6PfKDz",
        "outputId": "7221b3ea-3d93-4112-986d-a698913657e5"
      },
      "source": [
        "msno.heatmap(df);"
      ],
      "execution_count": null,
      "outputs": [
        {
          "output_type": "display_data",
          "data": {
            "image/png": "[encoded data removed]",
            "text/plain": [
              "<Figure size 1440x864 with 2 Axes>"
            ]
          },
          "metadata": {
            "tags": [],
            "needs_background": "light"
          }
        }
      ]
    },
    {
      "cell_type": "markdown",
      "metadata": {
        "id": "4joaeSDNfKDz"
      },
      "source": [
        "Почти везде, где нет пользовательского рейтинга, нет и рейтинга возрастного. Чуть менее связаны пропуски в рейтинге критиков и возрастном рейтинге, рейтинге пользовательском и рейтинге критиков. Скорее всего, все три параметра стали появляться у новых игр, поэтому так много пропусков."
      ]
    },
    {
      "cell_type": "code",
      "metadata": {
        "id": "4ouGqdwJfKDz",
        "outputId": "714d8d96-56dd-4013-9bea-a5127fa9b65c"
      },
      "source": [
        "df.nunique()"
      ],
      "execution_count": null,
      "outputs": [
        {
          "output_type": "execute_result",
          "data": {
            "text/plain": [
              "name               11426\n",
              "platform              31\n",
              "year_of_release       37\n",
              "genre                 12\n",
              "na_sales             401\n",
              "eu_sales             307\n",
              "jp_sales             244\n",
              "other_sales          155\n",
              "critic_score          81\n",
              "user_score            96\n",
              "rating                 8\n",
              "dtype: int64"
            ]
          },
          "metadata": {
            "tags": []
          },
          "execution_count": 6
        }
      ]
    },
    {
      "cell_type": "markdown",
      "metadata": {
        "id": "_pDkh7jNfKDz"
      },
      "source": [
        "Уникальных названий игр - 11559, тогда как всего их 16444. Видимо, разница объясняется мультиплатформенными играми."
      ]
    },
    {
      "cell_type": "code",
      "metadata": {
        "id": "MtCwVdY5fKDz",
        "outputId": "5dbc882a-b4ad-4849-ab08-7d5d7f0992fc"
      },
      "source": [
        "df.duplicated().sum()"
      ],
      "execution_count": null,
      "outputs": [
        {
          "output_type": "execute_result",
          "data": {
            "text/plain": [
              "0"
            ]
          },
          "metadata": {
            "tags": []
          },
          "execution_count": 7
        }
      ]
    },
    {
      "cell_type": "markdown",
      "metadata": {
        "id": "kIhPvOeMfKD0"
      },
      "source": [
        "Дубликатов не обнаружено."
      ]
    },
    {
      "cell_type": "code",
      "metadata": {
        "id": "TZ_zaENDfKD0",
        "outputId": "bfe71986-0f85-4ee1-e8d6-bfd39664644b"
      },
      "source": [
        "df['platform'].value_counts(normalize=True)"
      ],
      "execution_count": null,
      "outputs": [
        {
          "output_type": "execute_result",
          "data": {
            "text/plain": [
              "PS2     0.129332\n",
              "DS      0.128968\n",
              "PS3     0.079411\n",
              "Wii     0.078195\n",
              "X360    0.074912\n",
              "PSP     0.072540\n",
              "PS      0.072358\n",
              "PC      0.058190\n",
              "GBA     0.049313\n",
              "XB      0.048826\n",
              "GC      0.032956\n",
              "3DS     0.031132\n",
              "PSV     0.026085\n",
              "PS4     0.023836\n",
              "N64     0.019214\n",
              "XOne    0.015019\n",
              "SNES    0.014532\n",
              "SAT     0.010519\n",
              "WiiU    0.008938\n",
              "2600    0.007053\n",
              "NES     0.005959\n",
              "GB      0.005898\n",
              "DC      0.003162\n",
              "GEN     0.001763\n",
              "NG      0.000730\n",
              "SCD     0.000365\n",
              "WS      0.000365\n",
              "3DO     0.000182\n",
              "TG16    0.000122\n",
              "PCFX    0.000061\n",
              "GG      0.000061\n",
              "Name: platform, dtype: float64"
            ]
          },
          "metadata": {
            "tags": []
          },
          "execution_count": 8
        }
      ]
    },
    {
      "cell_type": "markdown",
      "metadata": {
        "id": "1TOR4qexfKD0"
      },
      "source": [
        "Аномальных значений и дубликатов в столбце platform, кажется, нет."
      ]
    },
    {
      "cell_type": "code",
      "metadata": {
        "id": "mQd10Dq9fKD0",
        "outputId": "c0689478-a090-4cf5-8dac-a66cb06a9f3f"
      },
      "source": [
        "df['year_of_release'].value_counts(normalize=True)"
      ],
      "execution_count": null,
      "outputs": [
        {
          "output_type": "execute_result",
          "data": {
            "text/plain": [
              "2008    0.086769\n",
              "2009    0.086708\n",
              "2010    0.076310\n",
              "2007    0.072784\n",
              "2011    0.069075\n",
              "2006    0.061170\n",
              "2005    0.057096\n",
              "2002    0.050407\n",
              "2003    0.047124\n",
              "2004    0.046333\n",
              "2012    0.039706\n",
              "2015    0.036848\n",
              "2014    0.035328\n",
              "2013    0.033078\n",
              "2016    0.030524\n",
              "2001    0.029308\n",
              "1998    0.023045\n",
              "2000    0.021282\n",
              "1999    0.020552\n",
              "1997    0.017573\n",
              "1996    0.015992\n",
              "1995    0.013316\n",
              "1994    0.007357\n",
              "1993    0.003770\n",
              "1981    0.002797\n",
              "1992    0.002615\n",
              "1991    0.002493\n",
              "1982    0.002189\n",
              "1986    0.001277\n",
              "1983    0.001034\n",
              "1989    0.001034\n",
              "1987    0.000973\n",
              "1990    0.000973\n",
              "1988    0.000912\n",
              "1984    0.000851\n",
              "1985    0.000851\n",
              "1980    0.000547\n",
              "Name: year_of_release, dtype: float64"
            ]
          },
          "metadata": {
            "tags": []
          },
          "execution_count": 9
        }
      ]
    },
    {
      "cell_type": "markdown",
      "metadata": {
        "id": "iqMroeSMfKD1"
      },
      "source": [
        "Аномальных значений в столбце years_of_release не замечено. Как видимо, в базе есть даже игры 1980-го года, а больше всего игр выпустилось в 2008 и 2009 гг."
      ]
    },
    {
      "cell_type": "code",
      "metadata": {
        "id": "Z4SUdewefKD1",
        "outputId": "5d0b8a08-c699-42bc-f467-cc5c99d4b769"
      },
      "source": [
        "df['genre'].value_counts(normalize=True)"
      ],
      "execution_count": null,
      "outputs": [
        {
          "output_type": "execute_result",
          "data": {
            "text/plain": [
              "Action          0.201107\n",
              "Sports          0.140234\n",
              "Misc            0.104658\n",
              "Role-Playing    0.090063\n",
              "Shooter         0.078813\n",
              "Adventure       0.078631\n",
              "Racing          0.074556\n",
              "Platform        0.053393\n",
              "Simulation      0.052116\n",
              "Fighting        0.050900\n",
              "Strategy        0.040927\n",
              "Puzzle          0.034602\n",
              "Name: genre, dtype: float64"
            ]
          },
          "metadata": {
            "tags": []
          },
          "execution_count": 10
        }
      ]
    },
    {
      "cell_type": "markdown",
      "metadata": {
        "id": "guuDE5xdfKD1"
      },
      "source": [
        "Аномальных значений в столбце genre не выявлено."
      ]
    },
    {
      "cell_type": "code",
      "metadata": {
        "id": "SGXMkU_JfKD1",
        "outputId": "3355a416-02a4-44cc-bea0-26684e19ab9d"
      },
      "source": [
        "df['rating'].value_counts(normalize=True)"
      ],
      "execution_count": null,
      "outputs": [
        {
          "output_type": "execute_result",
          "data": {
            "text/plain": [
              "E       0.401413\n",
              "T       0.297400\n",
              "M       0.157248\n",
              "E10+    0.142609\n",
              "EC      0.000819\n",
              "K-A     0.000307\n",
              "AO      0.000102\n",
              "RP      0.000102\n",
              "Name: rating, dtype: float64"
            ]
          },
          "metadata": {
            "tags": []
          },
          "execution_count": 11
        }
      ]
    },
    {
      "cell_type": "markdown",
      "metadata": {
        "id": "PMNetVaRfKD1"
      },
      "source": [
        "Аномальных значений в столбце rating не выявлено. Подавляющее большинство игр имеют рейтинг: E, T, M, E10+"
      ]
    },
    {
      "cell_type": "code",
      "metadata": {
        "id": "ilmLPx2vfKD2",
        "outputId": "8695107d-0dc4-4fb4-d552-813b5ca18a58"
      },
      "source": [
        "df['user_score'].value_counts(normalize=True)"
      ],
      "execution_count": null,
      "outputs": [
        {
          "output_type": "execute_result",
          "data": {
            "text/plain": [
              "tbd    0.241488\n",
              "7.8    0.032727\n",
              "8      0.028966\n",
              "8.2    0.028052\n",
              "8.3    0.025612\n",
              "         ...   \n",
              "0.5    0.000203\n",
              "0.3    0.000203\n",
              "1.1    0.000203\n",
              "9.7    0.000102\n",
              "0      0.000102\n",
              "Name: user_score, Length: 96, dtype: float64"
            ]
          },
          "metadata": {
            "tags": []
          },
          "execution_count": 12
        }
      ]
    },
    {
      "cell_type": "markdown",
      "metadata": {
        "id": "1BqH0IlpfKD2"
      },
      "source": [
        "tbd - игры без рейтинга. Видимо, которые не набрали достаточное количество отзывов. Поменяем эти значения на NaN, потому что по сути у этих игр оценки нет."
      ]
    },
    {
      "cell_type": "code",
      "metadata": {
        "id": "l9LiUr0VfKD2",
        "outputId": "010282bd-3345-4758-e64f-c6cd31b40044"
      },
      "source": [
        "df = df.replace('tbd', np.nan)\n",
        "df['user_score'] = pd.to_numeric(df['user_score'], downcast=\"float\")\n",
        "df.info()"
      ],
      "execution_count": null,
      "outputs": [
        {
          "output_type": "stream",
          "text": [
            "<class 'pandas.core.frame.DataFrame'>\n",
            "RangeIndex: 16446 entries, 0 to 16445\n",
            "Data columns (total 11 columns):\n",
            "name               16444 non-null object\n",
            "platform           16446 non-null object\n",
            "year_of_release    16446 non-null int64\n",
            "genre              16444 non-null object\n",
            "na_sales           16446 non-null float64\n",
            "eu_sales           16446 non-null float64\n",
            "jp_sales           16446 non-null float64\n",
            "other_sales        16446 non-null float64\n",
            "critic_score       7983 non-null float64\n",
            "user_score         7463 non-null float32\n",
            "rating             9768 non-null object\n",
            "dtypes: float32(1), float64(5), int64(1), object(4)\n",
            "memory usage: 1.3+ MB\n"
          ],
          "name": "stdout"
        }
      ]
    },
    {
      "cell_type": "markdown",
      "metadata": {
        "id": "tyF8N_wKfKD2"
      },
      "source": [
        "Поменяли на NaN 'tbd' в столбце user_score, тип данных в самом столбце поменяли на float."
      ]
    },
    {
      "cell_type": "code",
      "metadata": {
        "id": "8VSVwD3LfKD3",
        "outputId": "b5098448-8f8e-41db-eedc-3e88fe3ee491"
      },
      "source": [
        "df['critic_score'].value_counts(normalize=True)"
      ],
      "execution_count": null,
      "outputs": [
        {
          "output_type": "execute_result",
          "data": {
            "text/plain": [
              "70.0    0.031567\n",
              "71.0    0.031066\n",
              "75.0    0.030064\n",
              "80.0    0.029438\n",
              "73.0    0.029312\n",
              "          ...   \n",
              "29.0    0.000376\n",
              "20.0    0.000376\n",
              "21.0    0.000125\n",
              "13.0    0.000125\n",
              "17.0    0.000125\n",
              "Name: critic_score, Length: 81, dtype: float64"
            ]
          },
          "metadata": {
            "tags": []
          },
          "execution_count": 14
        }
      ]
    },
    {
      "cell_type": "markdown",
      "metadata": {
        "id": "a2Rc7P8QfKD3"
      },
      "source": [
        "Аномальных значений в столбце critic_score не выявлено."
      ]
    },
    {
      "cell_type": "code",
      "metadata": {
        "id": "AW2ryC9hfKD3",
        "outputId": "e9251172-ec62-433d-ccb8-de253a8cca0c"
      },
      "source": [
        "df['na_sales'].describe()"
      ],
      "execution_count": null,
      "outputs": [
        {
          "output_type": "execute_result",
          "data": {
            "text/plain": [
              "count    16446.000000\n",
              "mean         0.264089\n",
              "std          0.818416\n",
              "min          0.000000\n",
              "25%          0.000000\n",
              "50%          0.080000\n",
              "75%          0.240000\n",
              "max         41.360000\n",
              "Name: na_sales, dtype: float64"
            ]
          },
          "metadata": {
            "tags": []
          },
          "execution_count": 15
        }
      ]
    },
    {
      "cell_type": "markdown",
      "metadata": {
        "id": "phktIXNpfKD3"
      },
      "source": [
        "Медианное значение столбца - 0.08 млн проданных копий. Аномалий не выявлено."
      ]
    },
    {
      "cell_type": "code",
      "metadata": {
        "id": "KcETP7kqfKD3",
        "outputId": "eaadbe0e-af2b-467c-971d-c42833c83f13"
      },
      "source": [
        "df['eu_sales'].describe()"
      ],
      "execution_count": null,
      "outputs": [
        {
          "output_type": "execute_result",
          "data": {
            "text/plain": [
              "count    16446.000000\n",
              "mean         0.145945\n",
              "std          0.506696\n",
              "min          0.000000\n",
              "25%          0.000000\n",
              "50%          0.020000\n",
              "75%          0.110000\n",
              "max         28.960000\n",
              "Name: eu_sales, dtype: float64"
            ]
          },
          "metadata": {
            "tags": []
          },
          "execution_count": 16
        }
      ]
    },
    {
      "cell_type": "markdown",
      "metadata": {
        "id": "-6Q4w6WrfKD4"
      },
      "source": [
        "Игры в Европе продаются хуже, чем в Северной Америке - медианное значение - 0.02 млн проданных копий. Аномалий не выявлено."
      ]
    },
    {
      "cell_type": "code",
      "metadata": {
        "id": "jhjTtvQsfKD4",
        "outputId": "b6894ea1-a959-4901-d7a1-0b0debbae54a"
      },
      "source": [
        "df['jp_sales'].describe()"
      ],
      "execution_count": null,
      "outputs": [
        {
          "output_type": "execute_result",
          "data": {
            "text/plain": [
              "count    16446.000000\n",
              "mean         0.078479\n",
              "std          0.311082\n",
              "min          0.000000\n",
              "25%          0.000000\n",
              "50%          0.000000\n",
              "75%          0.040000\n",
              "max         10.220000\n",
              "Name: jp_sales, dtype: float64"
            ]
          },
          "metadata": {
            "tags": []
          },
          "execution_count": 17
        }
      ]
    },
    {
      "cell_type": "markdown",
      "metadata": {
        "id": "9yCBNqsSfKD4"
      },
      "source": [
        "В Японии больше половины игр не продают ни одной копии. Аномалий не выявлено."
      ]
    },
    {
      "cell_type": "code",
      "metadata": {
        "id": "LRsKDMZofKD4",
        "outputId": "55d6520a-58ae-4bc1-a223-4db546105519"
      },
      "source": [
        "df['total_sales'] = df['jp_sales'] + df['eu_sales'] + df['na_sales']\n",
        "df['total_sales'].describe()"
      ],
      "execution_count": null,
      "outputs": [
        {
          "output_type": "execute_result",
          "data": {
            "text/plain": [
              "count    16446.000000\n",
              "mean         0.488513\n",
              "std          1.423434\n",
              "min          0.000000\n",
              "25%          0.060000\n",
              "50%          0.160000\n",
              "75%          0.430000\n",
              "max         74.090000\n",
              "Name: total_sales, dtype: float64"
            ]
          },
          "metadata": {
            "tags": []
          },
          "execution_count": 18
        }
      ]
    },
    {
      "cell_type": "markdown",
      "metadata": {
        "id": "nLgyUCWFfKD5"
      },
      "source": [
        "Добавили столбец total_sales с общими продажами на всех рынках."
      ]
    },
    {
      "cell_type": "markdown",
      "metadata": {
        "id": "5CWepPuQfKD5"
      },
      "source": [
        "Итоги:\n",
        "- Дубликатов в данных не обнаружено\n",
        "- Около половины данных пропущено в столбцах critic_score, user_score и rating, не стали заполнять пропуски\n",
        "- Значение tbd в столбце tbd заменили на NaN, чтобы можно было преобразовать столбец в тип float\n",
        "- Преобразовали столбец year_of_release в целочисленный тип int_32\n",
        "- Добавили столбец total_sales, где сложили продажи на всех трех рынках: na_sales, eu_sales и jp_sales"
      ]
    },
    {
      "cell_type": "markdown",
      "metadata": {
        "id": "5tXR4QJSfKD5"
      },
      "source": [
        "### Исследовательский анализ данных  <a id=\"eda\"></a>"
      ]
    },
    {
      "cell_type": "code",
      "metadata": {
        "id": "_SiJ4TuWfKD5",
        "outputId": "e4a86b88-5a90-47b8-8a5d-ec9a6d22a3c1"
      },
      "source": [
        "plt.figure(figsize=(8,8))\n",
        "df.groupby('year_of_release')['name'].count().plot()\n",
        "plt.title('Количество вышедших игр по годам')\n",
        "plt.xlabel('Год выхода')\n",
        "plt.ylabel('Количество игр')\n",
        "plt.show();"
      ],
      "execution_count": null,
      "outputs": [
        {
          "output_type": "display_data",
          "data": {
            "image/png": "[encoded data removed]",
            "text/plain": [
              "<Figure size 576x576 with 1 Axes>"
            ]
          },
          "metadata": {
            "tags": [],
            "needs_background": "light"
          }
        }
      ]
    },
    {
      "cell_type": "markdown",
      "metadata": {
        "id": "_iP5b6oyfKD6"
      },
      "source": [
        "Резкий рост количества вышедших игр с 2000 по 2010, потом идет постепенный спад."
      ]
    },
    {
      "cell_type": "code",
      "metadata": {
        "id": "zhJO1mR5fKD6",
        "outputId": "5160ba57-7ada-4411-81bd-31701f88f248"
      },
      "source": [
        "df.groupby('platform')['total_sales'].sum().sort_values(ascending=False)"
      ],
      "execution_count": null,
      "outputs": [
        {
          "output_type": "execute_result",
          "data": {
            "text/plain": [
              "platform\n",
              "PS2     1043.09\n",
              "X360     876.36\n",
              "Wii      813.47\n",
              "PS3      796.75\n",
              "DS       743.74\n",
              "PS       686.89\n",
              "GBA      305.27\n",
              "PS4      265.79\n",
              "PSP      248.77\n",
              "GB       246.27\n",
              "NES      245.74\n",
              "3DS      244.54\n",
              "XB       243.09\n",
              "PC       233.88\n",
              "N64      213.70\n",
              "SNES     196.82\n",
              "GC       191.60\n",
              "XOne     145.05\n",
              "2600      85.64\n",
              "WiiU      76.24\n",
              "PSV       47.38\n",
              "SAT       33.52\n",
              "GEN       29.80\n",
              "DC        15.68\n",
              "SCD        1.81\n",
              "NG         1.44\n",
              "WS         1.42\n",
              "TG16       0.16\n",
              "3DO        0.10\n",
              "GG         0.04\n",
              "PCFX       0.03\n",
              "Name: total_sales, dtype: float64"
            ]
          },
          "metadata": {
            "tags": []
          },
          "execution_count": 20
        }
      ]
    },
    {
      "cell_type": "markdown",
      "metadata": {
        "id": "SwdvG75BfKD6"
      },
      "source": [
        "Самые популярные платформы по вышедшим играм: PS2, X360, Wii, PS3, DS. Ниже посмотрим, как менялись продажи по самым популярным платформам год от года."
      ]
    },
    {
      "cell_type": "code",
      "metadata": {
        "id": "cFsXI727fKD7",
        "outputId": "aa0659ff-9168-43ef-bc8e-3b4f47f69771"
      },
      "source": [
        "\n",
        "plt.figure(figsize=(8,8))\n",
        "platforms = df[df['platform'].isin(['PS2', 'X360', 'Wii', 'PS3', 'DS'])].pivot_table(index=['year_of_release'], columns='platform', values='total_sales', aggfunc='sum')\n",
        "sns.lineplot(data = platforms, hue='platform')\n",
        "plt.title('Млн проданных копий игр на разных платформах по годам')\n",
        "plt.xlabel('Год выхода игр')\n",
        "plt.ylabel('Млн проданных копий игр')\n",
        "plt.show()"
      ],
      "execution_count": null,
      "outputs": [
        {
          "output_type": "display_data",
          "data": {
            "image/png": "[encoded data removed]",
            "text/plain": [
              "<Figure size 576x576 with 1 Axes>"
            ]
          },
          "metadata": {
            "tags": [],
            "needs_background": "light"
          }
        }
      ]
    },
    {
      "cell_type": "code",
      "metadata": {
        "id": "z8568uKGfKD7",
        "outputId": "3e99fa35-c0aa-40ee-ed35-262b48dbf242"
      },
      "source": [
        "df[df['platform'] == 'DS'].groupby('year_of_release')['total_sales'].sum().plot()\n",
        "plt.title('Млн проданных копий игр на DS по годам')\n",
        "plt.xlabel('Год выхода игр')\n",
        "plt.ylabel('Млн проданных копий игр')\n",
        "plt.show()"
      ],
      "execution_count": null,
      "outputs": [
        {
          "output_type": "display_data",
          "data": {
            "image/png": "[encoded data removed]",
            "text/plain": [
              "<Figure size 432x288 with 1 Axes>"
            ]
          },
          "metadata": {
            "tags": [],
            "needs_background": "light"
          }
        }
      ]
    },
    {
      "cell_type": "code",
      "metadata": {
        "id": "6Rox6O55fKD7",
        "outputId": "d6579f35-57f8-4aaf-e158-ba9a3cf81765"
      },
      "source": [
        "df[df['platform'] == 'PS3'].groupby('year_of_release')['total_sales'].sum().plot()\n",
        "plt.title('Млн проданных копий игр на PS3 по годам')\n",
        "plt.xlabel('Год выхода игр')\n",
        "plt.ylabel('Млн проданных копий игр')\n",
        "plt.show()"
      ],
      "execution_count": null,
      "outputs": [
        {
          "output_type": "display_data",
          "data": {
            "image/png": "[encoded data removed]",
            "text/plain": [
              "<Figure size 432x288 with 1 Axes>"
            ]
          },
          "metadata": {
            "tags": [],
            "needs_background": "light"
          }
        }
      ]
    },
    {
      "cell_type": "code",
      "metadata": {
        "id": "jnMMYKj8fKD7",
        "outputId": "c201d1a5-cc2e-4b84-c0a1-2c09c875f2ca"
      },
      "source": [
        "df[df['platform'] == 'Wii'].groupby('year_of_release')['total_sales'].sum().plot()\n",
        "plt.title('Млн проданных копий игр на Wii по годам')\n",
        "plt.xlabel('Год выхода игр')\n",
        "plt.ylabel('Млн проданных копий игр')\n",
        "plt.show()"
      ],
      "execution_count": null,
      "outputs": [
        {
          "output_type": "display_data",
          "data": {
            "image/png": "[encoded data removed]",
            "text/plain": [
              "<Figure size 432x288 with 1 Axes>"
            ]
          },
          "metadata": {
            "tags": [],
            "needs_background": "light"
          }
        }
      ]
    },
    {
      "cell_type": "code",
      "metadata": {
        "id": "2-FfYyqhfKD8",
        "outputId": "d6e4b69f-e123-449f-a918-a5e832446747"
      },
      "source": [
        "df[df['platform'] == 'X360'].groupby('year_of_release')['total_sales'].sum().plot()\n",
        "plt.title('Млн проданных копий игр на X360 по годам')\n",
        "plt.xlabel('Год выхода игр')\n",
        "plt.ylabel('Млн проданных копий игр')\n",
        "plt.show()"
      ],
      "execution_count": null,
      "outputs": [
        {
          "output_type": "display_data",
          "data": {
            "image/png": "[encoded data removed]",
            "text/plain": [
              "<Figure size 432x288 with 1 Axes>"
            ]
          },
          "metadata": {
            "tags": [],
            "needs_background": "light"
          }
        }
      ]
    },
    {
      "cell_type": "code",
      "metadata": {
        "id": "s7R9fA5gfKD8",
        "outputId": "97b983b5-db8a-4a6c-8da7-76122ed065a8"
      },
      "source": [
        "df[df['platform'] == 'PSP'].groupby('year_of_release')['total_sales'].sum().plot()\n",
        "plt.title('Млн проданных копий игр на PSP по годам')\n",
        "plt.xlabel('Год выхода игр')\n",
        "plt.ylabel('Млн проданных копий игр')\n",
        "plt.show()"
      ],
      "execution_count": null,
      "outputs": [
        {
          "output_type": "display_data",
          "data": {
            "image/png": "[encoded data removed]",
            "text/plain": [
              "<Figure size 432x288 with 1 Axes>"
            ]
          },
          "metadata": {
            "tags": [],
            "needs_background": "light"
          }
        }
      ]
    },
    {
      "cell_type": "code",
      "metadata": {
        "id": "r6ToH68YfKD8",
        "outputId": "2ccc924e-d25c-4f3e-9ce1-05355a62494a"
      },
      "source": [
        "df[df['platform'] == 'PS'].groupby('year_of_release')['total_sales'].sum().plot()\n",
        "plt.title('Млн проданных копий игр на PS по годам')\n",
        "plt.xlabel('Год выхода игр')\n",
        "plt.ylabel('Млн проданных копий игр')\n",
        "plt.show()"
      ],
      "execution_count": null,
      "outputs": [
        {
          "output_type": "display_data",
          "data": {
            "image/png": "[encoded data removed]",
            "text/plain": [
              "<Figure size 432x288 with 1 Axes>"
            ]
          },
          "metadata": {
            "tags": [],
            "needs_background": "light"
          }
        }
      ]
    },
    {
      "cell_type": "markdown",
      "metadata": {
        "id": "jUxh4oB-fKD8"
      },
      "source": [
        "Срок жизни платформ - 7-10 лет. Для анализа оставим в нашем датафрейме данные только за 2011 - 2016. Более старые данные нам вряд ли помогут в прогнозе на 2017, потому что там слишком много продаж на устаревающих платформах."
      ]
    },
    {
      "cell_type": "code",
      "metadata": {
        "id": "Oiqv5UWcfKD9"
      },
      "source": [
        "df2 = df[df['year_of_release'] > 2010].copy()"
      ],
      "execution_count": null,
      "outputs": []
    },
    {
      "cell_type": "code",
      "metadata": {
        "id": "JffSz08cfKD9",
        "outputId": "d430ef34-ea0c-43d0-c638-0d2fd84500db"
      },
      "source": [
        "df2.groupby('platform')['total_sales'].sum().sort_values(ascending=False)"
      ],
      "execution_count": null,
      "outputs": [
        {
          "output_type": "execute_result",
          "data": {
            "text/plain": [
              "platform\n",
              "PS3     380.75\n",
              "X360    347.25\n",
              "PS4     265.79\n",
              "3DS     244.54\n",
              "XOne    145.05\n",
              "Wii      87.13\n",
              "PC       86.58\n",
              "WiiU     76.24\n",
              "PSV      47.38\n",
              "DS       36.14\n",
              "PSP      28.00\n",
              "PS2       0.35\n",
              "Name: total_sales, dtype: float64"
            ]
          },
          "metadata": {
            "tags": []
          },
          "execution_count": 24
        }
      ]
    },
    {
      "cell_type": "markdown",
      "metadata": {
        "id": "xJkz1JplfKD9"
      },
      "source": [
        "Лидируют по продажам за период 2011-2016 платформы X360, PS3, Wii, DS, PS4."
      ]
    },
    {
      "cell_type": "code",
      "metadata": {
        "id": "L5mWBbx1fKD9",
        "outputId": "0c812d92-fd41-492b-f8a5-0a8cfee928b2"
      },
      "source": [
        "df2[df2['year_of_release'] == 2016].groupby('platform')['total_sales'].sum().sort_values(ascending=False)"
      ],
      "execution_count": null,
      "outputs": [
        {
          "output_type": "execute_result",
          "data": {
            "text/plain": [
              "platform\n",
              "PS4     59.01\n",
              "XOne    23.91\n",
              "3DS     14.50\n",
              "PC       4.89\n",
              "WiiU     4.25\n",
              "PSV      4.10\n",
              "PS3      3.23\n",
              "X360     1.40\n",
              "Wii      0.17\n",
              "Name: total_sales, dtype: float64"
            ]
          },
          "metadata": {
            "tags": []
          },
          "execution_count": 25
        }
      ]
    },
    {
      "cell_type": "markdown",
      "metadata": {
        "id": "82iiqSegfKD-"
      },
      "source": [
        "В 2016-м году самые популярные платформы: PS4, XOne, 3DS, PC, WiiU, PSV. Посмотрим, какие из этих платформ растущие."
      ]
    },
    {
      "cell_type": "code",
      "metadata": {
        "id": "ic81XUxefKD-",
        "outputId": "40195a83-cd87-43e0-d2f9-fc304a5e0c3e"
      },
      "source": [
        "pd.set_option('display.max_rows', 100)\n",
        "df2.pivot_table(index=['platform', 'year_of_release'], values='total_sales', aggfunc='sum')"
      ],
      "execution_count": null,
      "outputs": [
        {
          "output_type": "execute_result",
          "data": {
            "text/html": [
              "<div>\n",
              "<style scoped>\n",
              "    .dataframe tbody tr th:only-of-type {\n",
              "        vertical-align: middle;\n",
              "    }\n",
              "\n",
              "    .dataframe tbody tr th {\n",
              "        vertical-align: top;\n",
              "    }\n",
              "\n",
              "    .dataframe thead th {\n",
              "        text-align: right;\n",
              "    }\n",
              "</style>\n",
              "<table border=\"1\" class=\"dataframe\">\n",
              "  <thead>\n",
              "    <tr style=\"text-align: right;\">\n",
              "      <th></th>\n",
              "      <th></th>\n",
              "      <th>total_sales</th>\n",
              "    </tr>\n",
              "    <tr>\n",
              "      <th>platform</th>\n",
              "      <th>year_of_release</th>\n",
              "      <th></th>\n",
              "    </tr>\n",
              "  </thead>\n",
              "  <tbody>\n",
              "    <tr>\n",
              "      <td rowspan=\"6\" valign=\"top\">3DS</td>\n",
              "      <td>2011</td>\n",
              "      <td>58.80</td>\n",
              "    </tr>\n",
              "    <tr>\n",
              "      <td>2012</td>\n",
              "      <td>48.77</td>\n",
              "    </tr>\n",
              "    <tr>\n",
              "      <td>2013</td>\n",
              "      <td>53.97</td>\n",
              "    </tr>\n",
              "    <tr>\n",
              "      <td>2014</td>\n",
              "      <td>41.75</td>\n",
              "    </tr>\n",
              "    <tr>\n",
              "      <td>2015</td>\n",
              "      <td>26.75</td>\n",
              "    </tr>\n",
              "    <tr>\n",
              "      <td>2016</td>\n",
              "      <td>14.50</td>\n",
              "    </tr>\n",
              "    <tr>\n",
              "      <td rowspan=\"3\" valign=\"top\">DS</td>\n",
              "      <td>2011</td>\n",
              "      <td>24.30</td>\n",
              "    </tr>\n",
              "    <tr>\n",
              "      <td>2012</td>\n",
              "      <td>10.42</td>\n",
              "    </tr>\n",
              "    <tr>\n",
              "      <td>2013</td>\n",
              "      <td>1.42</td>\n",
              "    </tr>\n",
              "    <tr>\n",
              "      <td rowspan=\"6\" valign=\"top\">PC</td>\n",
              "      <td>2011</td>\n",
              "      <td>29.70</td>\n",
              "    </tr>\n",
              "    <tr>\n",
              "      <td>2012</td>\n",
              "      <td>20.41</td>\n",
              "    </tr>\n",
              "    <tr>\n",
              "      <td>2013</td>\n",
              "      <td>11.27</td>\n",
              "    </tr>\n",
              "    <tr>\n",
              "      <td>2014</td>\n",
              "      <td>12.38</td>\n",
              "    </tr>\n",
              "    <tr>\n",
              "      <td>2015</td>\n",
              "      <td>7.93</td>\n",
              "    </tr>\n",
              "    <tr>\n",
              "      <td>2016</td>\n",
              "      <td>4.89</td>\n",
              "    </tr>\n",
              "    <tr>\n",
              "      <td>PS2</td>\n",
              "      <td>2011</td>\n",
              "      <td>0.35</td>\n",
              "    </tr>\n",
              "    <tr>\n",
              "      <td rowspan=\"6\" valign=\"top\">PS3</td>\n",
              "      <td>2011</td>\n",
              "      <td>135.22</td>\n",
              "    </tr>\n",
              "    <tr>\n",
              "      <td>2012</td>\n",
              "      <td>90.87</td>\n",
              "    </tr>\n",
              "    <tr>\n",
              "      <td>2013</td>\n",
              "      <td>95.85</td>\n",
              "    </tr>\n",
              "    <tr>\n",
              "      <td>2014</td>\n",
              "      <td>40.88</td>\n",
              "    </tr>\n",
              "    <tr>\n",
              "      <td>2015</td>\n",
              "      <td>14.70</td>\n",
              "    </tr>\n",
              "    <tr>\n",
              "      <td>2016</td>\n",
              "      <td>3.23</td>\n",
              "    </tr>\n",
              "    <tr>\n",
              "      <td rowspan=\"4\" valign=\"top\">PS4</td>\n",
              "      <td>2013</td>\n",
              "      <td>22.12</td>\n",
              "    </tr>\n",
              "    <tr>\n",
              "      <td>2014</td>\n",
              "      <td>84.22</td>\n",
              "    </tr>\n",
              "    <tr>\n",
              "      <td>2015</td>\n",
              "      <td>100.44</td>\n",
              "    </tr>\n",
              "    <tr>\n",
              "      <td>2016</td>\n",
              "      <td>59.01</td>\n",
              "    </tr>\n",
              "    <tr>\n",
              "      <td rowspan=\"5\" valign=\"top\">PSP</td>\n",
              "      <td>2011</td>\n",
              "      <td>16.98</td>\n",
              "    </tr>\n",
              "    <tr>\n",
              "      <td>2012</td>\n",
              "      <td>7.56</td>\n",
              "    </tr>\n",
              "    <tr>\n",
              "      <td>2013</td>\n",
              "      <td>3.10</td>\n",
              "    </tr>\n",
              "    <tr>\n",
              "      <td>2014</td>\n",
              "      <td>0.24</td>\n",
              "    </tr>\n",
              "    <tr>\n",
              "      <td>2015</td>\n",
              "      <td>0.12</td>\n",
              "    </tr>\n",
              "    <tr>\n",
              "      <td rowspan=\"6\" valign=\"top\">PSV</td>\n",
              "      <td>2011</td>\n",
              "      <td>4.00</td>\n",
              "    </tr>\n",
              "    <tr>\n",
              "      <td>2012</td>\n",
              "      <td>13.65</td>\n",
              "    </tr>\n",
              "    <tr>\n",
              "      <td>2013</td>\n",
              "      <td>9.14</td>\n",
              "    </tr>\n",
              "    <tr>\n",
              "      <td>2014</td>\n",
              "      <td>10.56</td>\n",
              "    </tr>\n",
              "    <tr>\n",
              "      <td>2015</td>\n",
              "      <td>5.93</td>\n",
              "    </tr>\n",
              "    <tr>\n",
              "      <td>2016</td>\n",
              "      <td>4.10</td>\n",
              "    </tr>\n",
              "    <tr>\n",
              "      <td rowspan=\"6\" valign=\"top\">Wii</td>\n",
              "      <td>2011</td>\n",
              "      <td>54.37</td>\n",
              "    </tr>\n",
              "    <tr>\n",
              "      <td>2012</td>\n",
              "      <td>20.22</td>\n",
              "    </tr>\n",
              "    <tr>\n",
              "      <td>2013</td>\n",
              "      <td>7.87</td>\n",
              "    </tr>\n",
              "    <tr>\n",
              "      <td>2014</td>\n",
              "      <td>3.45</td>\n",
              "    </tr>\n",
              "    <tr>\n",
              "      <td>2015</td>\n",
              "      <td>1.05</td>\n",
              "    </tr>\n",
              "    <tr>\n",
              "      <td>2016</td>\n",
              "      <td>0.17</td>\n",
              "    </tr>\n",
              "    <tr>\n",
              "      <td rowspan=\"5\" valign=\"top\">WiiU</td>\n",
              "      <td>2012</td>\n",
              "      <td>16.30</td>\n",
              "    </tr>\n",
              "    <tr>\n",
              "      <td>2013</td>\n",
              "      <td>20.12</td>\n",
              "    </tr>\n",
              "    <tr>\n",
              "      <td>2014</td>\n",
              "      <td>20.35</td>\n",
              "    </tr>\n",
              "    <tr>\n",
              "      <td>2015</td>\n",
              "      <td>15.22</td>\n",
              "    </tr>\n",
              "    <tr>\n",
              "      <td>2016</td>\n",
              "      <td>4.25</td>\n",
              "    </tr>\n",
              "    <tr>\n",
              "      <td rowspan=\"6\" valign=\"top\">X360</td>\n",
              "      <td>2011</td>\n",
              "      <td>131.11</td>\n",
              "    </tr>\n",
              "    <tr>\n",
              "      <td>2012</td>\n",
              "      <td>91.45</td>\n",
              "    </tr>\n",
              "    <tr>\n",
              "      <td>2013</td>\n",
              "      <td>80.82</td>\n",
              "    </tr>\n",
              "    <tr>\n",
              "      <td>2014</td>\n",
              "      <td>31.61</td>\n",
              "    </tr>\n",
              "    <tr>\n",
              "      <td>2015</td>\n",
              "      <td>10.86</td>\n",
              "    </tr>\n",
              "    <tr>\n",
              "      <td>2016</td>\n",
              "      <td>1.40</td>\n",
              "    </tr>\n",
              "    <tr>\n",
              "      <td rowspan=\"4\" valign=\"top\">XOne</td>\n",
              "      <td>2013</td>\n",
              "      <td>17.21</td>\n",
              "    </tr>\n",
              "    <tr>\n",
              "      <td>2014</td>\n",
              "      <td>49.26</td>\n",
              "    </tr>\n",
              "    <tr>\n",
              "      <td>2015</td>\n",
              "      <td>54.67</td>\n",
              "    </tr>\n",
              "    <tr>\n",
              "      <td>2016</td>\n",
              "      <td>23.91</td>\n",
              "    </tr>\n",
              "  </tbody>\n",
              "</table>\n",
              "</div>"
            ],
            "text/plain": [
              "                          total_sales\n",
              "platform year_of_release             \n",
              "3DS      2011                   58.80\n",
              "         2012                   48.77\n",
              "         2013                   53.97\n",
              "         2014                   41.75\n",
              "         2015                   26.75\n",
              "         2016                   14.50\n",
              "DS       2011                   24.30\n",
              "         2012                   10.42\n",
              "         2013                    1.42\n",
              "PC       2011                   29.70\n",
              "         2012                   20.41\n",
              "         2013                   11.27\n",
              "         2014                   12.38\n",
              "         2015                    7.93\n",
              "         2016                    4.89\n",
              "PS2      2011                    0.35\n",
              "PS3      2011                  135.22\n",
              "         2012                   90.87\n",
              "         2013                   95.85\n",
              "         2014                   40.88\n",
              "         2015                   14.70\n",
              "         2016                    3.23\n",
              "PS4      2013                   22.12\n",
              "         2014                   84.22\n",
              "         2015                  100.44\n",
              "         2016                   59.01\n",
              "PSP      2011                   16.98\n",
              "         2012                    7.56\n",
              "         2013                    3.10\n",
              "         2014                    0.24\n",
              "         2015                    0.12\n",
              "PSV      2011                    4.00\n",
              "         2012                   13.65\n",
              "         2013                    9.14\n",
              "         2014                   10.56\n",
              "         2015                    5.93\n",
              "         2016                    4.10\n",
              "Wii      2011                   54.37\n",
              "         2012                   20.22\n",
              "         2013                    7.87\n",
              "         2014                    3.45\n",
              "         2015                    1.05\n",
              "         2016                    0.17\n",
              "WiiU     2012                   16.30\n",
              "         2013                   20.12\n",
              "         2014                   20.35\n",
              "         2015                   15.22\n",
              "         2016                    4.25\n",
              "X360     2011                  131.11\n",
              "         2012                   91.45\n",
              "         2013                   80.82\n",
              "         2014                   31.61\n",
              "         2015                   10.86\n",
              "         2016                    1.40\n",
              "XOne     2013                   17.21\n",
              "         2014                   49.26\n",
              "         2015                   54.67\n",
              "         2016                   23.91"
            ]
          },
          "metadata": {
            "tags": []
          },
          "execution_count": 26
        }
      ]
    },
    {
      "cell_type": "markdown",
      "metadata": {
        "id": "b-n4vOYcfKD-"
      },
      "source": [
        "Все платформы сильно просели по продажам в 2016-м году. Из них рост в 2014 или 2015 показали XOne, PS4, PSV, PC, WiiU. 3DS падает, но не так сильно, как остальные. Эту платформу тоже оставим в перспективных. Таким образом 6 самых кассовых платформ 2016 оставим в списке самых перспективных."
      ]
    },
    {
      "cell_type": "code",
      "metadata": {
        "id": "otPVoo_zfKD-"
      },
      "source": [
        "platforms_flag = ['PS4', 'XOne', '3DS', 'PC','WiiU', 'PSV']"
      ],
      "execution_count": null,
      "outputs": []
    },
    {
      "cell_type": "code",
      "metadata": {
        "id": "Nt4kGl1UfKD_",
        "outputId": "e16fe79c-dbd4-4fc3-e043-91f416ca3fce"
      },
      "source": [
        "pd.reset_option('all');\n",
        "df2.query('total_sales>0 and platform in @platforms_flag').boxplot(by='platform', column=['total_sales'])\n",
        "plt.ylim(0,1)\n",
        "plt.show;"
      ],
      "execution_count": null,
      "outputs": [
        {
          "output_type": "stream",
          "text": [
            "\n",
            ": boolean\n",
            "    use_inf_as_null had been deprecated and will be removed in a future\n",
            "    version. Use `use_inf_as_na` instead.\n",
            "\n"
          ],
          "name": "stdout"
        },
        {
          "output_type": "display_data",
          "data": {
            "image/png": "[encoded data removed]",
            "text/plain": [
              "<Figure size 432x288 with 1 Axes>"
            ]
          },
          "metadata": {
            "tags": [],
            "needs_background": "light"
          }
        }
      ]
    },
    {
      "cell_type": "markdown",
      "metadata": {
        "id": "vo3AHhwZfKD_"
      },
      "source": [
        "Медиана и разброс значений по проданным копиям на платформах PS4, WiiU, XOne - похожи. Видимо, эти платформы отвечают за бОльшую часть продаж. На 3DS медианное количество проданных копий в 2 раза меньше, чем у лидеров. Хуже всего в среднем продаются игры на PC и PSV."
      ]
    },
    {
      "cell_type": "code",
      "metadata": {
        "id": "XpsrGAlMfKD_",
        "outputId": "d6df1c2a-c637-491b-9253-9c74f57eed0f"
      },
      "source": [
        "df2.plot.scatter('critic_score', 'total_sales');\n",
        "df2.plot.scatter('user_score', 'total_sales');\n",
        "display(df2['critic_score'].corr(df2['total_sales']))\n",
        "display(df2['user_score'].corr(df2['total_sales']))"
      ],
      "execution_count": null,
      "outputs": [
        {
          "output_type": "display_data",
          "data": {
            "text/plain": [
              "0.3295378755676027"
            ]
          },
          "metadata": {
            "tags": []
          }
        },
        {
          "output_type": "display_data",
          "data": {
            "text/plain": [
              "0.03367157972510265"
            ]
          },
          "metadata": {
            "tags": []
          }
        },
        {
          "output_type": "display_data",
          "data": {
            "image/png": "[encoded data removed]",
            "text/plain": [
              "<Figure size 432x288 with 1 Axes>"
            ]
          },
          "metadata": {
            "tags": [],
            "needs_background": "light"
          }
        },
        {
          "output_type": "display_data",
          "data": {
            "image/png": "[encoded data removed]",
            "text/plain": [
              "<Figure size 432x288 with 1 Axes>"
            ]
          },
          "metadata": {
            "tags": [],
            "needs_background": "light"
          }
        }
      ]
    },
    {
      "cell_type": "markdown",
      "metadata": {
        "id": "E44euN-GfKD_"
      },
      "source": [
        "Корреляция между оценкой критиков и продажами игры по всем платформам низкая. Пользовательские оценки почти никак не коррелируют с продажами игр в целом на всех платформах."
      ]
    },
    {
      "cell_type": "code",
      "metadata": {
        "id": "njZT9qZ8fKEA",
        "outputId": "02cacede-b82b-49c2-ac59-902d76680344"
      },
      "source": [
        "df2.plot.scatter('user_score', 'total_sales');\n",
        "df2['user_score'].corr(df2['total_sales'])"
      ],
      "execution_count": null,
      "outputs": [
        {
          "output_type": "execute_result",
          "data": {
            "text/plain": [
              "0.03367157972510265"
            ]
          },
          "metadata": {
            "tags": []
          },
          "execution_count": 30
        },
        {
          "output_type": "display_data",
          "data": {
            "image/png": "[encoded data removed]",
            "text/plain": [
              "<Figure size 432x288 with 1 Axes>"
            ]
          },
          "metadata": {
            "tags": [],
            "needs_background": "light"
          }
        }
      ]
    },
    {
      "cell_type": "markdown",
      "metadata": {
        "id": "NeZA8ZabfKEA"
      },
      "source": [
        "Корреляция между пользовательскими оценками и продажами игры - еще ниже, почти не наблюдается."
      ]
    },
    {
      "cell_type": "code",
      "metadata": {
        "id": "wkSbPRlVfKEA",
        "outputId": "03cc3997-7028-4d8e-8e05-8c9c0e9f6a44"
      },
      "source": [
        "df2.query('platform == \"PS4\"').plot.scatter('critic_score', 'total_sales');\n",
        "df2.query('platform == \"PS4\"')['critic_score'].corr(df2.query('platform == \"PS4\"')['total_sales'])"
      ],
      "execution_count": null,
      "outputs": [
        {
          "output_type": "execute_result",
          "data": {
            "text/plain": [
              "0.4058867746520127"
            ]
          },
          "metadata": {
            "tags": []
          },
          "execution_count": 31
        },
        {
          "output_type": "display_data",
          "data": {
            "image/png": "[encoded data removed]",
            "text/plain": [
              "<Figure size 432x288 with 1 Axes>"
            ]
          },
          "metadata": {
            "tags": [],
            "needs_background": "light"
          }
        }
      ]
    },
    {
      "cell_type": "markdown",
      "metadata": {
        "id": "RxDrDXrMfKEA"
      },
      "source": [
        "Есть средняя корреляция между оценками критикова и продажами игр на платформе PS4. Возможно, это объясняется тем, что платформа новая, поэтому оценки критиков больше влияют на продажи игр для нее."
      ]
    },
    {
      "cell_type": "code",
      "metadata": {
        "id": "WGyYiKICfKEB",
        "outputId": "d4b2693b-3eb2-4f0c-fd9a-2ffa72d9acc5"
      },
      "source": [
        "df2.query('platform == \"PS4\"').plot.scatter('user_score', 'total_sales');\n",
        "df2.query('platform == \"PS4\"')['user_score'].corr(df2.query('platform == \"PS4\"')['total_sales'])"
      ],
      "execution_count": null,
      "outputs": [
        {
          "output_type": "execute_result",
          "data": {
            "text/plain": [
              "-0.031260535633320194"
            ]
          },
          "metadata": {
            "tags": []
          },
          "execution_count": 32
        },
        {
          "output_type": "display_data",
          "data": {
            "image/png": "[encoded data removed]",
            "text/plain": [
              "<Figure size 432x288 with 1 Axes>"
            ]
          },
          "metadata": {
            "tags": [],
            "needs_background": "light"
          }
        }
      ]
    },
    {
      "cell_type": "markdown",
      "metadata": {
        "id": "Hld9xk7ffKEB"
      },
      "source": [
        "Нет никакой корреляции между пользовательской оценкой и продажами игры на платформе PS4."
      ]
    },
    {
      "cell_type": "code",
      "metadata": {
        "id": "V1MElfo2fKEB",
        "outputId": "b3490c6b-be16-4a14-fc9b-e701fb3edd04"
      },
      "source": [
        "df2.groupby('genre')['total_sales'].sum().sort_values(ascending=False)"
      ],
      "execution_count": null,
      "outputs": [
        {
          "output_type": "execute_result",
          "data": {
            "text/plain": [
              "genre\n",
              "Action          493.66\n",
              "Shooter         354.37\n",
              "Role-Playing    225.95\n",
              "Sports          208.27\n",
              "Misc            127.01\n",
              "Platform         80.48\n",
              "Racing           78.20\n",
              "Fighting         60.25\n",
              "Simulation       46.73\n",
              "Adventure        40.79\n",
              "Strategy         20.28\n",
              "Puzzle            9.21\n",
              "Name: total_sales, dtype: float64"
            ]
          },
          "metadata": {
            "tags": []
          },
          "execution_count": 33
        }
      ]
    },
    {
      "cell_type": "markdown",
      "metadata": {
        "id": "8CZOgv2LfKEB"
      },
      "source": [
        "Больше всего продано игр жанров action, shooter, role-playing, sports и misc."
      ]
    },
    {
      "cell_type": "code",
      "metadata": {
        "id": "nYQEd1PifKEC",
        "outputId": "0e90ee49-79a7-496b-fcde-18c32e96ff58"
      },
      "source": [
        "df2.groupby('genre')['total_sales'].median().sort_values(ascending=False)"
      ],
      "execution_count": null,
      "outputs": [
        {
          "output_type": "execute_result",
          "data": {
            "text/plain": [
              "genre\n",
              "Shooter         0.360\n",
              "Sports          0.190\n",
              "Platform        0.170\n",
              "Fighting        0.150\n",
              "Role-Playing    0.140\n",
              "Racing          0.135\n",
              "Misc            0.120\n",
              "Action          0.120\n",
              "Simulation      0.100\n",
              "Strategy        0.070\n",
              "Puzzle          0.040\n",
              "Adventure       0.030\n",
              "Name: total_sales, dtype: float64"
            ]
          },
          "metadata": {
            "tags": []
          },
          "execution_count": 34
        }
      ]
    },
    {
      "cell_type": "markdown",
      "metadata": {
        "id": "s_fNL_bXfKEC"
      },
      "source": [
        "Топ-5 жанров по медианным продажам: shooter, sports, platform, fighting и role-playing. Жанров platform и fighting нет в топе по общим продажам: по всей видимости, в этих жанрах больше \"крепких середнячков\", тогда как в misc и action - много хитов."
      ]
    },
    {
      "cell_type": "markdown",
      "metadata": {
        "id": "B0fVy0kWfKEC"
      },
      "source": [
        "Выводы:\n",
        "\n",
        "- Самые популярные платформы по продажам за все время: PS2, DS, PS3, Wii, X360\n",
        "- Срок жизни игровой платформы: 7-9 лет\n",
        "- Взяли для анализа данные по играм за последние 5 лет: с 2011 по 2016\n",
        "- В 2016-м году самые популярные платформы: PS4, XOne, 3DS, PC, WiiU, PSV. Все они просели по продажам в 2016 году: впрочем, как и весь рынок. Их будем считать самыми перспективными\n",
        "- Пользовательские оценки почти никак не коррелируют с продажами. Оценки критиков коррелируют с продажами сильнее, но тоже слабо. Наблюдается средний уровень корреляции между оценками критиков и продажами на новой платформе PS4. Оценки критиков можно использовать, чтобы выводить в топ игры с высоким рейтингом.\n",
        "- Топ-5 жанров по продажам на всех платформах: Action, Shooter, Role-Playing, Sports, Misc    "
      ]
    },
    {
      "cell_type": "markdown",
      "metadata": {
        "id": "JpUKF_jzfKEC"
      },
      "source": [
        "### Портрет пользователя каждого региона  <a id=\"portrait\"></a>"
      ]
    },
    {
      "cell_type": "code",
      "metadata": {
        "id": "XgvdbDTNfKEC",
        "outputId": "6848fc4a-b5cb-4f30-fc94-6e31470aac72"
      },
      "source": [
        "df2.groupby('platform')['na_sales'].sum().sort_values(ascending=False)"
      ],
      "execution_count": null,
      "outputs": [
        {
          "output_type": "execute_result",
          "data": {
            "text/plain": [
              "platform\n",
              "X360    226.80\n",
              "PS3     168.26\n",
              "PS4     108.74\n",
              "XOne     93.12\n",
              "3DS      82.65\n",
              "Wii      48.56\n",
              "WiiU     38.10\n",
              "PC       29.88\n",
              "DS       18.86\n",
              "PSV      12.47\n",
              "PSP       2.19\n",
              "PS2       0.13\n",
              "Name: na_sales, dtype: float64"
            ]
          },
          "metadata": {
            "tags": []
          },
          "execution_count": 35
        }
      ]
    },
    {
      "cell_type": "markdown",
      "metadata": {
        "id": "LUhkm-C7fKED"
      },
      "source": [
        "Топ-5 игровых платформ по количеству проданных игр в Северной Америке: X360, PS3, PS4, XOne, 3DS."
      ]
    },
    {
      "cell_type": "code",
      "metadata": {
        "id": "vVev8WOefKED",
        "outputId": "485a0a35-9abe-4b9a-b230-26a569dd34aa"
      },
      "source": [
        "df2.groupby('platform')['eu_sales'].sum().sort_values(ascending=False)"
      ],
      "execution_count": null,
      "outputs": [
        {
          "output_type": "execute_result",
          "data": {
            "text/plain": [
              "platform\n",
              "PS3     163.10\n",
              "PS4     141.09\n",
              "X360    117.10\n",
              "3DS      61.27\n",
              "PC       56.70\n",
              "XOne     51.59\n",
              "Wii      29.60\n",
              "WiiU     25.13\n",
              "PSV      13.07\n",
              "DS        9.24\n",
              "PSP       1.77\n",
              "PS2       0.13\n",
              "Name: eu_sales, dtype: float64"
            ]
          },
          "metadata": {
            "tags": []
          },
          "execution_count": 36
        }
      ]
    },
    {
      "cell_type": "markdown",
      "metadata": {
        "id": "dEkYCre5fKED"
      },
      "source": [
        "Топ-5 игровых платформ по количеству проданных игр в Европе: PS3, PS4, X360, 3DS, PC."
      ]
    },
    {
      "cell_type": "code",
      "metadata": {
        "id": "Vm68ugG2fKED",
        "outputId": "4cab0d43-1b26-4bc5-fef7-b9dfcf5b833e"
      },
      "source": [
        "df2.groupby('platform')['jp_sales'].sum().sort_values(ascending=False)"
      ],
      "execution_count": null,
      "outputs": [
        {
          "output_type": "execute_result",
          "data": {
            "text/plain": [
              "platform\n",
              "3DS     100.62\n",
              "PS3      49.39\n",
              "PSP      24.04\n",
              "PSV      21.84\n",
              "PS4      15.96\n",
              "WiiU     13.01\n",
              "Wii       8.97\n",
              "DS        8.04\n",
              "X360      3.35\n",
              "XOne      0.34\n",
              "PS2       0.09\n",
              "PC        0.00\n",
              "Name: jp_sales, dtype: float64"
            ]
          },
          "metadata": {
            "tags": []
          },
          "execution_count": 37
        }
      ]
    },
    {
      "cell_type": "markdown",
      "metadata": {
        "id": "lOmbCAA4fKED"
      },
      "source": [
        "Топ-5 игровых платформ по количеству проданных игр в Японии: DS, 3DS, PS3, PSP, Wii."
      ]
    },
    {
      "cell_type": "markdown",
      "metadata": {
        "id": "7Xw1rIr3fKED"
      },
      "source": [
        "Видно, что PSV, PSP - платформы, которые более популярны в Японии, а PC - в Европе. PS3 и PS4 популярные везде. X360 популярна в Северной Америке и Европе, но не популярна в Японии."
      ]
    },
    {
      "cell_type": "code",
      "metadata": {
        "id": "gWxxfYZWfKEE",
        "outputId": "bd7bc8f4-80fb-40cb-eb50-22935b5adcae"
      },
      "source": [
        "df2.groupby('genre')['na_sales'].sum().sort_values(ascending=False)"
      ],
      "execution_count": null,
      "outputs": [
        {
          "output_type": "execute_result",
          "data": {
            "text/plain": [
              "genre\n",
              "Action          230.92\n",
              "Shooter         194.43\n",
              "Sports          108.70\n",
              "Role-Playing     83.78\n",
              "Misc             69.69\n",
              "Platform         38.28\n",
              "Racing           31.98\n",
              "Fighting         31.63\n",
              "Simulation       15.37\n",
              "Adventure        14.76\n",
              "Strategy          7.48\n",
              "Puzzle            2.74\n",
              "Name: na_sales, dtype: float64"
            ]
          },
          "metadata": {
            "tags": []
          },
          "execution_count": 38
        }
      ]
    },
    {
      "cell_type": "code",
      "metadata": {
        "id": "JkNBAuidfKEE",
        "outputId": "23258202-0289-465e-c7f7-801937f7a457"
      },
      "source": [
        "df2.groupby('genre')['eu_sales'].sum().sort_values(ascending=False)"
      ],
      "execution_count": null,
      "outputs": [
        {
          "output_type": "execute_result",
          "data": {
            "text/plain": [
              "genre\n",
              "Action          199.12\n",
              "Shooter         148.02\n",
              "Sports           88.48\n",
              "Role-Playing     62.30\n",
              "Racing           40.58\n",
              "Misc             39.72\n",
              "Platform         30.07\n",
              "Simulation       19.72\n",
              "Fighting         16.24\n",
              "Adventure        13.96\n",
              "Strategy          8.02\n",
              "Puzzle            3.56\n",
              "Name: eu_sales, dtype: float64"
            ]
          },
          "metadata": {
            "tags": []
          },
          "execution_count": 39
        }
      ]
    },
    {
      "cell_type": "code",
      "metadata": {
        "id": "rvCx2T_YfKEE",
        "outputId": "0d16cfed-aec7-476d-b302-fb3547f9d7b2"
      },
      "source": [
        "df2.groupby('genre')['jp_sales'].sum().sort_values(ascending=False)"
      ],
      "execution_count": null,
      "outputs": [
        {
          "output_type": "execute_result",
          "data": {
            "text/plain": [
              "genre\n",
              "Role-Playing    79.87\n",
              "Action          63.62\n",
              "Misc            17.60\n",
              "Fighting        12.38\n",
              "Platform        12.13\n",
              "Adventure       12.07\n",
              "Shooter         11.92\n",
              "Simulation      11.64\n",
              "Sports          11.09\n",
              "Racing           5.64\n",
              "Strategy         4.78\n",
              "Puzzle           2.91\n",
              "Name: jp_sales, dtype: float64"
            ]
          },
          "metadata": {
            "tags": []
          },
          "execution_count": 40
        }
      ]
    },
    {
      "cell_type": "markdown",
      "metadata": {
        "id": "z4aoMuiifKEE"
      },
      "source": [
        "Топ-5 игровых жанров по проданным играм в Северной Америке: Action, Shooter, Sports, Misc, Role-Playing\n",
        "Топ-5 игровых жанров по проданным играм в Европе: Action, Shooter, Sports, Misc, Racing\n",
        "Топ-5 игровых жанров по проданным играм в Японии: Role-Playing, Action, Misc, Sports, Adventure\n",
        "\n",
        "Вкусы европейской и американской аудитории схожи: разве что в Северной Америке больше любят Role-playing, а в Европе - Racing. В Японии, как и в других регионах, любят Action, Misc и Sports. В Японии, в отличие от Европы и Северной Америки, предпочитают играть в Role-playing и Adventure игры."
      ]
    },
    {
      "cell_type": "code",
      "metadata": {
        "id": "MNDjymWOfKEE",
        "outputId": "9e0955bd-c8f3-4430-f5e5-3b82c7521863"
      },
      "source": [
        "df2.groupby('rating')['na_sales'].sum().sort_values(ascending=False)"
      ],
      "execution_count": null,
      "outputs": [
        {
          "output_type": "execute_result",
          "data": {
            "text/plain": [
              "rating\n",
              "M       308.45\n",
              "E       170.17\n",
              "E10+    117.72\n",
              "T       109.31\n",
              "EC        0.42\n",
              "RP        0.00\n",
              "Name: na_sales, dtype: float64"
            ]
          },
          "metadata": {
            "tags": []
          },
          "execution_count": 41
        }
      ]
    },
    {
      "cell_type": "code",
      "metadata": {
        "id": "3fa2MJbkfKEF",
        "outputId": "2e07bde1-1390-4abe-e41e-a7e225d5dbee"
      },
      "source": [
        "df2.groupby('rating')['eu_sales'].sum().sort_values(ascending=False)"
      ],
      "execution_count": null,
      "outputs": [
        {
          "output_type": "execute_result",
          "data": {
            "text/plain": [
              "rating\n",
              "M       250.26\n",
              "E       141.73\n",
              "T        83.16\n",
              "E10+     78.00\n",
              "RP        0.03\n",
              "EC        0.00\n",
              "Name: eu_sales, dtype: float64"
            ]
          },
          "metadata": {
            "tags": []
          },
          "execution_count": 42
        }
      ]
    },
    {
      "cell_type": "code",
      "metadata": {
        "id": "KDxYyysufKEF",
        "outputId": "43a68cd2-2683-47a7-81d3-1cd37639a4d4"
      },
      "source": [
        "df2.groupby('rating')['jp_sales'].sum().sort_values(ascending=False)"
      ],
      "execution_count": null,
      "outputs": [
        {
          "output_type": "execute_result",
          "data": {
            "text/plain": [
              "rating\n",
              "E       36.68\n",
              "T       33.39\n",
              "M       26.14\n",
              "E10+    11.23\n",
              "RP       0.00\n",
              "EC       0.00\n",
              "Name: jp_sales, dtype: float64"
            ]
          },
          "metadata": {
            "tags": []
          },
          "execution_count": 43
        }
      ]
    },
    {
      "cell_type": "markdown",
      "metadata": {
        "id": "w8Z4xxMjfKEF"
      },
      "source": [
        "Во всех регионах почти все продажи игр приходятся на 4 рейтинга: E, M, T, E10+. В Японии чуть меньшая доля игр выпускается с рейтингом M, чуть бОльшая - с рейтингом T, чем в Америке и Европе."
      ]
    },
    {
      "cell_type": "markdown",
      "metadata": {
        "id": "Cl0K49aofKEF"
      },
      "source": [
        "Выводы:\n",
        "\n",
        "- PSV, PSP - платформы, которые более популярны в Японии, а PC - в Европе. PS3 и PS4 популярные везде. X360 популярна в Северной Америке и Европе, но не популярна в Японии.\n",
        "- Вкусы европейской и американской аудитории схожи: разве что в Северной Америке больше любят Role-playing, а в Европе - Racing. В Японии, как и в других регионах, любят Action, Misc и Sports. В Японии, в отличие от Европы и Северной Америки, предпочитают играть в Role-playing и Adventure игры.\n",
        "- Во всех регионах почти все продажи игр приходятся на 4 рейтинга: E, M, T, E10+."
      ]
    },
    {
      "cell_type": "markdown",
      "metadata": {
        "id": "eFd0ZNpmfKEF"
      },
      "source": [
        "### Проверяем гипотезы  <a id=\"hypotheses\"></a>"
      ]
    },
    {
      "cell_type": "markdown",
      "metadata": {
        "id": "A9JOl2ZefKEG"
      },
      "source": [
        "#### Нулевая гипотеза: Средние пользовательские рейтинги платформ Xbox One и PC одинаковые. Альтернативная гипотеза: Средние пользовательские рейтинги платформ Xbox One и PC различаются. \n",
        "Возьмем alpha = 0.05. Для начала проверим разницу дисперсий с помощью теста Левена. Нулевая гипотеза: дисперсии двух совокупностей равны. Возьмем alpha = 0.05."
      ]
    },
    {
      "cell_type": "code",
      "metadata": {
        "id": "WcIlDoxyfKEG",
        "outputId": "82b1a059-63e3-454a-e598-dd057c47b26b"
      },
      "source": [
        "user_score_pc = df2[df2['platform'] == 'PC']['user_score'].dropna().copy()\n",
        "user_score_xbox = df2[df2['platform'] == 'XOne']['user_score'].dropna().copy()\n",
        "\n",
        "\n",
        "print(scipy.stats.levene(user_score_pc, user_score_xbox))"
      ],
      "execution_count": null,
      "outputs": [
        {
          "output_type": "stream",
          "text": [
            "LeveneResult(statistic=5.516322808950336, pvalue=0.01923865875280839)\n"
          ],
          "name": "stdout"
        }
      ]
    },
    {
      "cell_type": "markdown",
      "metadata": {
        "id": "JOeOhI24fKEG"
      },
      "source": [
        "Тест Левена дал P-value 0.019 < 0.05. Отвергаем нулевую гипотезу, дисперсии совокупностей различаются. Значит, будем использовать тест Стьюдента с параметром equal_var = False. Будем использовать ttest_ind, потому что размер выборки сильно превышает 50, а это значит, по центральной предельной теореме, что выборки средних будут нормально распределены."
      ]
    },
    {
      "cell_type": "code",
      "metadata": {
        "id": "4KfQ-hy6fKEG",
        "outputId": "ed87a2f2-fc85-414f-db9d-8c13f7ddc680"
      },
      "source": [
        "print(scipy.stats.ttest_ind(user_score_pc, user_score_xbox, equal_var = False))"
      ],
      "execution_count": null,
      "outputs": [
        {
          "output_type": "stream",
          "text": [
            "Ttest_indResult(statistic=-0.5060650666413071, pvalue=0.6130723347617271)\n"
          ],
          "name": "stdout"
        }
      ]
    },
    {
      "cell_type": "markdown",
      "metadata": {
        "id": "Elji7yDSfKEG"
      },
      "source": [
        "Тест Стьюдента дал p-value 0.61 > 0.05. Не удалось опровергнуть нулевую гипотезу. Делаем вывод, что средние пользовательские рейтинги платформ Xbox One и PC одинаковые."
      ]
    },
    {
      "cell_type": "markdown",
      "metadata": {
        "id": "a7vNSSljfKEG"
      },
      "source": [
        "#### Нулевая гипотеза: Средние пользовательские рейтинги жанров Action и Sports одинаковые. Альтернативная гипотеза: Средние пользовательские рейтинги жанров Action и Sports различаются.\n",
        "Для начала проверим разницу дисперсий между с помощью теста Левена между пользовательскими рейтингами игр жанра Action и пользовательскими рейтингами игр жанра Sports. Нулевая гипотеза: дисперсии двух совокупностей равны."
      ]
    },
    {
      "cell_type": "code",
      "metadata": {
        "id": "awLqYby5fKEH",
        "outputId": "98c18551-8994-411f-b428-a7e384cc3452"
      },
      "source": [
        "user_score_action = df2[df2['genre'] == 'Action']['user_score'].dropna().copy()\n",
        "user_score_sports = df2[df2['genre'] == 'Sports']['user_score'].dropna().copy()\n",
        "\n",
        "\n",
        "print(scipy.stats.levene(user_score_action, user_score_sports))"
      ],
      "execution_count": null,
      "outputs": [
        {
          "output_type": "stream",
          "text": [
            "LeveneResult(statistic=18.398502063636926, pvalue=1.9840214487449692e-05)\n"
          ],
          "name": "stdout"
        }
      ]
    },
    {
      "cell_type": "markdown",
      "metadata": {
        "id": "oA-EDKJzfKEH"
      },
      "source": [
        "P-value очень низкий, гипотезу отвергаем. Будем считать, что дисперсии двух совокупностей отличаются. Значит, будем использовать ttest_ind с параметром equal_var = False."
      ]
    },
    {
      "cell_type": "markdown",
      "metadata": {
        "id": "ylTRKyu7fKEH"
      },
      "source": [
        "Нулевая гипотеза: Средние пользовательские рейтинги жанров Action и Sports одинаковые. Альтернативная гипотеза: Средние пользовательские рейтинги жанров Action и Sports различаются. \n",
        "Возьмем alpha = 0.05. Для проверки гипотезы воспользуемся ttest_ind, потому что выборка значительно больше 50."
      ]
    },
    {
      "cell_type": "code",
      "metadata": {
        "id": "SkUtw64gfKEH",
        "outputId": "e0d09a23-3293-41e7-8ff8-0ddf14e1a5bf"
      },
      "source": [
        "print(scipy.stats.ttest_ind(user_score_action, user_score_sports, equal_var = False))"
      ],
      "execution_count": null,
      "outputs": [
        {
          "output_type": "stream",
          "text": [
            "Ttest_indResult(statistic=9.360735435655927, pvalue=8.285622552270594e-19)\n"
          ],
          "name": "stdout"
        }
      ]
    },
    {
      "cell_type": "markdown",
      "metadata": {
        "id": "vw2ihStzfKEH"
      },
      "source": [
        "P-value на порядки ниже значения альфа. Следовательно, нулевая гипотеза не верна - средние пользовательские рейтинги жанров Action и Sports различаются."
      ]
    },
    {
      "cell_type": "markdown",
      "metadata": {
        "id": "ecm2XVmbfKEH"
      },
      "source": [
        "#### Вывод: Исследование показало, что средние пользовательские рейтинги жанров Action и Sports значимо различаются, а средние пользовательские рейтинги платформ Xbox One и PC значимо не различаются."
      ]
    },
    {
      "cell_type": "markdown",
      "metadata": {
        "id": "8yztn6xefKEI"
      },
      "source": [
        "### Общие выводы:  <a id=\"summary\"></a>"
      ]
    },
    {
      "cell_type": "markdown",
      "metadata": {
        "id": "tgS7n_JUfKEI"
      },
      "source": [
        "#### Рекомендации по планированию ассортимента и рекламной кампании:\n",
        "- Можно увеличить бюджет на продвижение игр с высоким рейтингом критиков: есть незначительная (коэффициент Пирсона = 0.33) корреляция между оценками критиков и продажами игры\n",
        "- Точно стоит больше денег тратить на продвижение игр на PS4 с высоким рейтингом критиков: корреляция выше (коэффициент Пирсона = 0.44), чем в целом по датасету.\n",
        "- Пользовательские оценки не помогут спрогнозировать продажи: пользовательские оценки почти никак не коррелируют с продажами\n",
        "- Стоить расширить рекламный бюджет на самых растущих и перспективных платформах, а на остальные - резко сократить. Самые перспективные платформы - PS4, XOne, 3DS, PC, WiiU, PSV, на них приходится около 90% всех продаж в 2016 гг.\n",
        "- При планировании рекламных кампаний и игрового ассортимента важно учитывать региональные особенности. PSV, PSP - платформы, которые более популярны в Японии, а PC - в Европе. PS3 и PS4 популярные везде. X360 популярна в Северной Америке и Европе, но не популярна в Японии.\n",
        "- Не стоит тратить деньги на рекламу игр с рейтингом RP и RC - продажи игр с этими рейтингами близки к нулю. Во всех регионах почти все продажи игр приходятся на 4 рейтинга: E, M, T, E10+\n",
        "\n",
        "#### Общие выводы по датасету:\n",
        "- Всего у 40-50% игр есть оценки критиков, возрастной рейтинг и оценки пользователей - пропуски заполнять не стали\n",
        "- Продажи игр снизились почти на всех платформах в 2016 г.\n",
        "- Срок жизни игровой платформы - 7-9 лет\n",
        "- Необходимо поработать над разделами сайта, которые посвящена самым популярным игровым жанрам. Популярные жанры в Европе и Северной Америке одни: Action, Shooter, Sports, Misc. В Японии больше любят играть в жанр Role-playing\n",
        "- Средние пользовательские рейтинги платформ Xbox One и PC значимо не различаются\n",
        "- Средние пользовательские рейтинги жанров Action и Sports значимо различаются"
      ]
    }
  ]
}
