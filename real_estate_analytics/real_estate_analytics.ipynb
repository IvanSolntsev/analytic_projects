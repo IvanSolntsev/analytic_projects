{
  "nbformat": 4,
  "nbformat_minor": 0,
  "metadata": {
    "kernelspec": {
      "display_name": "Python 3",
      "language": "python",
      "name": "python3"
    },
    "language_info": {
      "codemirror_mode": {
        "name": "ipython",
        "version": 3
      },
      "file_extension": ".py",
      "mimetype": "text/x-python",
      "name": "python",
      "nbconvert_exporter": "python",
      "pygments_lexer": "ipython3",
      "version": "3.7.8"
    },
    "toc": {
      "base_numbering": 1,
      "nav_menu": {},
      "number_sections": false,
      "sideBar": true,
      "skip_h1_title": false,
      "title_cell": "Table of Contents",
      "title_sidebar": "Contents",
      "toc_cell": false,
      "toc_position": {},
      "toc_section_display": true,
      "toc_window_display": false
    },
    "colab": {
      "name": "yandex_real_estate.ipynb",
      "provenance": []
    }
  },
  "cells": [
    {
      "cell_type": "markdown",
      "metadata": {
        "id": "2zzDusagXdHo"
      },
      "source": [
        "# Исследование объявлений о продаже квартир\n",
        "\n",
        "Имеются данные сервиса Яндекс.Недвижимость — архив объявлений о продаже квартир в Санкт-Петербурге и соседних населённых пунктов за несколько лет. Это учебная задача Яндекс.Практикума. Цель - ответить на несколько вопросов к данным, прежде всего понять, какие параметры влияют на стоимость недвижимости. \n",
        "\n",
        "По каждой квартире на продажу доступны два вида данных. Первые вписаны пользователем, вторые — получены автоматически на основе картографических данных. Например, расстояние до центра, аэропорта, ближайшего парка и водоёма. \n",
        "\n",
        "Описание данных:\n",
        "\n",
        "- airports_nearest — расстояние до ближайшего аэропорта в метрах (м)\n",
        "- balcony — число балконов\n",
        "- ceiling_height — высота потолков (м)\n",
        "- cityCenters_nearest — расстояние до центра города (м)\n",
        "- days_exposition — сколько дней было размещено объявление (от публикации до снятия)\n",
        "- first_day_exposition — дата публикации\n",
        "- floor — этаж\n",
        "- floors_total — всего этажей в доме\n",
        "- is_apartment — апартаменты (булев тип)\n",
        "- kitchen_area — площадь кухни в квадратных метрах (м²)\n",
        "- last_price — цена на момент снятия с публикации\n",
        "- living_area — жилая площадь в квадратных метрах(м²)\n",
        "- locality_name — название населённого пункта\n",
        "- open_plan — свободная планировка (булев тип)\n",
        "- parks_around3000 — число парков в радиусе 3 км\n",
        "- parks_nearest — расстояние до ближайшего парка (м)\n",
        "- ponds_around3000 — число водоёмов в радиусе 3 км\n",
        "- ponds_nearest — расстояние до ближайшего водоёма (м)\n",
        "- rooms — число комнат\n",
        "- studio — квартира-студия (булев тип)\n",
        "- total_area — площадь квартиры в квадратных метрах (м²)\n",
        "- total_images — число фотографий квартиры в объявлении\n",
        "\n",
        "Пояснение: апартаменты — это нежилые помещения, не относящиеся к жилому фонду, но имеющие необходимые условия для проживания."
      ]
    },
    {
      "cell_type": "markdown",
      "metadata": {
        "id": "q6bYhPqiXdHp"
      },
      "source": [
        "### Оглавление\n",
        "\n",
        "1. [Открытие данных](#start)\n",
        "2. [Предобработка данных](#preprocessing)\n",
        "3. [Добавляем новые столбцы](#newcolumns)\n",
        "4. [Исследовательский анализ данных](#exploratoryanalysis)\n",
        "   * [Какие факторы больше всего влияют на стоимость квартиры?](#pricefactors)\n",
        "   * [Населенные пункты и стоимость жилья](#localitiesandprices)\n",
        "   * [Определяем границы центра Санкт-Петербурга](#center)\n",
        "   * [Особенности квартир в центре](#downtownfacts)  \n",
        "   \n",
        "   \n",
        "5. [Общие выводы](#generalconclusion)\n",
        "   \n",
        "   \n",
        "\n"
      ]
    },
    {
      "cell_type": "markdown",
      "metadata": {
        "id": "_01Es8y_XdHp"
      },
      "source": [
        "### Шаг 1. Открытие данных <a id=\"start\"></a>"
      ]
    },
    {
      "cell_type": "code",
      "metadata": {
        "id": "ZT9yL7WIXdHq",
        "outputId": "3916e306-1c34-4702-bdba-e2cb4b768f19"
      },
      "source": [
        "import pandas as pd\n",
        "from scipy import stats\n",
        "import numpy as np\n",
        "import matplotlib.pyplot as plt\n",
        "\n",
        "df = pd.read_csv('/datasets/real_estate_data.csv',sep='\\t')\n",
        "display(df.head(5))\n",
        "df.info()"
      ],
      "execution_count": null,
      "outputs": [
        {
          "output_type": "display_data",
          "data": {
            "text/html": [
              "<div>\n",
              "<style scoped>\n",
              "    .dataframe tbody tr th:only-of-type {\n",
              "        vertical-align: middle;\n",
              "    }\n",
              "\n",
              "    .dataframe tbody tr th {\n",
              "        vertical-align: top;\n",
              "    }\n",
              "\n",
              "    .dataframe thead th {\n",
              "        text-align: right;\n",
              "    }\n",
              "</style>\n",
              "<table border=\"1\" class=\"dataframe\">\n",
              "  <thead>\n",
              "    <tr style=\"text-align: right;\">\n",
              "      <th></th>\n",
              "      <th>total_images</th>\n",
              "      <th>last_price</th>\n",
              "      <th>total_area</th>\n",
              "      <th>first_day_exposition</th>\n",
              "      <th>rooms</th>\n",
              "      <th>ceiling_height</th>\n",
              "      <th>floors_total</th>\n",
              "      <th>living_area</th>\n",
              "      <th>floor</th>\n",
              "      <th>is_apartment</th>\n",
              "      <th>...</th>\n",
              "      <th>kitchen_area</th>\n",
              "      <th>balcony</th>\n",
              "      <th>locality_name</th>\n",
              "      <th>airports_nearest</th>\n",
              "      <th>cityCenters_nearest</th>\n",
              "      <th>parks_around3000</th>\n",
              "      <th>parks_nearest</th>\n",
              "      <th>ponds_around3000</th>\n",
              "      <th>ponds_nearest</th>\n",
              "      <th>days_exposition</th>\n",
              "    </tr>\n",
              "  </thead>\n",
              "  <tbody>\n",
              "    <tr>\n",
              "      <td>0</td>\n",
              "      <td>20</td>\n",
              "      <td>13000000.0</td>\n",
              "      <td>108.0</td>\n",
              "      <td>2019-03-07T00:00:00</td>\n",
              "      <td>3</td>\n",
              "      <td>2.70</td>\n",
              "      <td>16.0</td>\n",
              "      <td>51.0</td>\n",
              "      <td>8</td>\n",
              "      <td>NaN</td>\n",
              "      <td>...</td>\n",
              "      <td>25.0</td>\n",
              "      <td>NaN</td>\n",
              "      <td>Санкт-Петербург</td>\n",
              "      <td>18863.0</td>\n",
              "      <td>16028.0</td>\n",
              "      <td>1.0</td>\n",
              "      <td>482.0</td>\n",
              "      <td>2.0</td>\n",
              "      <td>755.0</td>\n",
              "      <td>NaN</td>\n",
              "    </tr>\n",
              "    <tr>\n",
              "      <td>1</td>\n",
              "      <td>7</td>\n",
              "      <td>3350000.0</td>\n",
              "      <td>40.4</td>\n",
              "      <td>2018-12-04T00:00:00</td>\n",
              "      <td>1</td>\n",
              "      <td>NaN</td>\n",
              "      <td>11.0</td>\n",
              "      <td>18.6</td>\n",
              "      <td>1</td>\n",
              "      <td>NaN</td>\n",
              "      <td>...</td>\n",
              "      <td>11.0</td>\n",
              "      <td>2.0</td>\n",
              "      <td>посёлок Шушары</td>\n",
              "      <td>12817.0</td>\n",
              "      <td>18603.0</td>\n",
              "      <td>0.0</td>\n",
              "      <td>NaN</td>\n",
              "      <td>0.0</td>\n",
              "      <td>NaN</td>\n",
              "      <td>81.0</td>\n",
              "    </tr>\n",
              "    <tr>\n",
              "      <td>2</td>\n",
              "      <td>10</td>\n",
              "      <td>5196000.0</td>\n",
              "      <td>56.0</td>\n",
              "      <td>2015-08-20T00:00:00</td>\n",
              "      <td>2</td>\n",
              "      <td>NaN</td>\n",
              "      <td>5.0</td>\n",
              "      <td>34.3</td>\n",
              "      <td>4</td>\n",
              "      <td>NaN</td>\n",
              "      <td>...</td>\n",
              "      <td>8.3</td>\n",
              "      <td>0.0</td>\n",
              "      <td>Санкт-Петербург</td>\n",
              "      <td>21741.0</td>\n",
              "      <td>13933.0</td>\n",
              "      <td>1.0</td>\n",
              "      <td>90.0</td>\n",
              "      <td>2.0</td>\n",
              "      <td>574.0</td>\n",
              "      <td>558.0</td>\n",
              "    </tr>\n",
              "    <tr>\n",
              "      <td>3</td>\n",
              "      <td>0</td>\n",
              "      <td>64900000.0</td>\n",
              "      <td>159.0</td>\n",
              "      <td>2015-07-24T00:00:00</td>\n",
              "      <td>3</td>\n",
              "      <td>NaN</td>\n",
              "      <td>14.0</td>\n",
              "      <td>NaN</td>\n",
              "      <td>9</td>\n",
              "      <td>NaN</td>\n",
              "      <td>...</td>\n",
              "      <td>NaN</td>\n",
              "      <td>0.0</td>\n",
              "      <td>Санкт-Петербург</td>\n",
              "      <td>28098.0</td>\n",
              "      <td>6800.0</td>\n",
              "      <td>2.0</td>\n",
              "      <td>84.0</td>\n",
              "      <td>3.0</td>\n",
              "      <td>234.0</td>\n",
              "      <td>424.0</td>\n",
              "    </tr>\n",
              "    <tr>\n",
              "      <td>4</td>\n",
              "      <td>2</td>\n",
              "      <td>10000000.0</td>\n",
              "      <td>100.0</td>\n",
              "      <td>2018-06-19T00:00:00</td>\n",
              "      <td>2</td>\n",
              "      <td>3.03</td>\n",
              "      <td>14.0</td>\n",
              "      <td>32.0</td>\n",
              "      <td>13</td>\n",
              "      <td>NaN</td>\n",
              "      <td>...</td>\n",
              "      <td>41.0</td>\n",
              "      <td>NaN</td>\n",
              "      <td>Санкт-Петербург</td>\n",
              "      <td>31856.0</td>\n",
              "      <td>8098.0</td>\n",
              "      <td>2.0</td>\n",
              "      <td>112.0</td>\n",
              "      <td>1.0</td>\n",
              "      <td>48.0</td>\n",
              "      <td>121.0</td>\n",
              "    </tr>\n",
              "  </tbody>\n",
              "</table>\n",
              "<p>5 rows × 22 columns</p>\n",
              "</div>"
            ],
            "text/plain": [
              "   total_images  last_price  total_area first_day_exposition  rooms  \\\n",
              "0            20  13000000.0       108.0  2019-03-07T00:00:00      3   \n",
              "1             7   3350000.0        40.4  2018-12-04T00:00:00      1   \n",
              "2            10   5196000.0        56.0  2015-08-20T00:00:00      2   \n",
              "3             0  64900000.0       159.0  2015-07-24T00:00:00      3   \n",
              "4             2  10000000.0       100.0  2018-06-19T00:00:00      2   \n",
              "\n",
              "   ceiling_height  floors_total  living_area  floor is_apartment  ...  \\\n",
              "0            2.70          16.0         51.0      8          NaN  ...   \n",
              "1             NaN          11.0         18.6      1          NaN  ...   \n",
              "2             NaN           5.0         34.3      4          NaN  ...   \n",
              "3             NaN          14.0          NaN      9          NaN  ...   \n",
              "4            3.03          14.0         32.0     13          NaN  ...   \n",
              "\n",
              "   kitchen_area  balcony    locality_name  airports_nearest  \\\n",
              "0          25.0      NaN  Санкт-Петербург           18863.0   \n",
              "1          11.0      2.0   посёлок Шушары           12817.0   \n",
              "2           8.3      0.0  Санкт-Петербург           21741.0   \n",
              "3           NaN      0.0  Санкт-Петербург           28098.0   \n",
              "4          41.0      NaN  Санкт-Петербург           31856.0   \n",
              "\n",
              "  cityCenters_nearest  parks_around3000  parks_nearest  ponds_around3000  \\\n",
              "0             16028.0               1.0          482.0               2.0   \n",
              "1             18603.0               0.0            NaN               0.0   \n",
              "2             13933.0               1.0           90.0               2.0   \n",
              "3              6800.0               2.0           84.0               3.0   \n",
              "4              8098.0               2.0          112.0               1.0   \n",
              "\n",
              "   ponds_nearest  days_exposition  \n",
              "0          755.0              NaN  \n",
              "1            NaN             81.0  \n",
              "2          574.0            558.0  \n",
              "3          234.0            424.0  \n",
              "4           48.0            121.0  \n",
              "\n",
              "[5 rows x 22 columns]"
            ]
          },
          "metadata": {
            "tags": []
          }
        },
        {
          "output_type": "stream",
          "text": [
            "<class 'pandas.core.frame.DataFrame'>\n",
            "RangeIndex: 23699 entries, 0 to 23698\n",
            "Data columns (total 22 columns):\n",
            "total_images            23699 non-null int64\n",
            "last_price              23699 non-null float64\n",
            "total_area              23699 non-null float64\n",
            "first_day_exposition    23699 non-null object\n",
            "rooms                   23699 non-null int64\n",
            "ceiling_height          14504 non-null float64\n",
            "floors_total            23613 non-null float64\n",
            "living_area             21796 non-null float64\n",
            "floor                   23699 non-null int64\n",
            "is_apartment            2775 non-null object\n",
            "studio                  23699 non-null bool\n",
            "open_plan               23699 non-null bool\n",
            "kitchen_area            21421 non-null float64\n",
            "balcony                 12180 non-null float64\n",
            "locality_name           23650 non-null object\n",
            "airports_nearest        18157 non-null float64\n",
            "cityCenters_nearest     18180 non-null float64\n",
            "parks_around3000        18181 non-null float64\n",
            "parks_nearest           8079 non-null float64\n",
            "ponds_around3000        18181 non-null float64\n",
            "ponds_nearest           9110 non-null float64\n",
            "days_exposition         20518 non-null float64\n",
            "dtypes: bool(2), float64(14), int64(3), object(3)\n",
            "memory usage: 3.7+ MB\n"
          ],
          "name": "stdout"
        }
      ]
    },
    {
      "cell_type": "markdown",
      "metadata": {
        "id": "Qhr9EM4UXdHr"
      },
      "source": [
        "В некоторых столбцах, которые нужны для исследования, есть пропуски: living_area, kitchen_area, ceiling_height, locality_name, cityCenters_nearest. Заполнять их не будем, так как нет очевидного способа это сделать без порчи данных."
      ]
    },
    {
      "cell_type": "markdown",
      "metadata": {
        "id": "ntnmac90XdHs"
      },
      "source": [
        "### Шаг 2. Предобработка данных <a id=\"preprocessing\"></a>"
      ]
    },
    {
      "cell_type": "code",
      "metadata": {
        "id": "wQ3-f0ulXdHs",
        "outputId": "4bdb65cb-ed99-48e8-cae5-8c19f1e69196"
      },
      "source": [
        "df['balcony'] = df['balcony'].fillna(0)\n",
        "display(df['balcony'].value_counts())\n",
        "df['is_apartment'].value_counts()"
      ],
      "execution_count": null,
      "outputs": [
        {
          "output_type": "display_data",
          "data": {
            "text/plain": [
              "0.0    15277\n",
              "1.0     4195\n",
              "2.0     3659\n",
              "5.0      304\n",
              "4.0      183\n",
              "3.0       81\n",
              "Name: balcony, dtype: int64"
            ]
          },
          "metadata": {
            "tags": []
          }
        },
        {
          "output_type": "execute_result",
          "data": {
            "text/plain": [
              "False    2725\n",
              "True       50\n",
              "Name: is_apartment, dtype: int64"
            ]
          },
          "metadata": {
            "tags": []
          },
          "execution_count": 2
        }
      ]
    },
    {
      "cell_type": "markdown",
      "metadata": {
        "id": "TAkX-QngXdHt"
      },
      "source": [
        "Если не указано количество балконов, скорее всего, его нет - заполнил пропуски нулем. Нельзя сделать тот же вывод про апартаменты, потому что в большинстве ячеек в столбце is_apartment указано, что это не апартаменты, поэтому никак не заполнял пропущенные значения. Оставил нетронутыми и другие столбцы с пропущенными значениями: нет очевидных способов избавиться от пропусков. Возможные причины пропусков:\n",
        "\n",
        "living area, kitchen_area: не везде кухни отделены от жилой зоны\n",
        "\n",
        "ceiling_height: не указали этот параметр, потому что не знают или не считают важным указать\n",
        "\n",
        "locality_name, cityCenters_nearest: возможно, объекты находятся далеко от крупных населенных пунктов"
      ]
    },
    {
      "cell_type": "code",
      "metadata": {
        "id": "JGheraYOXdHt",
        "outputId": "8fa5aad2-81e3-4951-bce8-eafb376664c5"
      },
      "source": [
        "df['balcony']= df['balcony'].astype('int64')\n",
        "df['floor']= df['floor'].astype('int64')\n",
        "df['first_day_exposition'] = pd.to_datetime(df['first_day_exposition'], format='%Y-%m-%dT%H:%M:%S')\n",
        "df.info()"
      ],
      "execution_count": null,
      "outputs": [
        {
          "output_type": "stream",
          "text": [
            "<class 'pandas.core.frame.DataFrame'>\n",
            "RangeIndex: 23699 entries, 0 to 23698\n",
            "Data columns (total 22 columns):\n",
            "total_images            23699 non-null int64\n",
            "last_price              23699 non-null float64\n",
            "total_area              23699 non-null float64\n",
            "first_day_exposition    23699 non-null datetime64[ns]\n",
            "rooms                   23699 non-null int64\n",
            "ceiling_height          14504 non-null float64\n",
            "floors_total            23613 non-null float64\n",
            "living_area             21796 non-null float64\n",
            "floor                   23699 non-null int64\n",
            "is_apartment            2775 non-null object\n",
            "studio                  23699 non-null bool\n",
            "open_plan               23699 non-null bool\n",
            "kitchen_area            21421 non-null float64\n",
            "balcony                 23699 non-null int64\n",
            "locality_name           23650 non-null object\n",
            "airports_nearest        18157 non-null float64\n",
            "cityCenters_nearest     18180 non-null float64\n",
            "parks_around3000        18181 non-null float64\n",
            "parks_nearest           8079 non-null float64\n",
            "ponds_around3000        18181 non-null float64\n",
            "ponds_nearest           9110 non-null float64\n",
            "days_exposition         20518 non-null float64\n",
            "dtypes: bool(2), datetime64[ns](1), float64(13), int64(4), object(2)\n",
            "memory usage: 3.7+ MB\n"
          ],
          "name": "stdout"
        }
      ]
    },
    {
      "cell_type": "markdown",
      "metadata": {
        "id": "Ne1PuLP5XdHu"
      },
      "source": [
        "Из столбцов с числовыми значениями перевел в тип int64 только те столбцы, где нет пропущенных значений и где невозможны дробные значения. Столбец first_day_exposition перевел в формат datetime."
      ]
    },
    {
      "cell_type": "markdown",
      "metadata": {
        "id": "YpDa3rSvXdHu"
      },
      "source": [
        "#### Убираем редкие и выбивающиеся значения"
      ]
    },
    {
      "cell_type": "code",
      "metadata": {
        "id": "eV3d2lhjXdHu",
        "outputId": "c8878244-d8fd-45c5-c365-d392b67f736f"
      },
      "source": [
        "df = df[(np.abs(stats.zscore(df['last_price'])) < 3)]\n",
        "df.info()"
      ],
      "execution_count": null,
      "outputs": [
        {
          "output_type": "stream",
          "text": [
            "<class 'pandas.core.frame.DataFrame'>\n",
            "Int64Index: 23496 entries, 0 to 23698\n",
            "Data columns (total 22 columns):\n",
            "total_images            23496 non-null int64\n",
            "last_price              23496 non-null float64\n",
            "total_area              23496 non-null float64\n",
            "first_day_exposition    23496 non-null datetime64[ns]\n",
            "rooms                   23496 non-null int64\n",
            "ceiling_height          14369 non-null float64\n",
            "floors_total            23411 non-null float64\n",
            "living_area             21617 non-null float64\n",
            "floor                   23496 non-null int64\n",
            "is_apartment            2750 non-null object\n",
            "studio                  23496 non-null bool\n",
            "open_plan               23496 non-null bool\n",
            "kitchen_area            21241 non-null float64\n",
            "balcony                 23496 non-null int64\n",
            "locality_name           23447 non-null object\n",
            "airports_nearest        17961 non-null float64\n",
            "cityCenters_nearest     17981 non-null float64\n",
            "parks_around3000        17982 non-null float64\n",
            "parks_nearest           7925 non-null float64\n",
            "ponds_around3000        17982 non-null float64\n",
            "ponds_nearest           8947 non-null float64\n",
            "days_exposition         20362 non-null float64\n",
            "dtypes: bool(2), datetime64[ns](1), float64(13), int64(4), object(2)\n",
            "memory usage: 3.8+ MB\n"
          ],
          "name": "stdout"
        }
      ]
    },
    {
      "cell_type": "markdown",
      "metadata": {
        "id": "fIAlFaAdXdHv"
      },
      "source": [
        "Убрали около 500 слишком дорогих или дешевых квартир по столбцу last_price. "
      ]
    },
    {
      "cell_type": "markdown",
      "metadata": {
        "id": "ZNw9EXvOXdHv"
      },
      "source": [
        "### Вывод"
      ]
    },
    {
      "cell_type": "markdown",
      "metadata": {
        "id": "g_bryzFhXdHv"
      },
      "source": [
        "Заполнили пропуски в столбцев 'balcony', удалили строки, где цена сильно выбивается. Не стали удалять строки с выбивающимися значениями в других столбцах, так как потеряли бы много ценных данных. Пропуски в большинстве столбцов тоже не трогали. Пропусков много: только в 10 столбцах из 22 данные полны."
      ]
    },
    {
      "cell_type": "markdown",
      "metadata": {
        "id": "WmAS6NnAXdHw"
      },
      "source": [
        "### Шаг 3. Добавляем в таблицу новые столбцы <a id=\"newcolumns\"></a>"
      ]
    },
    {
      "cell_type": "code",
      "metadata": {
        "id": "1EQWSqFvXdHw",
        "outputId": "2c6cdffd-b93d-4c1b-95a5-91f2defafe7e"
      },
      "source": [
        "def floor_category(row):\n",
        "    if row['floor'] == 1:\n",
        "        return 'первый'\n",
        "    elif row['floor'] == row['floors_total']:\n",
        "        return 'последний'\n",
        "    else:\n",
        "        return 'другой'\n",
        "\n",
        "df['price_per_square_meter'] = df['last_price'] / df['total_area']\n",
        "df['weekday'] = df['first_day_exposition'].dt.weekday\n",
        "df['month'] = df['first_day_exposition'].dt.month\n",
        "df['year'] = df['first_day_exposition'].dt.year\n",
        "df['floor_category'] = df.apply(floor_category,axis=1)\n",
        "df['living_total_area_ratio'] = df['living_area'] / df['total_area']\n",
        "df['kitchen_total_area_ratio'] = df['kitchen_area'] / df['total_area']\n",
        "df.head(5)"
      ],
      "execution_count": null,
      "outputs": [
        {
          "output_type": "execute_result",
          "data": {
            "text/html": [
              "<div>\n",
              "<style scoped>\n",
              "    .dataframe tbody tr th:only-of-type {\n",
              "        vertical-align: middle;\n",
              "    }\n",
              "\n",
              "    .dataframe tbody tr th {\n",
              "        vertical-align: top;\n",
              "    }\n",
              "\n",
              "    .dataframe thead th {\n",
              "        text-align: right;\n",
              "    }\n",
              "</style>\n",
              "<table border=\"1\" class=\"dataframe\">\n",
              "  <thead>\n",
              "    <tr style=\"text-align: right;\">\n",
              "      <th></th>\n",
              "      <th>total_images</th>\n",
              "      <th>last_price</th>\n",
              "      <th>total_area</th>\n",
              "      <th>first_day_exposition</th>\n",
              "      <th>rooms</th>\n",
              "      <th>ceiling_height</th>\n",
              "      <th>floors_total</th>\n",
              "      <th>living_area</th>\n",
              "      <th>floor</th>\n",
              "      <th>is_apartment</th>\n",
              "      <th>...</th>\n",
              "      <th>ponds_around3000</th>\n",
              "      <th>ponds_nearest</th>\n",
              "      <th>days_exposition</th>\n",
              "      <th>price_per_square_meter</th>\n",
              "      <th>weekday</th>\n",
              "      <th>month</th>\n",
              "      <th>year</th>\n",
              "      <th>floor_category</th>\n",
              "      <th>living_total_area_ratio</th>\n",
              "      <th>kitchen_total_area_ratio</th>\n",
              "    </tr>\n",
              "  </thead>\n",
              "  <tbody>\n",
              "    <tr>\n",
              "      <td>0</td>\n",
              "      <td>20</td>\n",
              "      <td>13000000.0</td>\n",
              "      <td>108.0</td>\n",
              "      <td>2019-03-07</td>\n",
              "      <td>3</td>\n",
              "      <td>2.70</td>\n",
              "      <td>16.0</td>\n",
              "      <td>51.0</td>\n",
              "      <td>8</td>\n",
              "      <td>NaN</td>\n",
              "      <td>...</td>\n",
              "      <td>2.0</td>\n",
              "      <td>755.0</td>\n",
              "      <td>NaN</td>\n",
              "      <td>120370.370370</td>\n",
              "      <td>3</td>\n",
              "      <td>3</td>\n",
              "      <td>2019</td>\n",
              "      <td>другой</td>\n",
              "      <td>0.472222</td>\n",
              "      <td>0.231481</td>\n",
              "    </tr>\n",
              "    <tr>\n",
              "      <td>1</td>\n",
              "      <td>7</td>\n",
              "      <td>3350000.0</td>\n",
              "      <td>40.4</td>\n",
              "      <td>2018-12-04</td>\n",
              "      <td>1</td>\n",
              "      <td>NaN</td>\n",
              "      <td>11.0</td>\n",
              "      <td>18.6</td>\n",
              "      <td>1</td>\n",
              "      <td>NaN</td>\n",
              "      <td>...</td>\n",
              "      <td>0.0</td>\n",
              "      <td>NaN</td>\n",
              "      <td>81.0</td>\n",
              "      <td>82920.792079</td>\n",
              "      <td>1</td>\n",
              "      <td>12</td>\n",
              "      <td>2018</td>\n",
              "      <td>первый</td>\n",
              "      <td>0.460396</td>\n",
              "      <td>0.272277</td>\n",
              "    </tr>\n",
              "    <tr>\n",
              "      <td>2</td>\n",
              "      <td>10</td>\n",
              "      <td>5196000.0</td>\n",
              "      <td>56.0</td>\n",
              "      <td>2015-08-20</td>\n",
              "      <td>2</td>\n",
              "      <td>NaN</td>\n",
              "      <td>5.0</td>\n",
              "      <td>34.3</td>\n",
              "      <td>4</td>\n",
              "      <td>NaN</td>\n",
              "      <td>...</td>\n",
              "      <td>2.0</td>\n",
              "      <td>574.0</td>\n",
              "      <td>558.0</td>\n",
              "      <td>92785.714286</td>\n",
              "      <td>3</td>\n",
              "      <td>8</td>\n",
              "      <td>2015</td>\n",
              "      <td>другой</td>\n",
              "      <td>0.612500</td>\n",
              "      <td>0.148214</td>\n",
              "    </tr>\n",
              "    <tr>\n",
              "      <td>4</td>\n",
              "      <td>2</td>\n",
              "      <td>10000000.0</td>\n",
              "      <td>100.0</td>\n",
              "      <td>2018-06-19</td>\n",
              "      <td>2</td>\n",
              "      <td>3.03</td>\n",
              "      <td>14.0</td>\n",
              "      <td>32.0</td>\n",
              "      <td>13</td>\n",
              "      <td>NaN</td>\n",
              "      <td>...</td>\n",
              "      <td>1.0</td>\n",
              "      <td>48.0</td>\n",
              "      <td>121.0</td>\n",
              "      <td>100000.000000</td>\n",
              "      <td>1</td>\n",
              "      <td>6</td>\n",
              "      <td>2018</td>\n",
              "      <td>другой</td>\n",
              "      <td>0.320000</td>\n",
              "      <td>0.410000</td>\n",
              "    </tr>\n",
              "    <tr>\n",
              "      <td>5</td>\n",
              "      <td>10</td>\n",
              "      <td>2890000.0</td>\n",
              "      <td>30.4</td>\n",
              "      <td>2018-09-10</td>\n",
              "      <td>1</td>\n",
              "      <td>NaN</td>\n",
              "      <td>12.0</td>\n",
              "      <td>14.4</td>\n",
              "      <td>5</td>\n",
              "      <td>NaN</td>\n",
              "      <td>...</td>\n",
              "      <td>NaN</td>\n",
              "      <td>NaN</td>\n",
              "      <td>55.0</td>\n",
              "      <td>95065.789474</td>\n",
              "      <td>0</td>\n",
              "      <td>9</td>\n",
              "      <td>2018</td>\n",
              "      <td>другой</td>\n",
              "      <td>0.473684</td>\n",
              "      <td>0.299342</td>\n",
              "    </tr>\n",
              "  </tbody>\n",
              "</table>\n",
              "<p>5 rows × 29 columns</p>\n",
              "</div>"
            ],
            "text/plain": [
              "   total_images  last_price  total_area first_day_exposition  rooms  \\\n",
              "0            20  13000000.0       108.0           2019-03-07      3   \n",
              "1             7   3350000.0        40.4           2018-12-04      1   \n",
              "2            10   5196000.0        56.0           2015-08-20      2   \n",
              "4             2  10000000.0       100.0           2018-06-19      2   \n",
              "5            10   2890000.0        30.4           2018-09-10      1   \n",
              "\n",
              "   ceiling_height  floors_total  living_area  floor is_apartment  ...  \\\n",
              "0            2.70          16.0         51.0      8          NaN  ...   \n",
              "1             NaN          11.0         18.6      1          NaN  ...   \n",
              "2             NaN           5.0         34.3      4          NaN  ...   \n",
              "4            3.03          14.0         32.0     13          NaN  ...   \n",
              "5             NaN          12.0         14.4      5          NaN  ...   \n",
              "\n",
              "   ponds_around3000  ponds_nearest  days_exposition  price_per_square_meter  \\\n",
              "0               2.0          755.0              NaN           120370.370370   \n",
              "1               0.0            NaN             81.0            82920.792079   \n",
              "2               2.0          574.0            558.0            92785.714286   \n",
              "4               1.0           48.0            121.0           100000.000000   \n",
              "5               NaN            NaN             55.0            95065.789474   \n",
              "\n",
              "  weekday  month  year  floor_category  living_total_area_ratio  \\\n",
              "0       3      3  2019          другой                 0.472222   \n",
              "1       1     12  2018          первый                 0.460396   \n",
              "2       3      8  2015          другой                 0.612500   \n",
              "4       1      6  2018          другой                 0.320000   \n",
              "5       0      9  2018          другой                 0.473684   \n",
              "\n",
              "   kitchen_total_area_ratio  \n",
              "0                  0.231481  \n",
              "1                  0.272277  \n",
              "2                  0.148214  \n",
              "4                  0.410000  \n",
              "5                  0.299342  \n",
              "\n",
              "[5 rows x 29 columns]"
            ]
          },
          "metadata": {
            "tags": []
          },
          "execution_count": 5
        }
      ]
    },
    {
      "cell_type": "markdown",
      "metadata": {
        "id": "tby6GQs4XdHw"
      },
      "source": [
        "Добавил столбцы с ценой за квадратный метр, отношением жилой площади к общей и площади кухни к общей, днем недели, месяцем и годом публикации объявления, а также категорией этажа."
      ]
    },
    {
      "cell_type": "markdown",
      "metadata": {
        "id": "kV_HNbvDXdHw"
      },
      "source": [
        "### Шаг 4. Исследовательский анализ данных: <a id=\"exploratoryanalysis\"></a>"
      ]
    },
    {
      "cell_type": "code",
      "metadata": {
        "id": "dvyDZFufXdHx",
        "outputId": "29c0b8a2-8160-43db-cbb3-331b6a17de0f"
      },
      "source": [
        "display(df['total_area'].describe())\n",
        "plt.hist(x=df['total_area'],range=(0,200), bins=30)\n",
        "plt.title('Распределение квартир по общей площади')\n",
        "plt.xlabel('Площадь квартир')\n",
        "plt.ylabel('Количество квартир')\n",
        "\n",
        "plt.show();"
      ],
      "execution_count": null,
      "outputs": [
        {
          "output_type": "display_data",
          "data": {
            "text/plain": [
              "count    23496.000000\n",
              "mean        58.854875\n",
              "std         29.879026\n",
              "min         12.000000\n",
              "25%         40.000000\n",
              "50%         52.000000\n",
              "75%         69.000000\n",
              "max        470.300000\n",
              "Name: total_area, dtype: float64"
            ]
          },
          "metadata": {
            "tags": []
          }
        },
        {
          "output_type": "display_data",
          "data": {
            "image/png": "[encoded data removed]",
            "text/plain": [
              "<Figure size 432x288 with 1 Axes>"
            ]
          },
          "metadata": {
            "tags": [],
            "needs_background": "light"
          }
        }
      ]
    },
    {
      "cell_type": "markdown",
      "metadata": {
        "id": "GHA3CMi7XdHy"
      },
      "source": [
        "Медианная площадь - 52 кв. м., площадь половина квартир находится в промежутке от 40 до 69.9 кв. м. Минимальное и максимальное значения в 12 и 900 кв. м. соответственно выглядят правдоподобно."
      ]
    },
    {
      "cell_type": "code",
      "metadata": {
        "id": "nbReasA7XdHy",
        "outputId": "0d6a0563-02f9-45a9-fd83-561839a3a960"
      },
      "source": [
        "display(df['last_price'].describe())\n",
        "\n",
        "plt.hist(x=df['last_price'],range=(1.219000e+04, 4.000000e+07), bins=30)\n",
        "plt.title('Распределение квартир по цене')\n",
        "plt.xlabel('Цена квартиры')\n",
        "plt.ylabel('Количество квартир')\n",
        "\n",
        "plt.show();"
      ],
      "execution_count": null,
      "outputs": [
        {
          "output_type": "display_data",
          "data": {
            "text/plain": [
              "count    2.349600e+04\n",
              "mean     5.882134e+06\n",
              "std      4.503258e+06\n",
              "min      1.219000e+04\n",
              "25%      3.400000e+06\n",
              "50%      4.600000e+06\n",
              "75%      6.700000e+06\n",
              "max      3.900000e+07\n",
              "Name: last_price, dtype: float64"
            ]
          },
          "metadata": {
            "tags": []
          }
        },
        {
          "output_type": "display_data",
          "data": {
            "image/png": "[encoded data removed]",
            "text/plain": [
              "<Figure size 432x288 with 1 Axes>"
            ]
          },
          "metadata": {
            "tags": [],
            "needs_background": "light"
          }
        }
      ]
    },
    {
      "cell_type": "markdown",
      "metadata": {
        "id": "qfE8mQtKXdHz"
      },
      "source": [
        "Медианная стоимость квартиры - 4.6 млн рублей. Минимальное значение в 121 тысячу рублей, возможно, комната в коммуналке или гараж. Данные выглядят правдоподобно."
      ]
    },
    {
      "cell_type": "code",
      "metadata": {
        "id": "-V03vi1UXdHz",
        "outputId": "7d950f0b-b0fe-4fd7-8127-f925c88696bf"
      },
      "source": [
        "display(df['rooms'].describe())\n",
        "plt.hist(x=df['rooms'],range=(0, 5))\n",
        "plt.title('Распределение квартир по количеству комнат')\n",
        "plt.xlabel('Количество комнат')\n",
        "plt.ylabel('Количество квартир')\n",
        "\n",
        "plt.show();"
      ],
      "execution_count": null,
      "outputs": [
        {
          "output_type": "display_data",
          "data": {
            "text/plain": [
              "count    23496.000000\n",
              "mean         2.050987\n",
              "std          1.048005\n",
              "min          0.000000\n",
              "25%          1.000000\n",
              "50%          2.000000\n",
              "75%          3.000000\n",
              "max         19.000000\n",
              "Name: rooms, dtype: float64"
            ]
          },
          "metadata": {
            "tags": []
          }
        },
        {
          "output_type": "display_data",
          "data": {
            "image/png": "[encoded data removed]",
            "text/plain": [
              "<Figure size 432x288 with 1 Axes>"
            ]
          },
          "metadata": {
            "tags": [],
            "needs_background": "light"
          }
        }
      ]
    },
    {
      "cell_type": "markdown",
      "metadata": {
        "id": "FkOfT19cXdH0"
      },
      "source": [
        "Не ясно, откуда взялось 197 квартир без комнат. Больше всего однокомнатных и двухкомнатных. Трехкомнатных меньше - по всей видимости, тут много домов в новостройках, где трехкомнатные редки, так как менее ликвидны."
      ]
    },
    {
      "cell_type": "code",
      "metadata": {
        "id": "ggs652R5XdH0",
        "outputId": "bbe905d1-0be3-4acb-db91-ce1ae1e68a66"
      },
      "source": [
        "display(df['ceiling_height'].describe())\n",
        "print(f\"Количество аномальных значений: {df[(df['ceiling_height'] > 7) | (df['ceiling_height'] < 1.1)]['ceiling_height'].count()}\")\n",
        "plt.hist(x=df['ceiling_height'],range=(2, 4))\n",
        "plt.title('Распределение квартир по высоте потолков')\n",
        "plt.xlabel('Высота потолков')\n",
        "plt.ylabel('Количество квартир')\n",
        "\n",
        "plt.show();"
      ],
      "execution_count": null,
      "outputs": [
        {
          "output_type": "display_data",
          "data": {
            "text/plain": [
              "count    14369.000000\n",
              "mean         2.765449\n",
              "std          1.264219\n",
              "min          1.000000\n",
              "25%          2.510000\n",
              "50%          2.650000\n",
              "75%          2.800000\n",
              "max        100.000000\n",
              "Name: ceiling_height, dtype: float64"
            ]
          },
          "metadata": {
            "tags": []
          }
        },
        {
          "output_type": "stream",
          "text": [
            "Количество аномальных значений: 30\n"
          ],
          "name": "stdout"
        },
        {
          "output_type": "display_data",
          "data": {
            "image/png": "[encoded data removed]",
            "text/plain": [
              "<Figure size 432x288 with 1 Axes>"
            ]
          },
          "metadata": {
            "tags": [],
            "needs_background": "light"
          }
        }
      ]
    },
    {
      "cell_type": "markdown",
      "metadata": {
        "id": "qlKZBbz1XdH0"
      },
      "source": [
        "Максимальное значение, 100 метров, вызывает вопросы. Всего в 30 квартирах потолки выше 7 м или ниже 1.1 метра."
      ]
    },
    {
      "cell_type": "code",
      "metadata": {
        "id": "iRxJ-9ZcXdH1",
        "outputId": "515ee8e4-46b1-47fc-cc99-ad95350048d8"
      },
      "source": [
        "display(df['days_exposition'].describe())\n",
        "print(f\"5% квартир продаются дольше {df['days_exposition'].quantile(q=0.95)} дней\")\n",
        "print(f\"5% квартир продаются быстрее {df['days_exposition'].quantile(q=0.05)} дней\")\n",
        "plt.hist(x=df['days_exposition'],range=(0, 600))\n",
        "plt.title('Распределение квартир по скорости продажи')\n",
        "plt.xlabel('Скорость продажи в днях')\n",
        "plt.ylabel('Количество квартир')\n",
        "\n",
        "plt.show();"
      ],
      "execution_count": null,
      "outputs": [
        {
          "output_type": "display_data",
          "data": {
            "text/plain": [
              "count    20362.000000\n",
              "mean       179.827031\n",
              "std        218.867161\n",
              "min          1.000000\n",
              "25%         45.000000\n",
              "50%         95.000000\n",
              "75%        229.750000\n",
              "max       1580.000000\n",
              "Name: days_exposition, dtype: float64"
            ]
          },
          "metadata": {
            "tags": []
          }
        },
        {
          "output_type": "stream",
          "text": [
            "5% квартир продаются дольше 641.9500000000007 дней\n",
            "5% квартир продаются быстрее 9.0 дней\n"
          ],
          "name": "stdout"
        },
        {
          "output_type": "display_data",
          "data": {
            "image/png": "[encoded data removed]",
            "text/plain": [
              "<Figure size 432x288 with 1 Axes>"
            ]
          },
          "metadata": {
            "tags": [],
            "needs_background": "light"
          }
        }
      ]
    },
    {
      "cell_type": "markdown",
      "metadata": {
        "id": "Ct2kfTjsXdH1"
      },
      "source": [
        "Медианное время продажи квартиры - 95 дней. Если квартира продается меньше, чем за 9 дней, то можем предположить, что она продается быстро - только 5% квартир продаются быстрее. Если продается дольше 642 дней, значит, продается долго - только 5% продаются медленнее."
      ]
    },
    {
      "cell_type": "markdown",
      "metadata": {
        "id": "q8GiY3j3XdH2"
      },
      "source": [
        "### Какие факторы больше всего влияют на стоимость квартиры? <a id=\"pricefactors\"></a>\n"
      ]
    },
    {
      "cell_type": "code",
      "metadata": {
        "id": "HLEAJwL-XdH2",
        "outputId": "366a08e9-9b29-40ca-86ac-2a178985817f"
      },
      "source": [
        "display(df['total_area'].corr(df['last_price']))\n",
        "#df.plot(x='total_area', y='last_price', kind='scatter', grid=True)\n",
        "plt.scatter(x=df['total_area'], y=df['last_price'])\n",
        "plt.title('Зависимость цены от общей площади')\n",
        "plt.xlabel('Общая площадь квартиры')\n",
        "plt.ylabel('Цена квартиры')\n",
        "\n",
        "plt.show();"
      ],
      "execution_count": null,
      "outputs": [
        {
          "output_type": "display_data",
          "data": {
            "text/plain": [
              "0.7901652163715591"
            ]
          },
          "metadata": {
            "tags": []
          }
        },
        {
          "output_type": "display_data",
          "data": {
            "image/png": "[encoded data removed]",
            "text/plain": [
              "<Figure size 432x288 with 1 Axes>"
            ]
          },
          "metadata": {
            "tags": [],
            "needs_background": "light"
          }
        }
      ]
    },
    {
      "cell_type": "markdown",
      "metadata": {
        "id": "71cQpwNIXdH2"
      },
      "source": [
        "Между площадью и ценой есть достаточно высокий коэффициент корреляции - 0.79. Зависимость есть, это ожидаемо."
      ]
    },
    {
      "cell_type": "code",
      "metadata": {
        "id": "eHkWRfBdXdH2",
        "outputId": "e9acb756-7476-4789-9e41-ccea656e858c"
      },
      "source": [
        "display(df['rooms'].corr(df['last_price']))\n",
        "#df.plot(x='rooms', y='last_price', kind='scatter', grid=True)\n",
        "plt.scatter(x=df['rooms'], y=df['last_price'])\n",
        "plt.title('Зависимость цены от количество комнат')\n",
        "plt.xlabel('Количество комнат')\n",
        "plt.ylabel('Цена квартиры')\n",
        "\n",
        "plt.show();"
      ],
      "execution_count": null,
      "outputs": [
        {
          "output_type": "display_data",
          "data": {
            "text/plain": [
              "0.5226293093126603"
            ]
          },
          "metadata": {
            "tags": []
          }
        },
        {
          "output_type": "display_data",
          "data": {
            "image/png": "[encoded data removed]",
            "text/plain": [
              "<Figure size 432x288 with 1 Axes>"
            ]
          },
          "metadata": {
            "tags": [],
            "needs_background": "light"
          }
        }
      ]
    },
    {
      "cell_type": "markdown",
      "metadata": {
        "id": "KozACMFSXdH3"
      },
      "source": [
        "От числа комнат стоимость зависит меньше, чем от площади."
      ]
    },
    {
      "cell_type": "code",
      "metadata": {
        "id": "5XffEK3dXdH3",
        "outputId": "3394d102-102f-4caf-b6e1-feb2f620a25a"
      },
      "source": [
        "display(df['cityCenters_nearest'].corr(df['last_price']))\n",
        "plt.scatter(x=df['cityCenters_nearest'], y=df['last_price'])\n",
        "plt.title('Зависимость цены от расстояния до центра')\n",
        "plt.xlabel('Расстояние до центра')\n",
        "plt.ylabel('Цена квартиры')\n",
        "\n",
        "plt.show();"
      ],
      "execution_count": null,
      "outputs": [
        {
          "output_type": "display_data",
          "data": {
            "text/plain": [
              "-0.338627403267074"
            ]
          },
          "metadata": {
            "tags": []
          }
        },
        {
          "output_type": "display_data",
          "data": {
            "image/png": "[encoded data removed]",
            "text/plain": [
              "<Figure size 432x288 with 1 Axes>"
            ]
          },
          "metadata": {
            "tags": [],
            "needs_background": "light"
          }
        }
      ]
    },
    {
      "cell_type": "markdown",
      "metadata": {
        "id": "ufCZg4RBXdH3"
      },
      "source": [
        "Коэффициент корреляции между расстоянием до центра и стоимостью квартиры невысокий. Видимо, это потому, что другие факторы влияют сильнее. Например, в среднем квартиры в центре дороже, но на окраинах средняя площадь квартир выше."
      ]
    },
    {
      "cell_type": "code",
      "metadata": {
        "id": "CLnf4N73XdH4",
        "outputId": "b610d824-c902-4331-ae7c-f8ed3c2ac0cd"
      },
      "source": [
        "df.pivot_table(index='floor_category', values='last_price')"
      ],
      "execution_count": null,
      "outputs": [
        {
          "output_type": "execute_result",
          "data": {
            "text/html": [
              "<div>\n",
              "<style scoped>\n",
              "    .dataframe tbody tr th:only-of-type {\n",
              "        vertical-align: middle;\n",
              "    }\n",
              "\n",
              "    .dataframe tbody tr th {\n",
              "        vertical-align: top;\n",
              "    }\n",
              "\n",
              "    .dataframe thead th {\n",
              "        text-align: right;\n",
              "    }\n",
              "</style>\n",
              "<table border=\"1\" class=\"dataframe\">\n",
              "  <thead>\n",
              "    <tr style=\"text-align: right;\">\n",
              "      <th></th>\n",
              "      <th>last_price</th>\n",
              "    </tr>\n",
              "    <tr>\n",
              "      <th>floor_category</th>\n",
              "      <th></th>\n",
              "    </tr>\n",
              "  </thead>\n",
              "  <tbody>\n",
              "    <tr>\n",
              "      <td>другой</td>\n",
              "      <td>6.116599e+06</td>\n",
              "    </tr>\n",
              "    <tr>\n",
              "      <td>первый</td>\n",
              "      <td>4.612003e+06</td>\n",
              "    </tr>\n",
              "    <tr>\n",
              "      <td>последний</td>\n",
              "      <td>5.771928e+06</td>\n",
              "    </tr>\n",
              "  </tbody>\n",
              "</table>\n",
              "</div>"
            ],
            "text/plain": [
              "                  last_price\n",
              "floor_category              \n",
              "другой          6.116599e+06\n",
              "первый          4.612003e+06\n",
              "последний       5.771928e+06"
            ]
          },
          "metadata": {
            "tags": []
          },
          "execution_count": 14
        }
      ]
    },
    {
      "cell_type": "markdown",
      "metadata": {
        "id": "43G3793jXdH4"
      },
      "source": [
        "Квартиры на первом этаже значительно дешевле квартир на последнем."
      ]
    },
    {
      "cell_type": "code",
      "metadata": {
        "id": "jUUL3zEhXdH4",
        "outputId": "5fb841ad-152b-4275-c97e-7a9a787ae31e"
      },
      "source": [
        "display(df.pivot_table(index='weekday', values='last_price'))\n",
        "display(df.pivot_table(index='month', values='last_price'))\n",
        "display(df.pivot_table(index='year', values='last_price'))"
      ],
      "execution_count": null,
      "outputs": [
        {
          "output_type": "display_data",
          "data": {
            "text/html": [
              "<div>\n",
              "<style scoped>\n",
              "    .dataframe tbody tr th:only-of-type {\n",
              "        vertical-align: middle;\n",
              "    }\n",
              "\n",
              "    .dataframe tbody tr th {\n",
              "        vertical-align: top;\n",
              "    }\n",
              "\n",
              "    .dataframe thead th {\n",
              "        text-align: right;\n",
              "    }\n",
              "</style>\n",
              "<table border=\"1\" class=\"dataframe\">\n",
              "  <thead>\n",
              "    <tr style=\"text-align: right;\">\n",
              "      <th></th>\n",
              "      <th>last_price</th>\n",
              "    </tr>\n",
              "    <tr>\n",
              "      <th>weekday</th>\n",
              "      <th></th>\n",
              "    </tr>\n",
              "  </thead>\n",
              "  <tbody>\n",
              "    <tr>\n",
              "      <td>0</td>\n",
              "      <td>5.882140e+06</td>\n",
              "    </tr>\n",
              "    <tr>\n",
              "      <td>1</td>\n",
              "      <td>5.855973e+06</td>\n",
              "    </tr>\n",
              "    <tr>\n",
              "      <td>2</td>\n",
              "      <td>6.014697e+06</td>\n",
              "    </tr>\n",
              "    <tr>\n",
              "      <td>3</td>\n",
              "      <td>6.056427e+06</td>\n",
              "    </tr>\n",
              "    <tr>\n",
              "      <td>4</td>\n",
              "      <td>5.774599e+06</td>\n",
              "    </tr>\n",
              "    <tr>\n",
              "      <td>5</td>\n",
              "      <td>5.607337e+06</td>\n",
              "    </tr>\n",
              "    <tr>\n",
              "      <td>6</td>\n",
              "      <td>5.761555e+06</td>\n",
              "    </tr>\n",
              "  </tbody>\n",
              "</table>\n",
              "</div>"
            ],
            "text/plain": [
              "           last_price\n",
              "weekday              \n",
              "0        5.882140e+06\n",
              "1        5.855973e+06\n",
              "2        6.014697e+06\n",
              "3        6.056427e+06\n",
              "4        5.774599e+06\n",
              "5        5.607337e+06\n",
              "6        5.761555e+06"
            ]
          },
          "metadata": {
            "tags": []
          }
        },
        {
          "output_type": "display_data",
          "data": {
            "text/html": [
              "<div>\n",
              "<style scoped>\n",
              "    .dataframe tbody tr th:only-of-type {\n",
              "        vertical-align: middle;\n",
              "    }\n",
              "\n",
              "    .dataframe tbody tr th {\n",
              "        vertical-align: top;\n",
              "    }\n",
              "\n",
              "    .dataframe thead th {\n",
              "        text-align: right;\n",
              "    }\n",
              "</style>\n",
              "<table border=\"1\" class=\"dataframe\">\n",
              "  <thead>\n",
              "    <tr style=\"text-align: right;\">\n",
              "      <th></th>\n",
              "      <th>last_price</th>\n",
              "    </tr>\n",
              "    <tr>\n",
              "      <th>month</th>\n",
              "      <th></th>\n",
              "    </tr>\n",
              "  </thead>\n",
              "  <tbody>\n",
              "    <tr>\n",
              "      <td>1</td>\n",
              "      <td>6.043930e+06</td>\n",
              "    </tr>\n",
              "    <tr>\n",
              "      <td>2</td>\n",
              "      <td>5.829704e+06</td>\n",
              "    </tr>\n",
              "    <tr>\n",
              "      <td>3</td>\n",
              "      <td>5.846210e+06</td>\n",
              "    </tr>\n",
              "    <tr>\n",
              "      <td>4</td>\n",
              "      <td>5.857727e+06</td>\n",
              "    </tr>\n",
              "    <tr>\n",
              "      <td>5</td>\n",
              "      <td>5.903106e+06</td>\n",
              "    </tr>\n",
              "    <tr>\n",
              "      <td>6</td>\n",
              "      <td>5.662344e+06</td>\n",
              "    </tr>\n",
              "    <tr>\n",
              "      <td>7</td>\n",
              "      <td>5.871865e+06</td>\n",
              "    </tr>\n",
              "    <tr>\n",
              "      <td>8</td>\n",
              "      <td>5.947240e+06</td>\n",
              "    </tr>\n",
              "    <tr>\n",
              "      <td>9</td>\n",
              "      <td>5.963713e+06</td>\n",
              "    </tr>\n",
              "    <tr>\n",
              "      <td>10</td>\n",
              "      <td>5.799781e+06</td>\n",
              "    </tr>\n",
              "    <tr>\n",
              "      <td>11</td>\n",
              "      <td>5.994512e+06</td>\n",
              "    </tr>\n",
              "    <tr>\n",
              "      <td>12</td>\n",
              "      <td>5.917035e+06</td>\n",
              "    </tr>\n",
              "  </tbody>\n",
              "</table>\n",
              "</div>"
            ],
            "text/plain": [
              "         last_price\n",
              "month              \n",
              "1      6.043930e+06\n",
              "2      5.829704e+06\n",
              "3      5.846210e+06\n",
              "4      5.857727e+06\n",
              "5      5.903106e+06\n",
              "6      5.662344e+06\n",
              "7      5.871865e+06\n",
              "8      5.947240e+06\n",
              "9      5.963713e+06\n",
              "10     5.799781e+06\n",
              "11     5.994512e+06\n",
              "12     5.917035e+06"
            ]
          },
          "metadata": {
            "tags": []
          }
        },
        {
          "output_type": "display_data",
          "data": {
            "text/html": [
              "<div>\n",
              "<style scoped>\n",
              "    .dataframe tbody tr th:only-of-type {\n",
              "        vertical-align: middle;\n",
              "    }\n",
              "\n",
              "    .dataframe tbody tr th {\n",
              "        vertical-align: top;\n",
              "    }\n",
              "\n",
              "    .dataframe thead th {\n",
              "        text-align: right;\n",
              "    }\n",
              "</style>\n",
              "<table border=\"1\" class=\"dataframe\">\n",
              "  <thead>\n",
              "    <tr style=\"text-align: right;\">\n",
              "      <th></th>\n",
              "      <th>last_price</th>\n",
              "    </tr>\n",
              "    <tr>\n",
              "      <th>year</th>\n",
              "      <th></th>\n",
              "    </tr>\n",
              "  </thead>\n",
              "  <tbody>\n",
              "    <tr>\n",
              "      <td>2014</td>\n",
              "      <td>9.772880e+06</td>\n",
              "    </tr>\n",
              "    <tr>\n",
              "      <td>2015</td>\n",
              "      <td>6.907368e+06</td>\n",
              "    </tr>\n",
              "    <tr>\n",
              "      <td>2016</td>\n",
              "      <td>5.912957e+06</td>\n",
              "    </tr>\n",
              "    <tr>\n",
              "      <td>2017</td>\n",
              "      <td>5.790447e+06</td>\n",
              "    </tr>\n",
              "    <tr>\n",
              "      <td>2018</td>\n",
              "      <td>5.650257e+06</td>\n",
              "    </tr>\n",
              "    <tr>\n",
              "      <td>2019</td>\n",
              "      <td>6.206990e+06</td>\n",
              "    </tr>\n",
              "  </tbody>\n",
              "</table>\n",
              "</div>"
            ],
            "text/plain": [
              "        last_price\n",
              "year              \n",
              "2014  9.772880e+06\n",
              "2015  6.907368e+06\n",
              "2016  5.912957e+06\n",
              "2017  5.790447e+06\n",
              "2018  5.650257e+06\n",
              "2019  6.206990e+06"
            ]
          },
          "metadata": {
            "tags": []
          }
        }
      ]
    },
    {
      "cell_type": "markdown",
      "metadata": {
        "id": "S0OncRAjXdH5"
      },
      "source": [
        "С 2014 по 2018-й цены на квартиры постоянно снижались. Зависимости между месяцем, когда дано объявление, и ценой не видно. Кажется, что объявления о продаже, которые дали в середине недели, продавались по несколько более высокой цене, чем те, что выставлялись на выходных. Возможно, в будние дни выставляли объявления только риэлторы профессиональные, которые работают в среднем с более дорогими объектами."
      ]
    },
    {
      "cell_type": "markdown",
      "metadata": {
        "id": "A5e65zeMXdH5"
      },
      "source": [
        "### Населенные пункты и стоимость жилья <a id=\"localitiesandprices\"></a>"
      ]
    },
    {
      "cell_type": "code",
      "metadata": {
        "id": "q8TFbXHUXdH5",
        "outputId": "97652d0c-3af3-4f34-afea-a6f5910a8999"
      },
      "source": [
        "df.pivot_table(index='locality_name', values='price_per_square_meter').sort_values(by='price_per_square_meter',ascending=False).head(10)"
      ],
      "execution_count": null,
      "outputs": [
        {
          "output_type": "execute_result",
          "data": {
            "text/html": [
              "<div>\n",
              "<style scoped>\n",
              "    .dataframe tbody tr th:only-of-type {\n",
              "        vertical-align: middle;\n",
              "    }\n",
              "\n",
              "    .dataframe tbody tr th {\n",
              "        vertical-align: top;\n",
              "    }\n",
              "\n",
              "    .dataframe thead th {\n",
              "        text-align: right;\n",
              "    }\n",
              "</style>\n",
              "<table border=\"1\" class=\"dataframe\">\n",
              "  <thead>\n",
              "    <tr style=\"text-align: right;\">\n",
              "      <th></th>\n",
              "      <th>price_per_square_meter</th>\n",
              "    </tr>\n",
              "    <tr>\n",
              "      <th>locality_name</th>\n",
              "      <th></th>\n",
              "    </tr>\n",
              "  </thead>\n",
              "  <tbody>\n",
              "    <tr>\n",
              "      <td>посёлок Лисий Нос</td>\n",
              "      <td>121616.221359</td>\n",
              "    </tr>\n",
              "    <tr>\n",
              "      <td>Зеленогорск</td>\n",
              "      <td>115122.799198</td>\n",
              "    </tr>\n",
              "    <tr>\n",
              "      <td>Санкт-Петербург</td>\n",
              "      <td>111404.745022</td>\n",
              "    </tr>\n",
              "    <tr>\n",
              "      <td>посёлок Репино</td>\n",
              "      <td>104238.614786</td>\n",
              "    </tr>\n",
              "    <tr>\n",
              "      <td>Пушкин</td>\n",
              "      <td>103100.890905</td>\n",
              "    </tr>\n",
              "    <tr>\n",
              "      <td>Сестрорецк</td>\n",
              "      <td>101757.616875</td>\n",
              "    </tr>\n",
              "    <tr>\n",
              "      <td>Кудрово</td>\n",
              "      <td>100253.043304</td>\n",
              "    </tr>\n",
              "    <tr>\n",
              "      <td>деревня Мистолово</td>\n",
              "      <td>98549.976709</td>\n",
              "    </tr>\n",
              "    <tr>\n",
              "      <td>посёлок Левашово</td>\n",
              "      <td>96997.690531</td>\n",
              "    </tr>\n",
              "    <tr>\n",
              "      <td>Мурино</td>\n",
              "      <td>92722.708914</td>\n",
              "    </tr>\n",
              "  </tbody>\n",
              "</table>\n",
              "</div>"
            ],
            "text/plain": [
              "                   price_per_square_meter\n",
              "locality_name                            \n",
              "посёлок Лисий Нос           121616.221359\n",
              "Зеленогорск                 115122.799198\n",
              "Санкт-Петербург             111404.745022\n",
              "посёлок Репино              104238.614786\n",
              "Пушкин                      103100.890905\n",
              "Сестрорецк                  101757.616875\n",
              "Кудрово                     100253.043304\n",
              "деревня Мистолово            98549.976709\n",
              "посёлок Левашово             96997.690531\n",
              "Мурино                       92722.708914"
            ]
          },
          "metadata": {
            "tags": []
          },
          "execution_count": 16
        }
      ]
    },
    {
      "cell_type": "markdown",
      "metadata": {
        "id": "NbGdjtIEXdH5"
      },
      "source": [
        "В поселке \"Лисий Нос\" и Зеленогорске цена квадратного метра выше, чем в Санкт-Петербурге. Видимо, это элитные поселки."
      ]
    },
    {
      "cell_type": "markdown",
      "metadata": {
        "id": "U2EiJQYwXdH6"
      },
      "source": [
        "### Определяем границы центра Санкт-Петербурга <a id=\"center\"></a>"
      ]
    },
    {
      "cell_type": "code",
      "metadata": {
        "id": "L3BtxV99XdH6",
        "outputId": "c53487d7-eecc-44f0-9203-ce8d8d2012b1"
      },
      "source": [
        "df['to_center_in_km'] = round(df['cityCenters_nearest'] / 1000)\n",
        "df[df['locality_name'] == 'Санкт-Петербург'].pivot_table(index='to_center_in_km', values='price_per_square_meter').plot(grid=True)\n",
        "plt.title('Стоимость кв. м. жилья по расстоянию до центра')\n",
        "plt.xlabel('Расстояние до центра')\n",
        "plt.ylabel('Цена квартиры')\n",
        "\n",
        "plt.show();"
      ],
      "execution_count": null,
      "outputs": [
        {
          "output_type": "display_data",
          "data": {
            "image/png": "[encoded data removed]",
            "text/plain": [
              "<Figure size 432x288 with 1 Axes>"
            ]
          },
          "metadata": {
            "tags": [],
            "needs_background": "light"
          }
        }
      ]
    },
    {
      "cell_type": "markdown",
      "metadata": {
        "id": "23BtUYklXdH6"
      },
      "source": [
        "После 7 км резко снижается цена квадратного метра. Предположу, что центр заканчивается после 7 км. На 27 км видим пик: скорее всего, там находится элитный пригородный поселок."
      ]
    },
    {
      "cell_type": "markdown",
      "metadata": {
        "id": "M7Tgq7SOXdH6"
      },
      "source": [
        "### Особенности квартир в центре <a id=\"downtownfacts\"></a>"
      ]
    },
    {
      "cell_type": "code",
      "metadata": {
        "id": "nKQHYwn0XdH6",
        "outputId": "4eb7a71d-6a27-4495-de26-fa3d3410c07b"
      },
      "source": [
        "df_c = df[(df['locality_name'] == 'Санкт-Петербург') & (df['to_center_in_km'] <= 7.0)]\n",
        "display(df_c['total_area'].describe())\n",
        "df_c['total_area'].hist(range=(0,200), bins=30)\n",
        "plt.title('Количество квартир в зависимости от площади')\n",
        "plt.xlabel('Площадь квартир')\n",
        "plt.ylabel('Количество квартир')\n",
        "\n",
        "plt.show();"
      ],
      "execution_count": null,
      "outputs": [
        {
          "output_type": "display_data",
          "data": {
            "text/plain": [
              "count    3336.000000\n",
              "mean       85.496891\n",
              "std        43.693655\n",
              "min        12.000000\n",
              "25%        55.600000\n",
              "50%        76.000000\n",
              "75%       103.625000\n",
              "max       441.980000\n",
              "Name: total_area, dtype: float64"
            ]
          },
          "metadata": {
            "tags": []
          }
        },
        {
          "output_type": "display_data",
          "data": {
            "image/png": "[encoded data removed]",
            "text/plain": [
              "<Figure size 432x288 with 1 Axes>"
            ]
          },
          "metadata": {
            "tags": [],
            "needs_background": "light"
          }
        }
      ]
    },
    {
      "cell_type": "markdown",
      "metadata": {
        "id": "sufp4u1AXdH7"
      },
      "source": [
        "Медианная площадь квартир в центре Петербурга - 76 кв. м., тогда как по всему датасету - 52 кв. м."
      ]
    },
    {
      "cell_type": "code",
      "metadata": {
        "id": "e9U7SHBRXdH7",
        "outputId": "44e2cb91-12a2-4cab-82b7-14d45f53cbab"
      },
      "source": [
        "display(df_c['last_price'].describe())\n",
        "df_c['last_price'].hist(bins=30, range=(1.219000e+04, 4.000000e+07))\n",
        "plt.title('Количество квартир в зависимости от цены')\n",
        "plt.xlabel('Цена')\n",
        "plt.ylabel('Количество квартир')\n",
        "\n",
        "plt.show();"
      ],
      "execution_count": null,
      "outputs": [
        {
          "output_type": "display_data",
          "data": {
            "text/plain": [
              "count    3.336000e+03\n",
              "mean     1.105263e+07\n",
              "std      6.813057e+06\n",
              "min      1.600000e+06\n",
              "25%      6.500000e+06\n",
              "50%      8.900000e+06\n",
              "75%      1.303327e+07\n",
              "max      3.900000e+07\n",
              "Name: last_price, dtype: float64"
            ]
          },
          "metadata": {
            "tags": []
          }
        },
        {
          "output_type": "display_data",
          "data": {
            "image/png": "[encoded data removed]",
            "text/plain": [
              "<Figure size 432x288 with 1 Axes>"
            ]
          },
          "metadata": {
            "tags": [],
            "needs_background": "light"
          }
        }
      ]
    },
    {
      "cell_type": "markdown",
      "metadata": {
        "id": "BCEQf2_bXdH7"
      },
      "source": [
        "Медианная стоимость квартиры в центре почти в 2 раза выше чем по всему датасету - 8.9 млн против 4.65 млн. "
      ]
    },
    {
      "cell_type": "code",
      "metadata": {
        "id": "ScEEHSmjXdH7",
        "outputId": "4b6de257-c3e2-4eb9-e30c-e783a2e712b2"
      },
      "source": [
        "display(df_c['rooms'].describe())\n",
        "df_c['rooms'].hist(range=(0,5))\n",
        "plt.title('Количество квартир в зависимости от числа комнат')\n",
        "plt.xlabel('Число комнат')\n",
        "plt.ylabel('Количество квартир')\n",
        "\n",
        "plt.show();"
      ],
      "execution_count": null,
      "outputs": [
        {
          "output_type": "display_data",
          "data": {
            "text/plain": [
              "count    3336.000000\n",
              "mean        2.752998\n",
              "std         1.387292\n",
              "min         0.000000\n",
              "25%         2.000000\n",
              "50%         3.000000\n",
              "75%         3.000000\n",
              "max        19.000000\n",
              "Name: rooms, dtype: float64"
            ]
          },
          "metadata": {
            "tags": []
          }
        },
        {
          "output_type": "display_data",
          "data": {
            "image/png": "[encoded data removed]",
            "text/plain": [
              "<Figure size 432x288 with 1 Axes>"
            ]
          },
          "metadata": {
            "tags": [],
            "needs_background": "light"
          }
        }
      ]
    },
    {
      "cell_type": "markdown",
      "metadata": {
        "id": "_Vz6h4oTXdH7"
      },
      "source": [
        "В центре доля трехкомнатных выше, а однокомнатных - ниже, чем в общем датасете."
      ]
    },
    {
      "cell_type": "code",
      "metadata": {
        "id": "bWvc0gAZXdH8",
        "outputId": "123a7a28-ffb6-41ac-f3b7-a503ce529a8a"
      },
      "source": [
        "display(df_c['ceiling_height'].describe())\n",
        "df_c['ceiling_height'].hist(range=(2,3))\n",
        "plt.title('Квартиры по высоте потолков')\n",
        "plt.xlabel('Высота потолков')\n",
        "plt.ylabel('Количество квартир')\n",
        "\n",
        "plt.show();"
      ],
      "execution_count": null,
      "outputs": [
        {
          "output_type": "display_data",
          "data": {
            "text/plain": [
              "count    2162.000000\n",
              "mean        3.100675\n",
              "std         0.882275\n",
              "min         2.400000\n",
              "25%         2.800000\n",
              "50%         3.000000\n",
              "75%         3.267500\n",
              "max        32.000000\n",
              "Name: ceiling_height, dtype: float64"
            ]
          },
          "metadata": {
            "tags": []
          }
        },
        {
          "output_type": "display_data",
          "data": {
            "image/png": "[encoded data removed]",
            "text/plain": [
              "<Figure size 432x288 with 1 Axes>"
            ]
          },
          "metadata": {
            "tags": [],
            "needs_background": "light"
          }
        }
      ]
    },
    {
      "cell_type": "markdown",
      "metadata": {
        "id": "vkvfmk7NXdH8"
      },
      "source": [
        "В центре потолки выше: медиана в 3 метра против 2.65 метра в общем датасете."
      ]
    },
    {
      "cell_type": "code",
      "metadata": {
        "id": "Ez14tEreXdH8",
        "outputId": "cac28700-cea6-4d31-914a-01887877e368"
      },
      "source": [
        "display(df_c['total_area'].corr(df_c['last_price']))\n",
        "df_c.plot(x='total_area', y='last_price', kind='scatter', grid=True)\n",
        "plt.title('Зависимость цены от общей площади')\n",
        "plt.xlabel('Общая площадь')\n",
        "plt.ylabel('Цена')\n",
        "\n",
        "plt.show();"
      ],
      "execution_count": null,
      "outputs": [
        {
          "output_type": "display_data",
          "data": {
            "text/plain": [
              "0.7196016115399043"
            ]
          },
          "metadata": {
            "tags": []
          }
        },
        {
          "output_type": "display_data",
          "data": {
            "image/png": "[encoded data removed]",
            "text/plain": [
              "<Figure size 432x288 with 1 Axes>"
            ]
          },
          "metadata": {
            "tags": [],
            "needs_background": "light"
          }
        }
      ]
    },
    {
      "cell_type": "markdown",
      "metadata": {
        "id": "nIiO8A6cXdH8"
      },
      "source": [
        "Корреляция между площадью и ценой несколько ниже, чем в общем датасете: 0.72 против 0.79. Наверное, в центре чуть выше играет роль локация."
      ]
    },
    {
      "cell_type": "code",
      "metadata": {
        "id": "-_3ShTooXdH8",
        "outputId": "1511635c-9b98-4d93-de0f-e6a2b68ba886"
      },
      "source": [
        "display(df_c['rooms'].corr(df_c['last_price']))\n",
        "df_c.plot(x='rooms', y='last_price', kind='scatter', grid=True)\n",
        "plt.title('Зависимость цены от количества комнат')\n",
        "plt.xlabel('Количества комнат')\n",
        "plt.ylabel('Цена квартиры')\n",
        "\n",
        "plt.show();"
      ],
      "execution_count": null,
      "outputs": [
        {
          "output_type": "display_data",
          "data": {
            "text/plain": [
              "0.46574456430374034"
            ]
          },
          "metadata": {
            "tags": []
          }
        },
        {
          "output_type": "display_data",
          "data": {
            "image/png": "[encoded data removed]",
            "text/plain": [
              "<Figure size 432x288 with 1 Axes>"
            ]
          },
          "metadata": {
            "tags": [],
            "needs_background": "light"
          }
        }
      ]
    },
    {
      "cell_type": "markdown",
      "metadata": {
        "id": "eBw0i6dpXdH9"
      },
      "source": [
        "Зависимость цены недвижимости от количества комнат ниже, чем в общем датасете: 0,465 против 0,51."
      ]
    },
    {
      "cell_type": "code",
      "metadata": {
        "id": "O_qteD_5XdH9",
        "outputId": "a9a1e2e2-3c44-47b6-ac42-3bcd33871b14"
      },
      "source": [
        "df_c.pivot_table(index='floor_category', values='last_price')"
      ],
      "execution_count": null,
      "outputs": [
        {
          "output_type": "execute_result",
          "data": {
            "text/html": [
              "<div>\n",
              "<style scoped>\n",
              "    .dataframe tbody tr th:only-of-type {\n",
              "        vertical-align: middle;\n",
              "    }\n",
              "\n",
              "    .dataframe tbody tr th {\n",
              "        vertical-align: top;\n",
              "    }\n",
              "\n",
              "    .dataframe thead th {\n",
              "        text-align: right;\n",
              "    }\n",
              "</style>\n",
              "<table border=\"1\" class=\"dataframe\">\n",
              "  <thead>\n",
              "    <tr style=\"text-align: right;\">\n",
              "      <th></th>\n",
              "      <th>last_price</th>\n",
              "    </tr>\n",
              "    <tr>\n",
              "      <th>floor_category</th>\n",
              "      <th></th>\n",
              "    </tr>\n",
              "  </thead>\n",
              "  <tbody>\n",
              "    <tr>\n",
              "      <td>другой</td>\n",
              "      <td>1.150299e+07</td>\n",
              "    </tr>\n",
              "    <tr>\n",
              "      <td>первый</td>\n",
              "      <td>8.080162e+06</td>\n",
              "    </tr>\n",
              "    <tr>\n",
              "      <td>последний</td>\n",
              "      <td>1.114123e+07</td>\n",
              "    </tr>\n",
              "  </tbody>\n",
              "</table>\n",
              "</div>"
            ],
            "text/plain": [
              "                  last_price\n",
              "floor_category              \n",
              "другой          1.150299e+07\n",
              "первый          8.080162e+06\n",
              "последний       1.114123e+07"
            ]
          },
          "metadata": {
            "tags": []
          },
          "execution_count": 24
        }
      ]
    },
    {
      "cell_type": "markdown",
      "metadata": {
        "id": "95qSp-nAXdH9"
      },
      "source": [
        "Похожи на результаты общего датасета: квартиры на первых этажах примерно на треть дешевле квартир на других этажах, в том числе последнем."
      ]
    },
    {
      "cell_type": "code",
      "metadata": {
        "id": "-X2GJV_IXdH9",
        "outputId": "f13ff5dc-b36c-4fad-a16e-952a8f7c080a"
      },
      "source": [
        "df_c.pivot_table(index='to_center_in_km', values='price_per_square_meter').plot(grid=True)\n",
        "plt.title('Зависимость цены кв. м. от расстояния до центра')\n",
        "plt.xlabel('Расстояние до центра')\n",
        "plt.ylabel('Цена кв. м.')\n",
        "\n",
        "plt.show();"
      ],
      "execution_count": null,
      "outputs": [
        {
          "output_type": "display_data",
          "data": {
            "image/png": "[encoded data removed]",
            "text/plain": [
              "<Figure size 432x288 with 1 Axes>"
            ]
          },
          "metadata": {
            "tags": [],
            "needs_background": "light"
          }
        }
      ]
    },
    {
      "cell_type": "markdown",
      "metadata": {
        "id": "woRioSzSXdH-"
      },
      "source": [
        "Любопытная зависимость: сначала стоимость снижается при удалении от центра до 3 км, потом повышается вплоть до 7 км."
      ]
    },
    {
      "cell_type": "code",
      "metadata": {
        "id": "lYsN4W6sXdH-",
        "outputId": "9cc0b919-fb6a-431b-d355-7ec83bd6f7fd"
      },
      "source": [
        "display(df_c.pivot_table(index='weekday', values='last_price'))\n",
        "display(df_c.pivot_table(index='month', values='last_price'))\n",
        "display(df_c.pivot_table(index='year', values='last_price'))"
      ],
      "execution_count": null,
      "outputs": [
        {
          "output_type": "display_data",
          "data": {
            "text/html": [
              "<div>\n",
              "<style scoped>\n",
              "    .dataframe tbody tr th:only-of-type {\n",
              "        vertical-align: middle;\n",
              "    }\n",
              "\n",
              "    .dataframe tbody tr th {\n",
              "        vertical-align: top;\n",
              "    }\n",
              "\n",
              "    .dataframe thead th {\n",
              "        text-align: right;\n",
              "    }\n",
              "</style>\n",
              "<table border=\"1\" class=\"dataframe\">\n",
              "  <thead>\n",
              "    <tr style=\"text-align: right;\">\n",
              "      <th></th>\n",
              "      <th>last_price</th>\n",
              "    </tr>\n",
              "    <tr>\n",
              "      <th>weekday</th>\n",
              "      <th></th>\n",
              "    </tr>\n",
              "  </thead>\n",
              "  <tbody>\n",
              "    <tr>\n",
              "      <td>0</td>\n",
              "      <td>1.108845e+07</td>\n",
              "    </tr>\n",
              "    <tr>\n",
              "      <td>1</td>\n",
              "      <td>1.071668e+07</td>\n",
              "    </tr>\n",
              "    <tr>\n",
              "      <td>2</td>\n",
              "      <td>1.145906e+07</td>\n",
              "    </tr>\n",
              "    <tr>\n",
              "      <td>3</td>\n",
              "      <td>1.112845e+07</td>\n",
              "    </tr>\n",
              "    <tr>\n",
              "      <td>4</td>\n",
              "      <td>1.090027e+07</td>\n",
              "    </tr>\n",
              "    <tr>\n",
              "      <td>5</td>\n",
              "      <td>1.020363e+07</td>\n",
              "    </tr>\n",
              "    <tr>\n",
              "      <td>6</td>\n",
              "      <td>1.203318e+07</td>\n",
              "    </tr>\n",
              "  </tbody>\n",
              "</table>\n",
              "</div>"
            ],
            "text/plain": [
              "           last_price\n",
              "weekday              \n",
              "0        1.108845e+07\n",
              "1        1.071668e+07\n",
              "2        1.145906e+07\n",
              "3        1.112845e+07\n",
              "4        1.090027e+07\n",
              "5        1.020363e+07\n",
              "6        1.203318e+07"
            ]
          },
          "metadata": {
            "tags": []
          }
        },
        {
          "output_type": "display_data",
          "data": {
            "text/html": [
              "<div>\n",
              "<style scoped>\n",
              "    .dataframe tbody tr th:only-of-type {\n",
              "        vertical-align: middle;\n",
              "    }\n",
              "\n",
              "    .dataframe tbody tr th {\n",
              "        vertical-align: top;\n",
              "    }\n",
              "\n",
              "    .dataframe thead th {\n",
              "        text-align: right;\n",
              "    }\n",
              "</style>\n",
              "<table border=\"1\" class=\"dataframe\">\n",
              "  <thead>\n",
              "    <tr style=\"text-align: right;\">\n",
              "      <th></th>\n",
              "      <th>last_price</th>\n",
              "    </tr>\n",
              "    <tr>\n",
              "      <th>month</th>\n",
              "      <th></th>\n",
              "    </tr>\n",
              "  </thead>\n",
              "  <tbody>\n",
              "    <tr>\n",
              "      <td>1</td>\n",
              "      <td>1.233397e+07</td>\n",
              "    </tr>\n",
              "    <tr>\n",
              "      <td>2</td>\n",
              "      <td>1.119714e+07</td>\n",
              "    </tr>\n",
              "    <tr>\n",
              "      <td>3</td>\n",
              "      <td>1.118660e+07</td>\n",
              "    </tr>\n",
              "    <tr>\n",
              "      <td>4</td>\n",
              "      <td>1.062497e+07</td>\n",
              "    </tr>\n",
              "    <tr>\n",
              "      <td>5</td>\n",
              "      <td>1.046160e+07</td>\n",
              "    </tr>\n",
              "    <tr>\n",
              "      <td>6</td>\n",
              "      <td>1.096673e+07</td>\n",
              "    </tr>\n",
              "    <tr>\n",
              "      <td>7</td>\n",
              "      <td>1.088781e+07</td>\n",
              "    </tr>\n",
              "    <tr>\n",
              "      <td>8</td>\n",
              "      <td>1.139332e+07</td>\n",
              "    </tr>\n",
              "    <tr>\n",
              "      <td>9</td>\n",
              "      <td>1.064276e+07</td>\n",
              "    </tr>\n",
              "    <tr>\n",
              "      <td>10</td>\n",
              "      <td>1.079245e+07</td>\n",
              "    </tr>\n",
              "    <tr>\n",
              "      <td>11</td>\n",
              "      <td>1.162803e+07</td>\n",
              "    </tr>\n",
              "    <tr>\n",
              "      <td>12</td>\n",
              "      <td>1.047235e+07</td>\n",
              "    </tr>\n",
              "  </tbody>\n",
              "</table>\n",
              "</div>"
            ],
            "text/plain": [
              "         last_price\n",
              "month              \n",
              "1      1.233397e+07\n",
              "2      1.119714e+07\n",
              "3      1.118660e+07\n",
              "4      1.062497e+07\n",
              "5      1.046160e+07\n",
              "6      1.096673e+07\n",
              "7      1.088781e+07\n",
              "8      1.139332e+07\n",
              "9      1.064276e+07\n",
              "10     1.079245e+07\n",
              "11     1.162803e+07\n",
              "12     1.047235e+07"
            ]
          },
          "metadata": {
            "tags": []
          }
        },
        {
          "output_type": "display_data",
          "data": {
            "text/html": [
              "<div>\n",
              "<style scoped>\n",
              "    .dataframe tbody tr th:only-of-type {\n",
              "        vertical-align: middle;\n",
              "    }\n",
              "\n",
              "    .dataframe tbody tr th {\n",
              "        vertical-align: top;\n",
              "    }\n",
              "\n",
              "    .dataframe thead th {\n",
              "        text-align: right;\n",
              "    }\n",
              "</style>\n",
              "<table border=\"1\" class=\"dataframe\">\n",
              "  <thead>\n",
              "    <tr style=\"text-align: right;\">\n",
              "      <th></th>\n",
              "      <th>last_price</th>\n",
              "    </tr>\n",
              "    <tr>\n",
              "      <th>year</th>\n",
              "      <th></th>\n",
              "    </tr>\n",
              "  </thead>\n",
              "  <tbody>\n",
              "    <tr>\n",
              "      <td>2014</td>\n",
              "      <td>1.541168e+07</td>\n",
              "    </tr>\n",
              "    <tr>\n",
              "      <td>2015</td>\n",
              "      <td>1.154666e+07</td>\n",
              "    </tr>\n",
              "    <tr>\n",
              "      <td>2016</td>\n",
              "      <td>1.085593e+07</td>\n",
              "    </tr>\n",
              "    <tr>\n",
              "      <td>2017</td>\n",
              "      <td>1.102123e+07</td>\n",
              "    </tr>\n",
              "    <tr>\n",
              "      <td>2018</td>\n",
              "      <td>1.076320e+07</td>\n",
              "    </tr>\n",
              "    <tr>\n",
              "      <td>2019</td>\n",
              "      <td>1.158658e+07</td>\n",
              "    </tr>\n",
              "  </tbody>\n",
              "</table>\n",
              "</div>"
            ],
            "text/plain": [
              "        last_price\n",
              "year              \n",
              "2014  1.541168e+07\n",
              "2015  1.154666e+07\n",
              "2016  1.085593e+07\n",
              "2017  1.102123e+07\n",
              "2018  1.076320e+07\n",
              "2019  1.158658e+07"
            ]
          },
          "metadata": {
            "tags": []
          }
        }
      ]
    },
    {
      "cell_type": "markdown",
      "metadata": {
        "id": "4V_cq60GXdH-"
      },
      "source": [
        "Несколько отличается от общего датасета зависимость цены от года: резкое снижение в 2015 году, потом то снижение, то небольшое повышение. Тогда как в общем датасете до 2018-го цены снижались стабильно. По всей видимости, цены на недвижимость в центре более устойчивы."
      ]
    },
    {
      "cell_type": "markdown",
      "metadata": {
        "id": "JIZ_GReeXdH_"
      },
      "source": [
        "### Вывод\n",
        "\n",
        "- Медианная стоимость квартир в центре выше в 2 раза, а площадь - в 1.5 раза.\n",
        "- Потолки в центре выше: 3 против 2.4 м\n",
        "- Зависимость цены квартиры от количества комнат, площади и этажа примерно такая же\n",
        "- В центре доля трехкомнатных квартир выше, а однокомнатных - ниже\n",
        "- Цена квартир в центре меньше подвержена рыночным колебаниям"
      ]
    },
    {
      "cell_type": "markdown",
      "metadata": {
        "id": "e4RbcLaXXdH_"
      },
      "source": [
        "### Шаг 5. Общий вывод <a id=\"generalconclusion\"></a>"
      ]
    },
    {
      "cell_type": "markdown",
      "metadata": {
        "id": "X0iHQKQ5XdH_"
      },
      "source": [
        "- Удалили строки с аномальной ценой. Редкие и выбивающиеся значения в других столбцах не трогали:  Пропусков много: только в 10 столбцах из 22 данные полны. Пропуски в большинстве столбцов тоже не трогали.\n",
        "- Цена квартир в Санкт-Петербурге и соседних населенных пунктах резко упала после 2014 года и стала восстанавливаться только в 2019 году.\n",
        "- В центре Санкт-Петербурга стоимость квартир после 2014 года находилась примерно на одном и том же уровне, во всем регионе в целом - снижалась.\n",
        "- Квартиры на первом этаже примерно на 30% дешевле.\n",
        "- Центр Петербурга заканчивается на 7-м километре от центра, потому что дальше стоимость квадратного метра стабильно падает.\n",
        "- Больше всего на стоимость квартиры влияет ее площадь: коэффициент корреляции Пирсона около 0.79.\n",
        "- В поселке \"Зеленый лис\" и Зеленогорске стоимость квадратного метра выше, чем в Петербурге - видимо, это элитные населенные пункты."
      ]
    }
  ]
}
